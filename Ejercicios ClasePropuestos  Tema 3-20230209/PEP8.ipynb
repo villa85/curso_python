{
 "cells": [
  {
   "cell_type": "markdown",
   "id": "tracked-revelation",
   "metadata": {},
   "source": [
    "# PEP 8"
   ]
  },
  {
   "cell_type": "code",
   "execution_count": null,
   "id": "given-staff",
   "metadata": {},
   "outputs": [],
   "source": [
    "# Utilizar siempre 4 espacios y nunca mezclar tabuladores y espacios.\n",
    "\n",
    "for i in range(6):\n",
    "    print(i)"
   ]
  },
  {
   "cell_type": "code",
   "execution_count": null,
   "id": "fundamental-bracelet",
   "metadata": {},
   "outputs": [],
   "source": [
    "# Si una línea de código es muy larga hay dos opciones aceptables:\n",
    "\n",
    "#Si: opcion 1\n",
    "    foo = funcion_que_crea_bar(variable_1, \n",
    "                               variable_2, \n",
    "                               variable_3, \n",
    "                               variable_4)\n",
    "    # opcion 2\n",
    "    foo = funcion_que_crea_bar(variable_1, variable2\n",
    "                               variable_3)\n",
    "#No:\n",
    "    foo = funcion_que_crea_bar(variable_1, variable2\n",
    "                  variable_3)"
   ]
  },
  {
   "cell_type": "code",
   "execution_count": null,
   "id": "moved-signal",
   "metadata": {},
   "outputs": [],
   "source": [
    "\"\"\"Separar las definiciones de las clases y funciones con dos líneas en blanco. Los métodos dentro de clases se \n",
    "\n",
    "separan con una línea en blanco. Se recomienda utilizar líneas en blanco para separar partes del código, \n",
    "por ejemplo dentro de una función, que realizan tareas diferenciadas.\n",
    "\"\"\"\n",
    "\n",
    "class MyClass:\n",
    "    \n",
    "    \n",
    "    def first_method(self):\n",
    "        return None\n",
    "\n",
    "    def second_method(self):\n",
    "        return None"
   ]
  },
  {
   "cell_type": "code",
   "execution_count": null,
   "id": "fifteen-advantage",
   "metadata": {},
   "outputs": [],
   "source": [
    "\"\"\"Los imports deben ponerse siempre al principio del fichero, \n",
    "\n",
    "justo después de los comentarios y de la documentación\n",
    "y antes de la definición de las variables globales y las constantes\n",
    "\"\"\"\n",
    "\n",
    "#Los imports de distintos módulos deben estar en líneas diferentes:\n",
    "\n",
    "Si: import os\n",
    "    import sys\n",
    "\n",
    "No: import os, sys\n",
    "\n",
    "# Sí se pueden poner en una línea los elementos que se importan de un mismo módulo:\n",
    "\n",
    "from subprocess import Popen, PIPE"
   ]
  },
  {
   "cell_type": "code",
   "execution_count": null,
   "id": "swedish-interest",
   "metadata": {},
   "outputs": [],
   "source": [
    "# Espacios en blanco en expresiones\n",
    "\n",
    "spam(ham[1], {eggs: 2})  # Si\n",
    "spam( ham[ 1 ], { eggs: 2 }) # No\n",
    "\n",
    "\n",
    "if x == 4: print(x, y; x, y = y, x) # Si\n",
    "if x == 4 : print(x , y ; x , y = y , x) # No\n",
    "\n",
    "\n",
    "spam(1)\t# Sí\n",
    "spam (1) # No\n",
    "\n",
    "dict['key'] = list[index]  #Sí\n",
    "dict ['key'] = list [index] # No"
   ]
  },
  {
   "cell_type": "code",
   "execution_count": null,
   "id": "narrow-parameter",
   "metadata": {},
   "outputs": [],
   "source": [
    "# rodea los operadores con un espacio en blanco (uno antes y otro después)\n",
    "\n",
    "if x > 5 and x % 2 == 0:\n",
    "    print('x is larger than 5 and divisible by 2!')\n",
    "    \n",
    "    \n",
    "#### Sí:\n",
    "\n",
    "i = i + 1\n",
    "submitted += 1\n",
    "x = x * 2 - 1\n",
    "hypot2 = x * x + y * y\n",
    "c = (a + b) * (a - b)\n",
    "\n",
    "#### No:\n",
    "\n",
    "i=i+1\n",
    "submitted +=1\n",
    "x = x*2 - 1\n",
    "hypot2=x*x+y*y\n",
    "c = (a+b) * (a-b)"
   ]
  },
  {
   "cell_type": "code",
   "execution_count": null,
   "id": "dutch-omaha",
   "metadata": {},
   "outputs": [],
   "source": [
    "# cuando el igual se usa en el argumento de una función no lleva espacio en blanco\n",
    "#Sí:\n",
    "\n",
    "def complex(real, imag=0.0):\n",
    "return magic(r=real, i=imag)\n",
    "\n",
    "#No:\n",
    "\n",
    "def complex(real, imag = 0.0):\n",
    "return magic(r = real, i = imag)"
   ]
  },
  {
   "cell_type": "code",
   "execution_count": null,
   "id": "annual-milton",
   "metadata": {},
   "outputs": [],
   "source": [
    "# Copie el siguiente código en PyCharm, revise los cambios sugeridos de acuerdo a la guía de estilos PEP8 \n",
    "# y actualice e código.\n",
    "\n",
    "confucio=\"Saber gobernar es rectificar\"\n",
    "palabras=confucio.split( )\n",
    "c_m_letra=0\n",
    "for palabra in palabras:\n",
    "    p_letra= \"\"\n",
    "    u_letra= \"\"\n",
    "    p_letra= palabra[0]\n",
    "    u_letra= palabra[ len( palabra ) - 1 ]\n",
    "    if p_letra==u_letra:\n",
    "        c_m_letra+= 1\n",
    "print(c_m_letra)"
   ]
  },
  {
   "cell_type": "markdown",
   "id": "aggregate-filename",
   "metadata": {},
   "source": [
    "## Comentarios"
   ]
  },
  {
   "cell_type": "code",
   "execution_count": null,
   "id": "challenging-profession",
   "metadata": {},
   "outputs": [],
   "source": [
    "# Esto es un comentario en un Programa Python"
   ]
  },
  {
   "cell_type": "code",
   "execution_count": null,
   "id": "indirect-eating",
   "metadata": {},
   "outputs": [],
   "source": [
    "# Los comentarios pueden aparecer como una línea completa \n",
    "\n",
    "# Inicializar las variables\n",
    "x = 5\n",
    "y = 7"
   ]
  },
  {
   "cell_type": "code",
   "execution_count": null,
   "id": "professional-advisory",
   "metadata": {},
   "outputs": [],
   "source": [
    "Z = x + y # calculamos Z"
   ]
  },
  {
   "cell_type": "code",
   "execution_count": null,
   "id": "square-mistake",
   "metadata": {},
   "outputs": [],
   "source": [
    "# Este comentario es redundante e inútil:\n",
    "\n",
    "v = 5 # asigna 5 a v"
   ]
  },
  {
   "cell_type": "code",
   "execution_count": null,
   "id": "average-wesley",
   "metadata": {},
   "outputs": [],
   "source": [
    "\"\"\"\n",
    "Esto es un comentario\n",
    "de varias líneas\n",
    "de código\n",
    "\"\"\""
   ]
  },
  {
   "cell_type": "code",
   "execution_count": null,
   "id": "trained-drinking",
   "metadata": {},
   "outputs": [],
   "source": [
    "\"\"\" Las docstrings. \n",
    "\n",
    "Estas son simplemente comentarios multilínea ubicados después de la declaración de una función.\n",
    "\"\"\""
   ]
  },
  {
   "cell_type": "code",
   "execution_count": 1,
   "id": "floating-wagon",
   "metadata": {},
   "outputs": [],
   "source": [
    "def quadratic(a, b, c, x):\n",
    "    \"\"\"Solve quadratic equation via the quadratic formula.\n",
    "\n",
    "    A quadratic equation has the following form:\n",
    "    ax**2 + bx + c = 0\n",
    "\n",
    "    There always two solutions to a quadratic equation: x_1&x_2.\n",
    "    \"\"\""
   ]
  },
  {
   "cell_type": "code",
   "execution_count": 2,
   "id": "limited-stanley",
   "metadata": {},
   "outputs": [
    {
     "data": {
      "text/plain": [
       "'Solve quadratic equation via the quadratic formula.\\n\\n    A quadratic equation has the following form:\\n    ax**2 + bx + c = 0\\n\\n    There always two solutions to a quadratic equation: x_1&x_2.\\n    '"
      ]
     },
     "execution_count": 2,
     "metadata": {},
     "output_type": "execute_result"
    }
   ],
   "source": [
    "quadratic.__doc__"
   ]
  },
  {
   "cell_type": "code",
   "execution_count": null,
   "id": "behavioral-oasis",
   "metadata": {},
   "outputs": [],
   "source": []
  }
 ],
 "metadata": {
  "kernelspec": {
   "display_name": "Python 3",
   "language": "python",
   "name": "python3"
  },
  "language_info": {
   "codemirror_mode": {
    "name": "ipython",
    "version": 3
   },
   "file_extension": ".py",
   "mimetype": "text/x-python",
   "name": "python",
   "nbconvert_exporter": "python",
   "pygments_lexer": "ipython3",
   "version": "3.8.5"
  },
  "toc": {
   "base_numbering": 1,
   "nav_menu": {},
   "number_sections": true,
   "sideBar": true,
   "skip_h1_title": false,
   "title_cell": "Table of Contents",
   "title_sidebar": "Contents",
   "toc_cell": false,
   "toc_position": {},
   "toc_section_display": true,
   "toc_window_display": false
  },
  "varInspector": {
   "cols": {
    "lenName": 16,
    "lenType": 16,
    "lenVar": 40
   },
   "kernels_config": {
    "python": {
     "delete_cmd_postfix": "",
     "delete_cmd_prefix": "del ",
     "library": "var_list.py",
     "varRefreshCmd": "print(var_dic_list())"
    },
    "r": {
     "delete_cmd_postfix": ") ",
     "delete_cmd_prefix": "rm(",
     "library": "var_list.r",
     "varRefreshCmd": "cat(var_dic_list()) "
    }
   },
   "types_to_exclude": [
    "module",
    "function",
    "builtin_function_or_method",
    "instance",
    "_Feature"
   ],
   "window_display": false
  }
 },
 "nbformat": 4,
 "nbformat_minor": 5
}

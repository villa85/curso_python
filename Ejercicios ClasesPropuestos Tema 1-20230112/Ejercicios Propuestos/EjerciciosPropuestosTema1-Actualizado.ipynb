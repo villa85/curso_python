{
 "cells": [
  {
   "cell_type": "markdown",
   "metadata": {},
   "source": [
    "# Tema 1: Introducción a Python.\n",
    "\n",
    "## Ejercicios Propuestos.\n",
    "\n",
    "Los siguientes ejercicios tiene como finalidad poner en practica a través de la resolución de ejercicios simples los objetos, conceptos, operadores,  tipos de datos, estructuras y funciones vistos en el Tema 1.  \n",
    "\n",
    "Las dudas puedes compartirla en el Foro.\n"
   ]
  },
  {
   "cell_type": "markdown",
   "metadata": {},
   "source": [
    "# Tema 1: Introducción a Python.\n",
    "\n",
    "## Ejercicios Propuestos.\n",
    "\n",
    "Los siguientes ejercicios tiene como finalidad poner en practica a través de la resolución de ejercicios simples los objetos, conceptos, operadores,  tipos de datos, estructuras y funciones vistos en el Tema 1.  \n",
    "\n",
    "Las dudas puedes compartirla en el Foro.\n"
   ]
  },
  {
   "cell_type": "markdown",
   "metadata": {},
   "source": [
    "1. Imprima los resultados de las siguientes expresiones e indique que operador utilizó (suma, resta, división entera, etc):"
   ]
  },
  {
   "cell_type": "code",
   "execution_count": null,
   "metadata": {},
   "outputs": [],
   "source": [
    "10 / 3\n",
    "10 // 3\n",
    "10 % 3\n",
    "3 ** 3"
   ]
  },
  {
   "cell_type": "code",
   "execution_count": null,
   "metadata": {},
   "outputs": [],
   "source": [
    "print(10 / 3)\n",
    "print(10 // 3)\n",
    "print(10 % 3)\n",
    "print(3 ** 3)"
   ]
  },
  {
   "cell_type": "markdown",
   "metadata": {},
   "source": [
    "2. Imprima los valores que toma la variable x, luego de cada expresión matemática, en el siguiente script:"
   ]
  },
  {
   "cell_type": "code",
   "execution_count": null,
   "metadata": {},
   "outputs": [],
   "source": [
    "# Valor inicial de x\n",
    "x = 6  \n",
    "print(x)\n",
    "x += 3\n",
    "print(x)\n",
    "x *= 5\n",
    "print(x)\n",
    "x -= 1\n",
    "print(x)"
   ]
  },
  {
   "cell_type": "code",
   "execution_count": null,
   "metadata": {},
   "outputs": [],
   "source": [
    "x = 6 \n",
    "print(x)\n",
    "x += 3\n",
    "print(x)"
   ]
  },
  {
   "cell_type": "markdown",
   "metadata": {},
   "source": [
    "3. Imprima los resultados de las siguientes expresiones:"
   ]
  },
  {
   "cell_type": "code",
   "execution_count": null,
   "metadata": {},
   "outputs": [],
   "source": [
    "x = 5\n",
    "print(x > 0 and x < 10)"
   ]
  },
  {
   "cell_type": "code",
   "execution_count": null,
   "metadata": {},
   "outputs": [],
   "source": [
    "n = 25\n",
    "print(n % 2 == 0 or n % 3 == 0)"
   ]
  },
  {
   "cell_type": "code",
   "execution_count": null,
   "metadata": {},
   "outputs": [],
   "source": [
    "'p' in 'piso'\n",
    "'i' in 'piso'\n",
    "'pi' in 'piso'\n",
    "'pa' in 'piso'\n",
    "'piso' in 'piso'\n",
    "' ' in 'piso'\n",
    "'a' not in 'piso'"
   ]
  },
  {
   "cell_type": "markdown",
   "metadata": {},
   "source": [
    "4. Escriba un programa, donde el usuario proporcione las longitudes de los lados de un triángulo con un ángulo recto. \n",
    "   Cálcule la longitud de la hipotenusa y asignela a la variable hypo_len. \n",
    "\n",
    "    Pista: x ** 0.5 devolverá la raíz cuadrada"
   ]
  },
  {
   "cell_type": "code",
   "execution_count": null,
   "metadata": {},
   "outputs": [],
   "source": [
    "#Importamos la libreria Math para usar su metodo sqrt.\n",
    "import math\n",
    "\n",
    "#Le pedimos al usuario los 2 catetos\n",
    "cateto1,cateto2 = float(input(\"Introducir el Primer cateto: \")), float(input(\"Introducir el Segundo cateto: \"))\n",
    "\n",
    "#En una variable almacenamos el resultado\n",
    "#Como dice el teorema de pitagoras, el cuadrado de la hipotenusa sera la raiz cuadrada de cateto1**2 + cateto2**2\n",
    "hipotenusa = math.sqrt((cateto1**2) + (cateto2**2))\n",
    "\n",
    "print(\"Hipotenusa: \", hipotenusa)"
   ]
  },
  {
   "cell_type": "markdown",
   "metadata": {},
   "source": [
    "5. Escriba un programa que dadas las longitudes de los tres lados de un triangulo, determine si el triángulo tiene un          ángulo recto.\n",
    "\n",
    "        1. Si es así, asigne True a la variable angulo_recto. \n",
    "        2. Si no es así, asigne False a la variable angulo_recto."
   ]
  },
  {
   "cell_type": "code",
   "execution_count": null,
   "metadata": {},
   "outputs": [],
   "source": [
    "#Le pedimos al usuario que entre los 3 lados\n",
    "lado,lista,angulo_recto=0,[],None\n",
    "\n",
    "for i in range(3):\n",
    "    lado = float(input(\"Introducir longitud de un Lado: \"))\n",
    "    lista.append(lado)\n",
    "hipotenusa=max(lista) #encontramos en lado mas grande(Hipotenusa)\n",
    "lista.remove(hipotenusa)\n",
    "if (hipotenusa * 2) == ((lista[0]*2) + (lista[1]*2)):\n",
    "    angulo_recto = True\n",
    "    print(angulo_recto)\n",
    "else:\n",
    "    angulo_recto = False\n",
    "    print(angulo_recto)"
   ]
  },
  {
   "cell_type": "markdown",
   "metadata": {},
   "source": [
    "6. Escriba un programa que cuente el número de palabras de la variable \"oracion \" que contengan una \"a\" o una \"e\".    \n",
    "        Almacene el resultado en la variable num_a_o_e. \n",
    "        Asegúrese de no contar dos veces las palabras que contienen tanto una a como una e.  \n",
    "        Utilice el operador in.\n",
    "\n",
    "\n",
    "    oracion =  \"Python es un lenguaje de programación de propósito general de alto nivel que se puede aplicar a muchas                     clases diferentes de problemas.\""
   ]
  },
  {
   "cell_type": "code",
   "execution_count": null,
   "metadata": {},
   "outputs": [],
   "source": [
    "oracion =  \"Python es un lenguaje de programación de propósito general de alto nivel que se puede aplicar a muchas clases diferentes de problemas.\"\n",
    "oracion = oracion.lower() \n",
    "oracion = oracion.strip(\".\")\n",
    "oracion_list = oracion.split()\n",
    "oracion_list = list(set(oracion_list)) # elimino las palabras repetidas\n",
    "num_a_o_e, cont_a, cont_e, cont = 0,0,0,0\n",
    "\n",
    "for i in oracion_list:\n",
    "    if \"a\" in i:\n",
    "        cont_a += 1\n",
    "    elif \"e\" in i:\n",
    "        cont_e += 1\n",
    "    else:\n",
    "        cont += 1\n",
    "        \n",
    "num_a_o_e = cont_a + cont_e\n",
    "print(f\"Hay {cont_a} palabras que contienen la letra \\\"a\\\", {cont_e} con la letra \\\"e\\\" y {cont} que no contienen ninguna de las 2 letras.\")\n",
    "print(f\"Esto hace un total de {num_a_o_e} palabras que contienen ambas letras (\\\"a\\\" y \\\"e\\\").\")\n"
   ]
  },
  {
   "cell_type": "markdown",
   "metadata": {},
   "source": [
    "7. Escribe un programa que imprima la siguiente frase:\n",
    "    \n",
    "    Cómo expresó Confucio: \"Tenemos que estar en paz con nosotros mismos, si no no podemos guiar a otros en la búsqueda de     la paz\"   \n",
    "    "
   ]
  },
  {
   "cell_type": "code",
   "execution_count": null,
   "metadata": {},
   "outputs": [],
   "source": [
    "print(\"Tenemos que estar en paz con nosotros mismos, si no no podemos guiar a otros en la búsqueda de la paz\")"
   ]
  },
  {
   "cell_type": "markdown",
   "metadata": {},
   "source": [
    "8. Escriba un programa que convierta los segundos introducidos por el usuario en: horas, minutos y segundos remanentes. \n",
    "   \n",
    "       Por ejemplo: 9500 segundos son: 2h 38min 20seg\n",
    "            "
   ]
  },
  {
   "cell_type": "code",
   "execution_count": null,
   "metadata": {},
   "outputs": [],
   "source": [
    "segundos = int(input(\"Introduzca los segundos: \"))\n",
    "horas = int(segundos / 60 / 60)\n",
    "segundos -= horas*60*60\n",
    "minutos = int(segundos/60)\n",
    "segundos -= minutos*60\n",
    "print(f\"{horas:02d}h {minutos:02d}min {segundos:02d}seg\") "
   ]
  },
  {
   "cell_type": "markdown",
   "metadata": {},
   "source": [
    "9. Escriba un programa Python que pregunte al usuario por la hora actual (0-23) y luego pida el número de horas (entero)      que tienen que transcurrir para que suene la alarma. El programa debe generar la hora en la que sonará la alarma.\n",
    "\n",
    "    Ejemplo:\n",
    "        Hora actual: 15\n",
    "        Numero de horas: 6\n",
    "\n",
    "        La alarma sonará a las: 21"
   ]
  },
  {
   "cell_type": "code",
   "execution_count": null,
   "metadata": {},
   "outputs": [],
   "source": [
    "from datetime import datetime, date, time, timedelta\n",
    "\n",
    "# Asigna formato\n",
    "horas_user = int(input(\"Introduzca horas hasta la alarma: \"))\n",
    "hoy = datetime.today()  # Asigna fecha-hora\n",
    "hora_actual = hoy.strftime(\"%H\") # Aplica formato \n",
    "alarma = hoy + timedelta(hours=horas_user)\n",
    "alarma_update = alarma.strftime(formato1)\n",
    "\n",
    "print(f\"Hora actual: {hora_actual}\")\n",
    "print(f\"Numero de horas: {horas_user}\", end=\"\\n\\n\")\n",
    "print(f\"La alarma sonará a las: {alarma_update}\")"
   ]
  },
  {
   "cell_type": "markdown",
   "metadata": {},
   "source": [
    "10. Imagine que asignamos un número a cada día de la semana: \n",
    "        Lunes es el día 0 y 6 es Domingo.  \n",
    "    \n",
    "    Escriba un programa que pida al usuario:\n",
    "    \n",
    "        1. indicar que día de la semana comienza sus vacaciones y \n",
    "        2. cuantos días estará de vacaciones.  \n",
    "        \n",
    "    El programa debe indicar que día de la semana regresa de vacaciones.\n",
    "\n",
    "        Ejemplo:  Si sale de vacaciones el día 1 (martes) y pasa 10 días fuera regresará el día 4 (viernes)\n"
   ]
  },
  {
   "cell_type": "code",
   "execution_count": null,
   "metadata": {},
   "outputs": [],
   "source": [
    "print('Lunes     (0)')\n",
    "print('Martes    (1)')\n",
    "print('Miércoles (2)')\n",
    "print('Jueves    (3)')\n",
    "print('Viernes   (4)')\n",
    "print('Sábados   (5)')\n",
    "print('Domingo   (6)', end=\"\\n\\n\")\n",
    "\n",
    "user_week_day = int(input(\"Elija día de la semana, introduzca el número correspondiente: \"))\n",
    "hollidays = int(input(\"Cantidad de días de vacaciones: \"))\n",
    "list_dict = [{\"id\": 0,\"day\": \"Lunes\"},{\"id\": 1,\"day\": \"Martes\"},{\"id\": 2,\"day\": \"Miércoles\"},{\"id\": 3,\"day\": \"Jueves\"},{\"id\": 4,\"day\": \"Viernes\"},{\"id\": 5,\"day\": \"Sábado\"},{\"id\": 6,\"day\": \"Domingo\"}]\n",
    "corte, arrive_day, dia_salida = {}, 0, list_dict[user_week_day]\n",
    "\n",
    "for i in list_dict:\n",
    "    if i[\"id\"] == user_week_day:\n",
    "        if hollidays < len(list_dict[user_week_day:7]): # pregunto si los dias de vacaciones se pudieran ser en una misma semana\n",
    "            arrive_day = user_week_day + hollidays\n",
    "            corte = list_dict[arrive_day + 1]\n",
    "            print(f\"Si sale de vacaciones el día {dia_salida['id']} ({dia_salida['day']}) y pasa {hollidays} días fuera, regresará el día {corte['id']} ({corte['day']})\",)\n",
    "        elif hollidays > len(list_dict[user_week_day:7]): # pregunto si los dias de vacaciones abarcan mas de una semana\n",
    "            openando_der = len(list_dict) - user_week_day\n",
    "            arrive_day = hollidays % openando_der\n",
    "            corte = list_dict[arrive_day]\n",
    "            print(f\"Si sale de vacaciones el día {dia_salida['id']} ({dia_salida['day']}) y pasa {hollidays} días fuera, regresará el día {corte['id']} ({corte['day']})\",)\n",
    "        else:\n",
    "            print(\"Valor incorrecto!!. Instroduzca un número valido entre (1-6) correspondiente a los días de la semana\")\n",
    "\n"
   ]
  },
  {
   "cell_type": "markdown",
   "metadata": {},
   "source": [
    "11. Escriba un programa que calcule el área de un círculo. \n",
    "    \n",
    "        1. Pida al usuario que introduzca el radio y guardelo en una variable. \n",
    "        2. Imprima un mensaje al usuario con la respuesta.\n"
   ]
  },
  {
   "cell_type": "code",
   "execution_count": null,
   "metadata": {},
   "outputs": [],
   "source": [
    "print(\"Programa para calcular el área de un circulo usando la formula  A = πr²\")\n",
    "pi = 3.14\n",
    "radio = float(input(\"Introduzca el radio en centimetros, para calcular el área del circulo: \"))\n",
    "a = pi * radio ** 2\n",
    "print(f\"El área de un círculo con un {radio = }cm es de {a}cm²\")\n"
   ]
  },
  {
   "cell_type": "markdown",
   "metadata": {},
   "source": [
    "12. Escriba un programa que calcule el área de un rectángulo. \n",
    "\n",
    "        1. Solicite al usuario que escriba el ancho y el alto del rectángulo\n",
    "        2. Almacene los valores en variables denominadas width y height. \n",
    "        3. Imprima un buen mensaje con la respuesta (cálculo del área)"
   ]
  },
  {
   "cell_type": "code",
   "execution_count": null,
   "metadata": {},
   "outputs": [],
   "source": [
    "print(\"Cálculo del área de un rectangulo A = base * altura\")\n",
    "width = float(input(\"Introduzca la longitud de la base en cm, para calcular el área del rectángulo: \"))\n",
    "height = float(input(\"Introduzca la longitud de la altura en cm, para calcular el área del rectángulo: \"))\n",
    "area = width * height\n",
    "print(f\"El área de un rectángulo de base = {width}cm y altura = {height}cm es de {area}cm²\")"
   ]
  },
  {
   "cell_type": "markdown",
   "metadata": {},
   "source": [
    "13. Escriba un programa que convierta los grados Centrigados (introducidos por el usuarios) en Fahrenheit.  "
   ]
  },
  {
   "cell_type": "code",
   "execution_count": null,
   "metadata": {},
   "outputs": [],
   "source": [
    "print(\"Para convertir Centígrados a Fahrenheit usamos la fórmula: °F = °C x 1.8 + 32\")\n",
    "TEMP = 32\n",
    "c_temp = int(input(\"Introduzca la temperatura en Centígrados: \"))\n",
    "f_temp = c_temp * 1.8 + TEMP\n",
    "print(f\"{c_temp}°C son {f_temp}°F\")"
   ]
  },
  {
   "attachments": {
    "image-3.png": {
     "image/png": "[encoded data removed]"
    }
   },
   "cell_type": "markdown",
   "metadata": {},
   "source": [
    "14. Escriba un programa que cálcule el interés compuesto.  El usuario debe introducir el capital inicial y el tiempo en años o periodos.  El banco cobra una tasa de interes del 12,5% anual.\n",
    "\n",
    "![image-3.png](attachment:image-3.png)"
   ]
  },
  {
   "cell_type": "code",
   "execution_count": null,
   "metadata": {},
   "outputs": [],
   "source": [
    "ci = float(input(\"Introduzca capital inicial: \"))\n",
    "n  = int(input(\"Tiempo en años: \"))\n",
    "i = 12.5/100\n",
    "cf = ci * (1 + i) ** n\n",
    "print(f\"Si tu Capital Inicial es de {ci}€ y lo invertiras por {n} años, el interés compuesto seria de {cf}\")"
   ]
  },
  {
   "cell_type": "markdown",
   "metadata": {},
   "source": [
    "15. Escriba un código que asigne el número de caracteres del texto de la variable frase a la variable num_char y muestre     el resultado"
   ]
  },
  {
   "cell_type": "code",
   "execution_count": null,
   "metadata": {},
   "outputs": [],
   "source": [
    "# 15. Escriba su código aqui \n",
    "\n",
    "frase = \"\"\"La Torre de Hércules es una torre y faro situado sobre una colina en la península de la ciudad de La \n",
    "Coruña, en Galicia (España). Su altura total es de 55 metros, y data del siglo I. Tiene el privilegio de ser el \n",
    "único faro romano y el más antiguo en funcionamiento del mundo. Es el tercer faro en altura de España.\"\"\"\n",
    "\n",
    "num_char = len(frase)\n",
    "print(f\"El número de caracteres es {num_char}\")"
   ]
  },
  {
   "cell_type": "markdown",
   "metadata": {},
   "source": [
    "16. Escribe un programa que extraiga del texto de la variable confucio, las siguientes palabras:\n",
    "\n",
    "        Exígete\n",
    "        espera\n",
    "        poco\n",
    "        mucho\n",
    "\n"
   ]
  },
  {
   "cell_type": "code",
   "execution_count": null,
   "metadata": {},
   "outputs": [],
   "source": [
    "# 16. Escriba su código aqui\n",
    "confucio = \"Exígete mucho a ti mismo y espera poco de los demás\"\n",
    "word_list = [\"Exígete\",\"espera\",\"poco\",\"mucho\"]\n",
    "word_not_in_confucio = []\n",
    "word_in_confucio = []\n",
    "confucio_list = confucio.split()\n",
    "\n",
    "for word in confucio_list:\n",
    "    if word not in word_list:\n",
    "        word_not_in_confucio.append(word)\n",
    "    else:\n",
    "        word_in_confucio.append(word)\n",
    "\n",
    "texto_formateado = ' '.join(word_not_in_confucio)\n",
    "# print(word_in_confucio)\n",
    "print(f'El texto luego de extraer las palabas quedaria asi: \"{texto_formateado}\"')\n",
    "\n"
   ]
  },
  {
   "cell_type": "markdown",
   "metadata": {},
   "source": [
    "17. Escribe un programa que utilizando el texto de la variable confucio, muestre:\n",
    "\n",
    "    1. la última letra de la frase (utilice la función len())\n",
    "    2. La longitud del texto\n",
    "    3. Cuente cuantas veces aparece la palabra sabe\n"
   ]
  },
  {
   "cell_type": "code",
   "execution_count": null,
   "metadata": {},
   "outputs": [],
   "source": [
    "# 17. Escriba su código aqui\n",
    "confucio = \"Saber que se sabe lo que se sabe y que no se sabe lo que no se sabe; he aquí el verdadero saber\"\n",
    "confucio = confucio.lower()\n",
    "print(confucio[-1])\n",
    "print(len(confucio))\n",
    "print(confucio.count(\"sabe\"))"
   ]
  },
  {
   "cell_type": "markdown",
   "metadata": {},
   "source": [
    "18. Escribe un programa para pedirle al usuario el número de horas trabajadas y la tarifa por hora \n",
    "para calcular el salario bruto.\n",
    "\n",
    "    Ejemplo:\n",
    "        Introduzca Horas: 35\n",
    "        Introduzca Tarifa: 2.75\n",
    "        Salario: 96.25"
   ]
  },
  {
   "cell_type": "code",
   "execution_count": null,
   "metadata": {},
   "outputs": [],
   "source": [
    "work_hours = float(input(\"Introduzca las horas trabajadas: \"))\n",
    "TARIFA = 2.75\n",
    "salario_bruto = work_hours * TARIFA\n",
    "print(f\"Tu salario por {work_hours} horas es {salario_bruto}€\")\n"
   ]
  },
  {
   "cell_type": "markdown",
   "metadata": {},
   "source": [
    "19. Escriba un programa que genere un menú de cuatro opciones:\n",
    "    \n",
    "    1. Calcular el area de un cuadrado\n",
    "    2. Calcular el área de un circulo\n",
    "    3. Calcular el area de un triangulo\n",
    "    4. Finalizar\n",
    "\n",
    "    debe pedir al usuario que seleccione una opción del menú y mostrar que opción ha seleccionado"
   ]
  },
  {
   "cell_type": "code",
   "execution_count": null,
   "metadata": {},
   "outputs": [],
   "source": [
    "opcion = 0\n",
    "while opcion != 4:\n",
    "    print('1. Calcular el area de un cuadrado')\n",
    "    print('2. Calcular el área de un circulo')\n",
    "    print('3. Calcular el area de un triangulo')\n",
    "    print('4. Finalizar', end=\"\\n\\n\")\n",
    "\n",
    "    opcion = int(input('Introduzca una opción (1-4): '))\n",
    "\n",
    "    if opcion == 1:\n",
    "        print('Cálculo del  area de un cuadrado')\n",
    "        break\n",
    "    elif opcion == 2:\n",
    "        print('Cálculo del  area de un circulo')\n",
    "        break\n",
    "    elif opcion == 3:\n",
    "        print('Cálculo del  area de un triangulo')\n",
    "        break\n",
    "    elif opcion != 4:\n",
    "        print('Debes escribir una opcion válida.')\n",
    "\n",
    "if opcion in range(1,4):\n",
    "    print('Operacion Realizada')\n",
    "elif opcion == 4:\n",
    "    print('Fin del programa.')"
   ]
  },
  {
   "cell_type": "markdown",
   "metadata": {},
   "source": [
    "20. Escriba un bucle while que inicie en con un valor de n = 0 y termine en 15. \n",
    "    Debe sumar todos los valores de n pares.\n"
   ]
  },
  {
   "cell_type": "code",
   "execution_count": null,
   "metadata": {},
   "outputs": [],
   "source": [
    "n, sum = 0, 0\n",
    "\n",
    "while n <= 15:\n",
    "    # sum += n + 2\n",
    "    if (n % 2) == 0:\n",
    "        print(n)\n",
    "        sum += n\n",
    "    n += 1\n",
    "print(f\"La suma de todos los números pares de 0 a 15 es {sum}\")\n"
   ]
  },
  {
   "cell_type": "markdown",
   "metadata": {},
   "source": [
    "21. Solicitar al usuario que ingrese su dirección email. Imprimir un mensaje indicando si la dirección es válida o no. Una dirección se considerará válida si contiene el símbolo \"@\"\n"
   ]
  },
  {
   "cell_type": "code",
   "execution_count": null,
   "metadata": {},
   "outputs": [],
   "source": [
    "# valida correos version 1\n",
    "mail = input(\"Intruduzca uno correo o mas correos para validar y fin para terminar: \")\n",
    "\n",
    "if \"@\" in mail:\n",
    "\tprint(\"Es válido\")\n",
    "else:\n",
    "\tprint(\"No es válido\")"
   ]
  },
  {
   "cell_type": "code",
   "execution_count": null,
   "metadata": {},
   "outputs": [],
   "source": [
    "# valida correos version 2\n",
    "\n",
    "import re\n",
    "\n",
    "stop = \"\"\n",
    "correos = []\n",
    "correo = \"\"\n",
    "while correo != \"fin\":\n",
    "    correo = input(\"Intruduzca uno correo o mas correos para validar y fin para terminar: \")\n",
    "    if correo == \"fin\":\n",
    "        break\n",
    "    else:\n",
    "        correos.append(correo)\n",
    "\n",
    "print(f\"En total {len(correos)} correo(s) a validar\")\n",
    "\n",
    "def es_correo_valido(correo):\n",
    "    expresion_regular = r\"(?:[a-z0-9!#$%&'*+/=?^_`{|}~-]+(?:\\.[a-z0-9!#$%&'*+/=?^_`{|}~-]+)*|\\\"(?:[\\x01-\\x08\\x0b\\x0c\\x0e-\\x1f\\x21\\x23-\\x5b\\x5d-\\x7f]|\\\\[\\x01-\\x09\\x0b\\x0c\\x0e-\\x7f])*\\\")@(?:(?:[a-z0-9](?:[a-z0-9-]*[a-z0-9])?\\.)+[a-z0-9](?:[a-z0-9-]*[a-z0-9])?|\\[(?:(?:(2(5[0-5]|[0-4][0-9])|1[0-9][0-9]|[1-9]?[0-9]))\\.){3}(?:(2(5[0-5]|[0-4][0-9])|1[0-9][0-9]|[1-9]?[0-9])|[a-z0-9-]*[a-z0-9]:(?:[\\x01-\\x08\\x0b\\x0c\\x0e-\\x1f\\x21-\\x5a\\x53-\\x7f]|\\\\[\\x01-\\x09\\x0b\\x0c\\x0e-\\x7f])+)\\])\"\n",
    "    return re.match(expresion_regular, correo) is not None\n",
    "\n",
    "\n",
    "for correo in correos:\n",
    "    print(\"Probando si '{}' es válido...{}\".format(correo, es_correo_valido(correo)))"
   ]
  },
  {
   "cell_type": "markdown",
   "metadata": {},
   "source": [
    "22. La nota final de los alumnos de una clase han sido almacenada en la variable notas:\n",
    "\n",
    "    notas = \"8, 9, 5, 4, 6, 7, 10, 3, 7, 4.4, 7.3\"\n",
    "\n",
    "    Escriba un programa que calcule y muestre:\n",
    "    \n",
    "        1. La mayor nota de la clase\n",
    "        2. La menor nota de la clase\n",
    "        3. El promedio o nota media de la clase\n",
    "        4. Contar cuantos alumanos reprobaron\n",
    "        5. Contar cuantos alumnos aprobaron \n",
    "        6. Contar cuantos alumnos tien matricula de honor (notas mayores a 8)\n",
    "        "
   ]
  },
  {
   "cell_type": "code",
   "execution_count": null,
   "metadata": {},
   "outputs": [],
   "source": [
    "print('Elige una opción')\n",
    "notas = \"8,9,5,4,6,7,10,3,7,4.4,7.3\"\n",
    "notas_list = notas.split(\",\")\n",
    "mayor = float(notas_list[0])\n",
    "menor = float(notas_list[0])\n",
    "opcion, sum, promedio, cont = 0, 0, 0, 0\n",
    "\n",
    "while opcion != 7:\n",
    "    print('1. La mayor nota de la clase')\n",
    "    print('2. La menor nota de la clase')\n",
    "    print('3. El promedio o nota media de la clase')\n",
    "    print('4. Contar cuantos alumanos reprobaron')\n",
    "    print('5. Contar cuantos alumnos aprobaron')\n",
    "    print('6. Contar cuantos alumnos tienen matricula de honor')\n",
    "    print('7. Finalizar', end=\"\\n\\n\")\n",
    "\n",
    "    opcion = int(input('Introduzca una opción (1-7): '))\n",
    "\n",
    "    if opcion == 1:\n",
    "        for i in notas_list:\n",
    "            if float(i) > mayor:\n",
    "                mayor = float(i)\n",
    "        print(f'La nota mayor es {mayor}',end=\"\\n\\n\")\n",
    "        break\n",
    "    elif opcion == 2:\n",
    "        for i in notas_list:\n",
    "            if float(i) < menor:\n",
    "                menor = float(i)\n",
    "        print(f'La nota menor es {menor}', end=\"\\n\\n\")\n",
    "        break\n",
    "    elif opcion == 3:\n",
    "        for i in notas_list:\n",
    "            sum += float(i)\n",
    "        promedio = sum / len(notas_list)\n",
    "        print(f'El promedio o nota media de la clase es {promedio}', end=\"\\n\\n\")\n",
    "        break\n",
    "    elif opcion == 4:\n",
    "        for i in notas_list:\n",
    "            if float(i) >= 0.0 and float(i) <= 4.9:\n",
    "                cont += 1\n",
    "        print(f'La cantidad de alumnos reprobados es {cont}', end=\"\\n\\n\")\n",
    "        break\n",
    "    elif opcion == 5:\n",
    "        for i in notas_list:\n",
    "            if float(i) >= 5.0 and float(i) <= 10.0:\n",
    "                cont += 1\n",
    "        print(f'La cantidad de alumnos aprobados es {cont}', end=\"\\n\\n\")\n",
    "        break\n",
    "    elif opcion == 6:\n",
    "        for i in notas_list:\n",
    "            if float(i) > 8:\n",
    "                cont += 1\n",
    "        print(f'La cantidad de alumnos que tienen matricula de honor es {cont}', end=\"\\n\\n\")\n",
    "        break\n",
    "    elif opcion not in range(1,7):\n",
    "        if opcion !=7:\n",
    "            print('Por favor introduzca una opción válida', end=\"\\n\\n\")\n",
    "    continue\n",
    "print('Programa cerrado')"
   ]
  },
  {
   "cell_type": "code",
   "execution_count": null,
   "metadata": {},
   "outputs": [],
   "source": []
  },
  {
   "cell_type": "code",
   "execution_count": null,
   "metadata": {},
   "outputs": [],
   "source": []
  }
 ],
 "metadata": {
  "kernelspec": {
   "display_name": "Python 3 (ipykernel)",
   "language": "python",
   "name": "python3"
  },
  "language_info": {
   "codemirror_mode": {
    "name": "ipython",
    "version": 3
   },
   "file_extension": ".py",
   "mimetype": "text/x-python",
   "name": "python",
   "nbconvert_exporter": "python",
   "pygments_lexer": "ipython3",
   "version": "3.10.8 | packaged by conda-forge | (main, Nov 24 2022, 14:07:00) [MSC v.1916 64 bit (AMD64)]"
  },
  "toc": {
   "base_numbering": 1,
   "nav_menu": {},
   "number_sections": true,
   "sideBar": true,
   "skip_h1_title": false,
   "title_cell": "Table of Contents",
   "title_sidebar": "Contents",
   "toc_cell": false,
   "toc_position": {},
   "toc_section_display": true,
   "toc_window_display": false
  },
  "varInspector": {
   "cols": {
    "lenName": 16,
    "lenType": 16,
    "lenVar": 40
   },
   "kernels_config": {
    "python": {
     "delete_cmd_postfix": "",
     "delete_cmd_prefix": "del ",
     "library": "var_list.py",
     "varRefreshCmd": "print(var_dic_list())"
    },
    "r": {
     "delete_cmd_postfix": ") ",
     "delete_cmd_prefix": "rm(",
     "library": "var_list.r",
     "varRefreshCmd": "cat(var_dic_list()) "
    }
   },
   "types_to_exclude": [
    "module",
    "function",
    "builtin_function_or_method",
    "instance",
    "_Feature"
   ],
   "window_display": true
  },
  "vscode": {
   "interpreter": {
    "hash": "1353f313ead104360866fab643a74fd0c61057d61236ce27455bd3419eefba5e"
   }
  }
 },
 "nbformat": 4,
 "nbformat_minor": 4
}

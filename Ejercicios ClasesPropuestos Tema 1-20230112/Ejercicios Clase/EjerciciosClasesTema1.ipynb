{
 "cells": [
  {
   "cell_type": "markdown",
   "metadata": {},
   "source": [
    "# Tema 1: Introducción  Python\n",
    "\n",
    "Lista ejercicios y ejemplos utilizados en Clase, utilizados en el manual del Tema1\n"
   ]
  },
  {
   "cell_type": "code",
   "execution_count": 1,
   "metadata": {
    "scrolled": true
   },
   "outputs": [
    {
     "name": "stdout",
     "output_type": "stream",
     "text": [
      "3.10.8 | packaged by conda-forge | (main, Nov 24 2022, 14:07:00) [MSC v.1916 64 bit (AMD64)]\n"
     ]
    }
   ],
   "source": [
    "import sys\n",
    "print(sys.version)"
   ]
  },
  {
   "cell_type": "markdown",
   "metadata": {},
   "source": [
    "\n",
    "## Tipos de Datos \n",
    "\n",
    "### Númericos\n",
    "\n",
    "#### Enteros"
   ]
  },
  {
   "cell_type": "code",
   "execution_count": 2,
   "metadata": {
    "scrolled": true
   },
   "outputs": [
    {
     "name": "stdout",
     "output_type": "stream",
     "text": [
      "<class 'int'>\n",
      "<class 'int'>\n",
      "<class 'int'>\n",
      "<class 'int'>\n"
     ]
    }
   ],
   "source": [
    "a = -1\n",
    "b = 25\n",
    "c = 0\n",
    "d = 3450\n",
    "\n",
    "print(type(a))\n",
    "print(type(b))\n",
    "print(type(c))\n",
    "print(type(d))\n",
    "# Python es capaz de determinar el tipo a partir de su valor"
   ]
  },
  {
   "cell_type": "code",
   "execution_count": 3,
   "metadata": {
    "scrolled": true
   },
   "outputs": [
    {
     "name": "stdout",
     "output_type": "stream",
     "text": [
      "a =  -1\n",
      "b =  1\n"
     ]
    }
   ],
   "source": [
    "a = -1\n",
    "b = a + 2\n",
    "\n",
    "print(\"a = \", a)\n",
    "print(\"b = \", b)"
   ]
  },
  {
   "cell_type": "code",
   "execution_count": 4,
   "metadata": {
    "scrolled": false
   },
   "outputs": [
    {
     "name": "stdout",
     "output_type": "stream",
     "text": [
      "c =  -1\n",
      "a =  1\n",
      "c =  0\n"
     ]
    }
   ],
   "source": [
    "c = a\n",
    "print(\"c = \",c)\n",
    "\n",
    "c = c + 1\n",
    "a = a + 2\n",
    "print(\"a = \", a)\n",
    "print(\"c = \",c)"
   ]
  },
  {
   "cell_type": "markdown",
   "metadata": {},
   "source": [
    "#### Son mutables (se pueden modificar)"
   ]
  },
  {
   "cell_type": "code",
   "execution_count": 5,
   "metadata": {
    "scrolled": true
   },
   "outputs": [
    {
     "name": "stdout",
     "output_type": "stream",
     "text": [
      "Posición de memoria de lista:  2047145504000\n",
      "Posición de memoria de lista:  2047145504000\n",
      "Posición de memoria de lista:  2047145504000\n"
     ]
    }
   ],
   "source": [
    "lista = [1,2,3,4]\n",
    "print(\"Posición de memoria de lista: \", id(lista))\n",
    "lista.append(5)\n",
    "print(\"Posición de memoria de lista: \", id(lista))\n",
    "lista[0]=5\n",
    "print(\"Posición de memoria de lista: \", id(lista))"
   ]
  },
  {
   "cell_type": "code",
   "execution_count": 6,
   "metadata": {
    "scrolled": true
   },
   "outputs": [
    {
     "name": "stdout",
     "output_type": "stream",
     "text": [
      "Posición de memoria de dict:  2047145506048\n",
      "Posición de memoria de dict:  2047145506048\n",
      "Posición de memoria de dict:  2047145506048\n",
      "{'Código': 10, 'Nombre': 'Maria', 'Apellido': 'Sierra'}\n"
     ]
    }
   ],
   "source": [
    "dict = {\"Código\":10}\n",
    "print(\"Posición de memoria de dict: \", id(dict))\n",
    "dict[\"Nombre\"]=\"Maria\"\n",
    "print(\"Posición de memoria de dict: \", id(dict))\n",
    "dict[\"Apellido\"]=\"Sierra\"\n",
    "print(\"Posición de memoria de dict: \", id(dict))\n",
    "print(dict)"
   ]
  },
  {
   "cell_type": "markdown",
   "metadata": {},
   "source": [
    "#### Son inmutables"
   ]
  },
  {
   "cell_type": "code",
   "execution_count": 7,
   "metadata": {
    "scrolled": true
   },
   "outputs": [
    {
     "name": "stdout",
     "output_type": "stream",
     "text": [
      "Posición de memoria de x:  2047065457328\n",
      "Posición de memoria de x:  2047065457488\n"
     ]
    }
   ],
   "source": [
    "x = 15\n",
    "print(\"Posición de memoria de x: \", id(x))\n",
    "x = 20\n",
    "print (\"Posición de memoria de x: \", id(x))"
   ]
  },
  {
   "cell_type": "code",
   "execution_count": 8,
   "metadata": {
    "scrolled": true
   },
   "outputs": [
    {
     "name": "stdout",
     "output_type": "stream",
     "text": [
      "Posición de memoria de nombre:  2047145398640\n",
      "Posición de memoria de nombre:  2047145187632\n",
      "Posición de memoria de nombre:  2047115881376\n"
     ]
    }
   ],
   "source": [
    "nombre = \"Maria\"\n",
    "print(\"Posición de memoria de nombre: \", id(nombre))\n",
    "nombre = \"Maricarmen\"\n",
    "print (\"Posición de memoria de nombre: \", id(nombre))\n",
    "nombre = \"Maricarmen Sierra\"\n",
    "print (\"Posición de memoria de nombre: \", id(nombre))"
   ]
  },
  {
   "cell_type": "code",
   "execution_count": 9,
   "metadata": {
    "scrolled": true
   },
   "outputs": [
    {
     "name": "stdout",
     "output_type": "stream",
     "text": [
      "tipo de dato n1:  <class 'int'>\n",
      "tipo de dato n2:  <class 'int'>\n",
      "tipo de dato n3:  <class 'int'>\n",
      "tipo de dato n4:  <class 'int'>\n",
      "tipo de dato n5:  <class 'int'>\n"
     ]
    }
   ],
   "source": [
    "n1 = 25\n",
    "n2 = -7\n",
    "n3 = 0\n",
    "n4 = 3560\n",
    "n5 = -54\n",
    " \n",
    "print (\"tipo de dato n1: \", type(n1))\n",
    "print (\"tipo de dato n2: \", type(n2))\n",
    "print (\"tipo de dato n3: \", type(n3))\n",
    "print (\"tipo de dato n4: \", type(n4))\n",
    "print (\"tipo de dato n5: \", type(n5))"
   ]
  },
  {
   "cell_type": "markdown",
   "metadata": {},
   "source": [
    "#### Binarios - Octales y Hexadecimales"
   ]
  },
  {
   "cell_type": "code",
   "execution_count": 10,
   "metadata": {
    "scrolled": true
   },
   "outputs": [
    {
     "name": "stdout",
     "output_type": "stream",
     "text": [
      "40\n",
      "<class 'int'>\n"
     ]
    }
   ],
   "source": [
    "binario = 0b0101000\n",
    "print(binario)\n",
    "print(type(binario))"
   ]
  },
  {
   "cell_type": "code",
   "execution_count": 11,
   "metadata": {
    "scrolled": true
   },
   "outputs": [
    {
     "name": "stdout",
     "output_type": "stream",
     "text": [
      "42\n"
     ]
    }
   ],
   "source": [
    "binario = 0b0101000 + 2 \n",
    "print(binario)"
   ]
  },
  {
   "cell_type": "code",
   "execution_count": 12,
   "metadata": {
    "scrolled": true
   },
   "outputs": [
    {
     "name": "stdout",
     "output_type": "stream",
     "text": [
      "12\n"
     ]
    }
   ],
   "source": [
    "binario = 0b01100\n",
    "print(binario)"
   ]
  },
  {
   "cell_type": "code",
   "execution_count": 13,
   "metadata": {
    "scrolled": true
   },
   "outputs": [
    {
     "name": "stdout",
     "output_type": "stream",
     "text": [
      "474\n",
      "<class 'int'>\n"
     ]
    }
   ],
   "source": [
    "octal = 0o732\n",
    "print(octal)\n",
    "print(type(octal))"
   ]
  },
  {
   "cell_type": "code",
   "execution_count": 14,
   "metadata": {
    "run_control": {
     "marked": false
    },
    "scrolled": true
   },
   "outputs": [
    {
     "name": "stdout",
     "output_type": "stream",
     "text": [
      "474\n"
     ]
    }
   ],
   "source": [
    "bin = 0b111011010\n",
    "print(bin)"
   ]
  },
  {
   "cell_type": "code",
   "execution_count": 15,
   "metadata": {
    "scrolled": true
   },
   "outputs": [
    {
     "name": "stdout",
     "output_type": "stream",
     "text": [
      "2669\n",
      "<class 'int'>\n"
     ]
    }
   ],
   "source": [
    "hexa = 0xA6D\n",
    "print(hexa)\n",
    "print(type(hexa))"
   ]
  },
  {
   "cell_type": "code",
   "execution_count": 16,
   "metadata": {
    "scrolled": true
   },
   "outputs": [
    {
     "name": "stdout",
     "output_type": "stream",
     "text": [
      "2669\n"
     ]
    }
   ],
   "source": [
    "bina = 0b101001101101\n",
    "print(bina)"
   ]
  },
  {
   "cell_type": "code",
   "execution_count": 17,
   "metadata": {},
   "outputs": [
    {
     "ename": "TypeError",
     "evalue": "'int' object is not callable",
     "output_type": "error",
     "traceback": [
      "\u001b[1;31m---------------------------------------------------------------------------\u001b[0m",
      "\u001b[1;31mTypeError\u001b[0m                                 Traceback (most recent call last)",
      "\u001b[1;32m~\\AppData\\Local\\Temp\\ipykernel_12564\\1946912440.py\u001b[0m in \u001b[0;36m<module>\u001b[1;34m\u001b[0m\n\u001b[1;32m----> 1\u001b[1;33m \u001b[0mbin\u001b[0m\u001b[1;33m(\u001b[0m\u001b[1;36m0xA6D\u001b[0m\u001b[1;33m)\u001b[0m\u001b[1;33m\u001b[0m\u001b[1;33m\u001b[0m\u001b[0m\n\u001b[0m",
      "\u001b[1;31mTypeError\u001b[0m: 'int' object is not callable"
     ]
    }
   ],
   "source": [
    "bin(0xA6D)"
   ]
  },
  {
   "cell_type": "code",
   "execution_count": null,
   "metadata": {
    "scrolled": true
   },
   "outputs": [],
   "source": [
    "diez = 10\n",
    "diez_binario = 0b1010 + 12\n",
    "diez_octal = 0o12 + 2\n",
    "diez_hex = 0xA\n",
    "print(diez)\n",
    "print(diez_binario)\n",
    "print(diez_octal)\n",
    "print(diez_hex)"
   ]
  },
  {
   "cell_type": "code",
   "execution_count": null,
   "metadata": {},
   "outputs": [],
   "source": [
    "diez_binario = 0b1010 + 12\n",
    "bin(diez_binario)"
   ]
  },
  {
   "cell_type": "markdown",
   "metadata": {},
   "source": [
    "### Tipo Boolean"
   ]
  },
  {
   "cell_type": "code",
   "execution_count": null,
   "metadata": {
    "scrolled": true
   },
   "outputs": [],
   "source": [
    "a = True\n",
    "b = False\n",
    "print (type(a))\n",
    "print (type(b))"
   ]
  },
  {
   "cell_type": "code",
   "execution_count": null,
   "metadata": {
    "scrolled": true
   },
   "outputs": [],
   "source": [
    "x = 20  # True cualquier valor diferente a 0\n",
    "y = 0   # False cualquier valor = 0\n",
    "a = bool(x)\n",
    "b = bool(y)\n",
    "\n",
    "print(a)\n",
    "print(b)"
   ]
  },
  {
   "cell_type": "code",
   "execution_count": null,
   "metadata": {
    "scrolled": true
   },
   "outputs": [],
   "source": [
    "a = True  \t# True es igual a 1 \n",
    "b = False \t# False es igual a 0\n",
    "x = int(a)\n",
    "y = int(b)\n",
    "print(x)\n",
    "print(y)"
   ]
  },
  {
   "cell_type": "markdown",
   "metadata": {},
   "source": [
    "### Números reales"
   ]
  },
  {
   "cell_type": "code",
   "execution_count": null,
   "metadata": {
    "scrolled": true
   },
   "outputs": [],
   "source": [
    "n = 8.0\n",
    "pi = 3.141516\n",
    "x = -4.45\n",
    "a = 0.1e-3 + 1\n",
    " \n",
    "print(type(n))\n",
    "print(type(pi))\n",
    "print(type(x))\n",
    "print(type(a))\n",
    "print(a)"
   ]
  },
  {
   "cell_type": "code",
   "execution_count": null,
   "metadata": {
    "scrolled": true
   },
   "outputs": [],
   "source": [
    "1.1 + 2.2"
   ]
  },
  {
   "cell_type": "code",
   "execution_count": 28,
   "metadata": {
    "scrolled": true
   },
   "outputs": [
    {
     "name": "stdout",
     "output_type": "stream",
     "text": [
      "3.3000000000000003\n",
      "3.30\n"
     ]
    }
   ],
   "source": [
    "real = 1.1 + 2.2  # real es un float\n",
    "print(real)\n",
    "\n",
    "print(f'{real:.2f}') # real mostrando únicamente 2 cifras decimales"
   ]
  },
  {
   "cell_type": "code",
   "execution_count": null,
   "metadata": {
    "scrolled": true
   },
   "outputs": [],
   "source": [
    "un_real = 1.1  # El literal debe incluir el carácter .\n",
    "otro_real = 1/2  # El resultado de 1/2 es un float\n",
    "not_cient = 1.23E3  # float con notación científica (1230.0)\n",
    "\n",
    "print(un_real)\n",
    "print(otro_real)\n",
    "print(not_cient )"
   ]
  },
  {
   "cell_type": "markdown",
   "metadata": {},
   "source": [
    "### Números Decimal"
   ]
  },
  {
   "cell_type": "code",
   "execution_count": null,
   "metadata": {
    "scrolled": true
   },
   "outputs": [],
   "source": [
    "from decimal import Decimal\n",
    "\n",
    "x = Decimal('3.76')\n",
    "print(type(x))\n",
    "print(x)"
   ]
  },
  {
   "cell_type": "code",
   "execution_count": null,
   "metadata": {},
   "outputs": [],
   "source": [
    "from decimal import Decimal\n",
    "x = Decimal(3.76)\n",
    "print(type(x))\n",
    "print(x)"
   ]
  },
  {
   "cell_type": "code",
   "execution_count": null,
   "metadata": {
    "scrolled": true
   },
   "outputs": [],
   "source": [
    "x1 = Decimal(1.1)\n",
    "x2 = Decimal(2.2)\n",
    "\n",
    "x3 = x1 + x2\n",
    "print(\"x3: \", type(x3), x3)\n",
    "\n",
    "x4 = 1.1 + 2.2 \n",
    "print(\"x4: \", type(x4), x4)\n",
    "\n",
    "x3 == x4"
   ]
  },
  {
   "cell_type": "markdown",
   "metadata": {},
   "source": [
    "### Fracciones"
   ]
  },
  {
   "cell_type": "code",
   "execution_count": null,
   "metadata": {
    "scrolled": true
   },
   "outputs": [],
   "source": [
    "from fractions import Fraction\n",
    "\n",
    "f = Fraction(5,7)\n",
    "print(type(f))\n",
    "print(f)"
   ]
  },
  {
   "cell_type": "code",
   "execution_count": null,
   "metadata": {
    "scrolled": true
   },
   "outputs": [],
   "source": [
    "print(f.numerator)\n",
    "print(f.denominator)"
   ]
  },
  {
   "cell_type": "code",
   "execution_count": null,
   "metadata": {
    "scrolled": true
   },
   "outputs": [],
   "source": [
    "total = Fraction (5,7) + Fraction (1,2)\n",
    "print(total)"
   ]
  },
  {
   "cell_type": "code",
   "execution_count": null,
   "metadata": {
    "scrolled": true
   },
   "outputs": [],
   "source": [
    "x = Fraction(12,6)\n",
    "print(x.numerator)\n",
    "print(x.denominator)"
   ]
  },
  {
   "cell_type": "code",
   "execution_count": null,
   "metadata": {
    "scrolled": true
   },
   "outputs": [],
   "source": [
    "y = Fraction(5,17)\n",
    "print(y.numerator)\n",
    "print(y.denominator)"
   ]
  },
  {
   "cell_type": "code",
   "execution_count": null,
   "metadata": {
    "scrolled": true
   },
   "outputs": [],
   "source": [
    "z = x + y\n",
    "z"
   ]
  },
  {
   "cell_type": "code",
   "execution_count": null,
   "metadata": {},
   "outputs": [],
   "source": [
    "from fractions import Fraction\n",
    "fFraction(5, 7)"
   ]
  },
  {
   "cell_type": "code",
   "execution_count": null,
   "metadata": {},
   "outputs": [],
   "source": [
    "Fraction(1,4) + Fraction(1,2)"
   ]
  },
  {
   "cell_type": "markdown",
   "metadata": {},
   "source": [
    "### Complejos"
   ]
  },
  {
   "cell_type": "code",
   "execution_count": null,
   "metadata": {
    "scrolled": true
   },
   "outputs": [],
   "source": [
    "c1 = (4 + 3j)\n",
    "c2 = (6.3 + 6j)\n",
    "print(type(c1))\n",
    "print(type(c2))"
   ]
  },
  {
   "cell_type": "code",
   "execution_count": null,
   "metadata": {
    "scrolled": true
   },
   "outputs": [],
   "source": [
    "c3 = c1 + c2\n",
    "print(c3)"
   ]
  },
  {
   "cell_type": "code",
   "execution_count": null,
   "metadata": {
    "scrolled": true
   },
   "outputs": [],
   "source": [
    "c = (4 + 3j)\n",
    "print(c.real)\n",
    "print(c.imag)"
   ]
  },
  {
   "cell_type": "code",
   "execution_count": null,
   "metadata": {
    "scrolled": true
   },
   "outputs": [],
   "source": [
    "complejo = 1+2j\n",
    "print(complejo.real)\n",
    "print(complejo.imag)"
   ]
  },
  {
   "cell_type": "code",
   "execution_count": null,
   "metadata": {
    "scrolled": true
   },
   "outputs": [],
   "source": [
    "1 + 2.0"
   ]
  },
  {
   "cell_type": "code",
   "execution_count": null,
   "metadata": {
    "scrolled": true
   },
   "outputs": [],
   "source": [
    "a = 1 + 2.0\n",
    "print(a)\n",
    "print(type(a))"
   ]
  },
  {
   "cell_type": "code",
   "execution_count": null,
   "metadata": {
    "scrolled": true
   },
   "outputs": [],
   "source": [
    "b = 2+3j + 5.7\n",
    "print(b)\n",
    "print(type(b))"
   ]
  },
  {
   "cell_type": "markdown",
   "metadata": {},
   "source": [
    "## Secuencias\n",
    "\n",
    "### Cadenas de Caracteres"
   ]
  },
  {
   "cell_type": "code",
   "execution_count": null,
   "metadata": {
    "scrolled": true
   },
   "outputs": [],
   "source": [
    "# Las comillas simples y las dobles permiten declarar cadenas de una sola línea\n",
    "\n",
    "cadena1 = 'Hello world'\n",
    "cadena2 = \"Hello world\"\n",
    "print(cadena1)\n",
    "print(cadena2)\n",
    "\n",
    "# Las comillas triples (tanto simples como dobles) permiten declarar cadenas de varias líneas\n",
    "\n",
    "cadena3 = '''Hello\n",
    "      world'''\n",
    "cadena4 = \"\"\"Hello\n",
    "world\"\"\"\n",
    "\n",
    "print(\"-----\")\n",
    "print(cadena3)\n",
    "print(cadena4)"
   ]
  },
  {
   "cell_type": "code",
   "execution_count": null,
   "metadata": {
    "scrolled": true
   },
   "outputs": [],
   "source": [
    "# Si en la cadena de caracteres se necesita usar una comilla simple\n",
    "\n",
    "hola = 'Hola \"Pythonista\"'\n",
    "hola_2 = 'Hola \\'Pythonista\\''\n",
    "hola_3 = \"Hola 'Pythonista'\"\n",
    "print(hola)\n",
    "print(hola_2)\n",
    "print(hola_3)\n"
   ]
  },
  {
   "cell_type": "code",
   "execution_count": null,
   "metadata": {},
   "outputs": [],
   "source": [
    "hola_2 ='Hola \\'Pythonista\\''\n",
    "print(hola_2)"
   ]
  },
  {
   "cell_type": "code",
   "execution_count": null,
   "metadata": {
    "scrolled": true
   },
   "outputs": [],
   "source": [
    "x = 5\n",
    "s = \"El número es: \" + str(x)  # convertimos el número en string\n",
    "print(s) #El número es: 5\n"
   ]
  },
  {
   "cell_type": "code",
   "execution_count": null,
   "metadata": {
    "scrolled": true
   },
   "outputs": [],
   "source": [
    "x = 5\n",
    "s = \"El número es: %i\" % x\n",
    "print(s) #El número es: 5\n"
   ]
  },
  {
   "cell_type": "code",
   "execution_count": null,
   "metadata": {
    "scrolled": true
   },
   "outputs": [],
   "source": [
    "x = 5\n",
    "s = \"El número es: %d\" % x\n",
    "print(s) #El número es: 5"
   ]
  },
  {
   "cell_type": "code",
   "execution_count": null,
   "metadata": {},
   "outputs": [],
   "source": [
    "x = 5.5\n",
    "s = \"El número es: %f\" % x\n",
    "print(s) #El número es: 5.5"
   ]
  },
  {
   "cell_type": "code",
   "execution_count": null,
   "metadata": {
    "scrolled": true
   },
   "outputs": [],
   "source": [
    "s = \"Los números son {} y {}\".format(5, 10)\n",
    "print(s)           #Los números son {} y {}\".format(5, 10)\n"
   ]
  },
  {
   "cell_type": "code",
   "execution_count": null,
   "metadata": {
    "scrolled": true
   },
   "outputs": [],
   "source": [
    "s = \"Los números son {a} y {b}\".format(a=5, b=10)\n",
    "print(s) #Los números son 5 y 10\n"
   ]
  },
  {
   "cell_type": "code",
   "execution_count": null,
   "metadata": {
    "scrolled": true
   },
   "outputs": [],
   "source": [
    "a = 5; b = 10\n",
    "s = f\"Los números son {a} y {b}\"\n",
    "print(s) #Los números son 5 y 10\n"
   ]
  },
  {
   "cell_type": "code",
   "execution_count": null,
   "metadata": {
    "scrolled": true
   },
   "outputs": [],
   "source": [
    "a = 5; b = 10\n",
    "s = f\"Si a = {a} y b = {b}, entonces a + b = {a+b}\"\n",
    "print(s) #a + b = 15"
   ]
  },
  {
   "cell_type": "code",
   "execution_count": null,
   "metadata": {
    "scrolled": true
   },
   "outputs": [],
   "source": [
    "z = f\"Si las variables {{a}} = {a} y {{b}} = {b}, entonces a + b = {a+b}\"\n",
    "print(z)"
   ]
  },
  {
   "cell_type": "code",
   "execution_count": 29,
   "metadata": {
    "scrolled": true
   },
   "outputs": [
    {
     "name": "stdout",
     "output_type": "stream",
     "text": [
      "Información de la compra: importe=1300 Euros, descuento=15 %\n"
     ]
    }
   ],
   "source": [
    "# A partir de Python 3.8 un signo igual '=' tras el\n",
    "# nombre de una variable inserta tanto el nombre de\n",
    "# la variable como su valor:\n",
    "\n",
    "importe = 1300\n",
    "descuento = 15\n",
    "print(f'Información de la compra: {importe=} Euros, {descuento=} %')"
   ]
  },
  {
   "cell_type": "code",
   "execution_count": null,
   "metadata": {
    "scrolled": true
   },
   "outputs": [],
   "source": [
    "ancho = 10\n",
    "precision = 8\n",
    "numpi = 3.14159265358979323846\n",
    "print(f\"Número PI: {numpi:{ancho}.{precision}}\")"
   ]
  },
  {
   "cell_type": "code",
   "execution_count": null,
   "metadata": {},
   "outputs": [],
   "source": [
    "print(f\"Número PI: {numpi:.6f}\")"
   ]
  },
  {
   "cell_type": "code",
   "execution_count": null,
   "metadata": {
    "scrolled": true
   },
   "outputs": [],
   "source": [
    "cadena = f'''línea1\n",
    "línea2\n",
    "línea3'''\n",
    "\n",
    "cadena"
   ]
  },
  {
   "cell_type": "code",
   "execution_count": null,
   "metadata": {},
   "outputs": [],
   "source": [
    "print(cadena)"
   ]
  },
  {
   "cell_type": "code",
   "execution_count": null,
   "metadata": {},
   "outputs": [],
   "source": [
    "cadenacruda = f'la línea finaliza con \\n otra cosa'  #\\n salto línea\n",
    "print(cadenacruda)"
   ]
  },
  {
   "cell_type": "code",
   "execution_count": null,
   "metadata": {
    "scrolled": true
   },
   "outputs": [],
   "source": [
    "cadenacruda = f'la línea finaliza con \\t otra cosa'  #\\t tabulador \n",
    "print(cadenacruda)"
   ]
  },
  {
   "cell_type": "code",
   "execution_count": null,
   "metadata": {},
   "outputs": [],
   "source": [
    "for x in range(1, 11):\n",
    "    print(f'{x:02} {x*x:3} {x*x*x:4}') # El primero rellena con 0"
   ]
  },
  {
   "cell_type": "markdown",
   "metadata": {},
   "source": [
    "### Como se comportan las cadenas o string"
   ]
  },
  {
   "cell_type": "code",
   "execution_count": null,
   "metadata": {},
   "outputs": [],
   "source": [
    "s1 = \"Cadena 1\"\n",
    "s2 = \"Cadena 2\"\n",
    "print(s1 + \" \" + s2) "
   ]
  },
  {
   "cell_type": "code",
   "execution_count": null,
   "metadata": {
    "scrolled": true
   },
   "outputs": [],
   "source": [
    "s1 = \"Cadena 1\"\n",
    "s2 = \"Cadena 2\"\n",
    "s3 = \"-\"\n",
    "print(s1 + s3 + s2) "
   ]
  },
  {
   "cell_type": "code",
   "execution_count": null,
   "metadata": {
    "scrolled": true
   },
   "outputs": [],
   "source": [
    "s1 = \"Cadena\"\n",
    "print(s1 * 5) "
   ]
  },
  {
   "cell_type": "code",
   "execution_count": null,
   "metadata": {
    "scrolled": true
   },
   "outputs": [],
   "source": [
    "print(chr(8364)) #€\n",
    "print(ord(\"€\"))  #8364"
   ]
  },
  {
   "cell_type": "code",
   "execution_count": null,
   "metadata": {
    "scrolled": true
   },
   "outputs": [],
   "source": [
    "print(chr(127775))"
   ]
  },
  {
   "cell_type": "code",
   "execution_count": null,
   "metadata": {},
   "outputs": [],
   "source": [
    "ord(\"🌟\")"
   ]
  },
  {
   "cell_type": "markdown",
   "metadata": {},
   "source": [
    "#### Longitud de una cadena"
   ]
  },
  {
   "cell_type": "code",
   "execution_count": 1,
   "metadata": {
    "scrolled": true
   },
   "outputs": [
    {
     "name": "stdout",
     "output_type": "stream",
     "text": [
      "'Aprender sin reflexionar es malgastar la energía'. Confucio.\n",
      "61\n"
     ]
    }
   ],
   "source": [
    "frase = \"'Aprender sin reflexionar es malgastar la energía'. Confucio.\"\n",
    "print(frase)\n",
    "print(len(frase)) # la longitud de una cadena"
   ]
  },
  {
   "cell_type": "code",
   "execution_count": null,
   "metadata": {
    "scrolled": true
   },
   "outputs": [],
   "source": [
    "cadena = \"Hola Alumnos\" \n",
    "print(len(cadena))"
   ]
  },
  {
   "cell_type": "code",
   "execution_count": null,
   "metadata": {
    "scrolled": true
   },
   "outputs": [],
   "source": [
    "#### Obtener una subcadena"
   ]
  },
  {
   "cell_type": "code",
   "execution_count": null,
   "metadata": {
    "scrolled": true
   },
   "outputs": [],
   "source": [
    "print(cadena[0])\n",
    "print(cadena[2])\n",
    "print(cadena[11])\n",
    "print(cadena[-11])\n",
    "print(cadena[12])"
   ]
  },
  {
   "cell_type": "code",
   "execution_count": null,
   "metadata": {},
   "outputs": [],
   "source": [
    "cadena[-1]"
   ]
  },
  {
   "cell_type": "code",
   "execution_count": null,
   "metadata": {},
   "outputs": [],
   "source": [
    "cadena[11]"
   ]
  },
  {
   "cell_type": "code",
   "execution_count": null,
   "metadata": {},
   "outputs": [],
   "source": [
    "len(cadena)-1"
   ]
  },
  {
   "cell_type": "code",
   "execution_count": null,
   "metadata": {},
   "outputs": [],
   "source": [
    "cadena[len(cadena)-1]"
   ]
  },
  {
   "attachments": {
    "image.png": {
     "image/png": "[encoded data removed]"
    }
   },
   "cell_type": "markdown",
   "metadata": {},
   "source": [
    "### \"Hola Alumnos\" \n",
    "\n",
    "![image.png](attachment:image.png)"
   ]
  },
  {
   "cell_type": "code",
   "execution_count": null,
   "metadata": {
    "scrolled": true
   },
   "outputs": [],
   "source": [
    "cadena[:4] # extrae los caracteres desde la posición 0 hasta la 3"
   ]
  },
  {
   "cell_type": "code",
   "execution_count": null,
   "metadata": {},
   "outputs": [],
   "source": [
    "cadena[0:4]"
   ]
  },
  {
   "cell_type": "code",
   "execution_count": null,
   "metadata": {
    "scrolled": true
   },
   "outputs": [],
   "source": [
    "cadena[5:] # extrae los caracteres desde la posición 5 hasta la posición final"
   ]
  },
  {
   "cell_type": "code",
   "execution_count": 39,
   "metadata": {},
   "outputs": [
    {
     "data": {
      "text/plain": [
       "'Alumnos'"
      ]
     },
     "execution_count": 39,
     "metadata": {},
     "output_type": "execute_result"
    }
   ],
   "source": [
    "cadena[5:12]"
   ]
  },
  {
   "cell_type": "code",
   "execution_count": null,
   "metadata": {
    "scrolled": true
   },
   "outputs": [],
   "source": [
    "cadena[6:9] #extrae desde la posición 6 hasta la 8"
   ]
  },
  {
   "cell_type": "code",
   "execution_count": null,
   "metadata": {
    "scrolled": true
   },
   "outputs": [],
   "source": [
    "cadena[0:10] "
   ]
  },
  {
   "attachments": {
    "image.png": {
     "image/png": "[encoded data removed]"
    }
   },
   "cell_type": "markdown",
   "metadata": {},
   "source": [
    "![image.png](attachment:image.png)"
   ]
  },
  {
   "cell_type": "code",
   "execution_count": null,
   "metadata": {},
   "outputs": [],
   "source": [
    "cadena[0:10]"
   ]
  },
  {
   "cell_type": "code",
   "execution_count": null,
   "metadata": {
    "scrolled": true
   },
   "outputs": [],
   "source": [
    "cadena[0:10:2] # extrae desde la posición 0 a la 9, saltando 2"
   ]
  },
  {
   "cell_type": "code",
   "execution_count": 7,
   "metadata": {},
   "outputs": [
    {
     "ename": "SyntaxError",
     "evalue": "invalid syntax (3902175384.py, line 2)",
     "output_type": "error",
     "traceback": [
      "\u001b[1;36m  File \u001b[1;32m\"C:\\Users\\villa\\AppData\\Local\\Temp\\ipykernel_16928\\3902175384.py\"\u001b[1;36m, line \u001b[1;32m2\u001b[0m\n\u001b[1;33m    frase.\u001b[0m\n\u001b[1;37m          ^\u001b[0m\n\u001b[1;31mSyntaxError\u001b[0m\u001b[1;31m:\u001b[0m invalid syntax\n"
     ]
    }
   ],
   "source": [
    "frase = \"Buenos días!!!\"\n",
    "frase."
   ]
  },
  {
   "cell_type": "markdown",
   "metadata": {},
   "source": [
    "### Métodos"
   ]
  },
  {
   "cell_type": "code",
   "execution_count": null,
   "metadata": {
    "scrolled": true
   },
   "outputs": [],
   "source": [
    "# Devuelve con su primera letra en mayúscula\n",
    "\n",
    "s = \"mi cadena\"\n",
    "print(s.capitalize()) #Mi cadena"
   ]
  },
  {
   "cell_type": "code",
   "execution_count": null,
   "metadata": {
    "scrolled": true
   },
   "outputs": [],
   "source": [
    "# Convierte todos los caracteres alfabéticos en minúscula.\n",
    "\n",
    "s = \"Mi CADENA\"\n",
    "print(s.lower()) #mi cadena"
   ]
  },
  {
   "cell_type": "code",
   "execution_count": null,
   "metadata": {
    "scrolled": true
   },
   "outputs": [],
   "source": [
    "# Convierte los caracteres alfabéticos con mayúsculas en minúsculas y viceversa.\n",
    "\n",
    "s = \"mI cAdEnA\"\n",
    "print(s.swapcase()) #Mi CaDeNa"
   ]
  },
  {
   "cell_type": "code",
   "execution_count": null,
   "metadata": {
    "scrolled": true
   },
   "outputs": [],
   "source": [
    "# convierte todos los caracteres alfabéticos en mayúsculas.\n",
    "\n",
    "s = \"mi Cadena\"\n",
    "print(s.upper())"
   ]
  },
  {
   "cell_type": "code",
   "execution_count": 3,
   "metadata": {
    "scrolled": true
   },
   "outputs": [
    {
     "name": "stdout",
     "output_type": "stream",
     "text": [
      "2\n"
     ]
    }
   ],
   "source": [
    "# permite contar las veces que otra cadena se encuentra dentro de la primera. \n",
    "s = \"Saber que se sabe lo que se sabe\"\n",
    "print(s.count(\"sabe\")) #2"
   ]
  },
  {
   "cell_type": "code",
   "execution_count": null,
   "metadata": {},
   "outputs": [],
   "source": [
    "s = s.lower()\n",
    "print(s.count(\"sabe\"))"
   ]
  },
  {
   "cell_type": "code",
   "execution_count": null,
   "metadata": {
    "scrolled": true
   },
   "outputs": [],
   "source": [
    "print(s.count(\"sabe\",18)) # a partir 18"
   ]
  },
  {
   "cell_type": "code",
   "execution_count": null,
   "metadata": {
    "scrolled": true
   },
   "outputs": [],
   "source": [
    "print(s.count(\"sabe\",0,18))"
   ]
  },
  {
   "cell_type": "code",
   "execution_count": 1,
   "metadata": {
    "scrolled": true
   },
   "outputs": [
    {
     "name": "stdout",
     "output_type": "stream",
     "text": [
      "False\n"
     ]
    }
   ],
   "source": [
    "\"\"\"Devuelve True si la cadena esta formada únicamente por caracteres alfanuméricos, False de lo contrario. \n",
    "   Caracteres como @ o & no son alfanumericos.\n",
    "\"\"\"   \n",
    "\n",
    "s = \"correo@dominio.com\"\n",
    "print(s.isalnum())"
   ]
  },
  {
   "cell_type": "code",
   "execution_count": 2,
   "metadata": {},
   "outputs": [
    {
     "name": "stdout",
     "output_type": "stream",
     "text": [
      "True\n"
     ]
    }
   ],
   "source": [
    "s = \"correo123dominiocom\"\n",
    "print(s.isalnum())"
   ]
  },
  {
   "cell_type": "code",
   "execution_count": null,
   "metadata": {
    "scrolled": true
   },
   "outputs": [],
   "source": [
    "# devuelve True si todos los caracteres son alfabéticos, False de lo contrario.\n",
    "\n",
    "s = \"abcdefg\"\n",
    "print(s.isalpha())"
   ]
  },
  {
   "cell_type": "code",
   "execution_count": null,
   "metadata": {
    "run_control": {
     "marked": false
    },
    "scrolled": true
   },
   "outputs": [],
   "source": [
    "# elimina a la izquierda y derecha el carácter que se le introduce\n",
    "s = \"  abc  \"\n",
    "print(s.strip()) #abc"
   ]
  },
  {
   "cell_type": "code",
   "execution_count": null,
   "metadata": {
    "run_control": {
     "marked": true
    }
   },
   "outputs": [],
   "source": [
    "s = \"  abc  \"\n",
    "s.lstrip()"
   ]
  },
  {
   "cell_type": "code",
   "execution_count": 5,
   "metadata": {},
   "outputs": [
    {
     "data": {
      "text/plain": [
       "'  abc'"
      ]
     },
     "execution_count": 5,
     "metadata": {},
     "output_type": "execute_result"
    }
   ],
   "source": [
    "s = \"  abc  \"\n",
    "s.rstrip()"
   ]
  },
  {
   "cell_type": "code",
   "execution_count": 6,
   "metadata": {},
   "outputs": [
    {
     "data": {
      "text/plain": [
       "'abc'"
      ]
     },
     "execution_count": 6,
     "metadata": {},
     "output_type": "execute_result"
    }
   ],
   "source": [
    "s.strip()"
   ]
  },
  {
   "cell_type": "code",
   "execution_count": 2,
   "metadata": {
    "scrolled": false
   },
   "outputs": [
    {
     "name": "stdout",
     "output_type": "stream",
     "text": [
      "abc\n"
     ]
    }
   ],
   "source": [
    "s = \"***abc***\"\n",
    "print(s.strip(\"*\")) #abc"
   ]
  },
  {
   "cell_type": "code",
   "execution_count": 3,
   "metadata": {},
   "outputs": [
    {
     "name": "stdout",
     "output_type": "stream",
     "text": [
      "banan\n"
     ]
    }
   ],
   "source": [
    "s = \"banana\"\n",
    "print(s.strip(\"a\"))"
   ]
  },
  {
   "cell_type": "code",
   "execution_count": 4,
   "metadata": {
    "scrolled": true
   },
   "outputs": [
    {
     "name": "stdout",
     "output_type": "stream",
     "text": [
      "bc\n"
     ]
    }
   ],
   "source": [
    "print(s.strip(\"*a\"))"
   ]
  },
  {
   "cell_type": "code",
   "execution_count": 1,
   "metadata": {},
   "outputs": [
    {
     "data": {
      "text/plain": [
       "'example'"
      ]
     },
     "execution_count": 1,
     "metadata": {},
     "output_type": "execute_result"
    }
   ],
   "source": [
    "cadena = 'www.example.com'\n",
    "cadena.strip('wocm.')"
   ]
  },
  {
   "cell_type": "code",
   "execution_count": 8,
   "metadata": {
    "scrolled": true
   },
   "outputs": [
    {
     "name": "stdout",
     "output_type": "stream",
     "text": [
      "01234\n"
     ]
    }
   ],
   "source": [
    "# rellena la cadena con ceros a la izquierda hasta llegar a la longitud pasada como parámetro.\n",
    "\n",
    "s = \"1234\"\n",
    "print(s.zfill(5)) #00123"
   ]
  },
  {
   "cell_type": "code",
   "execution_count": 9,
   "metadata": {
    "scrolled": true
   },
   "outputs": [
    {
     "name": "stdout",
     "output_type": "stream",
     "text": [
      "1 y 2 y 3\n"
     ]
    }
   ],
   "source": [
    "# devuelve la primera cadena unida a cada uno de los elementos de la lista que se le pasa como parámetro.\n",
    "\n",
    "s = \" y \".join([\"1\", \"2\", \"3\"])\n",
    "print(s) #1 y 2 y 3"
   ]
  },
  {
   "cell_type": "code",
   "execution_count": 10,
   "metadata": {},
   "outputs": [
    {
     "name": "stdout",
     "output_type": "stream",
     "text": [
      "['Python', 'es', 'una', 'lenguaje', 'de', 'programación', 'orientado', 'a', 'objetos']\n"
     ]
    }
   ],
   "source": [
    "s = \"Python es una lenguaje de programación orientado a objetos\"\n",
    "print(s.split())"
   ]
  },
  {
   "cell_type": "code",
   "execution_count": 12,
   "metadata": {
    "scrolled": true
   },
   "outputs": [
    {
     "name": "stdout",
     "output_type": "stream",
     "text": [
      "['Python,J', 'v', ',C']\n"
     ]
    }
   ],
   "source": [
    "s = \"Python,Java,C\"\n",
    "print(s.split(\",\")) #['Python', 'Java', 'C']"
   ]
  },
  {
   "cell_type": "code",
   "execution_count": null,
   "metadata": {
    "scrolled": true
   },
   "outputs": [],
   "source": [
    "# split(sep=None, maxsplit=-1)\n",
    "# Divide una cadena en subcadenas y las devuelve almacenadas en una lista. \n",
    "# La división es realizada de acuerdo a el primer parámetro\n",
    "# el segundo parámetro indica el número máximo de divisiones a realizar.\n",
    "\n",
    "\n",
    "confucio = \"Si ya sabes lo que tienes que hacer y no lo haces entonces estás peor que antes\"\n",
    "print(confucio.split())"
   ]
  },
  {
   "cell_type": "code",
   "execution_count": null,
   "metadata": {},
   "outputs": [],
   "source": [
    "l = confucio.split()\n",
    "print(type(l))"
   ]
  },
  {
   "cell_type": "code",
   "execution_count": null,
   "metadata": {
    "scrolled": true
   },
   "outputs": [],
   "source": [
    "print(confucio.split(None,5))"
   ]
  },
  {
   "cell_type": "code",
   "execution_count": null,
   "metadata": {
    "scrolled": true
   },
   "outputs": [],
   "source": [
    "confucio = \"Si+ya+sabes+lo+que+tienes\"\n",
    "print(confucio)\n",
    "print(confucio.split(\"+\"))"
   ]
  },
  {
   "cell_type": "markdown",
   "metadata": {},
   "source": [
    "### Conversión de tipos de datos"
   ]
  },
  {
   "cell_type": "code",
   "execution_count": null,
   "metadata": {
    "scrolled": true
   },
   "outputs": [],
   "source": [
    "edad = input(\"Introduzca su edad: \")\n",
    "print(\"La edad de Ana es: \", edad + 10)"
   ]
  },
  {
   "cell_type": "code",
   "execution_count": null,
   "metadata": {
    "scrolled": true
   },
   "outputs": [],
   "source": [
    "edad = input(\"Introduzca su edad: \")\n",
    "print(\"La edad de Ana es: \" , int(edad) + 10)"
   ]
  },
  {
   "cell_type": "code",
   "execution_count": null,
   "metadata": {},
   "outputs": [],
   "source": [
    "float(8)"
   ]
  },
  {
   "cell_type": "code",
   "execution_count": null,
   "metadata": {},
   "outputs": [],
   "source": [
    "float(\"5\")"
   ]
  },
  {
   "cell_type": "code",
   "execution_count": null,
   "metadata": {},
   "outputs": [],
   "source": [
    "int(\"5\")"
   ]
  },
  {
   "cell_type": "code",
   "execution_count": null,
   "metadata": {},
   "outputs": [],
   "source": [
    "int(5.85897777)"
   ]
  },
  {
   "cell_type": "code",
   "execution_count": null,
   "metadata": {},
   "outputs": [],
   "source": [
    "round(5.85897777)"
   ]
  },
  {
   "cell_type": "code",
   "execution_count": null,
   "metadata": {},
   "outputs": [],
   "source": [
    "str(5)"
   ]
  },
  {
   "cell_type": "code",
   "execution_count": null,
   "metadata": {},
   "outputs": [],
   "source": [
    "complex(5)"
   ]
  },
  {
   "cell_type": "code",
   "execution_count": null,
   "metadata": {},
   "outputs": [],
   "source": [
    "complex(\"5\")"
   ]
  },
  {
   "cell_type": "markdown",
   "metadata": {},
   "source": [
    "### Variables"
   ]
  },
  {
   "cell_type": "code",
   "execution_count": null,
   "metadata": {
    "scrolled": true
   },
   "outputs": [],
   "source": [
    "frase_conf = \"Observa sus defectos y conocerás sus virtudes\"\n",
    "num = 45\n",
    "pi = 3.1415926535897931\n",
    "\n",
    "print(frase_conf )\n",
    "print(num )\n",
    "print(pi )"
   ]
  },
  {
   "cell_type": "code",
   "execution_count": null,
   "metadata": {
    "scrolled": true
   },
   "outputs": [],
   "source": [
    "x = y = z = 10"
   ]
  },
  {
   "cell_type": "code",
   "execution_count": null,
   "metadata": {
    "scrolled": true
   },
   "outputs": [],
   "source": [
    "x, y = 4, 2"
   ]
  },
  {
   "cell_type": "code",
   "execution_count": null,
   "metadata": {
    "run_control": {
     "marked": false
    },
    "scrolled": true
   },
   "outputs": [],
   "source": [
    "x, y, z = 1, 2, 3"
   ]
  },
  {
   "cell_type": "code",
   "execution_count": null,
   "metadata": {
    "scrolled": true
   },
   "outputs": [],
   "source": [
    "print(type(frase_conf))\n",
    "print(type(num))\n",
    "print(type(pi))"
   ]
  },
  {
   "cell_type": "markdown",
   "metadata": {},
   "source": [
    "isinstance(): recibe dos parámetros: un objeto y un tipo. \n",
    "\n",
    "Retorna True si el objeto es del tipo que se pasa como parámetro y False en caso contrario."
   ]
  },
  {
   "cell_type": "code",
   "execution_count": null,
   "metadata": {},
   "outputs": [],
   "source": [
    "a = 3"
   ]
  },
  {
   "cell_type": "code",
   "execution_count": null,
   "metadata": {
    "scrolled": true
   },
   "outputs": [],
   "source": [
    "isinstance(a, float)"
   ]
  },
  {
   "cell_type": "code",
   "execution_count": null,
   "metadata": {
    "scrolled": true
   },
   "outputs": [],
   "source": [
    "isinstance(3, int)"
   ]
  },
  {
   "cell_type": "code",
   "execution_count": null,
   "metadata": {
    "scrolled": true
   },
   "outputs": [],
   "source": [
    "isinstance(3, bool)"
   ]
  },
  {
   "cell_type": "code",
   "execution_count": null,
   "metadata": {
    "scrolled": true
   },
   "outputs": [],
   "source": [
    "isinstance(False, bool)"
   ]
  },
  {
   "cell_type": "code",
   "execution_count": null,
   "metadata": {
    "scrolled": true
   },
   "outputs": [],
   "source": [
    "6casos = 'Casos'  # El nombre de la variable comienza por un número"
   ]
  },
  {
   "cell_type": "code",
   "execution_count": null,
   "metadata": {
    "scrolled": true
   },
   "outputs": [],
   "source": [
    "morea@ = 1000000  # el nombre de la variable tiene un caracter especial"
   ]
  },
  {
   "cell_type": "code",
   "execution_count": null,
   "metadata": {
    "scrolled": true
   },
   "outputs": [],
   "source": [
    "class = 'Python' # el nombre de la variable es una palabra reservada"
   ]
  },
  {
   "cell_type": "markdown",
   "metadata": {},
   "source": [
    "#### Palabras claves o reservadas en Python"
   ]
  },
  {
   "cell_type": "code",
   "execution_count": null,
   "metadata": {
    "scrolled": true
   },
   "outputs": [],
   "source": [
    "import keyword\n",
    "print(keyword.kwlist)\n"
   ]
  },
  {
   "cell_type": "markdown",
   "metadata": {},
   "source": [
    "### Sentencias - Script"
   ]
  },
  {
   "cell_type": "code",
   "execution_count": null,
   "metadata": {
    "scrolled": true
   },
   "outputs": [],
   "source": [
    "# Ejemplo de script:\n",
    "\n",
    "print(\"Esto es un ejemplo de script\")\n",
    "x = 2\n",
    "print(x)\n"
   ]
  },
  {
   "cell_type": "markdown",
   "metadata": {},
   "source": [
    "### Expresiones"
   ]
  },
  {
   "cell_type": "code",
   "execution_count": null,
   "metadata": {
    "scrolled": true
   },
   "outputs": [],
   "source": [
    "x + 17\n",
    "1 + 1\n"
   ]
  },
  {
   "attachments": {
    "image.png": {
     "image/png": "[encoded data removed]"
    }
   },
   "cell_type": "markdown",
   "metadata": {},
   "source": [
    "### Operadores aritmeticos\n",
    "\n",
    "![image.png](attachment:image.png)"
   ]
  },
  {
   "cell_type": "code",
   "execution_count": null,
   "metadata": {},
   "outputs": [],
   "source": [
    "2**4/8"
   ]
  },
  {
   "cell_type": "code",
   "execution_count": null,
   "metadata": {},
   "outputs": [],
   "source": [
    "6/2*1+2"
   ]
  },
  {
   "cell_type": "code",
   "execution_count": null,
   "metadata": {},
   "outputs": [],
   "source": [
    "6/2*(1+2)"
   ]
  },
  {
   "cell_type": "code",
   "execution_count": null,
   "metadata": {},
   "outputs": [],
   "source": [
    "6/(2*1+2)"
   ]
  },
  {
   "cell_type": "code",
   "execution_count": null,
   "metadata": {},
   "outputs": [],
   "source": [
    "6/(2*1)+2"
   ]
  },
  {
   "cell_type": "code",
   "execution_count": null,
   "metadata": {},
   "outputs": [],
   "source": [
    "(6/(2*1))+2"
   ]
  },
  {
   "cell_type": "code",
   "execution_count": null,
   "metadata": {},
   "outputs": [],
   "source": [
    "-5*6/4"
   ]
  },
  {
   "cell_type": "code",
   "execution_count": null,
   "metadata": {
    "scrolled": true
   },
   "outputs": [],
   "source": [
    "x = 25\n",
    "y = 45\n",
    "print(x, ' + ', y)\n",
    "print('resultado:', x + y) #las variables x y y son Operandos y el símbolo (+) es el Operador"
   ]
  },
  {
   "cell_type": "code",
   "execution_count": null,
   "metadata": {
    "scrolled": true
   },
   "outputs": [],
   "source": [
    "2 + 2"
   ]
  },
  {
   "cell_type": "code",
   "execution_count": null,
   "metadata": {
    "scrolled": true
   },
   "outputs": [],
   "source": [
    "3 - 2"
   ]
  },
  {
   "cell_type": "code",
   "execution_count": null,
   "metadata": {
    "scrolled": true
   },
   "outputs": [],
   "source": [
    "2 * 2"
   ]
  },
  {
   "cell_type": "code",
   "execution_count": null,
   "metadata": {
    "scrolled": true
   },
   "outputs": [],
   "source": [
    "4 / 2"
   ]
  },
  {
   "cell_type": "code",
   "execution_count": null,
   "metadata": {
    "scrolled": true
   },
   "outputs": [],
   "source": [
    "4 % 2  # resto o residuo de la división"
   ]
  },
  {
   "cell_type": "code",
   "execution_count": null,
   "metadata": {
    "run_control": {
     "marked": false
    },
    "scrolled": true
   },
   "outputs": [],
   "source": [
    "3 ** 2"
   ]
  },
  {
   "cell_type": "code",
   "execution_count": null,
   "metadata": {
    "scrolled": true
   },
   "outputs": [],
   "source": [
    "8 // 4 # división entera"
   ]
  },
  {
   "cell_type": "code",
   "execution_count": null,
   "metadata": {},
   "outputs": [],
   "source": [
    "9 // 2"
   ]
  },
  {
   "cell_type": "code",
   "execution_count": null,
   "metadata": {
    "scrolled": true
   },
   "outputs": [],
   "source": [
    "-7 + 10  # -7 negación negativo"
   ]
  },
  {
   "cell_type": "code",
   "execution_count": null,
   "metadata": {
    "scrolled": true
   },
   "outputs": [],
   "source": [
    "3.5 / 22  # división "
   ]
  },
  {
   "cell_type": "code",
   "execution_count": null,
   "metadata": {
    "run_control": {
     "marked": false
    },
    "scrolled": true
   },
   "outputs": [],
   "source": [
    "3.5 // 22 # división entera"
   ]
  },
  {
   "cell_type": "code",
   "execution_count": null,
   "metadata": {
    "scrolled": true
   },
   "outputs": [],
   "source": [
    "45 % 22 # resto o residuo de la división"
   ]
  },
  {
   "cell_type": "code",
   "execution_count": null,
   "metadata": {
    "run_control": {
     "marked": false
    },
    "scrolled": true
   },
   "outputs": [],
   "source": [
    "7 % 5 "
   ]
  },
  {
   "cell_type": "code",
   "execution_count": null,
   "metadata": {
    "scrolled": true
   },
   "outputs": [],
   "source": [
    "r = 3.0 / 2\n",
    "print(r)"
   ]
  },
  {
   "cell_type": "code",
   "execution_count": null,
   "metadata": {
    "scrolled": true
   },
   "outputs": [],
   "source": [
    "r = float(3) / 2\n",
    "print(r)"
   ]
  },
  {
   "cell_type": "code",
   "execution_count": null,
   "metadata": {
    "scrolled": true
   },
   "outputs": [],
   "source": [
    "\"Hola \" + \"alumnos\""
   ]
  },
  {
   "cell_type": "code",
   "execution_count": null,
   "metadata": {
    "scrolled": true
   },
   "outputs": [],
   "source": [
    "\"Hola \" * 3"
   ]
  },
  {
   "cell_type": "markdown",
   "metadata": {},
   "source": [
    "### Orden de Precedencia de los operadores\n",
    "\n",
    "    1.\tTérminos entre paréntesis.  Las expresiones con paréntesis se evalúan de adentro hacia           fuera, es decir, el paréntesis más interno se evalúa primero.\n",
    "    2.\tPotencias y raíces: **\n",
    "    3.\tNegación: -\n",
    "    4.\tMultiplicación, División, División entera, Módulo: *, /, //, %\n",
    "    5.\tSuma, Resta: +, -\n",
    "\n"
   ]
  },
  {
   "cell_type": "markdown",
   "metadata": {},
   "source": [
    "#### ¿Qué resultados retornan las siguientes expresiones?\n",
    "    2**4/8\n",
    "    6 / 2 * 1 + 2 \n",
    "    6 / 2 * (1 + 2)\n",
    "    6 / (2 * 1 + 2)\n",
    "    6 / (2 * 1) + 2 \n",
    "    (6 / (2 * 1)) + 2 \n",
    "    -5*6/4\n"
   ]
  },
  {
   "cell_type": "code",
   "execution_count": null,
   "metadata": {
    "scrolled": true
   },
   "outputs": [],
   "source": [
    "2**4/8"
   ]
  },
  {
   "cell_type": "code",
   "execution_count": null,
   "metadata": {
    "scrolled": true
   },
   "outputs": [],
   "source": [
    "6 / 2 * 1 + 2 "
   ]
  },
  {
   "cell_type": "code",
   "execution_count": null,
   "metadata": {
    "scrolled": true
   },
   "outputs": [],
   "source": [
    "6/2*(1+2)"
   ]
  },
  {
   "cell_type": "code",
   "execution_count": null,
   "metadata": {
    "scrolled": true
   },
   "outputs": [],
   "source": [
    "6 / (2 * 1 + 2)"
   ]
  },
  {
   "cell_type": "code",
   "execution_count": null,
   "metadata": {
    "scrolled": true
   },
   "outputs": [],
   "source": [
    "6 / (2 * 1) + 2 "
   ]
  },
  {
   "cell_type": "code",
   "execution_count": null,
   "metadata": {
    "scrolled": true
   },
   "outputs": [],
   "source": [
    "(6 / (2 * 1)) + 2 "
   ]
  },
  {
   "cell_type": "code",
   "execution_count": null,
   "metadata": {
    "scrolled": true
   },
   "outputs": [],
   "source": [
    "-5*6/4"
   ]
  },
  {
   "cell_type": "markdown",
   "metadata": {},
   "source": [
    "### Ejercicios\n",
    "\n",
    "Evalua las siguientes expresiones "
   ]
  },
  {
   "cell_type": "code",
   "execution_count": null,
   "metadata": {
    "run_control": {
     "marked": false
    },
    "scrolled": true
   },
   "outputs": [],
   "source": [
    "print(20 + 32)\n",
    "print(5 ** 2)\n",
    "print((5 + 9) * (15 - 7))\n",
    "print(7 + 5)"
   ]
  },
  {
   "cell_type": "code",
   "execution_count": null,
   "metadata": {
    "scrolled": true
   },
   "outputs": [],
   "source": [
    "print(9 / 5)\n",
    "print(5 / 9)\n",
    "print(9 // 5)"
   ]
  },
  {
   "cell_type": "code",
   "execution_count": null,
   "metadata": {
    "scrolled": true
   },
   "outputs": [],
   "source": [
    "print(7.0 / 3.0)\n",
    "print(7.0 // 3.0)"
   ]
  },
  {
   "cell_type": "code",
   "execution_count": null,
   "metadata": {
    "scrolled": true
   },
   "outputs": [],
   "source": [
    "print(7 // 3)   \n",
    "print(7 % 3)     "
   ]
  },
  {
   "cell_type": "code",
   "execution_count": null,
   "metadata": {
    "scrolled": true
   },
   "outputs": [],
   "source": [
    "5 ** 2\n",
    "9 * 5\n",
    "15 / 12\n",
    "12 / 15\n",
    "15 // 12\n",
    "12 // 15\n",
    "5 % 2\n",
    "9 % 5\n",
    "15 % 12\n",
    "12 % 15\n",
    "6 % 6\n",
    "0 % 7"
   ]
  },
  {
   "cell_type": "code",
   "execution_count": null,
   "metadata": {
    "scrolled": true
   },
   "outputs": [],
   "source": [
    "2 + (3 - 1) * 10 / 5 * (2 + 3)"
   ]
  },
  {
   "cell_type": "markdown",
   "metadata": {},
   "source": [
    "### Operadores de comparación"
   ]
  },
  {
   "cell_type": "code",
   "execution_count": null,
   "metadata": {
    "scrolled": true
   },
   "outputs": [],
   "source": [
    "# Qué resultados obtendrías (True o False)\n",
    "\n",
    "print(2 == 3)\n",
    "print(2 == 2)\n",
    "print(2 != 5)\n",
    "2 != 2\n",
    "4 > 2\n",
    "1 > 2\n",
    "1 < 2\n",
    "4 < 2\n",
    "4 >= 2\n",
    "1 >= 2\n",
    "4 >= 4\n",
    "4 <= 6\n",
    "1 <= 0\n",
    "4 <= 4\n"
   ]
  },
  {
   "cell_type": "markdown",
   "metadata": {},
   "source": [
    "### Operadores de Asignación"
   ]
  },
  {
   "cell_type": "code",
   "execution_count": null,
   "metadata": {
    "scrolled": true
   },
   "outputs": [],
   "source": [
    "\"\"\"Si b = 2 + 2, que valor tiene b en cada una de las siguientes sentencias y cuál es el \n",
    "valor final de b \"\"\"\n",
    "\n",
    "b = 2 + 2\n",
    "\n",
    "b += 1\n",
    "b -= 1\n",
    "b *= 2\n",
    "b **= 2\n",
    "b /= 2\n",
    "\n",
    "print(b)"
   ]
  },
  {
   "cell_type": "markdown",
   "metadata": {},
   "source": [
    "### Operadores Lógicos and, or, not"
   ]
  },
  {
   "cell_type": "code",
   "execution_count": null,
   "metadata": {
    "scrolled": true
   },
   "outputs": [],
   "source": [
    "2 != 3 and 1 > 0"
   ]
  },
  {
   "cell_type": "code",
   "execution_count": null,
   "metadata": {},
   "outputs": [],
   "source": [
    "2 == 2 or 2 > 4"
   ]
  },
  {
   "cell_type": "code",
   "execution_count": null,
   "metadata": {
    "scrolled": true
   },
   "outputs": [],
   "source": [
    "# para que valores de n, estas expresiones son verdaderas\n",
    "n = 8\n",
    "n > 0 and n <= 5 "
   ]
  },
  {
   "cell_type": "code",
   "execution_count": null,
   "metadata": {},
   "outputs": [],
   "source": [
    "n > 0"
   ]
  },
  {
   "cell_type": "code",
   "execution_count": null,
   "metadata": {},
   "outputs": [],
   "source": [
    "not n > 0"
   ]
  },
  {
   "cell_type": "markdown",
   "metadata": {},
   "source": [
    "### Operadores de pertenencia"
   ]
  },
  {
   "cell_type": "code",
   "execution_count": null,
   "metadata": {
    "scrolled": true
   },
   "outputs": [],
   "source": [
    "lista = [1, 3, 2, 7, 9, 8, 6]"
   ]
  },
  {
   "cell_type": "code",
   "execution_count": null,
   "metadata": {},
   "outputs": [],
   "source": [
    "4 in lista"
   ]
  },
  {
   "cell_type": "code",
   "execution_count": null,
   "metadata": {},
   "outputs": [],
   "source": [
    "3 in lista"
   ]
  },
  {
   "cell_type": "code",
   "execution_count": null,
   "metadata": {},
   "outputs": [],
   "source": [
    "4 not in lista"
   ]
  },
  {
   "cell_type": "markdown",
   "metadata": {},
   "source": [
    "### Operadores de identidad"
   ]
  },
  {
   "cell_type": "code",
   "execution_count": null,
   "metadata": {
    "scrolled": true
   },
   "outputs": [],
   "source": [
    "x = 4\n",
    "y = 2\n",
    "lista = [1, 5]\n",
    "x is lista\n",
    "x is y\n",
    "x is 4"
   ]
  },
  {
   "cell_type": "code",
   "execution_count": null,
   "metadata": {},
   "outputs": [],
   "source": [
    "x is lista"
   ]
  },
  {
   "cell_type": "code",
   "execution_count": null,
   "metadata": {},
   "outputs": [],
   "source": [
    "x is y"
   ]
  },
  {
   "cell_type": "code",
   "execution_count": null,
   "metadata": {},
   "outputs": [],
   "source": [
    "x == y"
   ]
  },
  {
   "cell_type": "code",
   "execution_count": null,
   "metadata": {
    "scrolled": true
   },
   "outputs": [],
   "source": [
    "id(x)"
   ]
  },
  {
   "cell_type": "code",
   "execution_count": null,
   "metadata": {
    "scrolled": true
   },
   "outputs": [],
   "source": [
    "id(4)"
   ]
  },
  {
   "cell_type": "markdown",
   "metadata": {},
   "source": [
    "### Petición de información al usuario"
   ]
  },
  {
   "cell_type": "code",
   "execution_count": null,
   "metadata": {
    "scrolled": true
   },
   "outputs": [],
   "source": [
    "entrada = input('Introduzca su nombre:')\n",
    "print(entrada)"
   ]
  },
  {
   "cell_type": "code",
   "execution_count": null,
   "metadata": {},
   "outputs": [],
   "source": [
    "type(entrada)"
   ]
  },
  {
   "cell_type": "code",
   "execution_count": null,
   "metadata": {
    "scrolled": true
   },
   "outputs": [],
   "source": [
    "entrada = input('Introduzca su nombre:\\n')\n",
    "print(entrada)"
   ]
  },
  {
   "cell_type": "code",
   "execution_count": null,
   "metadata": {
    "scrolled": false
   },
   "outputs": [],
   "source": [
    "a = input('Introduzca un número: ')\n",
    "cuadrado = a ** 2\n",
    "\n",
    "print(\"El cuadrado de a es: \", cuadrado)"
   ]
  },
  {
   "cell_type": "code",
   "execution_count": null,
   "metadata": {
    "scrolled": true
   },
   "outputs": [],
   "source": [
    "a = input('Introduzca un número: ')\n",
    "cuadrado = int(a) ** 2\n",
    "\n",
    "print(\"El cuadrado de a es: \", cuadrado)"
   ]
  },
  {
   "cell_type": "code",
   "execution_count": null,
   "metadata": {},
   "outputs": [],
   "source": [
    "type(a)"
   ]
  },
  {
   "cell_type": "code",
   "execution_count": null,
   "metadata": {},
   "outputs": [],
   "source": [
    "a = int(input('Introduzca un número: '))\n",
    "cuadrado = a ** 2\n",
    "\n",
    "print(\"El cuadrado de a es: \", cuadrado)"
   ]
  },
  {
   "cell_type": "code",
   "execution_count": null,
   "metadata": {},
   "outputs": [],
   "source": [
    "type(a)"
   ]
  },
  {
   "cell_type": "markdown",
   "metadata": {},
   "source": [
    "### Mostrar información\n"
   ]
  },
  {
   "cell_type": "code",
   "execution_count": null,
   "metadata": {
    "scrolled": true
   },
   "outputs": [],
   "source": [
    "print(\"Linea 1\")\n",
    "print(\"-------\")\n",
    "print(\"Linea 2\")"
   ]
  },
  {
   "cell_type": "code",
   "execution_count": null,
   "metadata": {
    "scrolled": true
   },
   "outputs": [],
   "source": [
    "print(\"Linea 1\", end=\"\")\n",
    "print(\"-------\", end=\"\")\n",
    "print(\"Linea 2\")"
   ]
  },
  {
   "cell_type": "code",
   "execution_count": 4,
   "metadata": {
    "scrolled": true
   },
   "outputs": [
    {
     "name": "stdout",
     "output_type": "stream",
     "text": [
      "Hola y Adiós\n"
     ]
    }
   ],
   "source": [
    "# utilizando cadenas f\n",
    "\n",
    "texto = \" y \"\n",
    "print(\"Hola\", end=f\"{texto}\")\n",
    "print(\"Adiós\")"
   ]
  },
  {
   "cell_type": "code",
   "execution_count": null,
   "metadata": {},
   "outputs": [],
   "source": [
    "a = 10\n",
    "b = 5\n",
    "c = 9\n",
    "\n",
    "print(a,b,c)"
   ]
  },
  {
   "cell_type": "code",
   "execution_count": 5,
   "metadata": {
    "scrolled": true
   },
   "outputs": [
    {
     "name": "stdout",
     "output_type": "stream",
     "text": [
      "Hola---cómo estáis?\n"
     ]
    }
   ],
   "source": [
    "print(\"Hola\", \"cómo estáis?\", sep=\"---\") # \\n \\t"
   ]
  },
  {
   "cell_type": "code",
   "execution_count": null,
   "metadata": {
    "scrolled": true
   },
   "outputs": [],
   "source": [
    "semanas = 4\n",
    "print(\"En\", semanas , \"semanas hay\", 7 * semanas, \"días.\")"
   ]
  },
  {
   "cell_type": "code",
   "execution_count": null,
   "metadata": {
    "scrolled": true
   },
   "outputs": [],
   "source": [
    "semanas = 4\n",
    "print(\"En {} semanas hay {} días.\".format(semanas, 7*semanas))"
   ]
  },
  {
   "cell_type": "code",
   "execution_count": null,
   "metadata": {},
   "outputs": [],
   "source": [
    "semanas = 15\n",
    "print(f\"En {semanas} semanas hay {7*semanas} días.\")"
   ]
  },
  {
   "cell_type": "code",
   "execution_count": null,
   "metadata": {
    "scrolled": true
   },
   "outputs": [],
   "source": [
    "# La función print() muestra los argumentos separados por espacios.\n",
    "nombre = \"alumnos\"\n",
    "print(\"¡Hola,\", nombre, \"!\")"
   ]
  },
  {
   "cell_type": "code",
   "execution_count": null,
   "metadata": {
    "scrolled": true
   },
   "outputs": [],
   "source": [
    "# para solucionarlo podemos utilizar la cadenas f\n",
    "nombre = \"alumnos\"\n",
    "print(f\"¡Hola, {nombre}!\")"
   ]
  },
  {
   "cell_type": "markdown",
   "metadata": {},
   "source": [
    "### Comentarios"
   ]
  },
  {
   "cell_type": "code",
   "execution_count": null,
   "metadata": {
    "scrolled": true
   },
   "outputs": [],
   "source": [
    "# Esto es un comentario en un Programa Python"
   ]
  },
  {
   "cell_type": "code",
   "execution_count": null,
   "metadata": {
    "scrolled": true
   },
   "outputs": [],
   "source": [
    "# Inicializar las variables\n",
    "x = 5\n",
    "y = 7\n",
    "\n",
    "Z = x + y    # calculamos Z\n",
    "print(Z)"
   ]
  },
  {
   "cell_type": "code",
   "execution_count": null,
   "metadata": {
    "scrolled": true
   },
   "outputs": [],
   "source": [
    "# comentario inútil\n",
    "\n",
    "v = 5 # asigna 5 a v \n",
    "\n",
    "# comentario útil\n",
    "\n",
    "v = 5 # velocidad en metros/segundo."
   ]
  },
  {
   "cell_type": "code",
   "execution_count": null,
   "metadata": {
    "scrolled": true
   },
   "outputs": [],
   "source": [
    "\"\"\"\n",
    "Esto es un comentario\n",
    "de varias líneas\n",
    "de código\n",
    "\"\"\""
   ]
  },
  {
   "cell_type": "code",
   "execution_count": null,
   "metadata": {
    "scrolled": true
   },
   "outputs": [],
   "source": [
    "'''\n",
    "Esto es un comentario\n",
    "de varias líneas\n",
    "de código\n",
    "'''\n",
    "# docstring"
   ]
  },
  {
   "cell_type": "markdown",
   "metadata": {},
   "source": [
    "## Estructuras de Control\n",
    "\n",
    "### if "
   ]
  },
  {
   "cell_type": "code",
   "execution_count": null,
   "metadata": {
    "scrolled": true
   },
   "outputs": [],
   "source": [
    "x = 5\n",
    "if x > 0:\n",
    "    print(\"x es un número positivo\")\n",
    "    print(\"-----------------------\")\n",
    "print(\"Fin del programa\")"
   ]
  },
  {
   "cell_type": "code",
   "execution_count": null,
   "metadata": {
    "scrolled": true
   },
   "outputs": [],
   "source": [
    "x = int(input(\"introduzca un número\"))\n",
    "if x > 0:\n",
    "    print(\"x es un número positivo\")\n",
    "    print(\"-----------------------\")\n",
    "print(\"Fin del programa\")"
   ]
  },
  {
   "cell_type": "code",
   "execution_count": null,
   "metadata": {
    "scrolled": true
   },
   "outputs": [],
   "source": [
    "x = int(input(\"introduzca un número\"))\n",
    "if x > 0:\n",
    "    print(\"x es un número positivo\")\n",
    "    print(\"-----------------------\")\n",
    "else:\n",
    "    print(\"x es un número negativo o cero\")\n",
    "    print(\"-----------------------\") \n",
    "print(\"Fin del programa\")"
   ]
  },
  {
   "cell_type": "code",
   "execution_count": null,
   "metadata": {
    "scrolled": true
   },
   "outputs": [],
   "source": [
    "x = - 5 \n",
    "if x > 0:\n",
    "    print(\"x es un número positivo\")\n",
    "    print(\"-----------------------\")\n",
    "else:\n",
    "    print(\"x es un número negativo o cero\")\n",
    "    print(\"-----------------------\") \n",
    "print(\"Fin del programa\")"
   ]
  },
  {
   "cell_type": "code",
   "execution_count": null,
   "metadata": {
    "run_control": {
     "marked": false
    },
    "scrolled": true
   },
   "outputs": [],
   "source": [
    "# 0 , 5, -5\n",
    "x = int(input(\"introduzca un número: \"))\n",
    "if x > 0:\n",
    "    print(f\"{x} es un número positivo\")\n",
    "    print(\"-----------------------\")\n",
    "elif x < 0:\n",
    "    print(f\"{x} es un número negativo\")\n",
    "    print(\"-----------------------\") \n",
    "else:\n",
    "    print(f\"{x} es cero\")\n",
    "    print(\"-----------------------\") \n",
    "print(\"Fin del programa\")"
   ]
  },
  {
   "cell_type": "code",
   "execution_count": null,
   "metadata": {
    "scrolled": true
   },
   "outputs": [],
   "source": [
    "# Escriba un programa que calcule si un número es par o impar"
   ]
  },
  {
   "cell_type": "code",
   "execution_count": null,
   "metadata": {
    "scrolled": true
   },
   "outputs": [],
   "source": [
    "x = 0\n",
    "if x == 0:\n",
    "    print(\"x es igual a cero\")\n",
    "    print(\"-----------------------\")\n",
    "else:\n",
    "    if x < 0:\n",
    "        print(\"x es un número negativo\")\n",
    "        print(\"-----------------------\") \n",
    "    else:\n",
    "        print(\"x un número positivo\")\n",
    "        print(\"-----------------------\") \n",
    "print(\"Fin del programa\")\n"
   ]
  },
  {
   "cell_type": "code",
   "execution_count": null,
   "metadata": {
    "scrolled": true
   },
   "outputs": [],
   "source": [
    "a = 10\n",
    "if a > 5 and a < 15:\n",
    "    print(\"a es mayor que 5 y menor que 15\")\n"
   ]
  },
  {
   "cell_type": "code",
   "execution_count": null,
   "metadata": {
    "scrolled": true
   },
   "outputs": [],
   "source": [
    "if a > 5:\n",
    "    "
   ]
  },
  {
   "cell_type": "code",
   "execution_count": null,
   "metadata": {
    "scrolled": true
   },
   "outputs": [],
   "source": [
    "if a > 5:\n",
    "    pass "
   ]
  },
  {
   "cell_type": "code",
   "execution_count": null,
   "metadata": {
    "scrolled": true
   },
   "outputs": [],
   "source": [
    "# Verifica si un número es par o impar\n",
    "x = 6\n",
    "if not x % 2:\n",
    "    print(\"Es par\")\n",
    "else:\n",
    "    print(\"Es impar\")"
   ]
  },
  {
   "cell_type": "code",
   "execution_count": null,
   "metadata": {},
   "outputs": [],
   "source": [
    "# Verifica si un número es par o impar\n",
    "x = 6\n",
    "if x % 2:\n",
    "    print(\"Es impar\")\n",
    "else:\n",
    "    print(\"Es par\")"
   ]
  },
  {
   "cell_type": "code",
   "execution_count": null,
   "metadata": {},
   "outputs": [],
   "source": [
    "x = 7\n",
    "if x % 2 == 0:\n",
    "    print(\"Es par\")\n",
    "else:\n",
    "    print(\"Es impar\")"
   ]
  },
  {
   "cell_type": "code",
   "execution_count": 18,
   "metadata": {},
   "outputs": [
    {
     "data": {
      "text/plain": [
       "False"
      ]
     },
     "execution_count": 18,
     "metadata": {},
     "output_type": "execute_result"
    }
   ],
   "source": [
    "not True"
   ]
  },
  {
   "cell_type": "code",
   "execution_count": 19,
   "metadata": {},
   "outputs": [
    {
     "data": {
      "text/plain": [
       "True"
      ]
     },
     "execution_count": 19,
     "metadata": {},
     "output_type": "execute_result"
    }
   ],
   "source": [
    "not False"
   ]
  },
  {
   "cell_type": "markdown",
   "metadata": {},
   "source": [
    "### Operador ternario\n",
    "\n",
    "      [código si se cumple] if [condición] else [código si no se cumple]"
   ]
  },
  {
   "cell_type": "code",
   "execution_count": 20,
   "metadata": {
    "scrolled": true
   },
   "outputs": [
    {
     "name": "stdout",
     "output_type": "stream",
     "text": [
      "Es 5\n"
     ]
    }
   ],
   "source": [
    "x = 5 #7\n",
    "print(\"Es 5\" if x == 5 else \"No es 5\")\n"
   ]
  },
  {
   "cell_type": "code",
   "execution_count": 21,
   "metadata": {
    "scrolled": true
   },
   "outputs": [
    {
     "name": "stdout",
     "output_type": "stream",
     "text": [
      "2.0\n"
     ]
    }
   ],
   "source": [
    "a = 10\n",
    "b = 5 #0\n",
    "c = a/b if b!=0 else -1\n",
    "print(c)\n"
   ]
  },
  {
   "cell_type": "code",
   "execution_count": 22,
   "metadata": {
    "run_control": {
     "marked": false
    }
   },
   "outputs": [
    {
     "name": "stdout",
     "output_type": "stream",
     "text": [
      "5\n"
     ]
    }
   ],
   "source": [
    "a = 2\n",
    "b = 5 # 5\n",
    "temp = a if a > b else b\n",
    "print(temp)"
   ]
  },
  {
   "cell_type": "code",
   "execution_count": 23,
   "metadata": {
    "scrolled": true
   },
   "outputs": [
    {
     "name": "stdout",
     "output_type": "stream",
     "text": [
      "0\n"
     ]
    }
   ],
   "source": [
    "x = -5\n",
    "x -= 1 if x > 0 else x # -5-(-5) -> -5+5\n",
    "print(x)"
   ]
  },
  {
   "cell_type": "code",
   "execution_count": 24,
   "metadata": {
    "run_control": {
     "marked": false
    }
   },
   "outputs": [
    {
     "name": "stdout",
     "output_type": "stream",
     "text": [
      "-10\n"
     ]
    }
   ],
   "source": [
    "x = -5\n",
    "x += 1 if x > 0 else x  # -5+(-5) - -5-5\n",
    "print(x)"
   ]
  },
  {
   "cell_type": "code",
   "execution_count": 25,
   "metadata": {},
   "outputs": [
    {
     "name": "stdout",
     "output_type": "stream",
     "text": [
      "-5\n"
     ]
    }
   ],
   "source": [
    "x = -5\n",
    "x = x + 1 if x > 0 else x  # -5+(-5) - -5-5\n",
    "print(x)"
   ]
  },
  {
   "cell_type": "markdown",
   "metadata": {},
   "source": [
    "# Sentencias iterativas \n",
    "\n",
    "### While"
   ]
  },
  {
   "cell_type": "code",
   "execution_count": 26,
   "metadata": {
    "scrolled": true
   },
   "outputs": [
    {
     "name": "stdout",
     "output_type": "stream",
     "text": [
      "5\n",
      "4\n",
      "3\n",
      "2\n",
      "1\n",
      "Finalizó el bucle\n"
     ]
    }
   ],
   "source": [
    "n = 5\n",
    "while n > 0:\n",
    "    print(n)\n",
    "    n = n - 1\n",
    "print('Finalizó el bucle')"
   ]
  },
  {
   "cell_type": "code",
   "execution_count": null,
   "metadata": {
    "scrolled": true
   },
   "outputs": [],
   "source": [
    "# El siguiente es un bucle infinito.  ¿Porque el bucle no termina?\n",
    "n = 10\n",
    "accum = 1\n",
    "while ( n > 0 ):\n",
    "    accum = accum + n\n",
    "    n = n + 1\n",
    "print(accumv)"
   ]
  },
  {
   "cell_type": "code",
   "execution_count": null,
   "metadata": {
    "run_control": {
     "marked": false
    },
    "scrolled": true
   },
   "outputs": [],
   "source": [
    "n = 10\n",
    "accum = 1\n",
    "while ( n > 0 ):\n",
    "    accum = accum + n\n",
    "    n = n - 1   # n = n - 1\n",
    "print(accum)"
   ]
  },
  {
   "cell_type": "code",
   "execution_count": null,
   "metadata": {
    "scrolled": true
   },
   "outputs": [],
   "source": [
    "while True:\n",
    "    print(\"Bucle infinito\")\n"
   ]
  },
  {
   "cell_type": "code",
   "execution_count": null,
   "metadata": {
    "scrolled": true
   },
   "outputs": [],
   "source": [
    "Escriba un programa que genere un menú de cuatro opciones:\n",
    "    \n",
    "    1. Calcular el area de un cuadrado\n",
    "    2. Calcular el área de un circulo\n",
    "    3. Calcular el area de un triangulo\n",
    "    4. Finalizar\n",
    "\n",
    "debe pedir al usuario que seleccione una opción del menú y mostrar que opción ha seleccionado"
   ]
  },
  {
   "cell_type": "code",
   "execution_count": null,
   "metadata": {
    "run_control": {
     "marked": false
    },
    "scrolled": true
   },
   "outputs": [],
   "source": [
    "opcion = 0\n",
    "while opcion != 4:\n",
    "    print('1. Calcular el area de un cuadrado')\n",
    "    print('2. Calcular el área de un circulo')\n",
    "    print('3. Calcular el area de un triangulo')\n",
    "    print('4. Finalizar')\n",
    "\n",
    "    # Solicitar opción.\n",
    "    opcion = int(input('Introduzca una opción (1-4): '))\n",
    "    # Ejecutar opción.\n",
    "    if opcion == 1:\n",
    "        print('Seleccionó el cálculo del  area de un cuadrado')\n",
    "    elif opcion == 2:\n",
    "        print('Seleccionó el cálculo del  area de un circulo')\n",
    "    elif opcion == 3:\n",
    "        print('Seleccionó el cálculo del  area de un triangulo')    \n",
    "    elif opcion != 4:\n",
    "        print('Debes escribir una opcion válida.')       \n",
    "print('Fin del programa.')"
   ]
  },
  {
   "cell_type": "code",
   "execution_count": null,
   "metadata": {},
   "outputs": [],
   "source": [
    "while True:\n",
    "    print('1. Calcular el area de un cuadrado')\n",
    "    print('2. Calcular el área de un circulo')\n",
    "    print('3. Calcular el area de un triangulo')\n",
    "    print('4. Finalizar')\n",
    "\n",
    "    # Solicitar opción.\n",
    "    opcion = int(input('Introduzca una opción (1-4): '))\n",
    "    # Ejecutar opción.\n",
    "    if opcion == 1:\n",
    "        print('Seleccionó el cálculo del  area de un cuadrado')\n",
    "    elif opcion == 2:\n",
    "        print('Seleccionó el cálculo del  area de un circulo')\n",
    "    elif opcion == 3:\n",
    "        print('Seleccionó el cálculo del  area de un triangulo')  \n",
    "    elif opcion != 4:\n",
    "        print('Debes escribir una opcion válida.')\n",
    "    else:    \n",
    "        print('Fin del programa.')\n",
    "        break"
   ]
  },
  {
   "cell_type": "code",
   "execution_count": null,
   "metadata": {
    "scrolled": true
   },
   "outputs": [],
   "source": [
    "while True:\n",
    "    linea = input('Introduzca una palabra (fin para salir) ')\n",
    "    if linea == 'fin':\n",
    "        break\n",
    "    print(linea)\n",
    "print('¡Terminado!')\n"
   ]
  },
  {
   "cell_type": "code",
   "execution_count": null,
   "metadata": {},
   "outputs": [],
   "source": [
    "opcion = 0\n",
    "while opcion !=4:\n",
    "    print(\"1.-Area cuadrado\")\n",
    "    print(\"2.-Area triangulo\")\n",
    "    print(\"3.-Area circulo\")\n",
    "    print(\"4.-Finalizar\")\n",
    "    \n",
    "    opcion=int(input(\"Introduzca una opcion del 1 al 4:\"))\n",
    "    \n",
    "    if opcion == 1:\n",
    "        print(\"Calculo del area de un cuadrado\")\n",
    "        \n",
    "    elif opcion == 2:\n",
    "        print(\"Calculo del area de un triangulo\")\n",
    "        \n",
    "    elif opcion == 3:\n",
    "        print(\"Calculo del area de un circulo\")\n",
    "    elif opcion == 4:\n",
    "        print(\"fin del programa.\")\n",
    "        break\n",
    "    else:\n",
    "        print(\"la opcion no es valida\")\n",
    "        \n"
   ]
  },
  {
   "cell_type": "code",
   "execution_count": null,
   "metadata": {
    "scrolled": true
   },
   "outputs": [],
   "source": [
    "x = 5\n",
    "while True:\n",
    "    x -= 1\n",
    "    print(x) \n",
    "    if x == 0:\n",
    "        break\n",
    "print(\"Fin del bucle\")\n"
   ]
  },
  {
   "cell_type": "code",
   "execution_count": null,
   "metadata": {
    "scrolled": true
   },
   "outputs": [],
   "source": [
    "x = 0\n",
    "while x < 10:\n",
    "    print(\"Incrementando x\")\n",
    "    if x % 2 == 0:\n",
    "        x += 3\n",
    "        continue\n",
    "    if x % 3 == 0:\n",
    "        x += 5\n",
    "    x += 1\n",
    "print(\"Finalizó el bucle! El valor de X es: \" + str(x)) \n"
   ]
  },
  {
   "cell_type": "code",
   "execution_count": null,
   "metadata": {
    "scrolled": true
   },
   "outputs": [],
   "source": [
    "x = 5\n",
    "while x > 0:\n",
    "    x -= 1\n",
    "    if x == 3:\n",
    "        continue\n",
    "    print(x) \n"
   ]
  },
  {
   "cell_type": "code",
   "execution_count": null,
   "metadata": {
    "run_control": {
     "marked": false
    },
    "scrolled": true
   },
   "outputs": [],
   "source": [
    "x = 5\n",
    "while x > 0:\n",
    "    x -= 1\n",
    "    print(x) #4,3,2,1,0\n",
    "else:\n",
    "    print(\"El bucle ha finalizado\")\n",
    "print(\"El programa continua\")"
   ]
  },
  {
   "cell_type": "code",
   "execution_count": null,
   "metadata": {
    "scrolled": true
   },
   "outputs": [],
   "source": [
    "# Permutación a generar\n",
    "i = 0\n",
    "j = 0\n",
    "while i < 3:\n",
    "    while j < 3:\n",
    "        print(\"i:\", i, \" j:\", j)\n",
    "        j += 1\n",
    "    i += 1\n",
    "    j = 0"
   ]
  },
  {
   "cell_type": "markdown",
   "metadata": {},
   "source": [
    "#### Ahora toma unos minutos para analizar los resultados del siguiente programa con tres bucles anidados"
   ]
  },
  {
   "cell_type": "code",
   "execution_count": null,
   "metadata": {
    "run_control": {
     "marked": false
    },
    "scrolled": true
   },
   "outputs": [],
   "source": [
    "i, j, k = 0, 0, 0\n",
    "while i < 3:\n",
    "    while j < 3:\n",
    "        while k < 3:\n",
    "            print(i,j,k)\n",
    "            k += 1\n",
    "        j += 1\n",
    "        k = 0\n",
    "    i += 1\n",
    "    j = 0\n"
   ]
  },
  {
   "cell_type": "code",
   "execution_count": null,
   "metadata": {},
   "outputs": [],
   "source": [
    "i, j, k = 0, 0, 0\n",
    "while i < 1:\n",
    "    while j < 2:\n",
    "        while k < 3:\n",
    "            print(i,j,k)\n",
    "            k += 1\n",
    "        j += 1\n",
    "        k = 0\n",
    "    i += 1\n",
    "    j = 0"
   ]
  },
  {
   "cell_type": "markdown",
   "metadata": {},
   "source": [
    "### For"
   ]
  },
  {
   "cell_type": "code",
   "execution_count": null,
   "metadata": {
    "scrolled": true
   },
   "outputs": [],
   "source": [
    "for i in range(0,5):\n",
    "    print(i) "
   ]
  },
  {
   "cell_type": "code",
   "execution_count": null,
   "metadata": {},
   "outputs": [],
   "source": [
    "for numero in range(0,16,5):  # range(start, end, step)\n",
    "    print(numero) "
   ]
  },
  {
   "cell_type": "code",
   "execution_count": null,
   "metadata": {},
   "outputs": [],
   "source": [
    "a = range(0, 21, 2)"
   ]
  },
  {
   "cell_type": "code",
   "execution_count": null,
   "metadata": {
    "scrolled": true
   },
   "outputs": [],
   "source": [
    "texto = \"Saber gobernar es rectificar\"\n",
    "for letra in texto: # text es una cadena y es iterable \n",
    "    print(letra)"
   ]
  },
  {
   "cell_type": "code",
   "execution_count": null,
   "metadata": {},
   "outputs": [],
   "source": [
    "texto.split()"
   ]
  },
  {
   "cell_type": "code",
   "execution_count": null,
   "metadata": {},
   "outputs": [],
   "source": [
    "texto = \"Saber gobernar es rectificar\"\n",
    "for palabra in texto.split(): # text es una cadena y es iterable \n",
    "    print(palabra)"
   ]
  },
  {
   "cell_type": "code",
   "execution_count": null,
   "metadata": {
    "scrolled": true
   },
   "outputs": [],
   "source": [
    "cadena = \"Saber gobernar es rectificar\"  # esta cadena es iterable cadena[1]\n",
    "iterador = iter(cadena)\n",
    "print(iterador)       #<str_iterator object at 0x000002394EF11FC8>\n",
    "print(type(iterador)) #<class 'str_iterator'>"
   ]
  },
  {
   "cell_type": "code",
   "execution_count": null,
   "metadata": {
    "scrolled": true
   },
   "outputs": [],
   "source": [
    "cadena = [\"Saber gobernar es rectificar\", \"hola\", \"Fruta\"]\n",
    "iterador = iter(cadena)\n",
    "print(next(iterador))"
   ]
  },
  {
   "cell_type": "code",
   "execution_count": null,
   "metadata": {
    "scrolled": true
   },
   "outputs": [],
   "source": [
    "print(next(iterador))"
   ]
  },
  {
   "cell_type": "code",
   "execution_count": null,
   "metadata": {},
   "outputs": [],
   "source": [
    "print(next(iterador))"
   ]
  },
  {
   "cell_type": "code",
   "execution_count": null,
   "metadata": {
    "scrolled": true
   },
   "outputs": [],
   "source": [
    "text = \"Saber gobernar es rectificar\"\n",
    "for letra in text:\n",
    "    print(letra)"
   ]
  },
  {
   "cell_type": "code",
   "execution_count": null,
   "metadata": {},
   "outputs": [],
   "source": [
    "text = \"Saber gobernar es rectificar\"\n",
    "for i in text[0:28:2]:  # toma un elemento si y otro no\n",
    "    print(i) "
   ]
  },
  {
   "cell_type": "code",
   "execution_count": null,
   "metadata": {
    "scrolled": true
   },
   "outputs": [],
   "source": [
    "text = \"Saber gobernar es rectificar\"\n",
    "for i in text[::2]:  # toma un elemento si y otro no\n",
    "    print(i) "
   ]
  },
  {
   "cell_type": "code",
   "execution_count": null,
   "metadata": {
    "scrolled": true
   },
   "outputs": [],
   "source": [
    "for i in range(6): print(i)    "
   ]
  },
  {
   "cell_type": "code",
   "execution_count": null,
   "metadata": {
    "scrolled": true
   },
   "outputs": [],
   "source": [
    "for i in range(1,6):\n",
    "    print(i)    "
   ]
  },
  {
   "cell_type": "code",
   "execution_count": null,
   "metadata": {
    "scrolled": true
   },
   "outputs": [],
   "source": [
    "for i in range(0, 10, 2):\n",
    "    print(i) "
   ]
  },
  {
   "cell_type": "code",
   "execution_count": null,
   "metadata": {
    "scrolled": true
   },
   "outputs": [],
   "source": [
    "# secuencias inversas\n",
    "for i in range(5, 0, -1):\n",
    "    print(i) #5,4,3,2,1"
   ]
  },
  {
   "cell_type": "code",
   "execution_count": null,
   "metadata": {},
   "outputs": [],
   "source": [
    "for i in range(8, -1, -1):\n",
    "    print(i)"
   ]
  },
  {
   "cell_type": "code",
   "execution_count": null,
   "metadata": {},
   "outputs": [],
   "source": [
    "for i in range(8, 0, -1):\n",
    "    print(i)"
   ]
  },
  {
   "cell_type": "markdown",
   "metadata": {},
   "source": [
    "### Uso del break y continue"
   ]
  },
  {
   "cell_type": "code",
   "execution_count": 6,
   "metadata": {
    "scrolled": true
   },
   "outputs": [
    {
     "name": "stdout",
     "output_type": "stream",
     "text": [
      "S\n",
      "a\n",
      "b\n",
      "e\n",
      "r\n",
      " \n",
      "g\n",
      "o\n",
      "b\n",
      "e\n",
      "r\n",
      "n\n",
      "a\n",
      "r\n",
      " \n",
      "e\n",
      "Se encontró la s\n"
     ]
    }
   ],
   "source": [
    "cadena = 'Saber gobernar es rectificar'\n",
    "for letra in cadena:\n",
    "    if letra == 's':\n",
    "        print(\"Se encontró la s\")\n",
    "        break\n",
    "    print(letra)\n"
   ]
  },
  {
   "cell_type": "code",
   "execution_count": null,
   "metadata": {
    "scrolled": true
   },
   "outputs": [],
   "source": [
    "cadena = 'Saber gobernar es rectificar'\n",
    "for letra in cadena:\n",
    "    if letra == 'r':\n",
    "        continue\n",
    "    print(letra)\n"
   ]
  },
  {
   "cell_type": "markdown",
   "metadata": {},
   "source": [
    "### For Anidados"
   ]
  },
  {
   "cell_type": "code",
   "execution_count": null,
   "metadata": {
    "scrolled": true
   },
   "outputs": [],
   "source": [
    "lista = [[56, 34, 1], [12, 4, 5], [9, 4, 3]]\n",
    "for i in lista:\n",
    "    print(i)\n"
   ]
  },
  {
   "cell_type": "code",
   "execution_count": null,
   "metadata": {
    "scrolled": true
   },
   "outputs": [],
   "source": [
    "lista = [[56, 34, 1], [12, 4], [9, 4, 3,4]]\n",
    "for i in lista:\n",
    "    for j in i:\n",
    "        print(j)"
   ]
  },
  {
   "cell_type": "code",
   "execution_count": null,
   "metadata": {},
   "outputs": [],
   "source": [
    "for i in range(11): \n",
    "    for j in range(i): \n",
    "        print('*', end='') \n",
    "    print('') "
   ]
  },
  {
   "cell_type": "markdown",
   "metadata": {},
   "source": [
    "###  Ejercicio\n",
    "Escribir un programa que muestre por pantalla la tabla de multiplicar del 1 al 10."
   ]
  },
  {
   "cell_type": "code",
   "execution_count": null,
   "metadata": {},
   "outputs": [],
   "source": [
    "for i in range(1, 11): \n",
    "    for j in range(1,11): \n",
    "        print(f\"{i} x {j} = {i * j }\")\n",
    "    print(\"\")"
   ]
  },
  {
   "cell_type": "code",
   "execution_count": null,
   "metadata": {},
   "outputs": [],
   "source": []
  }
 ],
 "metadata": {
  "celltoolbar": "Raw Cell Format",
  "kernelspec": {
   "display_name": "Python 3 (ipykernel)",
   "language": "python",
   "name": "python3"
  },
  "language_info": {
   "codemirror_mode": {
    "name": "ipython",
    "version": 3
   },
   "file_extension": ".py",
   "mimetype": "text/x-python",
   "name": "python",
   "nbconvert_exporter": "python",
   "pygments_lexer": "ipython3",
   "version": "3.10.8"
  },
  "toc": {
   "base_numbering": 1,
   "nav_menu": {},
   "number_sections": true,
   "sideBar": true,
   "skip_h1_title": false,
   "title_cell": "Table of Contents",
   "title_sidebar": "Contents",
   "toc_cell": false,
   "toc_position": {
    "height": "calc(100% - 180px)",
    "left": "10px",
    "top": "150px",
    "width": "305.99px"
   },
   "toc_section_display": true,
   "toc_window_display": true
  },
  "varInspector": {
   "cols": {
    "lenName": 16,
    "lenType": 16,
    "lenVar": 40
   },
   "kernels_config": {
    "python": {
     "delete_cmd_postfix": "",
     "delete_cmd_prefix": "del ",
     "library": "var_list.py",
     "varRefreshCmd": "print(var_dic_list())"
    },
    "r": {
     "delete_cmd_postfix": ") ",
     "delete_cmd_prefix": "rm(",
     "library": "var_list.r",
     "varRefreshCmd": "cat(var_dic_list()) "
    }
   },
   "position": {
    "height": "456.661px",
    "left": "489.33px",
    "right": "20px",
    "top": "92px",
    "width": "438px"
   },
   "types_to_exclude": [
    "module",
    "function",
    "builtin_function_or_method",
    "instance",
    "_Feature"
   ],
   "window_display": false
  }
 },
 "nbformat": 4,
 "nbformat_minor": 4
}

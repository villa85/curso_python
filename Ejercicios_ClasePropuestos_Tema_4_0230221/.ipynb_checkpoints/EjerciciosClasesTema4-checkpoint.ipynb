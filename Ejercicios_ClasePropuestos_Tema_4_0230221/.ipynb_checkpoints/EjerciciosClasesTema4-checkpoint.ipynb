{
 "cells": [
  {
   "cell_type": "markdown",
   "metadata": {},
   "source": [
    "# Unidad 4: Clases y Herencias"
   ]
  },
  {
   "cell_type": "markdown",
   "metadata": {},
   "source": [
    "## Uso de Clases"
   ]
  },
  {
   "cell_type": "code",
   "execution_count": 1,
   "metadata": {},
   "outputs": [],
   "source": [
    "a = \"hola\"  # objeto str"
   ]
  },
  {
   "cell_type": "code",
   "execution_count": 2,
   "metadata": {},
   "outputs": [
    {
     "data": {
      "text/plain": [
       "'HOLA'"
      ]
     },
     "execution_count": 2,
     "metadata": {},
     "output_type": "execute_result"
    }
   ],
   "source": [
    "a.upper()"
   ]
  },
  {
   "cell_type": "code",
   "execution_count": 15,
   "metadata": {
    "run_control": {
     "marked": false
    }
   },
   "outputs": [],
   "source": [
    "class Point:\n",
    "    \"\"\" Clase de punto para representar y manipular las coordenadas x, y. \n",
    "    \"\"\"\n",
    "\n",
    "    def __init__(self):  # Este es el constructor \n",
    "        \"\"\" Crea un nuevo punto en el origen 0,0 \"\"\"\n",
    "        self.x = 0\n",
    "        self.y = 0"
   ]
  },
  {
   "cell_type": "code",
   "execution_count": 16,
   "metadata": {},
   "outputs": [],
   "source": [
    "punto = Point()"
   ]
  },
  {
   "cell_type": "code",
   "execution_count": 17,
   "metadata": {},
   "outputs": [
    {
     "data": {
      "text/plain": [
       "0"
      ]
     },
     "execution_count": 17,
     "metadata": {},
     "output_type": "execute_result"
    }
   ],
   "source": [
    "punto.x"
   ]
  },
  {
   "cell_type": "code",
   "execution_count": 18,
   "metadata": {},
   "outputs": [
    {
     "data": {
      "text/plain": [
       "0"
      ]
     },
     "execution_count": 18,
     "metadata": {},
     "output_type": "execute_result"
    }
   ],
   "source": [
    "punto.y"
   ]
  },
  {
   "cell_type": "code",
   "execution_count": 19,
   "metadata": {},
   "outputs": [],
   "source": [
    "punto2 = Point()"
   ]
  },
  {
   "cell_type": "code",
   "execution_count": 20,
   "metadata": {},
   "outputs": [
    {
     "data": {
      "text/plain": [
       "0"
      ]
     },
     "execution_count": 20,
     "metadata": {},
     "output_type": "execute_result"
    }
   ],
   "source": [
    "punto2.x"
   ]
  },
  {
   "cell_type": "code",
   "execution_count": 21,
   "metadata": {},
   "outputs": [
    {
     "data": {
      "text/plain": [
       "0"
      ]
     },
     "execution_count": 21,
     "metadata": {},
     "output_type": "execute_result"
    }
   ],
   "source": [
    "punto2.y"
   ]
  },
  {
   "cell_type": "code",
   "execution_count": 22,
   "metadata": {},
   "outputs": [],
   "source": [
    "p = Point()         # Instanciamos un nuevo objeto tipo Point\n",
    "q = Point()         # instaciamos un segundo objeto"
   ]
  },
  {
   "cell_type": "code",
   "execution_count": 23,
   "metadata": {},
   "outputs": [
    {
     "data": {
      "text/plain": [
       "<__main__.Point at 0x1fd7940adf0>"
      ]
     },
     "execution_count": 23,
     "metadata": {},
     "output_type": "execute_result"
    }
   ],
   "source": [
    "p"
   ]
  },
  {
   "cell_type": "code",
   "execution_count": 5,
   "metadata": {},
   "outputs": [
    {
     "data": {
      "text/plain": [
       "<__main__.Point at 0x22d91c2c1f0>"
      ]
     },
     "execution_count": 5,
     "metadata": {},
     "output_type": "execute_result"
    }
   ],
   "source": [
    "q"
   ]
  },
  {
   "cell_type": "code",
   "execution_count": 24,
   "metadata": {},
   "outputs": [
    {
     "name": "stdout",
     "output_type": "stream",
     "text": [
      "p es de tipo:  <__main__.Point object at 0x000001FD7940ADF0>\n",
      "q es de tipo:  <__main__.Point object at 0x000001FD7940AE20>\n",
      "False\n",
      "False\n",
      "2188172635632\n",
      "2188172635680\n"
     ]
    }
   ],
   "source": [
    "print(\"p es de tipo: \", p)\n",
    "print(\"q es de tipo: \", q)\n",
    "\n",
    "print(p is q)  # Estan en instancias diferentes\n",
    "print(q is p) \n",
    "\n",
    "print(id(p)) \n",
    "print(id(q)) "
   ]
  },
  {
   "cell_type": "code",
   "execution_count": 25,
   "metadata": {},
   "outputs": [
    {
     "data": {
      "text/plain": [
       "0"
      ]
     },
     "execution_count": 25,
     "metadata": {},
     "output_type": "execute_result"
    }
   ],
   "source": [
    "p.x"
   ]
  },
  {
   "cell_type": "code",
   "execution_count": 26,
   "metadata": {},
   "outputs": [
    {
     "data": {
      "text/plain": [
       "0"
      ]
     },
     "execution_count": 26,
     "metadata": {},
     "output_type": "execute_result"
    }
   ],
   "source": [
    "p.y"
   ]
  },
  {
   "cell_type": "code",
   "execution_count": 27,
   "metadata": {},
   "outputs": [
    {
     "data": {
      "text/plain": [
       "0"
      ]
     },
     "execution_count": 27,
     "metadata": {},
     "output_type": "execute_result"
    }
   ],
   "source": [
    "q.x"
   ]
  },
  {
   "cell_type": "code",
   "execution_count": 28,
   "metadata": {},
   "outputs": [
    {
     "data": {
      "text/plain": [
       "0"
      ]
     },
     "execution_count": 28,
     "metadata": {},
     "output_type": "execute_result"
    }
   ],
   "source": [
    "q.y"
   ]
  },
  {
   "cell_type": "markdown",
   "metadata": {},
   "source": [
    "### Crear una clase vacía\n",
    "\n",
    "Una clase vacía, es una clase que inicialmente no contendrá nada, excepto la declaración de pass. Por ejemplo:"
   ]
  },
  {
   "cell_type": "code",
   "execution_count": 29,
   "metadata": {},
   "outputs": [],
   "source": [
    "class Alumno:\n",
    "    pass\n"
   ]
  },
  {
   "cell_type": "markdown",
   "metadata": {},
   "source": [
    "NOTA: Según la documentación de Python, la sentencia pass no hace nada. Puede ser utilizada cuando se requiere una sentencia sintácticamente, pero programa no requiere acción alguna."
   ]
  },
  {
   "cell_type": "code",
   "execution_count": 30,
   "metadata": {},
   "outputs": [
    {
     "name": "stdout",
     "output_type": "stream",
     "text": [
      "<__main__.Alumno object at 0x000001FD7861D400>\n"
     ]
    }
   ],
   "source": [
    "jose = Alumno()\n",
    "print(jose)"
   ]
  },
  {
   "cell_type": "code",
   "execution_count": 32,
   "metadata": {},
   "outputs": [],
   "source": [
    "jose.nombres = 'José Manuel'\n",
    "jose.apellidos = 'López Fernández'\n",
    "jose.curso = \"Programación Python\""
   ]
  },
  {
   "cell_type": "code",
   "execution_count": 33,
   "metadata": {},
   "outputs": [
    {
     "data": {
      "text/plain": [
       "'Programación Python'"
      ]
     },
     "execution_count": 33,
     "metadata": {},
     "output_type": "execute_result"
    }
   ],
   "source": [
    "jose.curso"
   ]
  },
  {
   "cell_type": "code",
   "execution_count": 34,
   "metadata": {},
   "outputs": [
    {
     "data": {
      "text/plain": [
       "'José Manuel'"
      ]
     },
     "execution_count": 34,
     "metadata": {},
     "output_type": "execute_result"
    }
   ],
   "source": [
    "jose.nombres"
   ]
  },
  {
   "cell_type": "code",
   "execution_count": 35,
   "metadata": {},
   "outputs": [],
   "source": [
    "jose.nacio = \"España\""
   ]
  },
  {
   "cell_type": "code",
   "execution_count": 36,
   "metadata": {},
   "outputs": [
    {
     "data": {
      "text/plain": [
       "'España'"
      ]
     },
     "execution_count": 36,
     "metadata": {},
     "output_type": "execute_result"
    }
   ],
   "source": [
    "jose.nacio"
   ]
  },
  {
   "cell_type": "code",
   "execution_count": 37,
   "metadata": {},
   "outputs": [
    {
     "data": {
      "text/plain": [
       "'López Fernández'"
      ]
     },
     "execution_count": 37,
     "metadata": {},
     "output_type": "execute_result"
    }
   ],
   "source": [
    "jose.apellidos"
   ]
  },
  {
   "cell_type": "code",
   "execution_count": 38,
   "metadata": {},
   "outputs": [
    {
     "data": {
      "text/plain": [
       "<__main__.Alumno at 0x1fd78c44c40>"
      ]
     },
     "execution_count": 38,
     "metadata": {},
     "output_type": "execute_result"
    }
   ],
   "source": [
    "maria = Alumno()\n",
    "maria"
   ]
  },
  {
   "cell_type": "code",
   "execution_count": 39,
   "metadata": {},
   "outputs": [],
   "source": [
    "maria.nacio = \"Venezuela\"\n",
    "maria.nombre = \"Maria del Carmen\""
   ]
  },
  {
   "cell_type": "code",
   "execution_count": null,
   "metadata": {},
   "outputs": [],
   "source": [
    "maria."
   ]
  },
  {
   "cell_type": "code",
   "execution_count": null,
   "metadata": {},
   "outputs": [],
   "source": [
    "jose."
   ]
  },
  {
   "attachments": {
    "image.png": {
     "image/png": "[encoded data removed]"
    }
   },
   "cell_type": "markdown",
   "metadata": {},
   "source": [
    "### Agregar parametros al constructor\n",
    "\n",
    "    1. Cuando se crea el punto, los valores de initX e initY se asignan al estado del objeto,\n",
    "    en las variables de instancia x e y.\n",
    "    2. El método init para una clase, se utiliza para tomar algunos parámetros y almacenarlos\n",
    "    como variables de instancia.     \n",
    "    3. Los parámetros desaparecerán cuando el método termine de ejecutarse. \n",
    "    4. Las variables de instancia seguirán estando accesibles en cualquier lugar. Esta es una\n",
    "    forma de guardar los valores iniciales que se proporcionan cuando se invoca el constructor \n",
    "    de la clase. \n",
    "    5. El método init, podría utilizarse para analizar el contenido de las variables y hacer\n",
    "    algunos cálculos sobre ellas,almacenando los resultados en variables de instancia. Incluso \n",
    "    podría establecer una conexión a Internet, descargar contenido y almacenarlo en variables \n",
    "    de instancia\n",
    "    \n",
    "    \n",
    "![image.png](attachment:image.png)"
   ]
  },
  {
   "cell_type": "code",
   "execution_count": 45,
   "metadata": {},
   "outputs": [],
   "source": [
    "class Point:\n",
    "    \"\"\" Clase de punto para representar y manipular las coordenadas x, y. \"\"\"\n",
    "\n",
    "    def __init__(self, initX, initY ):  # Este es el constructor \n",
    "        \"\"\" Crea un nuevo punto en el origen initX,initY \"\"\"\n",
    "        self.x = initX\n",
    "        self.y = initY"
   ]
  },
  {
   "cell_type": "code",
   "execution_count": 46,
   "metadata": {},
   "outputs": [
    {
     "name": "stdout",
     "output_type": "stream",
     "text": [
      "Introduzca x: 45\n",
      "Introduzca y: 68\n"
     ]
    }
   ],
   "source": [
    "x = int(input(\"Introduzca x: \"))\n",
    "y = int(input(\"Introduzca y: \"))\n",
    "p = Point(x,y)         # Instanciamos un nuevo objeto tipo Point"
   ]
  },
  {
   "cell_type": "code",
   "execution_count": 48,
   "metadata": {},
   "outputs": [
    {
     "data": {
      "text/plain": [
       "<__main__.Point at 0x1fd7889bd60>"
      ]
     },
     "execution_count": 48,
     "metadata": {},
     "output_type": "execute_result"
    }
   ],
   "source": [
    "p"
   ]
  },
  {
   "cell_type": "code",
   "execution_count": 49,
   "metadata": {},
   "outputs": [
    {
     "data": {
      "text/plain": [
       "68"
      ]
     },
     "execution_count": 49,
     "metadata": {},
     "output_type": "execute_result"
    }
   ],
   "source": [
    "p.y"
   ]
  },
  {
   "cell_type": "code",
   "execution_count": 50,
   "metadata": {},
   "outputs": [
    {
     "data": {
      "text/plain": [
       "45"
      ]
     },
     "execution_count": 50,
     "metadata": {},
     "output_type": "execute_result"
    }
   ],
   "source": [
    "p.x"
   ]
  },
  {
   "cell_type": "code",
   "execution_count": 52,
   "metadata": {},
   "outputs": [],
   "source": [
    "z = Point(2,3)"
   ]
  },
  {
   "cell_type": "code",
   "execution_count": 27,
   "metadata": {},
   "outputs": [
    {
     "data": {
      "text/plain": [
       "<__main__.Point at 0x22d916ac490>"
      ]
     },
     "execution_count": 27,
     "metadata": {},
     "output_type": "execute_result"
    }
   ],
   "source": [
    "z"
   ]
  },
  {
   "cell_type": "code",
   "execution_count": 53,
   "metadata": {},
   "outputs": [
    {
     "data": {
      "text/plain": [
       "2"
      ]
     },
     "execution_count": 53,
     "metadata": {},
     "output_type": "execute_result"
    }
   ],
   "source": [
    "z.x"
   ]
  },
  {
   "cell_type": "code",
   "execution_count": 54,
   "metadata": {},
   "outputs": [
    {
     "data": {
      "text/plain": [
       "3"
      ]
     },
     "execution_count": 54,
     "metadata": {},
     "output_type": "execute_result"
    }
   ],
   "source": [
    "z.y"
   ]
  },
  {
   "cell_type": "code",
   "execution_count": 37,
   "metadata": {},
   "outputs": [
    {
     "data": {
      "text/plain": [
       "<__main__.Point at 0x1a58099b6d0>"
      ]
     },
     "execution_count": 37,
     "metadata": {},
     "output_type": "execute_result"
    }
   ],
   "source": [
    "z."
   ]
  },
  {
   "cell_type": "markdown",
   "metadata": {},
   "source": [
    "¿Cómo crearias la clase Alumno utilizando el método __init__?"
   ]
  },
  {
   "cell_type": "code",
   "execution_count": 55,
   "metadata": {},
   "outputs": [],
   "source": [
    "class Alumnos:\n",
    "    \"\"\" Clase para crear alumnos de una academia. \"\"\"\n",
    "\n",
    "    def __init__(self, nombres, apellidos, curso, altura):  # Este es el constructor \n",
    "        \"\"\" Crea un nuevo alumno\"\"\"\n",
    "        self.nombres = nombres\n",
    "        self.apellidos = apellidos\n",
    "        self.curso  = curso \n",
    "        self.altura = altura\n",
    "        self.instituto = \"Cloud\"  "
   ]
  },
  {
   "cell_type": "code",
   "execution_count": 56,
   "metadata": {},
   "outputs": [
    {
     "name": "stdout",
     "output_type": "stream",
     "text": [
      "<__main__.Alumnos object at 0x000001FD78C3D490>\n"
     ]
    },
    {
     "data": {
      "text/plain": [
       "'Curso Machine Learning'"
      ]
     },
     "execution_count": 56,
     "metadata": {},
     "output_type": "execute_result"
    }
   ],
   "source": [
    "maria = Alumnos(\"María del Carmen\", \"Sierra Fernandez\", \"Curso Machine Learning\", 1.67)\n",
    "print(maria)\n",
    "maria.curso"
   ]
  },
  {
   "cell_type": "code",
   "execution_count": 57,
   "metadata": {},
   "outputs": [
    {
     "data": {
      "text/plain": [
       "'Cloud'"
      ]
     },
     "execution_count": 57,
     "metadata": {},
     "output_type": "execute_result"
    }
   ],
   "source": [
    "maria.instituto"
   ]
  },
  {
   "cell_type": "code",
   "execution_count": 58,
   "metadata": {},
   "outputs": [
    {
     "data": {
      "text/plain": [
       "'María del Carmen Sierra Fernandez'"
      ]
     },
     "execution_count": 58,
     "metadata": {},
     "output_type": "execute_result"
    }
   ],
   "source": [
    "maria.nombres + \" \" + maria.apellidos"
   ]
  },
  {
   "cell_type": "code",
   "execution_count": 60,
   "metadata": {},
   "outputs": [
    {
     "data": {
      "text/plain": [
       "1.67"
      ]
     },
     "execution_count": 60,
     "metadata": {},
     "output_type": "execute_result"
    }
   ],
   "source": [
    "maria.altura"
   ]
  },
  {
   "cell_type": "code",
   "execution_count": 36,
   "metadata": {},
   "outputs": [
    {
     "data": {
      "text/plain": [
       "'Cloud'"
      ]
     },
     "execution_count": 36,
     "metadata": {},
     "output_type": "execute_result"
    }
   ],
   "source": [
    "maria.instituto"
   ]
  },
  {
   "cell_type": "markdown",
   "metadata": {},
   "source": [
    "## Agregar otros métodos a una clase\n",
    "\n",
    "    1. La ventaja clave de usar una clase, es que podemos agregar métodos a la clase Point, es decir, operaciones con              puntos. \n",
    "    2. La creación de una clase aporta organización a nuestros programas. \n",
    "    3. Podemos agrupar las operaciones y los tipos de datos a los que se aplican, y cada instancia de una clase puede tener        su propio estado.\n",
    "    4. Un método se comporta como una función, pero se invoca en una instancia específica. \n",
    "\n",
    "Por ejemplo: "
   ]
  },
  {
   "cell_type": "code",
   "execution_count": 61,
   "metadata": {},
   "outputs": [
    {
     "data": {
      "text/plain": [
       "['Los', 'métodos', 'se', 'comportan', 'como', 'funciones']"
      ]
     },
     "execution_count": 61,
     "metadata": {},
     "output_type": "execute_result"
    }
   ],
   "source": [
    "mi_frase = \"Los métodos se comportan como funciones\"  # Adquiere las propiedades de cadena o str\n",
    "mi_frase.split() # invoco al método split()"
   ]
  },
  {
   "cell_type": "code",
   "execution_count": 62,
   "metadata": {},
   "outputs": [],
   "source": [
    "class Point:\n",
    "    \"\"\" Clase de punto para representar y manipular las coordenadas x, y. \"\"\"\n",
    "\n",
    "    def __init__(self, initX, initY ):  # Este es el constructor \n",
    "        \"\"\" Crea un nuevo punto en el origen initX,initY \"\"\"\n",
    "        self.x = initX\n",
    "        self.y = initY\n",
    "        \n",
    "    def getX(self):\n",
    "        return self.x\n",
    "\n",
    "    def getY(self):\n",
    "        return self.y"
   ]
  },
  {
   "cell_type": "code",
   "execution_count": 63,
   "metadata": {},
   "outputs": [
    {
     "data": {
      "text/plain": [
       "<__main__.Point at 0x1fd78ba79a0>"
      ]
     },
     "execution_count": 63,
     "metadata": {},
     "output_type": "execute_result"
    }
   ],
   "source": [
    "s = Point(2,7.5)\n",
    "s"
   ]
  },
  {
   "cell_type": "code",
   "execution_count": 64,
   "metadata": {},
   "outputs": [
    {
     "data": {
      "text/plain": [
       "7.5"
      ]
     },
     "execution_count": 64,
     "metadata": {},
     "output_type": "execute_result"
    }
   ],
   "source": [
    "s.y"
   ]
  },
  {
   "cell_type": "code",
   "execution_count": 65,
   "metadata": {},
   "outputs": [
    {
     "data": {
      "text/plain": [
       "2"
      ]
     },
     "execution_count": 65,
     "metadata": {},
     "output_type": "execute_result"
    }
   ],
   "source": [
    "s.x"
   ]
  },
  {
   "cell_type": "code",
   "execution_count": 66,
   "metadata": {},
   "outputs": [
    {
     "data": {
      "text/plain": [
       "2"
      ]
     },
     "execution_count": 66,
     "metadata": {},
     "output_type": "execute_result"
    }
   ],
   "source": [
    "s.getX()"
   ]
  },
  {
   "cell_type": "code",
   "execution_count": 67,
   "metadata": {},
   "outputs": [
    {
     "data": {
      "text/plain": [
       "7.5"
      ]
     },
     "execution_count": 67,
     "metadata": {},
     "output_type": "execute_result"
    }
   ],
   "source": [
    "s.getY()"
   ]
  },
  {
   "cell_type": "code",
   "execution_count": null,
   "metadata": {},
   "outputs": [],
   "source": [
    "s."
   ]
  },
  {
   "cell_type": "code",
   "execution_count": 70,
   "metadata": {},
   "outputs": [
    {
     "name": "stdout",
     "output_type": "stream",
     "text": [
      "6\n",
      "9\n"
     ]
    }
   ],
   "source": [
    "x = 6\n",
    "y = 9\n",
    "\n",
    "p = Point(x,y)\n",
    "print(p.getX())\n",
    "print(p.getY())"
   ]
  },
  {
   "cell_type": "code",
   "execution_count": 71,
   "metadata": {},
   "outputs": [
    {
     "data": {
      "text/plain": [
       "15"
      ]
     },
     "execution_count": 71,
     "metadata": {},
     "output_type": "execute_result"
    }
   ],
   "source": [
    "p.x + p.y"
   ]
  },
  {
   "cell_type": "code",
   "execution_count": 72,
   "metadata": {},
   "outputs": [
    {
     "data": {
      "text/plain": [
       "8"
      ]
     },
     "execution_count": 72,
     "metadata": {},
     "output_type": "execute_result"
    }
   ],
   "source": [
    "nuevo_punto = p.getX() + s.getX()\n",
    "nuevo_punto"
   ]
  },
  {
   "cell_type": "code",
   "execution_count": 45,
   "metadata": {},
   "outputs": [
    {
     "name": "stdout",
     "output_type": "stream",
     "text": [
      "El punto no puede ser creado...\n"
     ]
    },
    {
     "ename": "AttributeError",
     "evalue": "'Point' object has no attribute 'getX'",
     "output_type": "error",
     "traceback": [
      "\u001b[1;31m---------------------------------------------------------------------------\u001b[0m",
      "\u001b[1;31mAttributeError\u001b[0m                            Traceback (most recent call last)",
      "\u001b[1;32m<ipython-input-45-02efa4ca7a27>\u001b[0m in \u001b[0;36m<module>\u001b[1;34m\u001b[0m\n\u001b[0;32m      7\u001b[0m \u001b[1;33m\u001b[0m\u001b[0m\n\u001b[0;32m      8\u001b[0m \u001b[1;33m\u001b[0m\u001b[0m\n\u001b[1;32m----> 9\u001b[1;33m \u001b[0mprint\u001b[0m\u001b[1;33m(\u001b[0m\u001b[0mp\u001b[0m\u001b[1;33m.\u001b[0m\u001b[0mgetX\u001b[0m\u001b[1;33m(\u001b[0m\u001b[1;33m)\u001b[0m\u001b[1;33m)\u001b[0m\u001b[1;33m\u001b[0m\u001b[1;33m\u001b[0m\u001b[0m\n\u001b[0m\u001b[0;32m     10\u001b[0m \u001b[0mprint\u001b[0m\u001b[1;33m(\u001b[0m\u001b[0mp\u001b[0m\u001b[1;33m.\u001b[0m\u001b[0mgetY\u001b[0m\u001b[1;33m(\u001b[0m\u001b[1;33m)\u001b[0m\u001b[1;33m)\u001b[0m\u001b[1;33m\u001b[0m\u001b[1;33m\u001b[0m\u001b[0m\n",
      "\u001b[1;31mAttributeError\u001b[0m: 'Point' object has no attribute 'getX'"
     ]
    }
   ],
   "source": [
    "x = \"6\"\n",
    "y = 9\n",
    "if  isinstance(x, int) and isinstance(y, int):\n",
    "    p = Point(x, y)\n",
    "    print(p.getX())\n",
    "    print(p.getY())\n",
    "else: \n",
    "    print(\"El punto no puede ser creado...\")\n",
    "\n",
    "\n"
   ]
  },
  {
   "cell_type": "code",
   "execution_count": 78,
   "metadata": {},
   "outputs": [],
   "source": [
    "import math\n",
    "\n",
    "class Point:\n",
    "    \"\"\" Clase de punto para representar y manipular las coordenadas x, y. \"\"\"\n",
    "\n",
    "    def __init__(self, initX, initY ):  # Este es el constructor \n",
    "        \"\"\" Crea un nuevo punto en el origen initX,initY \"\"\"\n",
    "        self.x = initX\n",
    "        self.y = initY\n",
    "\n",
    "    def getX(self):\n",
    "        return self.x\n",
    "\n",
    "    def getY(self):\n",
    "        return self.y\n",
    "    \n",
    "    def distanciaDOrigen(self):\n",
    "        return math.sqrt((self.x ** 2) + (self.y ** 2))   # Raiz cuadrada (x**2) + (y**2) \n",
    "\n"
   ]
  },
  {
   "cell_type": "code",
   "execution_count": 79,
   "metadata": {},
   "outputs": [],
   "source": [
    "o = Point(7,6)"
   ]
  },
  {
   "cell_type": "code",
   "execution_count": 80,
   "metadata": {},
   "outputs": [
    {
     "data": {
      "text/plain": [
       "6"
      ]
     },
     "execution_count": 80,
     "metadata": {},
     "output_type": "execute_result"
    }
   ],
   "source": [
    "o.y"
   ]
  },
  {
   "cell_type": "code",
   "execution_count": 81,
   "metadata": {},
   "outputs": [
    {
     "name": "stdout",
     "output_type": "stream",
     "text": [
      "9.219544457292887\n"
     ]
    }
   ],
   "source": [
    "print(o.distanciaDOrigen())"
   ]
  },
  {
   "cell_type": "code",
   "execution_count": 82,
   "metadata": {},
   "outputs": [],
   "source": [
    "q = Point(3,4)"
   ]
  },
  {
   "cell_type": "code",
   "execution_count": 83,
   "metadata": {},
   "outputs": [
    {
     "name": "stdout",
     "output_type": "stream",
     "text": [
      "5.0\n"
     ]
    }
   ],
   "source": [
    "print(q.distanciaDOrigen())"
   ]
  },
  {
   "cell_type": "code",
   "execution_count": 85,
   "metadata": {},
   "outputs": [
    {
     "name": "stdout",
     "output_type": "stream",
     "text": [
      "9.219544457292887\n"
     ]
    }
   ],
   "source": [
    "print(o.distanciaDOrigen())"
   ]
  },
  {
   "cell_type": "code",
   "execution_count": 87,
   "metadata": {},
   "outputs": [
    {
     "data": {
      "text/plain": [
       "7"
      ]
     },
     "execution_count": 87,
     "metadata": {},
     "output_type": "execute_result"
    }
   ],
   "source": [
    "o.x"
   ]
  },
  {
   "cell_type": "code",
   "execution_count": 88,
   "metadata": {},
   "outputs": [
    {
     "data": {
      "text/plain": [
       "7"
      ]
     },
     "execution_count": 88,
     "metadata": {},
     "output_type": "execute_result"
    }
   ],
   "source": [
    "o.getX()"
   ]
  },
  {
   "cell_type": "markdown",
   "metadata": {},
   "source": [
    "#### Métodos que utilizan objetos como argumentos y parámetros \n",
    "\n",
    "Ahora crearemos un método que calcule la distancia entre dos (2) puntos, este método necesitará dos parámetros: punto 1 y punto 2.\n",
    "\n",
    "Observamos que el método distancia tiene dos parámetros: self y point2. \n",
    "\n",
    "Cuando invocamos el método para el punto p, lo hacemos utilizando la notación de puntos: p.distancia(q), donde p es el primer parámetro self y q es el segundo parámetro point2. \n",
    "\n",
    "El método realiza los cálculos y retorna la distancia (dist) entre los dos puntos p y q.\n"
   ]
  },
  {
   "cell_type": "code",
   "execution_count": 89,
   "metadata": {},
   "outputs": [],
   "source": [
    "import math"
   ]
  },
  {
   "cell_type": "code",
   "execution_count": 91,
   "metadata": {},
   "outputs": [
    {
     "name": "stdout",
     "output_type": "stream",
     "text": [
      "4.242640687119285\n"
     ]
    }
   ],
   "source": [
    "class Point:\n",
    "    \"\"\" Clase de punto para representar y manipular las coordenadas x, y. \"\"\"\n",
    "     \n",
    "    def __init__(self, initX, initY ):  # Este es el constructor \n",
    "        \"\"\" Crea un nuevo punto en el origen initX,initY \"\"\"\n",
    "        self.x = initX\n",
    "        self.y = initY\n",
    "\n",
    "    def getX(self):\n",
    "        return self.x\n",
    "\n",
    "    def getY(self):\n",
    "        return self.y\n",
    "    \n",
    "    def distanciaDOrigen(self):\n",
    "        return math.sqrt((self.getX() ** 2) + (self.getY() ** 2)) \n",
    "\n",
    "    def distancia(self, point2):\n",
    "        xdiff = point2.getX()-self.getX()\n",
    "        ydiff = point2.getY()-self.getY()\n",
    "\n",
    "        dist = math.sqrt(xdiff**2 + ydiff**2)\n",
    "        return dist\n",
    "\n",
    "p = Point(7,6)\n",
    "q = Point(4,3)\n",
    "print(p.distancia(q))  # Calculamos la distancia entre p (self) y q"
   ]
  },
  {
   "cell_type": "code",
   "execution_count": 92,
   "metadata": {},
   "outputs": [
    {
     "data": {
      "text/plain": [
       "4.242640687119285"
      ]
     },
     "execution_count": 92,
     "metadata": {},
     "output_type": "execute_result"
    }
   ],
   "source": [
    "q.distancia(p)"
   ]
  },
  {
   "cell_type": "markdown",
   "metadata": {},
   "source": [
    "### Ejercicio 1:\n",
    "\n",
    "    1. Cree una clase llamada Animal que acepte dos números como entradas y los asigne respectivamente a dos variables de          instancia: \"patas_d\" y \"patas_t\". __init__\n",
    "    2. Cree un método llamado \"extremidades\" que, cuando se llame, retorne el número total de extremidades o patas                que tiene el animal. \n",
    "\n",
    "En el programa principal\n",
    "\n",
    "    3. Crear la variable \"araña\", asigne una instancia de Animal que tenga 4 patas_d y 4 patas_t. \n",
    "    4. Llame al método \"extremidades\"  en la instancia de la araña y guarde el resultado con el nombre de variable                patas_araña."
   ]
  },
  {
   "cell_type": "code",
   "execution_count": 93,
   "metadata": {},
   "outputs": [],
   "source": [
    "class Animal:\n",
    "    \n",
    "    def __init__(self, p_d, p_t):\n",
    "        self.patas_d = p_d\n",
    "        self.patas_t = p_t\n",
    "\n",
    "    def extremidades(self):\n",
    "        e = self.patas_d + self.patas_t\n",
    "        return e"
   ]
  },
  {
   "cell_type": "code",
   "execution_count": 94,
   "metadata": {},
   "outputs": [],
   "source": [
    "araña = Animal(4,4)"
   ]
  },
  {
   "cell_type": "code",
   "execution_count": 95,
   "metadata": {},
   "outputs": [
    {
     "data": {
      "text/plain": [
       "4"
      ]
     },
     "execution_count": 95,
     "metadata": {},
     "output_type": "execute_result"
    }
   ],
   "source": [
    "araña.patas_d"
   ]
  },
  {
   "cell_type": "code",
   "execution_count": 96,
   "metadata": {},
   "outputs": [
    {
     "data": {
      "text/plain": [
       "8"
      ]
     },
     "execution_count": 96,
     "metadata": {},
     "output_type": "execute_result"
    }
   ],
   "source": [
    "araña.extremidades()"
   ]
  },
  {
   "cell_type": "code",
   "execution_count": 97,
   "metadata": {},
   "outputs": [
    {
     "name": "stdout",
     "output_type": "stream",
     "text": [
      "<__main__.Animal object at 0x000001FD78C4D0D0>\n"
     ]
    }
   ],
   "source": [
    "print(araña)"
   ]
  },
  {
   "cell_type": "code",
   "execution_count": 98,
   "metadata": {},
   "outputs": [],
   "source": [
    "pollito = Animal(2,0)"
   ]
  },
  {
   "cell_type": "code",
   "execution_count": 99,
   "metadata": {},
   "outputs": [
    {
     "data": {
      "text/plain": [
       "2"
      ]
     },
     "execution_count": 99,
     "metadata": {},
     "output_type": "execute_result"
    }
   ],
   "source": [
    "pollito.extremidades()"
   ]
  },
  {
   "cell_type": "code",
   "execution_count": 105,
   "metadata": {},
   "outputs": [
    {
     "name": "stdout",
     "output_type": "stream",
     "text": [
      "8\n",
      "El animal araña tiene 8 patas\n"
     ]
    }
   ],
   "source": [
    "class Animal:\n",
    "    def __init__(self, p_d, p_t,nombre ):\n",
    "        self.nombre = nombre\n",
    "        self.patas_d = p_d\n",
    "        self.patas_t = p_t\n",
    "    \n",
    "    def extremidades(self):\n",
    "        extremidades = self.patas_d + self.patas_t\n",
    "        return extremidades\n",
    "    \n",
    "    def __str__(self):\n",
    "            return f\"El animal {self.nombre} tiene {self.extremidades()} patas\"\n",
    "    \n",
    "araña = Animal(4,4, \"araña\")\n",
    "print(araña.extremidades())\n",
    "print(araña)"
   ]
  },
  {
   "cell_type": "code",
   "execution_count": 100,
   "metadata": {},
   "outputs": [
    {
     "name": "stdout",
     "output_type": "stream",
     "text": [
      "8\n",
      "El animal araña tiene 8 patas\n"
     ]
    }
   ],
   "source": [
    "class Animal:\n",
    "    def __init__(self, p_d, p_t,nombre ):\n",
    "        self.nombre = nombre\n",
    "        self.patas_d = p_d\n",
    "        self.patas_t = p_t\n",
    "    \n",
    "    def extremidades(self):\n",
    "        extremidades = self.patas_d + self.patas_t\n",
    "        return extremidades\n",
    "    \n",
    "    def __str__(self):\n",
    "            return \"El animal {} tiene {} patas\".format(self.nombre, self.patas_d + self.patas_t )\n",
    "    \n",
    "araña = Animal(4,4, \"araña\")\n",
    "print(araña.extremidades())\n",
    "print(araña)"
   ]
  },
  {
   "cell_type": "code",
   "execution_count": 70,
   "metadata": {},
   "outputs": [
    {
     "name": "stdout",
     "output_type": "stream",
     "text": [
      "El animal araña tiene 8 patas\n"
     ]
    }
   ],
   "source": [
    "print(araña)"
   ]
  },
  {
   "cell_type": "code",
   "execution_count": 74,
   "metadata": {},
   "outputs": [],
   "source": [
    "pollito = Animal(2,0, \"pollito\")"
   ]
  },
  {
   "cell_type": "code",
   "execution_count": 75,
   "metadata": {},
   "outputs": [
    {
     "name": "stdout",
     "output_type": "stream",
     "text": [
      "El animal pollito tiene 2 patas\n"
     ]
    }
   ],
   "source": [
    "print(pollito)"
   ]
  },
  {
   "cell_type": "code",
   "execution_count": 76,
   "metadata": {},
   "outputs": [
    {
     "data": {
      "text/plain": [
       "1"
      ]
     },
     "execution_count": 76,
     "metadata": {},
     "output_type": "execute_result"
    }
   ],
   "source": [
    "araña = Animal(1,2, \"araña\")\n",
    "araña.patas_d"
   ]
  },
  {
   "cell_type": "code",
   "execution_count": 77,
   "metadata": {},
   "outputs": [
    {
     "data": {
      "text/plain": [
       "3"
      ]
     },
     "execution_count": 77,
     "metadata": {},
     "output_type": "execute_result"
    }
   ],
   "source": [
    "araña.extremidades()"
   ]
  },
  {
   "cell_type": "code",
   "execution_count": 78,
   "metadata": {},
   "outputs": [
    {
     "data": {
      "text/plain": [
       "4"
      ]
     },
     "execution_count": 78,
     "metadata": {},
     "output_type": "execute_result"
    }
   ],
   "source": [
    "araña = Animal(4,4, \"araña\")\n",
    "araña.patas_t"
   ]
  },
  {
   "cell_type": "code",
   "execution_count": 79,
   "metadata": {},
   "outputs": [
    {
     "data": {
      "text/plain": [
       "8"
      ]
     },
     "execution_count": 79,
     "metadata": {},
     "output_type": "execute_result"
    }
   ],
   "source": [
    "araña.extremidades()"
   ]
  },
  {
   "cell_type": "code",
   "execution_count": 80,
   "metadata": {},
   "outputs": [
    {
     "data": {
      "text/plain": [
       "2"
      ]
     },
     "execution_count": 80,
     "metadata": {},
     "output_type": "execute_result"
    }
   ],
   "source": [
    "pollito = Animal(2,0, \"pollito\")\n",
    "pollito.extremidades()"
   ]
  },
  {
   "cell_type": "code",
   "execution_count": 81,
   "metadata": {},
   "outputs": [
    {
     "data": {
      "text/plain": [
       "<__main__.Animal at 0x22d91377490>"
      ]
     },
     "execution_count": 81,
     "metadata": {},
     "output_type": "execute_result"
    }
   ],
   "source": [
    "pollito"
   ]
  },
  {
   "cell_type": "code",
   "execution_count": 82,
   "metadata": {},
   "outputs": [
    {
     "name": "stdout",
     "output_type": "stream",
     "text": [
      "El animal araña tiene 8 patas\n"
     ]
    }
   ],
   "source": [
    "print(araña)"
   ]
  },
  {
   "cell_type": "code",
   "execution_count": 83,
   "metadata": {},
   "outputs": [
    {
     "name": "stdout",
     "output_type": "stream",
     "text": [
      "El animal pollito tiene 2 patas\n"
     ]
    }
   ],
   "source": [
    "print(pollito)"
   ]
  },
  {
   "cell_type": "markdown",
   "metadata": {},
   "source": [
    "### Métodos especiales underescore\n",
    "\n",
    "__str__\n",
    "\n",
    "El método str es responsable de devolver una representación de cadena según lo definido por el creador de la clase. Es decir, nosotros como programadores, podemos elegir el aspecto que debe tener un objeto cuando se imprime.\n"
   ]
  },
  {
   "cell_type": "code",
   "execution_count": 84,
   "metadata": {},
   "outputs": [
    {
     "name": "stdout",
     "output_type": "stream",
     "text": [
      "3\n",
      "2\n"
     ]
    },
    {
     "data": {
      "text/plain": [
       "<__main__.Point at 0x22d91377b50>"
      ]
     },
     "execution_count": 84,
     "metadata": {},
     "output_type": "execute_result"
    }
   ],
   "source": [
    "p = Point(3,2)\n",
    "\n",
    "print(p.getX())\n",
    "print(p.getY())\n",
    "p"
   ]
  },
  {
   "cell_type": "code",
   "execution_count": 110,
   "metadata": {},
   "outputs": [
    {
     "name": "stdout",
     "output_type": "stream",
     "text": [
      "Las coordenadas del punto son: x = 4, y = 3\n",
      "Las coordenadas del punto son: x = 10, y = 100\n"
     ]
    },
    {
     "data": {
      "text/plain": [
       "x = 4, y = 3"
      ]
     },
     "execution_count": 110,
     "metadata": {},
     "output_type": "execute_result"
    }
   ],
   "source": [
    "class Point:\n",
    "    \"\"\" Clase de punto para representar y manipular las coordenadas x, y. \"\"\"\n",
    "     \n",
    "    def __init__(self, initX, initY ):  # Este es el constructor \n",
    "        \"\"\" Crea un nuevo punto en el origen initX,initY \"\"\"\n",
    "        self.x = initX\n",
    "        self.y = initY\n",
    "\n",
    "    def getX(self):\n",
    "        return self.x\n",
    "\n",
    "    def getY(self):\n",
    "        return self.y\n",
    "    \n",
    "    def distanciaDOrigen(self):\n",
    "        return math.sqrt((self.x ** 2) + (self.y ** 2)) \n",
    "\n",
    "    def distancia(self, point2):\n",
    "        xdiff = point2.getX()-self.getX()\n",
    "        ydiff = point2.getY()-self.getY()\n",
    "\n",
    "        dist = math.sqrt(xdiff**2 + ydiff**2)\n",
    "        return dist\n",
    "    \n",
    "    def __str__(self):\n",
    "        return f\"Las coordenadas del punto son: x = {self.x}, y = {self.y}\"\n",
    "   \n",
    "    def __repr__(self):\n",
    "        #return self.__str__()\n",
    "        return f\"x = {self.x}, y = {self.y}\"\n",
    "\n",
    "\n",
    "\n",
    "p = Point(4,3)\n",
    "q = Point(10,100)\n",
    "\n",
    "print(p)\n",
    "print(q)     \n",
    "\n",
    "p"
   ]
  },
  {
   "cell_type": "code",
   "execution_count": 112,
   "metadata": {},
   "outputs": [
    {
     "data": {
      "text/plain": [
       "x = 4, y = 3"
      ]
     },
     "execution_count": 112,
     "metadata": {},
     "output_type": "execute_result"
    }
   ],
   "source": [
    "p"
   ]
  },
  {
   "cell_type": "code",
   "execution_count": 113,
   "metadata": {},
   "outputs": [],
   "source": [
    "a = 5"
   ]
  },
  {
   "cell_type": "code",
   "execution_count": 114,
   "metadata": {},
   "outputs": [
    {
     "name": "stdout",
     "output_type": "stream",
     "text": [
      "5\n"
     ]
    }
   ],
   "source": [
    "print(a)"
   ]
  },
  {
   "cell_type": "code",
   "execution_count": 115,
   "metadata": {},
   "outputs": [
    {
     "data": {
      "text/plain": [
       "5"
      ]
     },
     "execution_count": 115,
     "metadata": {},
     "output_type": "execute_result"
    }
   ],
   "source": [
    "a"
   ]
  },
  {
   "cell_type": "markdown",
   "metadata": {},
   "source": [
    "## Otros métodos especiales (Ver presentación)"
   ]
  },
  {
   "cell_type": "code",
   "execution_count": 116,
   "metadata": {},
   "outputs": [],
   "source": [
    "class Point:\n",
    "    \"\"\" Clase de punto para representar y manipular las coordenadas x, y. \"\"\"\n",
    "     \n",
    "    def __init__(self, initX, initY ):  # Este es el constructor \n",
    "        \"\"\" Crea un nuevo punto en el origen initX,initY \"\"\"\n",
    "        self.x = initX\n",
    "        self.y = initY\n",
    "\n",
    "    def getX(self):\n",
    "        return self.x\n",
    "\n",
    "    def getY(self):\n",
    "        return self.y\n",
    "    \n",
    "    def distanciaDOrigen(self):\n",
    "        return math.sqrt((self.x ** 2) + (self.y ** 2)) \n",
    "\n",
    "    def distancia(self, point2):\n",
    "        xdiff = point2.getX()-self.getX()\n",
    "        ydiff = point2.getY()-self.getY()\n",
    "\n",
    "        dist = math.sqrt(xdiff**2 + ydiff**2)\n",
    "        return dist\n",
    "\n",
    "    def __add__(self, otherPoint):\n",
    "        return Point(self.x + otherPoint.x, self.y + otherPoint.y)\n",
    "\n",
    "    def __sub__(self, otherPoint):\n",
    "        return Point(self.x - otherPoint.x, self.y - otherPoint.y)\n",
    "    \n",
    "    def __invert__(self):\n",
    "        return Point(self.y, self.x)\n",
    "    \n",
    "    def __eq__(self, otherPoint):\n",
    "         return self.x == otherPoint.x and self.y == otherPoint.y\n",
    "    \n",
    "    def __str__(self):\n",
    "            return \"Las coordenadas del punto son: x = {}, y = {}\".format(self.x, self.y)\n",
    "        \n",
    "    def __repr__(self):\n",
    "            return self.__str__()\n",
    "    \n",
    "p = Point(4,3)\n",
    "q = Point(10,100)"
   ]
  },
  {
   "cell_type": "code",
   "execution_count": 119,
   "metadata": {},
   "outputs": [],
   "source": [
    "c = p + q"
   ]
  },
  {
   "cell_type": "code",
   "execution_count": 120,
   "metadata": {},
   "outputs": [
    {
     "data": {
      "text/plain": [
       "Las coordenadas del punto son: x = 14, y = 103"
      ]
     },
     "execution_count": 120,
     "metadata": {},
     "output_type": "execute_result"
    }
   ],
   "source": [
    "c"
   ]
  },
  {
   "cell_type": "code",
   "execution_count": 121,
   "metadata": {},
   "outputs": [
    {
     "data": {
      "text/plain": [
       "Las coordenadas del punto son: x = -6, y = -97"
      ]
     },
     "execution_count": 121,
     "metadata": {},
     "output_type": "execute_result"
    }
   ],
   "source": [
    "x = p - q\n",
    "x"
   ]
  },
  {
   "cell_type": "code",
   "execution_count": 122,
   "metadata": {},
   "outputs": [
    {
     "data": {
      "text/plain": [
       "Las coordenadas del punto son: x = -6, y = -97"
      ]
     },
     "execution_count": 122,
     "metadata": {},
     "output_type": "execute_result"
    }
   ],
   "source": [
    "x"
   ]
  },
  {
   "cell_type": "code",
   "execution_count": 123,
   "metadata": {},
   "outputs": [
    {
     "data": {
      "text/plain": [
       "Las coordenadas del punto son: x = 4, y = 3"
      ]
     },
     "execution_count": 123,
     "metadata": {},
     "output_type": "execute_result"
    }
   ],
   "source": [
    "p"
   ]
  },
  {
   "cell_type": "code",
   "execution_count": 124,
   "metadata": {},
   "outputs": [
    {
     "data": {
      "text/plain": [
       "Las coordenadas del punto son: x = 3, y = 4"
      ]
     },
     "execution_count": 124,
     "metadata": {},
     "output_type": "execute_result"
    }
   ],
   "source": [
    "z = ~p\n",
    "z"
   ]
  },
  {
   "cell_type": "code",
   "execution_count": 125,
   "metadata": {},
   "outputs": [
    {
     "data": {
      "text/plain": [
       "True"
      ]
     },
     "execution_count": 125,
     "metadata": {},
     "output_type": "execute_result"
    }
   ],
   "source": [
    "a = Point(14,13)\n",
    "b = Point(14,13)\n",
    "a == b  # Metodo eq"
   ]
  },
  {
   "cell_type": "code",
   "execution_count": 126,
   "metadata": {},
   "outputs": [
    {
     "data": {
      "text/plain": [
       "False"
      ]
     },
     "execution_count": 126,
     "metadata": {},
     "output_type": "execute_result"
    }
   ],
   "source": [
    "a = Point(14,13)\n",
    "b = Point(14,18)\n",
    "a == b  # Metodo eq"
   ]
  },
  {
   "cell_type": "code",
   "execution_count": 104,
   "metadata": {},
   "outputs": [
    {
     "data": {
      "text/plain": [
       "Las coordenadas del punto son: x = 4, y = 3"
      ]
     },
     "execution_count": 104,
     "metadata": {},
     "output_type": "execute_result"
    }
   ],
   "source": [
    "p"
   ]
  },
  {
   "cell_type": "code",
   "execution_count": 105,
   "metadata": {},
   "outputs": [
    {
     "data": {
      "text/plain": [
       "Las coordenadas del punto son: x = 10, y = 100"
      ]
     },
     "execution_count": 105,
     "metadata": {},
     "output_type": "execute_result"
    }
   ],
   "source": [
    "q"
   ]
  },
  {
   "cell_type": "code",
   "execution_count": 106,
   "metadata": {},
   "outputs": [
    {
     "data": {
      "text/plain": [
       "False"
      ]
     },
     "execution_count": 106,
     "metadata": {},
     "output_type": "execute_result"
    }
   ],
   "source": [
    "p == q"
   ]
  },
  {
   "cell_type": "markdown",
   "metadata": {},
   "source": [
    "### Validaciones para evitar crear objetos con atributos erroneos"
   ]
  },
  {
   "cell_type": "code",
   "execution_count": 40,
   "metadata": {},
   "outputs": [],
   "source": [
    "class Point2:\n",
    "    \"\"\" Clase de punto para representar y manipular las coordenadas x, y. \"\"\"\n",
    "     \n",
    "    def __init__(self, initX, initY ):  # Este es el constructor \n",
    "        \"\"\" Crea un nuevo punto en el origen initX,initY \"\"\"\n",
    "        if isinstance(initX,int) and isinstance(initY,int):\n",
    "            self.x = initX\n",
    "            self.y = initY\n",
    "        else:\n",
    "            print(\"La coordenada deben ser numeros enteros\")\n",
    "            # Realizar prueba comentando estas líneas\n",
    "            #print(\"Asignando valores 0 a las coordenadas\")\n",
    "            #self.x = 0\n",
    "            #self.y = 0\n",
    "            \n",
    "\n",
    "    def getX(self):\n",
    "        return self.x\n",
    "\n",
    "    def getY(self):\n",
    "        return self.y\n",
    "    \n",
    "    def distanciaDOrigen(self):\n",
    "        return math.sqrt((self.x ** 2) + (self.y ** 2)) \n",
    "\n",
    "    def distancia(self, point2):\n",
    "        xdiff = point2.getX()-self.getX()\n",
    "        ydiff = point2.getY()-self.getY()\n",
    "\n",
    "        dist = math.sqrt(xdiff**2 + ydiff**2)\n",
    "        return dist\n",
    "   \n",
    "    def __add__(self, otherPoint):\n",
    "        return Point(self.x + otherPoint.x, self.y + otherPoint.y)\n",
    "\n",
    "    def __sub__(self, otherPoint):\n",
    "        return Point(self.x - otherPoint.x, self.y - otherPoint.y)\n",
    "    \n",
    "    def __invert__(self):\n",
    "        return Point(self.y, self.x)\n",
    "    \n",
    "    def __eq__(self, otherPoint):\n",
    "        return self.x == otherPoint.x and self.y == otherPoint.y\n",
    "    \n",
    "    def __str__(self):\n",
    "        return \"Las coordenadas del punto son: x = {}, y = {}\".format(self.x, self.y)\n",
    "        \n",
    "    def __repr__(self):\n",
    "        return self.__str__()"
   ]
  },
  {
   "cell_type": "code",
   "execution_count": 42,
   "metadata": {},
   "outputs": [
    {
     "name": "stdout",
     "output_type": "stream",
     "text": [
      "La coordenada deben ser numeros enteros\n"
     ]
    }
   ],
   "source": [
    "p = Point2(4.5, \"6\")"
   ]
  },
  {
   "cell_type": "code",
   "execution_count": 43,
   "metadata": {},
   "outputs": [
    {
     "ename": "AttributeError",
     "evalue": "'Point2' object has no attribute 'x'",
     "output_type": "error",
     "traceback": [
      "\u001b[1;31m---------------------------------------------------------------------------\u001b[0m",
      "\u001b[1;31mAttributeError\u001b[0m                            Traceback (most recent call last)",
      "\u001b[1;32m<ipython-input-43-7d725ae8e4e9>\u001b[0m in \u001b[0;36m<module>\u001b[1;34m\u001b[0m\n\u001b[1;32m----> 1\u001b[1;33m \u001b[0mp\u001b[0m\u001b[1;33m.\u001b[0m\u001b[0mx\u001b[0m\u001b[1;33m\u001b[0m\u001b[1;33m\u001b[0m\u001b[0m\n\u001b[0m",
      "\u001b[1;31mAttributeError\u001b[0m: 'Point2' object has no attribute 'x'"
     ]
    }
   ],
   "source": [
    "p.x"
   ]
  },
  {
   "cell_type": "code",
   "execution_count": null,
   "metadata": {},
   "outputs": [],
   "source": [
    "# Si validamos dentro del método init, inicializar con valores predeterminados si hay error\n",
    "# para no crear un objeto con atributos erroneos"
   ]
  },
  {
   "cell_type": "code",
   "execution_count": 44,
   "metadata": {},
   "outputs": [],
   "source": [
    "class Point3:\n",
    "    \"\"\" Clase de punto para representar y manipular las coordenadas x, y. \"\"\"\n",
    "     \n",
    "    def __init__(self, initX, initY ):  # Este es el constructor \n",
    "        \"\"\" Crea un nuevo punto en el origen initX,initY \"\"\"\n",
    "        if isinstance(initX,int) and isinstance(initY,int):\n",
    "            self.x = initX\n",
    "            self.y = initY\n",
    "        else:\n",
    "            print(\"La coordenada deben ser numeros enteros\")\n",
    "            print(\"Asignando valores 0 a las coordenadas\")\n",
    "            self.x = 0\n",
    "            self.y = 0\n",
    "            \n",
    "\n",
    "    def getX(self):\n",
    "        return self.x\n",
    "\n",
    "    def getY(self):\n",
    "        return self.y\n",
    "    \n",
    "    def distanciaDOrigen(self):\n",
    "        return math.sqrt((self.x ** 2) + (self.y ** 2)) \n",
    "\n",
    "    def distancia(self, point2):\n",
    "        xdiff = point2.getX()-self.getX()\n",
    "        ydiff = point2.getY()-self.getY()\n",
    "\n",
    "        dist = math.sqrt(xdiff**2 + ydiff**2)\n",
    "        return dist\n",
    "   \n",
    "    def __add__(self, otherPoint):\n",
    "        return Point(self.x + otherPoint.x, self.y + otherPoint.y)\n",
    "\n",
    "    def __sub__(self, otherPoint):\n",
    "        return Point(self.x - otherPoint.x, self.y - otherPoint.y)\n",
    "    \n",
    "    def __invert__(self):\n",
    "        return Point(self.y, self.x)\n",
    "    \n",
    "    def __eq__(self, otherPoint):\n",
    "        return self.x == otherPoint.x and self.y == otherPoint.y\n",
    "    \n",
    "    def __str__(self):\n",
    "        return \"Las coordenadas del punto son: x = {}, y = {}\".format(self.x, self.y)\n",
    "        \n",
    "    def __repr__(self):\n",
    "        return self.__str__()"
   ]
  },
  {
   "cell_type": "code",
   "execution_count": 45,
   "metadata": {},
   "outputs": [
    {
     "name": "stdout",
     "output_type": "stream",
     "text": [
      "La coordenada deben ser numeros enteros\n",
      "Asignando valores 0 a las coordenadas\n"
     ]
    },
    {
     "data": {
      "text/plain": [
       "Las coordenadas del punto son: x = 0, y = 0"
      ]
     },
     "execution_count": 45,
     "metadata": {},
     "output_type": "execute_result"
    }
   ],
   "source": [
    "p = Point3(4.5, \"6\")\n",
    "p"
   ]
  },
  {
   "cell_type": "code",
   "execution_count": 115,
   "metadata": {},
   "outputs": [
    {
     "data": {
      "text/plain": [
       "0"
      ]
     },
     "execution_count": 115,
     "metadata": {},
     "output_type": "execute_result"
    }
   ],
   "source": [
    "p.x"
   ]
  },
  {
   "cell_type": "code",
   "execution_count": 116,
   "metadata": {},
   "outputs": [
    {
     "data": {
      "text/plain": [
       "0"
      ]
     },
     "execution_count": 116,
     "metadata": {},
     "output_type": "execute_result"
    }
   ],
   "source": [
    "p.y"
   ]
  },
  {
   "cell_type": "code",
   "execution_count": 117,
   "metadata": {},
   "outputs": [
    {
     "data": {
      "text/plain": [
       "True"
      ]
     },
     "execution_count": 117,
     "metadata": {},
     "output_type": "execute_result"
    }
   ],
   "source": [
    "isinstance(p,Point3)"
   ]
  },
  {
   "cell_type": "code",
   "execution_count": 118,
   "metadata": {},
   "outputs": [
    {
     "data": {
      "text/plain": [
       "Las coordenadas del punto son: x = 4, y = 6"
      ]
     },
     "execution_count": 118,
     "metadata": {},
     "output_type": "execute_result"
    }
   ],
   "source": [
    "p = Point3(4, 6)\n",
    "p"
   ]
  },
  {
   "cell_type": "code",
   "execution_count": 183,
   "metadata": {},
   "outputs": [],
   "source": [
    "# Validar antes de crear el objeto"
   ]
  },
  {
   "cell_type": "code",
   "execution_count": 53,
   "metadata": {},
   "outputs": [
    {
     "name": "stdout",
     "output_type": "stream",
     "text": [
      "Error: El punto no puede ser creado...\n"
     ]
    }
   ],
   "source": [
    "x = 6\n",
    "y = 9.5\n",
    "if isinstance(x, str) and isinstance(y, str):\n",
    "    f = Point(x, y)\n",
    "    print(f.getX())\n",
    "    print(f.getY())\n",
    "else: \n",
    "    print(\"Error: El punto no puede ser creado...\")"
   ]
  },
  {
   "cell_type": "code",
   "execution_count": 51,
   "metadata": {},
   "outputs": [
    {
     "data": {
      "text/plain": [
       "False"
      ]
     },
     "execution_count": 51,
     "metadata": {},
     "output_type": "execute_result"
    }
   ],
   "source": [
    "isinstance(y, int)"
   ]
  },
  {
   "cell_type": "code",
   "execution_count": null,
   "metadata": {},
   "outputs": [],
   "source": [
    "# Utilizando Try/Except dentro de una clase"
   ]
  },
  {
   "cell_type": "code",
   "execution_count": 120,
   "metadata": {
    "run_control": {
     "marked": false
    }
   },
   "outputs": [],
   "source": [
    "import math \n",
    "class Point2:\n",
    "    \"\"\" Clase de punto para representar y manipular las coordenadas x, y. \"\"\"\n",
    "     \n",
    "    def __init__(self, initX, initY ):  # Este es el constructor \n",
    "        \"\"\" Crea un nuevo punto en el origen initX,initY \"\"\"\n",
    "        self.x = initX\n",
    "        self.y = initY\n",
    "\n",
    "    def getX(self):\n",
    "        return self.x\n",
    "\n",
    "    def getY(self):\n",
    "        return self.y\n",
    "    \n",
    "    def distanciaDOrigen(self):\n",
    "        #return math.sqrt((self.x ** 2) + (self.y ** 2)) \n",
    "        try:\n",
    "            return math.sqrt((self.x ** 2) + (self.y ** 2)) \n",
    "        except Exception as Error:\n",
    "            print(\"Ha ocurrido un error: \", Error)\n",
    "\n",
    "    def distancia(self, point2):\n",
    "        xdiff = point2.getX()-self.getX()\n",
    "        ydiff = point2.getY()-self.getY()\n",
    "\n",
    "        dist = math.sqrt(xdiff**2 + ydiff**2)\n",
    "        return dist\n",
    "   \n",
    "    def __add__(self, otherPoint):\n",
    "        return Point(self.x + otherPoint.x, self.y + otherPoint.y)\n",
    "\n",
    "    def __sub__(self, otherPoint):\n",
    "        return Point(self.x - otherPoint.x, self.y - otherPoint.y)\n",
    "    \n",
    "    def __invert__(self):\n",
    "        return Point(self.y, self.x)\n",
    "    \n",
    "    def __eq__(self, otherPoint):\n",
    "         return self.x == otherPoint.x and self.y == otherPoint.y\n",
    "    \n",
    "    def __str__(self):\n",
    "            return \"Las coordenadas del punto son: x = {}, y = {}\".format(self.x, self.y)\n",
    "        \n",
    "    def __repr__(self):\n",
    "            return self.__str__()"
   ]
  },
  {
   "cell_type": "code",
   "execution_count": 122,
   "metadata": {},
   "outputs": [
    {
     "data": {
      "text/plain": [
       "Las coordenadas del punto son: x = 3, y = 4"
      ]
     },
     "execution_count": 122,
     "metadata": {},
     "output_type": "execute_result"
    }
   ],
   "source": [
    "j = Point2(3,4)\n",
    "j"
   ]
  },
  {
   "cell_type": "code",
   "execution_count": 123,
   "metadata": {},
   "outputs": [
    {
     "data": {
      "text/plain": [
       "Las coordenadas del punto son: x = 3, y = 4"
      ]
     },
     "execution_count": 123,
     "metadata": {},
     "output_type": "execute_result"
    }
   ],
   "source": [
    "g = Point2(3,\"4\")\n",
    "g"
   ]
  },
  {
   "cell_type": "code",
   "execution_count": 124,
   "metadata": {},
   "outputs": [
    {
     "data": {
      "text/plain": [
       "5.0"
      ]
     },
     "execution_count": 124,
     "metadata": {},
     "output_type": "execute_result"
    }
   ],
   "source": [
    "j.distanciaDOrigen()"
   ]
  },
  {
   "cell_type": "code",
   "execution_count": 125,
   "metadata": {},
   "outputs": [
    {
     "name": "stdout",
     "output_type": "stream",
     "text": [
      "Ha ocurrido un error:  unsupported operand type(s) for ** or pow(): 'str' and 'int'\n"
     ]
    }
   ],
   "source": [
    "g.distanciaDOrigen()"
   ]
  },
  {
   "cell_type": "markdown",
   "metadata": {},
   "source": [
    "### El método __del__\n",
    "\n",
    "El método __del__ es un método especial de una clase.\n",
    "\n",
    "También se denomina método destructor y se llama (invocado) cuando la instancia (objeto) de la clase está a punto de destruirse. Usamos el método __del__ para limpiar recursos como cerrar un archivo."
   ]
  },
  {
   "cell_type": "code",
   "execution_count": 1,
   "metadata": {},
   "outputs": [],
   "source": [
    "import math\n",
    "    \n",
    "class Point:\n",
    "    \"\"\" Clase de punto para representar y manipular las coordenadas x, y. \"\"\"\n",
    "     \n",
    "    def __init__(self, initX, initY ):  # Este es el constructor \n",
    "        \"\"\" Crea un nuevo punto en el origen initX,initY \"\"\"\n",
    "        self.x = initX\n",
    "        self.y = initY\n",
    "\n",
    "    def getX(self):\n",
    "        return self.x\n",
    "\n",
    "    def getY(self):\n",
    "        return self.y\n",
    "    \n",
    "    def distanciaDOrigen(self):\n",
    "        try:\n",
    "            return math.sqrt((self.x ** 2) + (self.y ** 2)) \n",
    "        except Exception as Error:\n",
    "            print(\"Ha ocurrido un error: \", Error)\n",
    "            return self.__del__()\n",
    "  \n",
    "    def distancia(self, point2):\n",
    "        xdiff = point2.getX() - self.getX()\n",
    "        ydiff = point2.getY() - self.getY()\n",
    "\n",
    "        dist = math.sqrt(xdiff**2 + ydiff**2)\n",
    "        return dist\n",
    "   \n",
    "    def __add__(self, otherPoint):\n",
    "        return Point(self.x + otherPoint.x, self.y + otherPoint.y)\n",
    "\n",
    "    def __sub__(self, otherPoint):\n",
    "        return Point(self.x - otherPoint.x, self.y - otherPoint.y)\n",
    "    \n",
    "    def __invert__(self):\n",
    "        return Point(self.y, self.x)\n",
    "    \n",
    "    def __eq__(self, otherPoint):\n",
    "         return self.x == otherPoint.x and self.y == otherPoint.y\n",
    "    \n",
    "    def __del__(self):\n",
    "        print(\"Pasa por del, para...\")\n",
    "    \n",
    "    def __str__(self):\n",
    "            return \"Las coordenadas del punto son: x = {}, y = {}\".format(self.x, self.y)\n",
    "        \n",
    "    def __repr__(self):\n",
    "            return self.__str__()\n",
    "\n",
    "  "
   ]
  },
  {
   "cell_type": "code",
   "execution_count": 2,
   "metadata": {},
   "outputs": [
    {
     "data": {
      "text/plain": [
       "Las coordenadas del punto son: x = 3, y = 4"
      ]
     },
     "execution_count": 2,
     "metadata": {},
     "output_type": "execute_result"
    }
   ],
   "source": [
    "m = Point(3,4)\n",
    "m"
   ]
  },
  {
   "cell_type": "code",
   "execution_count": 3,
   "metadata": {},
   "outputs": [],
   "source": [
    "del m"
   ]
  },
  {
   "cell_type": "code",
   "execution_count": 56,
   "metadata": {},
   "outputs": [
    {
     "data": {
      "text/plain": [
       "Las coordenadas del punto son: x = 3, y = 4"
      ]
     },
     "execution_count": 56,
     "metadata": {},
     "output_type": "execute_result"
    }
   ],
   "source": [
    "n = Point(\"3\",4)\n",
    "n"
   ]
  },
  {
   "cell_type": "code",
   "execution_count": 57,
   "metadata": {},
   "outputs": [
    {
     "name": "stdout",
     "output_type": "stream",
     "text": [
      "Ha ocurrido un error:  unsupported operand type(s) for ** or pow(): 'str' and 'int'\n",
      "Pasa por del, para...\n"
     ]
    }
   ],
   "source": [
    "n.distanciaDOrigen() # invocamos el método donde incorporamos -> try/except"
   ]
  },
  {
   "cell_type": "code",
   "execution_count": 4,
   "metadata": {},
   "outputs": [
    {
     "ename": "NameError",
     "evalue": "name 'n' is not defined",
     "output_type": "error",
     "traceback": [
      "\u001b[1;31m---------------------------------------------------------------------------\u001b[0m",
      "\u001b[1;31mNameError\u001b[0m                                 Traceback (most recent call last)",
      "\u001b[1;32m<ipython-input-4-c4ec2699a4cf>\u001b[0m in \u001b[0;36m<module>\u001b[1;34m\u001b[0m\n\u001b[1;32m----> 1\u001b[1;33m \u001b[1;32mdel\u001b[0m \u001b[0mn\u001b[0m\u001b[1;33m\u001b[0m\u001b[1;33m\u001b[0m\u001b[0m\n\u001b[0m",
      "\u001b[1;31mNameError\u001b[0m: name 'n' is not defined"
     ]
    }
   ],
   "source": [
    "del n"
   ]
  },
  {
   "cell_type": "code",
   "execution_count": null,
   "metadata": {},
   "outputs": [],
   "source": [
    "# Creando un objeto dentro de una función (el objeto es local y \n",
    "# se elimina al ejecutar la  función)"
   ]
  },
  {
   "cell_type": "code",
   "execution_count": 17,
   "metadata": {},
   "outputs": [],
   "source": [
    "def imprimir():\n",
    "    nn = Point(3,4)\n",
    "    print(nn)\n",
    "    return nn"
   ]
  },
  {
   "cell_type": "code",
   "execution_count": 18,
   "metadata": {},
   "outputs": [
    {
     "name": "stdout",
     "output_type": "stream",
     "text": [
      "Las coordenadas del punto son: x = 3, y = 4\n",
      "Pasa por del, para...\n"
     ]
    }
   ],
   "source": [
    "r = imprimir() # observamos que invoca al método del"
   ]
  },
  {
   "cell_type": "code",
   "execution_count": 19,
   "metadata": {},
   "outputs": [
    {
     "ename": "NameError",
     "evalue": "name 'nn' is not defined",
     "output_type": "error",
     "traceback": [
      "\u001b[1;31m---------------------------------------------------------------------------\u001b[0m",
      "\u001b[1;31mNameError\u001b[0m                                 Traceback (most recent call last)",
      "\u001b[1;32m<ipython-input-19-e7bd55e9bf39>\u001b[0m in \u001b[0;36m<module>\u001b[1;34m\u001b[0m\n\u001b[1;32m----> 1\u001b[1;33m \u001b[0mnn\u001b[0m\u001b[1;33m\u001b[0m\u001b[1;33m\u001b[0m\u001b[0m\n\u001b[0m",
      "\u001b[1;31mNameError\u001b[0m: name 'nn' is not defined"
     ]
    }
   ],
   "source": [
    "nn"
   ]
  },
  {
   "cell_type": "code",
   "execution_count": 20,
   "metadata": {},
   "outputs": [
    {
     "name": "stdout",
     "output_type": "stream",
     "text": [
      "Las coordenadas del punto son: x = 3, y = 4\n"
     ]
    }
   ],
   "source": [
    "print(r)"
   ]
  },
  {
   "cell_type": "code",
   "execution_count": null,
   "metadata": {},
   "outputs": [],
   "source": [
    "# Ejemplo método __del__ manipulando archivos"
   ]
  },
  {
   "cell_type": "code",
   "execution_count": 19,
   "metadata": {
    "run_control": {
     "marked": false
    }
   },
   "outputs": [],
   "source": [
    "# class\n",
    "class AbrirEscribirArchivo:\n",
    "\n",
    "    def __init__(self, filename):\n",
    "        # Abrir file\n",
    "        self.name = \"Archivo txt\"\n",
    "        self.fobj = open(filename, \"w\")\n",
    "\n",
    "    def escribir_contenido(self, data):\n",
    "        self.fobj.write(data)\n",
    "\n",
    "    def __del__(self):\n",
    "        print(\"Pasa por método __del__.\")\n",
    "        # Cerramos el archivo o fichero\n",
    "        self.fobj.close()\n"
   ]
  },
  {
   "cell_type": "code",
   "execution_count": 20,
   "metadata": {},
   "outputs": [],
   "source": [
    "# Creamos el objeto\n",
    "obj = AbrirEscribirArchivo(\"mi_archivo4.txt\")\n",
    "obj.escribir_contenido(\"Este es un archivo que he creado, para la clase de Python\")"
   ]
  },
  {
   "cell_type": "code",
   "execution_count": 21,
   "metadata": {},
   "outputs": [
    {
     "data": {
      "text/plain": [
       "'Archivo txt'"
      ]
     },
     "execution_count": 21,
     "metadata": {},
     "output_type": "execute_result"
    }
   ],
   "source": [
    "obj.name"
   ]
  },
  {
   "cell_type": "code",
   "execution_count": 22,
   "metadata": {},
   "outputs": [],
   "source": [
    "obj.escribir_contenido(\"Este es un archivo que he creado, para la clase de Python\")"
   ]
  },
  {
   "cell_type": "code",
   "execution_count": 23,
   "metadata": {
    "run_control": {
     "marked": false
    }
   },
   "outputs": [
    {
     "name": "stdout",
     "output_type": "stream",
     "text": [
      "Pasa por método __del__.\n"
     ]
    }
   ],
   "source": [
    "del obj"
   ]
  },
  {
   "cell_type": "code",
   "execution_count": 24,
   "metadata": {},
   "outputs": [
    {
     "ename": "NameError",
     "evalue": "name 'obj' is not defined",
     "output_type": "error",
     "traceback": [
      "\u001b[1;31m---------------------------------------------------------------------------\u001b[0m",
      "\u001b[1;31mNameError\u001b[0m                                 Traceback (most recent call last)",
      "\u001b[1;32m<ipython-input-24-7b31341e88a0>\u001b[0m in \u001b[0;36m<module>\u001b[1;34m\u001b[0m\n\u001b[1;32m----> 1\u001b[1;33m \u001b[0mobj\u001b[0m\u001b[1;33m.\u001b[0m\u001b[0mfobj\u001b[0m\u001b[1;33m\u001b[0m\u001b[1;33m\u001b[0m\u001b[0m\n\u001b[0m",
      "\u001b[1;31mNameError\u001b[0m: name 'obj' is not defined"
     ]
    }
   ],
   "source": [
    "obj.fobj"
   ]
  },
  {
   "cell_type": "markdown",
   "metadata": {},
   "source": [
    "### Retornar una instancias\n",
    "Las funciones y los métodos pueden devolver objetos. "
   ]
  },
  {
   "cell_type": "code",
   "execution_count": 25,
   "metadata": {},
   "outputs": [
    {
     "name": "stdout",
     "output_type": "stream",
     "text": [
      "Punto medio z:  Las coordenadas del punto son: x = 4.0, y = 8.0\n",
      "<class '__main__.Point'>\n",
      "4.0\n",
      "8.0\n"
     ]
    }
   ],
   "source": [
    "class Point:\n",
    "    \"\"\" Clase de punto para representar y manipular las coordenadas x, y. \"\"\"\n",
    "     \n",
    "    def __init__(self, initX, initY ):  # Este es el constructor \n",
    "        \"\"\" Crea un nuevo punto en el origen initX,initY \"\"\"\n",
    "        self.x = initX\n",
    "        self.y = initY\n",
    "\n",
    "    def getX(self):\n",
    "        return self.x\n",
    "\n",
    "    def getY(self):\n",
    "        return self.y\n",
    "    \n",
    "    def distanciaDOrigen(self):\n",
    "        return math.sqrt((self.x ** 2) + (self.y ** 2)) \n",
    "\n",
    "    def distancia(self, point2):\n",
    "        xdiff = point2.getX()-self.getX()\n",
    "        ydiff = point2.getY()-self.getY()\n",
    "\n",
    "        dist = math.sqrt(xdiff**2 + ydiff**2)\n",
    "        return dist\n",
    "   \n",
    "    def __add__(self, otherPoint):\n",
    "        return Point(self.x + otherPoint.x, self.y + otherPoint.y)\n",
    "\n",
    "    def __sub__(self, otherPoint):\n",
    "        return Point(self.x - otherPoint.x, self.y - otherPoint.y)\n",
    "    \n",
    "    def __invert__(self):\n",
    "        return Point(self.y, self.x)\n",
    "    \n",
    "    def __eq__(self, otherPoint):  # igual que\n",
    "         return self.x == otherPoint.x and self.y == otherPoint.y\n",
    "    \n",
    "    def __str__(self):\n",
    "            return \"Las coordenadas del punto son: x = {}, y = {}\".format(self.x, self.y)\n",
    "    \n",
    "    def __repr__(self):\n",
    "            return self.__str__()\n",
    "\n",
    "    def puntomedio(self, target):\n",
    "        mx = (self.x + target.x)/2\n",
    "        my = (self.y + target.y)/2\n",
    "        return Point(mx, my)\n",
    "\n",
    "p = Point(3,4)\n",
    "q = Point(5,12)\n",
    "z = p.puntomedio(q)\n",
    "\n",
    "print(\"Punto medio z: \", z)\n",
    "print(type(z))\n",
    "print(z.getX())\n",
    "print(z.getY())"
   ]
  },
  {
   "cell_type": "code",
   "execution_count": 27,
   "metadata": {},
   "outputs": [
    {
     "data": {
      "text/plain": [
       "4.0"
      ]
     },
     "execution_count": 27,
     "metadata": {},
     "output_type": "execute_result"
    }
   ],
   "source": [
    "z.x"
   ]
  },
  {
   "cell_type": "code",
   "execution_count": 28,
   "metadata": {},
   "outputs": [
    {
     "name": "stdout",
     "output_type": "stream",
     "text": [
      "Las coordenadas del punto son: x = 4.0, y = 8.0\n"
     ]
    }
   ],
   "source": [
    "print(z)"
   ]
  },
  {
   "cell_type": "markdown",
   "metadata": {},
   "source": [
    "### Clases de tipo de iterador"
   ]
  },
  {
   "cell_type": "code",
   "execution_count": 57,
   "metadata": {},
   "outputs": [],
   "source": [
    "class OrdenInverso:\n",
    "    \"\"\"Muestra un string en Orden Inverso.\"\"\"\n",
    "    def __init__(self, data):\n",
    "        self.data = data\n",
    "        self.index = len(data)\n",
    "\n",
    "    def __iter__(self):\n",
    "        print(\"pasa por iter\")\n",
    "        return self\n",
    "\n",
    "    def __next__(self):\n",
    "        #print(\"next\")\n",
    "        self.data = self.data.lower()\n",
    "        if self.index == 0:\n",
    "            raise StopIteration\n",
    "        self.index = self.index - 1\n",
    "        return self.data[self.index]\n",
    "    \n",
    "    def retornar_valor(self, pos):\n",
    "        return self.data[pos]\n"
   ]
  },
  {
   "cell_type": "code",
   "execution_count": 46,
   "metadata": {},
   "outputs": [],
   "source": [
    "inverso = OrdenInverso('spam')"
   ]
  },
  {
   "cell_type": "code",
   "execution_count": 47,
   "metadata": {},
   "outputs": [
    {
     "data": {
      "text/plain": [
       "'spam'"
      ]
     },
     "execution_count": 47,
     "metadata": {},
     "output_type": "execute_result"
    }
   ],
   "source": [
    "inverso.data"
   ]
  },
  {
   "cell_type": "code",
   "execution_count": 48,
   "metadata": {},
   "outputs": [
    {
     "ename": "AttributeError",
     "evalue": "'OrdenInverso' object has no attribute 'tipo'",
     "output_type": "error",
     "traceback": [
      "\u001b[1;31m---------------------------------------------------------------------------\u001b[0m",
      "\u001b[1;31mAttributeError\u001b[0m                            Traceback (most recent call last)",
      "\u001b[1;32m<ipython-input-48-798f1e6c2727>\u001b[0m in \u001b[0;36m<module>\u001b[1;34m\u001b[0m\n\u001b[1;32m----> 1\u001b[1;33m \u001b[0minverso\u001b[0m\u001b[1;33m.\u001b[0m\u001b[0mtipo\u001b[0m\u001b[1;33m\u001b[0m\u001b[1;33m\u001b[0m\u001b[0m\n\u001b[0m",
      "\u001b[1;31mAttributeError\u001b[0m: 'OrdenInverso' object has no attribute 'tipo'"
     ]
    }
   ],
   "source": [
    "inverso.tipo"
   ]
  },
  {
   "cell_type": "code",
   "execution_count": 49,
   "metadata": {},
   "outputs": [
    {
     "data": {
      "text/plain": [
       "4"
      ]
     },
     "execution_count": 49,
     "metadata": {},
     "output_type": "execute_result"
    }
   ],
   "source": [
    "inverso.index"
   ]
  },
  {
   "cell_type": "code",
   "execution_count": 50,
   "metadata": {},
   "outputs": [
    {
     "data": {
      "text/plain": [
       "'a'"
      ]
     },
     "execution_count": 50,
     "metadata": {},
     "output_type": "execute_result"
    }
   ],
   "source": [
    "inverso.retornar_valor(2)"
   ]
  },
  {
   "cell_type": "code",
   "execution_count": 51,
   "metadata": {},
   "outputs": [
    {
     "data": {
      "text/plain": [
       "__main__.OrdenInverso"
      ]
     },
     "execution_count": 51,
     "metadata": {},
     "output_type": "execute_result"
    }
   ],
   "source": [
    "type(inverso)"
   ]
  },
  {
   "cell_type": "code",
   "execution_count": 52,
   "metadata": {},
   "outputs": [
    {
     "name": "stdout",
     "output_type": "stream",
     "text": [
      "pasa por iter\n",
      "m\n",
      "a\n",
      "p\n",
      "s\n"
     ]
    }
   ],
   "source": [
    "for char in inverso:\n",
    "    print(char)"
   ]
  },
  {
   "cell_type": "code",
   "execution_count": 58,
   "metadata": {},
   "outputs": [
    {
     "name": "stdout",
     "output_type": "stream",
     "text": [
      "pasa por iter\n",
      "e\n",
      "j\n",
      "a\n",
      "u\n",
      "g\n",
      "n\n",
      "e\n",
      "l\n",
      " \n",
      "n\n",
      "u\n",
      " \n",
      "s\n",
      "e\n",
      " \n",
      "n\n",
      "o\n",
      "h\n",
      "t\n",
      "y\n",
      "p\n"
     ]
    }
   ],
   "source": [
    "palabra = OrdenInverso('Python es un lenguaje')\n",
    "for p in palabra:\n",
    "    print(p)"
   ]
  },
  {
   "cell_type": "code",
   "execution_count": 59,
   "metadata": {},
   "outputs": [
    {
     "name": "stdout",
     "output_type": "stream",
     "text": [
      "pasa por iter\n",
      "a\n",
      "b\n",
      "e\n",
      "u\n",
      "r\n",
      "p\n",
      " \n",
      "a\n",
      "n\n",
      "u\n",
      " \n",
      "s\n",
      "e\n",
      " \n",
      "o\n",
      "t\n",
      "s\n",
      "e\n"
     ]
    }
   ],
   "source": [
    "palabra = OrdenInverso('Esto es una prueba')\n",
    "for p in palabra:\n",
    "    print(p)"
   ]
  },
  {
   "cell_type": "markdown",
   "metadata": {},
   "source": [
    "### Variables de clase y variables de instancia"
   ]
  },
  {
   "cell_type": "code",
   "execution_count": 12,
   "metadata": {},
   "outputs": [],
   "source": [
    "class Pokemon():\n",
    "    \n",
    "    #variable de clase\n",
    "    attack = 12\n",
    "    defense = 10\n",
    "    health = 15\n",
    "    p_type = \"Normal\"\n",
    "\n",
    "    def __init__(self, name, level=5, valor=8):\n",
    "        # variables de instancia\n",
    "        self.name = name\n",
    "        self.level = level\n",
    "        self.valor = valor  # __valor variables \"privadas\" en python no exsite este concepto pero se puede\"engañar\" con __\n",
    "        \n",
    "    def __str__(self):\n",
    "        return \"Pokemon: {}, Tipo: {}, Nivel: {}, Ataque: {}, Defensa: {}, Salud: {} \".format(self.name, self.p_type, self.level, self.attack, self.defense, self.health)\n",
    "    \n",
    "    def cambiar_ataque(self):\n",
    "        self.attack = self.attack + 10\n",
    "    \n",
    "    def gano_combate(self):\n",
    "        self.level = self.level + 1\n",
    "        self.defense = self.defense + 5\n",
    "     \n"
   ]
  },
  {
   "cell_type": "code",
   "execution_count": 13,
   "metadata": {},
   "outputs": [
    {
     "name": "stdout",
     "output_type": "stream",
     "text": [
      "Pokemon: Pikachu, Tipo: Normal, Nivel: 5, Ataque: 12, Defensa: 10, Salud: 15 \n"
     ]
    }
   ],
   "source": [
    "pikachu = Pokemon(\"Pikachu\")\n",
    "print(pikachu)"
   ]
  },
  {
   "cell_type": "code",
   "execution_count": 62,
   "metadata": {},
   "outputs": [
    {
     "data": {
      "text/plain": [
       "15"
      ]
     },
     "execution_count": 62,
     "metadata": {},
     "output_type": "execute_result"
    }
   ],
   "source": [
    "pikachu.health"
   ]
  },
  {
   "cell_type": "code",
   "execution_count": 63,
   "metadata": {},
   "outputs": [
    {
     "name": "stdout",
     "output_type": "stream",
     "text": [
      "Pokemon: Pikachu, Tipo: Normal, Nivel: 5, Ataque: 22, Defensa: 10, Salud: 15 \n"
     ]
    }
   ],
   "source": [
    "pikachu.cambiar_ataque()\n",
    "print(pikachu)"
   ]
  },
  {
   "cell_type": "code",
   "execution_count": 64,
   "metadata": {},
   "outputs": [
    {
     "name": "stdout",
     "output_type": "stream",
     "text": [
      "Pokemon: Pikachu, Tipo: Normal, Nivel: 5, Ataque: 32, Defensa: 10, Salud: 15 \n"
     ]
    }
   ],
   "source": [
    "pikachu.cambiar_ataque()\n",
    "print(pikachu)"
   ]
  },
  {
   "cell_type": "code",
   "execution_count": 65,
   "metadata": {},
   "outputs": [
    {
     "data": {
      "text/plain": [
       "32"
      ]
     },
     "execution_count": 65,
     "metadata": {},
     "output_type": "execute_result"
    }
   ],
   "source": [
    "pikachu.attack"
   ]
  },
  {
   "cell_type": "code",
   "execution_count": 66,
   "metadata": {
    "run_control": {
     "marked": false
    }
   },
   "outputs": [
    {
     "name": "stdout",
     "output_type": "stream",
     "text": [
      "Pokemon: Pikachu, Tipo: Normal, Nivel: 5, Ataque: 32, Defensa: 10, Salud: 15 \n",
      "Pokemon: Pikachu, Tipo: Normal, Nivel: 5, Ataque: 42, Defensa: 10, Salud: 15 \n",
      "Pokemon: Pikachu, Tipo: Normal, Nivel: 6, Ataque: 42, Defensa: 15, Salud: 15 \n"
     ]
    }
   ],
   "source": [
    "#pikachu = Pokemon(\"Pikachu\")\n",
    "print(pikachu)\n",
    "pikachu.attack\n",
    "pikachu.cambiar_ataque()\n",
    "pikachu.attack\n",
    "print(pikachu)\n",
    "pikachu.gano_combate()\n",
    "print(pikachu)"
   ]
  },
  {
   "cell_type": "code",
   "execution_count": 67,
   "metadata": {},
   "outputs": [],
   "source": [
    "pikachu.attack = 50"
   ]
  },
  {
   "cell_type": "code",
   "execution_count": 68,
   "metadata": {},
   "outputs": [
    {
     "name": "stdout",
     "output_type": "stream",
     "text": [
      "Pokemon: Pikachu, Tipo: Normal, Nivel: 6, Ataque: 50, Defensa: 15, Salud: 15 \n"
     ]
    }
   ],
   "source": [
    "print(pikachu)"
   ]
  },
  {
   "cell_type": "code",
   "execution_count": 69,
   "metadata": {},
   "outputs": [
    {
     "name": "stdout",
     "output_type": "stream",
     "text": [
      "Pokemon: Bulby, Tipo: Normal, Nivel: 5, Ataque: 12, Defensa: 10, Salud: 15 \n"
     ]
    }
   ],
   "source": [
    "bulby = Pokemon(\"Bulby\")\n",
    "print(bulby)"
   ]
  },
  {
   "cell_type": "code",
   "execution_count": 70,
   "metadata": {},
   "outputs": [
    {
     "name": "stdout",
     "output_type": "stream",
     "text": [
      "Pokemon: Bulby, Tipo: Normal, Nivel: 8, Ataque: 12, Defensa: 25, Salud: 15 \n"
     ]
    }
   ],
   "source": [
    "bulby.gano_combate()\n",
    "bulby.gano_combate()\n",
    "bulby.gano_combate()\n",
    "print(bulby)"
   ]
  },
  {
   "cell_type": "code",
   "execution_count": 53,
   "metadata": {},
   "outputs": [],
   "source": [
    "turtle = Pokemon(\"Turtle\", 12, 24)"
   ]
  },
  {
   "cell_type": "code",
   "execution_count": 54,
   "metadata": {},
   "outputs": [
    {
     "data": {
      "text/plain": [
       "12"
      ]
     },
     "execution_count": 54,
     "metadata": {},
     "output_type": "execute_result"
    }
   ],
   "source": [
    "turtle.level"
   ]
  },
  {
   "cell_type": "code",
   "execution_count": 55,
   "metadata": {},
   "outputs": [
    {
     "data": {
      "text/plain": [
       "24"
      ]
     },
     "execution_count": 55,
     "metadata": {},
     "output_type": "execute_result"
    }
   ],
   "source": [
    "turtle.valor"
   ]
  },
  {
   "cell_type": "code",
   "execution_count": 71,
   "metadata": {},
   "outputs": [
    {
     "name": "stdout",
     "output_type": "stream",
     "text": [
      "Bulbasaur did 20 Damage to Squirtle\n",
      "Squirtle has 100 HP left\n",
      "Squirtle did 2 Damage to Bulbasaur\n",
      "Bulbasaur has 100 HP left\n",
      "Bulbasaur did 20 Damage to Squirtle\n",
      "Squirtle has 80 HP left\n",
      "Squirtle did 2 Damage to Bulbasaur\n",
      "Bulbasaur has 97 HP left\n",
      "Bulbasaur did 20 Damage to Squirtle\n",
      "Squirtle has 60 HP left\n",
      "Squirtle did 2 Damage to Bulbasaur\n",
      "Bulbasaur has 95 HP left\n",
      "Bulbasaur did 20 Damage to Squirtle\n",
      "Squirtle has 40 HP left\n",
      "Squirtle did 2 Damage to Bulbasaur\n",
      "Bulbasaur has 92 HP left\n",
      "Bulbasaur did 20 Damage to Squirtle\n",
      "Squirtle has 20 HP left\n",
      "Bulbasaur wins! (90 HP left)\n"
     ]
    }
   ],
   "source": [
    "class Pokemon(object):\n",
    "   \n",
    "    attackingDict = {'fire': {'fire': 0.5, 'grass': 2.0, 'water': 0.5}, \n",
    "                     'grass': {'fire': 0.5, 'grass': 0.5, 'water': 2.0}, \n",
    "                     'water': {'fire': 2.0, 'grass': 0.5, 'water': 0.5}}\n",
    "    \n",
    "    def __init__(self, name, HP, Damage, type):\n",
    "        self.name = name     #Sets the name of the Pokemon\n",
    "        self.HP = HP         #The Hit Points or health of this pokemon\n",
    "        self.Damage = Damage #The amount of Damage this pokemon does every     attack\n",
    "        self.type = type #Determines the type of the pokmeon to factor in effectiveness\n",
    "\n",
    "    def Battle(self, Opponent):\n",
    "        attackDamage = self.Damage * self.attackingDict[self.type][Opponent.type]\n",
    "\n",
    "        if(self.HP > 0): #While your pokemon is alive it will coninute the Battle\n",
    "            print(\"%s did %d Damage to %s\"%(self.name, attackDamage, Opponent.name)) #Text-based combat descriptors\n",
    "            print(\"%s has %d HP left\"%(Opponent.name,Opponent.HP)) #Text-based descriptor for the opponent's health\n",
    "\n",
    "            Opponent.HP -= attackDamage #The damage you inflict upon the opponent is subtracted here\n",
    "            return Opponent.Battle(self)  #Now the Opponent pokemon attacks\n",
    "        else:\n",
    "            print(\"%s wins! (%d HP left)\" %(Opponent.name, Opponent.HP)) #declares the winner of the Battle\n",
    "            return Opponent, self  #return a tuple (Winner, Loser)\n",
    "\n",
    "\n",
    "Squirtle = Pokemon('Squirtle', 100, 5, 'water')\n",
    "Bulbasaur = Pokemon('Bulbasaur', 100, 10, 'grass')\n",
    "Winner, Loser = Bulbasaur.Battle(Squirtle)"
   ]
  },
  {
   "cell_type": "code",
   "execution_count": 74,
   "metadata": {},
   "outputs": [
    {
     "name": "stdout",
     "output_type": "stream",
     "text": [
      "Squirtle did 2 Damage to Bulbasaur\n",
      "Bulbasaur has 100 HP left\n",
      "Bulbasaur did 5 Damage to Squirtle\n",
      "Squirtle has 100 HP left\n",
      "Squirtle did 2 Damage to Bulbasaur\n",
      "Bulbasaur has 97 HP left\n",
      "Bulbasaur did 5 Damage to Squirtle\n",
      "Squirtle has 95 HP left\n",
      "Squirtle did 2 Damage to Bulbasaur\n",
      "Bulbasaur has 95 HP left\n",
      "Bulbasaur did 5 Damage to Squirtle\n",
      "Squirtle has 90 HP left\n",
      "Squirtle did 2 Damage to Bulbasaur\n",
      "Bulbasaur has 92 HP left\n",
      "Bulbasaur did 5 Damage to Squirtle\n",
      "Squirtle has 85 HP left\n",
      "Squirtle did 2 Damage to Bulbasaur\n",
      "Bulbasaur has 90 HP left\n",
      "Bulbasaur did 5 Damage to Squirtle\n",
      "Squirtle has 80 HP left\n",
      "Squirtle did 2 Damage to Bulbasaur\n",
      "Bulbasaur has 87 HP left\n",
      "Bulbasaur did 5 Damage to Squirtle\n",
      "Squirtle has 75 HP left\n",
      "Squirtle did 2 Damage to Bulbasaur\n",
      "Bulbasaur has 85 HP left\n",
      "Bulbasaur did 5 Damage to Squirtle\n",
      "Squirtle has 70 HP left\n",
      "Squirtle did 2 Damage to Bulbasaur\n",
      "Bulbasaur has 82 HP left\n",
      "Bulbasaur did 5 Damage to Squirtle\n",
      "Squirtle has 65 HP left\n",
      "Squirtle did 2 Damage to Bulbasaur\n",
      "Bulbasaur has 80 HP left\n",
      "Bulbasaur did 5 Damage to Squirtle\n",
      "Squirtle has 60 HP left\n",
      "Squirtle did 2 Damage to Bulbasaur\n",
      "Bulbasaur has 77 HP left\n",
      "Bulbasaur did 5 Damage to Squirtle\n",
      "Squirtle has 55 HP left\n",
      "Squirtle did 2 Damage to Bulbasaur\n",
      "Bulbasaur has 75 HP left\n",
      "Bulbasaur did 5 Damage to Squirtle\n",
      "Squirtle has 50 HP left\n",
      "Squirtle did 2 Damage to Bulbasaur\n",
      "Bulbasaur has 72 HP left\n",
      "Bulbasaur did 5 Damage to Squirtle\n",
      "Squirtle has 45 HP left\n",
      "Squirtle did 2 Damage to Bulbasaur\n",
      "Bulbasaur has 70 HP left\n",
      "Bulbasaur did 5 Damage to Squirtle\n",
      "Squirtle has 40 HP left\n",
      "Squirtle did 2 Damage to Bulbasaur\n",
      "Bulbasaur has 67 HP left\n",
      "Bulbasaur did 5 Damage to Squirtle\n",
      "Squirtle has 35 HP left\n",
      "Squirtle did 2 Damage to Bulbasaur\n",
      "Bulbasaur has 65 HP left\n",
      "Bulbasaur did 5 Damage to Squirtle\n",
      "Squirtle has 30 HP left\n",
      "Squirtle did 2 Damage to Bulbasaur\n",
      "Bulbasaur has 62 HP left\n",
      "Bulbasaur did 5 Damage to Squirtle\n",
      "Squirtle has 25 HP left\n",
      "Squirtle did 2 Damage to Bulbasaur\n",
      "Bulbasaur has 60 HP left\n",
      "Bulbasaur did 5 Damage to Squirtle\n",
      "Squirtle has 20 HP left\n",
      "Squirtle did 2 Damage to Bulbasaur\n",
      "Bulbasaur has 57 HP left\n",
      "Bulbasaur did 5 Damage to Squirtle\n",
      "Squirtle has 15 HP left\n",
      "Squirtle did 2 Damage to Bulbasaur\n",
      "Bulbasaur has 55 HP left\n",
      "Bulbasaur did 5 Damage to Squirtle\n",
      "Squirtle has 10 HP left\n",
      "Squirtle did 2 Damage to Bulbasaur\n",
      "Bulbasaur has 52 HP left\n",
      "Bulbasaur did 5 Damage to Squirtle\n",
      "Squirtle has 5 HP left\n",
      "Bulbasaur wins! (50 HP left)\n"
     ]
    }
   ],
   "source": [
    "Squirtle = Pokemon('Squirtle', 100, 5, 'water')\n",
    "Bulbasaur = Pokemon('Bulbasaur', 100, 10, 'water')\n",
    "Winner, Loser = Squirtle.Battle(Bulbasaur)"
   ]
  },
  {
   "cell_type": "code",
   "execution_count": 75,
   "metadata": {
    "run_control": {
     "marked": false
    }
   },
   "outputs": [
    {
     "name": "stdout",
     "output_type": "stream",
     "text": [
      "pidgy hizo daño 10 a pikachu\n",
      "pikachu tiene 120 Hit Points \n",
      "pikachu hizo daño 10 a pidgy\n",
      "pidgy tiene 100 Hit Points \n",
      "pidgy hizo daño 10 a pikachu\n",
      "pikachu tiene 110 Hit Points \n",
      "pikachu hizo daño 10 a pidgy\n",
      "pidgy tiene 90 Hit Points \n",
      "pidgy hizo daño 10 a pikachu\n",
      "pikachu tiene 100 Hit Points \n",
      "pikachu hizo daño 10 a pidgy\n",
      "pidgy tiene 80 Hit Points \n",
      "pidgy hizo daño 10 a pikachu\n",
      "pikachu tiene 90 Hit Points \n",
      "pikachu hizo daño 10 a pidgy\n",
      "pidgy tiene 70 Hit Points \n",
      "pidgy hizo daño 10 a pikachu\n",
      "pikachu tiene 80 Hit Points \n",
      "pikachu hizo daño 10 a pidgy\n",
      "pidgy tiene 60 Hit Points \n",
      "pidgy hizo daño 10 a pikachu\n",
      "pikachu tiene 70 Hit Points \n",
      "pikachu hizo daño 10 a pidgy\n",
      "pidgy tiene 50 Hit Points \n",
      "pidgy hizo daño 10 a pikachu\n",
      "pikachu tiene 60 Hit Points \n",
      "pikachu hizo daño 10 a pidgy\n",
      "pidgy tiene 40 Hit Points \n",
      "pidgy hizo daño 10 a pikachu\n",
      "pikachu tiene 50 Hit Points \n",
      "pikachu hizo daño 10 a pidgy\n",
      "pidgy tiene 30 Hit Points \n",
      "pidgy hizo daño 10 a pikachu\n",
      "pikachu tiene 40 Hit Points \n",
      "pikachu hizo daño 10 a pidgy\n",
      "pidgy tiene 20 Hit Points \n",
      "pidgy hizo daño 10 a pikachu\n",
      "pikachu tiene 30 Hit Points \n",
      "pikachu hizo daño 10 a pidgy\n",
      "pidgy tiene 10 Hit Points \n",
      "pikachu wins! (20 Hit Points)\n"
     ]
    }
   ],
   "source": [
    "class Pokemon(object):\n",
    "    def __init__(self,name,hp,damage):\n",
    "        self.name = name     #pokemon name\n",
    "        self.hp = hp         #hit-points of this particular pokemon\n",
    "        self.damage = damage #amount of damage this pokemon does every attack\n",
    "\n",
    "    def fight(self,other):\n",
    "        if(self.hp > 0):\n",
    "            print(\"%s hizo daño %d a %s\"%(self.name,self.damage,other.name))\n",
    "            print(\"%s tiene %d Hit Points \"%(other.name,other.hp))\n",
    "\n",
    "            other.hp -= self.damage\n",
    "            return other.fight(self)  #Now the other pokemon fights back!\n",
    "        else:\n",
    "            print(\"%s wins! (%d Hit Points)\"%(other.name,other.hp))\n",
    "            return other,self  #return a tuple (winner,loser)\n",
    "\n",
    "pikachu=Pokemon('pikachu', 120, 10)\n",
    "pidgy=Pokemon('pidgy', 100, 10)\n",
    "winner,loser = pidgy.fight(pikachu)"
   ]
  },
  {
   "cell_type": "markdown",
   "metadata": {},
   "source": [
    "### Acceso privados o protegidos\n",
    "\n",
    "¿Python tienen modificadores de acceso?\n",
    "\n",
    "La respuesta corta es no.\n",
    "\n",
    "Para Python, no hay una forma explícita de aplicar modificadores de acceso privados o protegidos. Todo será siempre público. Sin embargo, Python tiene convenciones generales:\n",
    "\n",
    "Python usa el guión bajo _ para representar los diferentes tipos de acceso\n",
    "\n",
    "    público — Sin subrayado.\n",
    "    protegido — guión bajo único.\n",
    "    privado : doble subrayado."
   ]
  },
  {
   "cell_type": "code",
   "execution_count": 76,
   "metadata": {},
   "outputs": [],
   "source": [
    "class Player:\n",
    "    \"\"\"Ejemplo con tipos de variables \"\"\"\n",
    "    # publica\n",
    "    health = None\n",
    "    # protegida\n",
    "    _magic = None\n",
    "    # privada\n",
    "    __name = None\n",
    "    \n",
    "    def __init__(self, name, health, magic):\n",
    "        self.health = health\n",
    "        self._magic = magic\n",
    "        self.__name = name"
   ]
  },
  {
   "cell_type": "code",
   "execution_count": 77,
   "metadata": {},
   "outputs": [
    {
     "data": {
      "text/plain": [
       "120"
      ]
     },
     "execution_count": 77,
     "metadata": {},
     "output_type": "execute_result"
    }
   ],
   "source": [
    "p1 = Player(\"Jordan\", 120, 300)\n",
    "p1.health"
   ]
  },
  {
   "cell_type": "code",
   "execution_count": 78,
   "metadata": {},
   "outputs": [
    {
     "data": {
      "text/plain": [
       "300"
      ]
     },
     "execution_count": 78,
     "metadata": {},
     "output_type": "execute_result"
    }
   ],
   "source": [
    "p1._magic"
   ]
  },
  {
   "cell_type": "code",
   "execution_count": 79,
   "metadata": {
    "run_control": {
     "marked": false
    }
   },
   "outputs": [
    {
     "ename": "AttributeError",
     "evalue": "'Player' object has no attribute '__name'",
     "output_type": "error",
     "traceback": [
      "\u001b[1;31m---------------------------------------------------------------------------\u001b[0m",
      "\u001b[1;31mAttributeError\u001b[0m                            Traceback (most recent call last)",
      "\u001b[1;32m<ipython-input-79-b357a526aec6>\u001b[0m in \u001b[0;36m<module>\u001b[1;34m\u001b[0m\n\u001b[1;32m----> 1\u001b[1;33m \u001b[0mp1\u001b[0m\u001b[1;33m.\u001b[0m\u001b[0m__name\u001b[0m\u001b[1;33m\u001b[0m\u001b[1;33m\u001b[0m\u001b[0m\n\u001b[0m",
      "\u001b[1;31mAttributeError\u001b[0m: 'Player' object has no attribute '__name'"
     ]
    }
   ],
   "source": [
    "p1.__name"
   ]
  },
  {
   "cell_type": "code",
   "execution_count": 80,
   "metadata": {},
   "outputs": [
    {
     "data": {
      "text/plain": [
       "'Jordan'"
      ]
     },
     "execution_count": 80,
     "metadata": {},
     "output_type": "execute_result"
    }
   ],
   "source": [
    " p1._Player__name"
   ]
  },
  {
   "cell_type": "markdown",
   "metadata": {},
   "source": [
    "Vemos que tanto health como _magic se pueden acceder fácilmente con solo llamar a sus respectivos\n",
    "variables. que la health sea pública es normal que se acceda a ella, pero la magic es\n",
    "protegido normalmente no se debe acceder fácilmente porque solo la clase o las subclases deben acceder a él. El guión bajo \"_\" le dice a quien está intentando acceder que esto solo debe ser accedido por la clase y sus subclases.\n",
    "\n",
    "Para el acceso privado (doble subrayado), Python lo maneja de manera un poco diferente.\n",
    "\n",
    "Observe que cuando intento acceder a __name, aparece un error. Esto se debe a que Python hizo\n",
    "un intento de ocultar el acceso a esta variable. Sin embargo, todas las variables en Python son públicas y se puede acceder a ellas."
   ]
  },
  {
   "cell_type": "code",
   "execution_count": 25,
   "metadata": {},
   "outputs": [
    {
     "data": {
      "text/plain": [
       "['_Player__name',\n",
       " '__class__',\n",
       " '__delattr__',\n",
       " '__dict__',\n",
       " '__dir__',\n",
       " '__doc__',\n",
       " '__eq__',\n",
       " '__format__',\n",
       " '__ge__',\n",
       " '__getattribute__',\n",
       " '__gt__',\n",
       " '__hash__',\n",
       " '__init__',\n",
       " '__init_subclass__',\n",
       " '__le__',\n",
       " '__lt__',\n",
       " '__module__',\n",
       " '__ne__',\n",
       " '__new__',\n",
       " '__reduce__',\n",
       " '__reduce_ex__',\n",
       " '__repr__',\n",
       " '__setattr__',\n",
       " '__sizeof__',\n",
       " '__str__',\n",
       " '__subclasshook__',\n",
       " '__weakref__',\n",
       " '_magic',\n",
       " 'health']"
      ]
     },
     "execution_count": 25,
     "metadata": {},
     "output_type": "execute_result"
    }
   ],
   "source": [
    " dir(Player) "
   ]
  },
  {
   "cell_type": "code",
   "execution_count": 28,
   "metadata": {},
   "outputs": [
    {
     "data": {
      "text/plain": [
       "'Ejemplo con tipos de varibles '"
      ]
     },
     "execution_count": 28,
     "metadata": {},
     "output_type": "execute_result"
    }
   ],
   "source": [
    "Player.__doc__"
   ]
  },
  {
   "cell_type": "code",
   "execution_count": 29,
   "metadata": {},
   "outputs": [
    {
     "data": {
      "text/plain": [
       "'__main__'"
      ]
     },
     "execution_count": 29,
     "metadata": {},
     "output_type": "execute_result"
    }
   ],
   "source": [
    "Player.__module__"
   ]
  },
  {
   "cell_type": "code",
   "execution_count": null,
   "metadata": {},
   "outputs": [],
   "source": [
    "# Polimorfismo "
   ]
  },
  {
   "cell_type": "code",
   "execution_count": 6,
   "metadata": {},
   "outputs": [],
   "source": [
    "class Persona:\n",
    "    \n",
    "    def __init__(self, nombre, año_nac):\n",
    "        self.nombre = nombre\n",
    "        self.año_nac = año_nac\n",
    "    \n",
    "    def __str__(self):\n",
    "        return '{} nació en {}'.format(self.nombre, self.año_nac)\n",
    "    \n",
    "class Estudiante:\n",
    "    \n",
    "    def __init__(self, nombre, año_nac, curso):\n",
    "        self.nombre = nombre\n",
    "        self.año_nac = año_nac\n",
    "        self.curso = curso\n",
    "        self.n_asistencias = 0\n",
    "        \n",
    "    def __str__(self):  \n",
    "        return '{} es estudiante del curso {}'.format(self.nombre, self.curso)\n",
    "   "
   ]
  },
  {
   "cell_type": "code",
   "execution_count": 7,
   "metadata": {},
   "outputs": [
    {
     "name": "stdout",
     "output_type": "stream",
     "text": [
      "Maricarmen nació en 2005\n"
     ]
    }
   ],
   "source": [
    "Maria = Persona(\"Maricarmen\", 2005)\n",
    "print(Maria)"
   ]
  },
  {
   "cell_type": "code",
   "execution_count": 8,
   "metadata": {},
   "outputs": [
    {
     "name": "stdout",
     "output_type": "stream",
     "text": [
      "José Perez es estudiante del curso Psicología\n"
     ]
    }
   ],
   "source": [
    "Jose = Estudiante(\"José Perez\", 2002, \"Psicología\")\n",
    "print(Jose)"
   ]
  },
  {
   "cell_type": "code",
   "execution_count": 9,
   "metadata": {},
   "outputs": [],
   "source": [
    "def mostrar_info(objeto):\n",
    "    print(objeto)"
   ]
  },
  {
   "cell_type": "code",
   "execution_count": 10,
   "metadata": {},
   "outputs": [
    {
     "name": "stdout",
     "output_type": "stream",
     "text": [
      "Maricarmen nació en 2005\n"
     ]
    }
   ],
   "source": [
    "mostrar_info(Maria)"
   ]
  },
  {
   "cell_type": "code",
   "execution_count": 11,
   "metadata": {},
   "outputs": [
    {
     "name": "stdout",
     "output_type": "stream",
     "text": [
      "José Perez es estudiante del curso Psicología\n"
     ]
    }
   ],
   "source": [
    "mostrar_info(Jose)"
   ]
  },
  {
   "cell_type": "code",
   "execution_count": 14,
   "metadata": {},
   "outputs": [
    {
     "name": "stdout",
     "output_type": "stream",
     "text": [
      "Pokemon: Pikachu, Tipo: Normal, Nivel: 5, Ataque: 12, Defensa: 10, Salud: 15 \n"
     ]
    }
   ],
   "source": [
    "mostrar_info(pikachu)"
   ]
  },
  {
   "cell_type": "code",
   "execution_count": null,
   "metadata": {},
   "outputs": [],
   "source": [
    "Jose."
   ]
  },
  {
   "cell_type": "code",
   "execution_count": null,
   "metadata": {},
   "outputs": [],
   "source": [
    "Maria."
   ]
  },
  {
   "cell_type": "markdown",
   "metadata": {},
   "source": [
    "## Herencia"
   ]
  },
  {
   "cell_type": "code",
   "execution_count": 57,
   "metadata": {},
   "outputs": [],
   "source": [
    "from datetime import date\n",
    "\n",
    "AÑO_ACTUAL = date.today().year\n",
    "\n",
    "class Persona:\n",
    "    \n",
    "    def __init__(self, nombre, año_nac):  # Método constructor\n",
    "        self.nombre = nombre\n",
    "        self.año_nac = año_nac\n",
    "        \n",
    "    def obtener_edad(self):\n",
    "        return AÑO_ACTUAL - self.año_nac\n",
    "    \n",
    "    def __str__(self):\n",
    "        return '{} nació en {} y tiene {} años'.format(self.nombre, self.año_nac, self.obtener_edad())\n"
   ]
  },
  {
   "cell_type": "code",
   "execution_count": 58,
   "metadata": {},
   "outputs": [],
   "source": [
    "# Instanciar\n",
    "\n",
    "alicia = Persona(\"Alicia Mendoza\", 1992)"
   ]
  },
  {
   "cell_type": "code",
   "execution_count": 59,
   "metadata": {},
   "outputs": [
    {
     "data": {
      "text/plain": [
       "'Alicia Mendoza'"
      ]
     },
     "execution_count": 59,
     "metadata": {},
     "output_type": "execute_result"
    }
   ],
   "source": [
    "alicia.nombre"
   ]
  },
  {
   "cell_type": "code",
   "execution_count": 60,
   "metadata": {},
   "outputs": [
    {
     "ename": "TypeError",
     "evalue": "unsupported operand type(s) for +: 'int' and 'str'",
     "output_type": "error",
     "traceback": [
      "\u001b[1;31m---------------------------------------------------------------------------\u001b[0m",
      "\u001b[1;31mTypeError\u001b[0m                                 Traceback (most recent call last)",
      "\u001b[1;32m<ipython-input-60-7ae8c7de2979>\u001b[0m in \u001b[0;36m<module>\u001b[1;34m\u001b[0m\n\u001b[1;32m----> 1\u001b[1;33m \u001b[0mprint\u001b[0m\u001b[1;33m(\u001b[0m\u001b[0malicia\u001b[0m\u001b[1;33m.\u001b[0m\u001b[0mobtener_edad\u001b[0m\u001b[1;33m(\u001b[0m\u001b[1;34m\"10\"\u001b[0m\u001b[1;33m)\u001b[0m\u001b[1;33m)\u001b[0m\u001b[1;33m\u001b[0m\u001b[1;33m\u001b[0m\u001b[0m\n\u001b[0m",
      "\u001b[1;32m<ipython-input-57-c31065ce4f9b>\u001b[0m in \u001b[0;36mobtener_edad\u001b[1;34m(self, c)\u001b[0m\n\u001b[0;32m     10\u001b[0m \u001b[1;33m\u001b[0m\u001b[0m\n\u001b[0;32m     11\u001b[0m     \u001b[1;32mdef\u001b[0m \u001b[0mobtener_edad\u001b[0m\u001b[1;33m(\u001b[0m\u001b[0mself\u001b[0m\u001b[1;33m,\u001b[0m \u001b[0mc\u001b[0m\u001b[1;33m)\u001b[0m\u001b[1;33m:\u001b[0m\u001b[1;33m\u001b[0m\u001b[1;33m\u001b[0m\u001b[0m\n\u001b[1;32m---> 12\u001b[1;33m         \u001b[1;32mreturn\u001b[0m \u001b[1;33m(\u001b[0m\u001b[0mAÑO_ACTUAL\u001b[0m \u001b[1;33m-\u001b[0m \u001b[0mself\u001b[0m\u001b[1;33m.\u001b[0m\u001b[0maño_nac\u001b[0m \u001b[1;33m)\u001b[0m \u001b[1;33m+\u001b[0m \u001b[0mc\u001b[0m\u001b[1;33m\u001b[0m\u001b[1;33m\u001b[0m\u001b[0m\n\u001b[0m\u001b[0;32m     13\u001b[0m \u001b[1;33m\u001b[0m\u001b[0m\n\u001b[0;32m     14\u001b[0m     \u001b[1;32mdef\u001b[0m \u001b[0m__str__\u001b[0m\u001b[1;33m(\u001b[0m\u001b[0mself\u001b[0m\u001b[1;33m)\u001b[0m\u001b[1;33m:\u001b[0m\u001b[1;33m\u001b[0m\u001b[1;33m\u001b[0m\u001b[0m\n",
      "\u001b[1;31mTypeError\u001b[0m: unsupported operand type(s) for +: 'int' and 'str'"
     ]
    }
   ],
   "source": [
    "print(alicia.obtener_edad(\"10\"))"
   ]
  },
  {
   "cell_type": "code",
   "execution_count": 48,
   "metadata": {},
   "outputs": [
    {
     "name": "stdout",
     "output_type": "stream",
     "text": [
      "Alicia Mendoza nació en 1992 y tiene 29 años\n"
     ]
    }
   ],
   "source": [
    "print(alicia)"
   ]
  },
  {
   "cell_type": "code",
   "execution_count": 78,
   "metadata": {
    "run_control": {
     "marked": false
    }
   },
   "outputs": [],
   "source": [
    "from datetime import date\n",
    "\n",
    "AÑO_ACTUAL = date.today().year\n",
    "\n",
    "class Persona(object):\n",
    "    \n",
    "    def __init__(self, nombre, año_nac):\n",
    "        self.nombre = nombre\n",
    "        self.año_nac = año_nac\n",
    "        \n",
    "    def obtener_edad(self):\n",
    "        return AÑO_ACTUAL- self.año_nac\n",
    "    \n",
    "    def __str__(self):\n",
    "        return '{} nació en {}'.format(self.nombre, self.año_nac)\n",
    "\n",
    "# Crearemos la clase Estudiante utilizando la herencia   \n",
    "\n",
    "class Estudiante(Persona):\n",
    "    \n",
    "    def __init__(self, nombre, año_nac, curso):\n",
    "        Persona.__init__(self, nombre, año_nac)\n",
    "        #super().__init__(nombre, año_nac)\n",
    "        self.curso = curso\n",
    "        self.n_asistencias = 0\n",
    "        \n",
    "    def registrar_asistencia(self):\n",
    "        self.n_asistencias += 1\n",
    "\n",
    "    def __str__(self):  # métodos anuladores o overrriding\n",
    "        return '{} es estudiante del curso {}'.format(self.nombre, self.curso)"
   ]
  },
  {
   "cell_type": "code",
   "execution_count": 79,
   "metadata": {},
   "outputs": [
    {
     "name": "stdout",
     "output_type": "stream",
     "text": [
      "29\n",
      "Alicia Mendoza nació en 1992\n"
     ]
    }
   ],
   "source": [
    "alicia = Persona(\"Alicia Mendoza\", 1992)\n",
    "print(alicia.obtener_edad())\n",
    "print(alicia)"
   ]
  },
  {
   "cell_type": "code",
   "execution_count": 80,
   "metadata": {},
   "outputs": [
    {
     "data": {
      "text/plain": [
       "'Alicia Mendoza'"
      ]
     },
     "execution_count": 80,
     "metadata": {},
     "output_type": "execute_result"
    }
   ],
   "source": [
    "alicia.nombre"
   ]
  },
  {
   "cell_type": "code",
   "execution_count": 81,
   "metadata": {},
   "outputs": [
    {
     "ename": "AttributeError",
     "evalue": "'Persona' object has no attribute 'curso'",
     "output_type": "error",
     "traceback": [
      "\u001b[1;31m---------------------------------------------------------------------------\u001b[0m",
      "\u001b[1;31mAttributeError\u001b[0m                            Traceback (most recent call last)",
      "\u001b[1;32m<ipython-input-81-aa25097f4af8>\u001b[0m in \u001b[0;36m<module>\u001b[1;34m\u001b[0m\n\u001b[1;32m----> 1\u001b[1;33m \u001b[0malicia\u001b[0m\u001b[1;33m.\u001b[0m\u001b[0mcurso\u001b[0m\u001b[1;33m\u001b[0m\u001b[1;33m\u001b[0m\u001b[0m\n\u001b[0m",
      "\u001b[1;31mAttributeError\u001b[0m: 'Persona' object has no attribute 'curso'"
     ]
    }
   ],
   "source": [
    "alicia.curso"
   ]
  },
  {
   "cell_type": "code",
   "execution_count": 82,
   "metadata": {},
   "outputs": [
    {
     "name": "stdout",
     "output_type": "stream",
     "text": [
      "Pedro Perez es estudiante del curso Programación Python\n"
     ]
    }
   ],
   "source": [
    "pedro = Estudiante(\"Pedro Perez\", 1991, \"Programación Python\")\n",
    "print(pedro)"
   ]
  },
  {
   "cell_type": "code",
   "execution_count": 83,
   "metadata": {},
   "outputs": [
    {
     "data": {
      "text/plain": [
       "'Pedro Perez'"
      ]
     },
     "execution_count": 83,
     "metadata": {},
     "output_type": "execute_result"
    }
   ],
   "source": [
    "pedro.nombre"
   ]
  },
  {
   "cell_type": "code",
   "execution_count": 84,
   "metadata": {},
   "outputs": [
    {
     "data": {
      "text/plain": [
       "'Programación Python'"
      ]
     },
     "execution_count": 84,
     "metadata": {},
     "output_type": "execute_result"
    }
   ],
   "source": [
    "pedro.curso"
   ]
  },
  {
   "cell_type": "code",
   "execution_count": 85,
   "metadata": {},
   "outputs": [
    {
     "ename": "SyntaxError",
     "evalue": "invalid syntax (<ipython-input-85-00bb590c6c13>, line 1)",
     "output_type": "error",
     "traceback": [
      "\u001b[1;36m  File \u001b[1;32m\"<ipython-input-85-00bb590c6c13>\"\u001b[1;36m, line \u001b[1;32m1\u001b[0m\n\u001b[1;33m    alicia.\u001b[0m\n\u001b[1;37m           ^\u001b[0m\n\u001b[1;31mSyntaxError\u001b[0m\u001b[1;31m:\u001b[0m invalid syntax\n"
     ]
    }
   ],
   "source": [
    "alicia."
   ]
  },
  {
   "cell_type": "code",
   "execution_count": 86,
   "metadata": {},
   "outputs": [
    {
     "ename": "SyntaxError",
     "evalue": "invalid syntax (<ipython-input-86-5d31403cf818>, line 1)",
     "output_type": "error",
     "traceback": [
      "\u001b[1;36m  File \u001b[1;32m\"<ipython-input-86-5d31403cf818>\"\u001b[1;36m, line \u001b[1;32m1\u001b[0m\n\u001b[1;33m    pedro.\u001b[0m\n\u001b[1;37m          ^\u001b[0m\n\u001b[1;31mSyntaxError\u001b[0m\u001b[1;31m:\u001b[0m invalid syntax\n"
     ]
    }
   ],
   "source": [
    "pedro."
   ]
  },
  {
   "cell_type": "code",
   "execution_count": 87,
   "metadata": {},
   "outputs": [
    {
     "name": "stdout",
     "output_type": "stream",
     "text": [
      "Pedro Perez es estudiante del curso Programación Python\n"
     ]
    }
   ],
   "source": [
    "print(pedro)"
   ]
  },
  {
   "cell_type": "code",
   "execution_count": 88,
   "metadata": {},
   "outputs": [
    {
     "name": "stdout",
     "output_type": "stream",
     "text": [
      "Alicia Mendoza nació en 1992\n"
     ]
    }
   ],
   "source": [
    "print(alicia)"
   ]
  },
  {
   "cell_type": "code",
   "execution_count": 89,
   "metadata": {},
   "outputs": [
    {
     "name": "stdout",
     "output_type": "stream",
     "text": [
      "1\n",
      "30\n"
     ]
    }
   ],
   "source": [
    "pedro.registrar_asistencia()\n",
    "print(pedro.n_asistencias)\n",
    "print(pedro.obtener_edad())"
   ]
  },
  {
   "cell_type": "code",
   "execution_count": 90,
   "metadata": {},
   "outputs": [
    {
     "name": "stdout",
     "output_type": "stream",
     "text": [
      "Maria Fernandez es estudiante del curso Programación Python\n",
      "3\n",
      "28\n"
     ]
    }
   ],
   "source": [
    "maria = Estudiante(\"Maria Fernandez\", 1993, \"Programación Python\")\n",
    "print(maria)\n",
    "maria.registrar_asistencia()\n",
    "maria.registrar_asistencia()\n",
    "maria.registrar_asistencia()\n",
    "print(maria.n_asistencias)\n",
    "print(maria.obtener_edad())"
   ]
  },
  {
   "cell_type": "markdown",
   "metadata": {},
   "source": [
    "isinstance(objeto, claseinfo): permite verificar el tipo de una instancia. Retorna True si objeto es una instancia del argumento claseinfo.  "
   ]
  },
  {
   "cell_type": "code",
   "execution_count": 91,
   "metadata": {
    "run_control": {
     "marked": false
    }
   },
   "outputs": [
    {
     "data": {
      "text/plain": [
       "True"
      ]
     },
     "execution_count": 91,
     "metadata": {},
     "output_type": "execute_result"
    }
   ],
   "source": [
    "isinstance(alicia, Persona)"
   ]
  },
  {
   "cell_type": "code",
   "execution_count": 92,
   "metadata": {},
   "outputs": [
    {
     "data": {
      "text/plain": [
       "False"
      ]
     },
     "execution_count": 92,
     "metadata": {},
     "output_type": "execute_result"
    }
   ],
   "source": [
    "isinstance(alicia, Estudiante)"
   ]
  },
  {
   "cell_type": "code",
   "execution_count": 93,
   "metadata": {},
   "outputs": [
    {
     "data": {
      "text/plain": [
       "True"
      ]
     },
     "execution_count": 93,
     "metadata": {},
     "output_type": "execute_result"
    }
   ],
   "source": [
    "isinstance(maria, Estudiante)"
   ]
  },
  {
   "cell_type": "code",
   "execution_count": 94,
   "metadata": {},
   "outputs": [
    {
     "data": {
      "text/plain": [
       "True"
      ]
     },
     "execution_count": 94,
     "metadata": {},
     "output_type": "execute_result"
    }
   ],
   "source": [
    "isinstance(pedro, Persona)"
   ]
  },
  {
   "cell_type": "code",
   "execution_count": 95,
   "metadata": {},
   "outputs": [
    {
     "data": {
      "text/plain": [
       "True"
      ]
     },
     "execution_count": 95,
     "metadata": {},
     "output_type": "execute_result"
    }
   ],
   "source": [
    "isinstance(pedro, Estudiante)"
   ]
  },
  {
   "cell_type": "code",
   "execution_count": 80,
   "metadata": {},
   "outputs": [
    {
     "data": {
      "text/plain": [
       "1991"
      ]
     },
     "execution_count": 80,
     "metadata": {},
     "output_type": "execute_result"
    }
   ],
   "source": [
    "pedro.año_nac"
   ]
  },
  {
   "cell_type": "markdown",
   "metadata": {},
   "source": [
    "issubclass(clase, claseinfo): permite verificar la herencia de clases. Retorna True si clase, es una clase derivada o subclase de claseinfo. "
   ]
  },
  {
   "cell_type": "code",
   "execution_count": 96,
   "metadata": {},
   "outputs": [
    {
     "data": {
      "text/plain": [
       "True"
      ]
     },
     "execution_count": 96,
     "metadata": {},
     "output_type": "execute_result"
    }
   ],
   "source": [
    "issubclass(Estudiante, Persona)"
   ]
  },
  {
   "cell_type": "code",
   "execution_count": 97,
   "metadata": {},
   "outputs": [
    {
     "data": {
      "text/plain": [
       "False"
      ]
     },
     "execution_count": 97,
     "metadata": {},
     "output_type": "execute_result"
    }
   ],
   "source": [
    "issubclass(Persona, Estudiante)"
   ]
  },
  {
   "cell_type": "code",
   "execution_count": 109,
   "metadata": {
    "run_control": {
     "marked": false
    }
   },
   "outputs": [
    {
     "name": "stdout",
     "output_type": "stream",
     "text": [
      "<class 'object'>\n",
      "['__class__', '__delattr__', '__dir__', '__doc__', '__eq__', '__format__', '__ge__', '__getattribute__', '__gt__', '__hash__', '__init__', '__init_subclass__', '__le__', '__lt__', '__ne__', '__new__', '__reduce__', '__reduce_ex__', '__repr__', '__setattr__', '__sizeof__', '__str__', '__subclasshook__']\n"
     ]
    }
   ],
   "source": [
    "test = object()  # base de todas las clases\n",
    "\n",
    "print(type(test))\n",
    "print(dir(test))"
   ]
  },
  {
   "cell_type": "markdown",
   "metadata": {},
   "source": [
    "### Herencia Múltiple"
   ]
  },
  {
   "cell_type": "code",
   "execution_count": 98,
   "metadata": {},
   "outputs": [],
   "source": [
    "class Estudiante(object):  #Creamos la clase padre\n",
    "    \n",
    "    def __init__(self, nombre, edad): \n",
    "        self.nombre = nombre \n",
    "        self.edad = int(edad)\n",
    "        \n",
    "class Universidad(object):\n",
    "    \n",
    "    def presentar_facultad (self):\n",
    "        print(\"\"\"Estudio en la Facultad de Psicologia\"\"\")\n",
    "\n",
    "class Psicologia(Estudiante, Universidad): # Estudiante Clase principal y Universidad en secundaria\n",
    "                                                \n",
    "    def presentarse(self): \n",
    "        self.clase = \"Psicología\"\n",
    "        print('Soy {}, tengo {} años y soy estudiante de {}'.format(self.nombre, self.edad, self.clase)) \n",
    "      \n"
   ]
  },
  {
   "cell_type": "code",
   "execution_count": 99,
   "metadata": {},
   "outputs": [],
   "source": [
    "maria = Estudiante(\"Maria Fernandez\", \"19\")\n"
   ]
  },
  {
   "cell_type": "code",
   "execution_count": 100,
   "metadata": {},
   "outputs": [
    {
     "data": {
      "text/plain": [
       "'Maria Fernandez'"
      ]
     },
     "execution_count": 100,
     "metadata": {},
     "output_type": "execute_result"
    }
   ],
   "source": [
    "maria.nombre"
   ]
  },
  {
   "cell_type": "code",
   "execution_count": 101,
   "metadata": {},
   "outputs": [
    {
     "data": {
      "text/plain": [
       "19"
      ]
     },
     "execution_count": 101,
     "metadata": {},
     "output_type": "execute_result"
    }
   ],
   "source": [
    "maria.edad"
   ]
  },
  {
   "cell_type": "code",
   "execution_count": null,
   "metadata": {},
   "outputs": [],
   "source": [
    "maria."
   ]
  },
  {
   "cell_type": "code",
   "execution_count": 103,
   "metadata": {},
   "outputs": [
    {
     "name": "stdout",
     "output_type": "stream",
     "text": [
      "Soy Gustavo Ortiz, tengo 18 años y soy estudiante de Psicología\n",
      "Estudio en la Facultad de Psicologia\n"
     ]
    },
    {
     "data": {
      "text/plain": [
       "'Gustavo Ortiz'"
      ]
     },
     "execution_count": 103,
     "metadata": {},
     "output_type": "execute_result"
    }
   ],
   "source": [
    "gus = Psicologia('Gustavo Ortiz', 18) \n",
    "gus.presentarse() \n",
    "gus.presentar_facultad()\n",
    "gus.nombre"
   ]
  },
  {
   "cell_type": "code",
   "execution_count": null,
   "metadata": {},
   "outputs": [],
   "source": [
    "gus."
   ]
  },
  {
   "cell_type": "code",
   "execution_count": 97,
   "metadata": {},
   "outputs": [],
   "source": [
    "jose = Estudiante(\"Jose Perez\", 21)"
   ]
  },
  {
   "cell_type": "code",
   "execution_count": null,
   "metadata": {},
   "outputs": [],
   "source": [
    "jose."
   ]
  },
  {
   "cell_type": "markdown",
   "metadata": {},
   "source": [
    "MRO Method Resolution Order especifica el orden de la herencia y que determina que método heredar si tenemos dos clases padre con el mismo método "
   ]
  },
  {
   "cell_type": "code",
   "execution_count": 104,
   "metadata": {
    "run_control": {
     "marked": false
    }
   },
   "outputs": [
    {
     "data": {
      "text/plain": [
       "(__main__.Psicologia, __main__.Estudiante, __main__.Universidad, object)"
      ]
     },
     "execution_count": 104,
     "metadata": {},
     "output_type": "execute_result"
    }
   ],
   "source": [
    "Psicologia.__mro__  # Method Resolution Order"
   ]
  },
  {
   "cell_type": "code",
   "execution_count": 99,
   "metadata": {},
   "outputs": [
    {
     "data": {
      "text/plain": [
       "(__main__.Estudiante, object)"
      ]
     },
     "execution_count": 99,
     "metadata": {},
     "output_type": "execute_result"
    }
   ],
   "source": [
    "Estudiante.__mro__"
   ]
  },
  {
   "cell_type": "code",
   "execution_count": 100,
   "metadata": {},
   "outputs": [
    {
     "data": {
      "text/plain": [
       "(__main__.Universidad, object)"
      ]
     },
     "execution_count": 100,
     "metadata": {},
     "output_type": "execute_result"
    }
   ],
   "source": [
    "Universidad.__mro__"
   ]
  },
  {
   "cell_type": "code",
   "execution_count": 112,
   "metadata": {},
   "outputs": [],
   "source": [
    "class Estudiante(object):  #Creamos la clase padre\n",
    "    \n",
    "    def __init__(self, nombre, edad): \n",
    "        self.nombre = nombre \n",
    "        self.edad = int(edad)\n",
    "    \n",
    "    def __str__(self):\n",
    "        return f'El alumno {self.nombre} tiene {self.edad}'\n",
    "       \n",
    "class Universidad(object):\n",
    "    \n",
    "    def __str__(self):\n",
    "        return f\"Estudio en la Facultad de Psicologia\"\n",
    "        \n",
    "class Psicologia(Estudiante, Universidad): # Estudiante Clase principal y Universidad en secundaria\n",
    "    \n",
    "    def __str__(self): \n",
    "        self.clase = \"Psicología\"\n",
    "        return f'Soy {self.nombre}, tengo {self.edad} años y soy estudiante de {self.clase}'"
   ]
  },
  {
   "cell_type": "code",
   "execution_count": 113,
   "metadata": {},
   "outputs": [],
   "source": [
    "gus = Psicologia('Gustavo Ortiz', 18) "
   ]
  },
  {
   "cell_type": "code",
   "execution_count": 114,
   "metadata": {},
   "outputs": [
    {
     "name": "stdout",
     "output_type": "stream",
     "text": [
      "Estudio en la Facultad de Psicologia\n"
     ]
    }
   ],
   "source": [
    "print(gus)"
   ]
  },
  {
   "cell_type": "markdown",
   "metadata": {},
   "source": [
    "## Enumeraciones\n",
    "\n",
    "Sintaxis enumerate(iterable, start=0) returna un objeto iterable"
   ]
  },
  {
   "cell_type": "code",
   "execution_count": 116,
   "metadata": {},
   "outputs": [
    {
     "name": "stdout",
     "output_type": "stream",
     "text": [
      "1 individual\n",
      "2 doble\n",
      "3 triple\n",
      "4 suite\n"
     ]
    }
   ],
   "source": [
    "mi_lista = ['individual', 'doble', 'triple', 'suite']\n",
    "for c, valor in enumerate(mi_lista, 0): # cambiar el valor 1\n",
    "    print(c, valor)"
   ]
  },
  {
   "cell_type": "code",
   "execution_count": 117,
   "metadata": {},
   "outputs": [
    {
     "name": "stdout",
     "output_type": "stream",
     "text": [
      "0 H\n",
      "1 O\n",
      "2 L\n",
      "3 A\n"
     ]
    }
   ],
   "source": [
    "palabra = \"HOLA\"\n",
    "for c, valor in enumerate(palabra, 0): # cambiar el valor 1\n",
    "    print(c, valor)"
   ]
  },
  {
   "cell_type": "code",
   "execution_count": 120,
   "metadata": {},
   "outputs": [],
   "source": [
    "tupla = enumerate(palabra, 0)\n"
   ]
  },
  {
   "cell_type": "code",
   "execution_count": 122,
   "metadata": {},
   "outputs": [
    {
     "name": "stdout",
     "output_type": "stream",
     "text": [
      "(0, 'H')\n",
      "(1, 'O')\n",
      "(2, 'L')\n",
      "(3, 'A')\n"
     ]
    }
   ],
   "source": [
    "for x in tupla:\n",
    "    print(x)"
   ]
  },
  {
   "cell_type": "code",
   "execution_count": 10,
   "metadata": {
    "run_control": {
     "marked": false
    }
   },
   "outputs": [],
   "source": [
    "t_hab = enumerate(mi_lista, 0)"
   ]
  },
  {
   "cell_type": "code",
   "execution_count": 11,
   "metadata": {},
   "outputs": [
    {
     "data": {
      "text/plain": [
       "<enumerate at 0x21c22ff9980>"
      ]
     },
     "execution_count": 11,
     "metadata": {},
     "output_type": "execute_result"
    }
   ],
   "source": [
    "t_hab"
   ]
  },
  {
   "cell_type": "code",
   "execution_count": 13,
   "metadata": {},
   "outputs": [
    {
     "name": "stdout",
     "output_type": "stream",
     "text": [
      "0 individual\n",
      "1 doble\n",
      "2 triple\n",
      "3 suite\n"
     ]
    }
   ],
   "source": [
    "for c, valor in t_hab:\n",
    "    print(c, valor)"
   ]
  },
  {
   "cell_type": "code",
   "execution_count": 109,
   "metadata": {},
   "outputs": [
    {
     "name": "stdout",
     "output_type": "stream",
     "text": [
      "0 ROJO\n",
      "1 VERDE\n",
      "2 AZUL\n"
     ]
    },
    {
     "data": {
      "text/plain": [
       "{'ROJO': 0, 'VERDE': 1, 'AZUL': 2}"
      ]
     },
     "execution_count": 109,
     "metadata": {},
     "output_type": "execute_result"
    }
   ],
   "source": [
    "colletion = [\"ROJO\", \"VERDE\", \"AZUL\"]\n",
    "colores = {}\n",
    "for i, value in enumerate(colletion):\n",
    "    colores[value] = i\n",
    "    print(i, value)\n",
    "colores"
   ]
  },
  {
   "attachments": {
    "image.png": {
     "image/png": "[encoded data removed]"
    }
   },
   "cell_type": "markdown",
   "metadata": {},
   "source": [
    "### El módulo enum\n",
    "\n",
    "Este módulo soporta cuatro clases de enumeración que se pueden usar para definir conjuntos únicos de nombres y valores: Enum, IntEnum, Flag, and IntFlag.  También define un decorador, unique(), y un ayudante, auto.\n",
    "\n",
    "    Enum: Clase base para crear constantes enumeradas. \n",
    "    IntEnum: Clase base para crear constantes enumeradas que también son subclases de int.\n",
    "    IntFlag: se basa en int . La diferencia IntFlag miembros de IntFlag se puede combinar utilizando los operadores bit a \n",
    "    bit (&, |, ^, ~) y el resultado sigue siendo un miembro de IntFlag . \n",
    "    Flag: Al igual que IntFlag , los miembros Flag se pueden combinar utilizando los operadores bit a bit (&, |, ^, ~). \n",
    "    A diferencia de IntFlag , no se pueden combinar ni comparar con ninguna otra enumeración de Flag , ni int. \n",
    "    \n",
    "\n",
    "operadores bitwise: Los operadores a nivel de bit o bitwise operators son operadores que actúan sobre números enteros pero usando su representación binaria. \n",
    "\n",
    "    | OR\n",
    "    & AND\n",
    "    ~ NOT\n",
    "    ^ XOR\n",
    "\n",
    "![image.png](attachment:image.png)\n",
    "\n",
    "\n",
    "unique(): El decorador de clase Enum que garantiza que solo un nombre esté vinculado a cualquier valor.\n",
    "    auto: Las instancias se reemplazan con un valor apropiado para los miembros de Enum. El valor inicial comienza en 1."
   ]
  },
  {
   "cell_type": "code",
   "execution_count": 124,
   "metadata": {},
   "outputs": [],
   "source": [
    "p = 0b1\n",
    "q = 0b0"
   ]
  },
  {
   "cell_type": "code",
   "execution_count": 126,
   "metadata": {},
   "outputs": [
    {
     "name": "stdout",
     "output_type": "stream",
     "text": [
      "0b1\n"
     ]
    }
   ],
   "source": [
    "print(bin(p | q))"
   ]
  },
  {
   "cell_type": "code",
   "execution_count": 110,
   "metadata": {},
   "outputs": [
    {
     "name": "stdout",
     "output_type": "stream",
     "text": [
      "0b0\n",
      "0b1\n",
      "0b1\n"
     ]
    }
   ],
   "source": [
    "p = 0b1\n",
    "q = 0b0\n",
    "\n",
    "print(bin(p & q))\n",
    "print(bin(p | q))\n",
    "print(bin(p ^ q))"
   ]
  },
  {
   "cell_type": "code",
   "execution_count": 118,
   "metadata": {},
   "outputs": [
    {
     "name": "stdout",
     "output_type": "stream",
     "text": [
      "0b1000\n"
     ]
    }
   ],
   "source": [
    "p = 0b1001  \n",
    "q = 0b1100\n",
    "\n",
    "print(bin(p & q))"
   ]
  },
  {
   "cell_type": "code",
   "execution_count": 111,
   "metadata": {},
   "outputs": [
    {
     "name": "stdout",
     "output_type": "stream",
     "text": [
      "0b1101\n"
     ]
    }
   ],
   "source": [
    "p = 0b1001  \n",
    "q = 0b1100\n",
    "\n",
    "print(bin(p | q))"
   ]
  },
  {
   "cell_type": "code",
   "execution_count": 128,
   "metadata": {},
   "outputs": [],
   "source": [
    "from enum import Enum, IntEnum, Flag, IntFlag"
   ]
  },
  {
   "cell_type": "code",
   "execution_count": 129,
   "metadata": {},
   "outputs": [],
   "source": [
    "class Respuestas(Enum):\n",
    "    si = 1\n",
    "    no = 2"
   ]
  },
  {
   "cell_type": "code",
   "execution_count": 130,
   "metadata": {},
   "outputs": [
    {
     "name": "stdout",
     "output_type": "stream",
     "text": [
      "Respuestas.si\n"
     ]
    },
    {
     "data": {
      "text/plain": [
       "<Respuestas.si: 1>"
      ]
     },
     "execution_count": 130,
     "metadata": {},
     "output_type": "execute_result"
    }
   ],
   "source": [
    "print(Respuestas.si)  # Se puede mostrar con print o repr\n",
    "Respuestas.si"
   ]
  },
  {
   "cell_type": "code",
   "execution_count": 131,
   "metadata": {},
   "outputs": [
    {
     "data": {
      "text/plain": [
       "'si'"
      ]
     },
     "execution_count": 131,
     "metadata": {},
     "output_type": "execute_result"
    }
   ],
   "source": [
    "Respuestas.si.name"
   ]
  },
  {
   "cell_type": "code",
   "execution_count": 116,
   "metadata": {
    "run_control": {
     "marked": false
    }
   },
   "outputs": [
    {
     "data": {
      "text/plain": [
       "'no'"
      ]
     },
     "execution_count": 116,
     "metadata": {},
     "output_type": "execute_result"
    }
   ],
   "source": [
    "Respuestas.no.name"
   ]
  },
  {
   "cell_type": "code",
   "execution_count": 117,
   "metadata": {},
   "outputs": [
    {
     "data": {
      "text/plain": [
       "1"
      ]
     },
     "execution_count": 117,
     "metadata": {},
     "output_type": "execute_result"
    }
   ],
   "source": [
    "Respuestas.si.value"
   ]
  },
  {
   "cell_type": "code",
   "execution_count": 118,
   "metadata": {},
   "outputs": [
    {
     "data": {
      "text/plain": [
       "2"
      ]
     },
     "execution_count": 118,
     "metadata": {},
     "output_type": "execute_result"
    }
   ],
   "source": [
    "Respuestas.no.value"
   ]
  },
  {
   "cell_type": "code",
   "execution_count": 119,
   "metadata": {},
   "outputs": [],
   "source": [
    "class Abecedario(Enum):\n",
    "    vocales = \"aeiou\"\n",
    "    consonantes = \"bcdfghjklmnñpqrstvwqyz\"\n",
    "    cantidad_letras = 27"
   ]
  },
  {
   "cell_type": "code",
   "execution_count": 120,
   "metadata": {},
   "outputs": [
    {
     "data": {
      "text/plain": [
       "<Abecedario.vocales: 'aeiou'>"
      ]
     },
     "execution_count": 120,
     "metadata": {},
     "output_type": "execute_result"
    }
   ],
   "source": [
    "Abecedario.vocales"
   ]
  },
  {
   "cell_type": "code",
   "execution_count": 121,
   "metadata": {},
   "outputs": [
    {
     "data": {
      "text/plain": [
       "'vocales'"
      ]
     },
     "execution_count": 121,
     "metadata": {},
     "output_type": "execute_result"
    }
   ],
   "source": [
    "Abecedario.vocales.name"
   ]
  },
  {
   "cell_type": "code",
   "execution_count": 122,
   "metadata": {},
   "outputs": [
    {
     "data": {
      "text/plain": [
       "'aeiou'"
      ]
     },
     "execution_count": 122,
     "metadata": {},
     "output_type": "execute_result"
    }
   ],
   "source": [
    "Abecedario.vocales.value"
   ]
  },
  {
   "cell_type": "code",
   "execution_count": 123,
   "metadata": {},
   "outputs": [
    {
     "data": {
      "text/plain": [
       "<Abecedario.cantidad_letras: 27>"
      ]
     },
     "execution_count": 123,
     "metadata": {},
     "output_type": "execute_result"
    }
   ],
   "source": [
    "Abecedario.cantidad_letras"
   ]
  },
  {
   "cell_type": "code",
   "execution_count": 124,
   "metadata": {},
   "outputs": [
    {
     "data": {
      "text/plain": [
       "'cantidad_letras'"
      ]
     },
     "execution_count": 124,
     "metadata": {},
     "output_type": "execute_result"
    }
   ],
   "source": [
    "Abecedario.cantidad_letras.name"
   ]
  },
  {
   "cell_type": "code",
   "execution_count": 125,
   "metadata": {},
   "outputs": [
    {
     "data": {
      "text/plain": [
       "27"
      ]
     },
     "execution_count": 125,
     "metadata": {},
     "output_type": "execute_result"
    }
   ],
   "source": [
    "Abecedario.cantidad_letras.value"
   ]
  },
  {
   "cell_type": "code",
   "execution_count": 126,
   "metadata": {},
   "outputs": [
    {
     "name": "stdout",
     "output_type": "stream",
     "text": [
      "a\n",
      "e\n",
      "i\n",
      "o\n",
      "u\n"
     ]
    }
   ],
   "source": [
    "for miembro in Abecedario.vocales.value:  # son iterables\n",
    "    print(miembro)"
   ]
  },
  {
   "cell_type": "code",
   "execution_count": 128,
   "metadata": {},
   "outputs": [
    {
     "name": "stdout",
     "output_type": "stream",
     "text": [
      "b\n",
      "c\n",
      "d\n",
      "f\n",
      "g\n",
      "h\n",
      "j\n",
      "k\n",
      "l\n",
      "m\n",
      "n\n",
      "ñ\n",
      "p\n",
      "q\n",
      "r\n",
      "s\n",
      "t\n",
      "v\n",
      "w\n",
      "q\n",
      "y\n",
      "z\n"
     ]
    }
   ],
   "source": [
    "for miembro in Abecedario.consonantes.value:  # son iterables\n",
    "    print(miembro)"
   ]
  },
  {
   "cell_type": "code",
   "execution_count": 133,
   "metadata": {},
   "outputs": [],
   "source": [
    "from enum import IntEnum\n",
    "\n",
    "class Color(IntEnum):\n",
    "    ROJO = 1\n",
    "    VERDE = 2\n",
    "    AZUL = 3"
   ]
  },
  {
   "cell_type": "code",
   "execution_count": 134,
   "metadata": {},
   "outputs": [
    {
     "name": "stdout",
     "output_type": "stream",
     "text": [
      "Color.ROJO\n"
     ]
    }
   ],
   "source": [
    "print(Color.ROJO)"
   ]
  },
  {
   "cell_type": "code",
   "execution_count": 135,
   "metadata": {},
   "outputs": [
    {
     "data": {
      "text/plain": [
       "<Color.ROJO: 1>"
      ]
     },
     "execution_count": 135,
     "metadata": {},
     "output_type": "execute_result"
    }
   ],
   "source": [
    "Color.ROJO"
   ]
  },
  {
   "cell_type": "code",
   "execution_count": 136,
   "metadata": {},
   "outputs": [
    {
     "data": {
      "text/plain": [
       "'<Color.ROJO: 1>'"
      ]
     },
     "execution_count": 136,
     "metadata": {},
     "output_type": "execute_result"
    }
   ],
   "source": [
    "repr(Color.ROJO)"
   ]
  },
  {
   "cell_type": "code",
   "execution_count": 137,
   "metadata": {},
   "outputs": [
    {
     "data": {
      "text/plain": [
       "<enum 'Color'>"
      ]
     },
     "execution_count": 137,
     "metadata": {},
     "output_type": "execute_result"
    }
   ],
   "source": [
    "type(Color.ROJO)"
   ]
  },
  {
   "cell_type": "code",
   "execution_count": 138,
   "metadata": {},
   "outputs": [
    {
     "name": "stdout",
     "output_type": "stream",
     "text": [
      "ROJO\n"
     ]
    }
   ],
   "source": [
    "print(Color.ROJO.name)"
   ]
  },
  {
   "cell_type": "code",
   "execution_count": 139,
   "metadata": {
    "run_control": {
     "marked": false
    }
   },
   "outputs": [
    {
     "data": {
      "text/plain": [
       "1"
      ]
     },
     "execution_count": 139,
     "metadata": {},
     "output_type": "execute_result"
    }
   ],
   "source": [
    "Color.ROJO.value"
   ]
  },
  {
   "cell_type": "code",
   "execution_count": 141,
   "metadata": {},
   "outputs": [
    {
     "data": {
      "text/plain": [
       "<Color.ROJO: 1>"
      ]
     },
     "execution_count": 141,
     "metadata": {},
     "output_type": "execute_result"
    }
   ],
   "source": [
    "Color(1) # Acceso programatico, cuando no conocemos el nombre del color"
   ]
  },
  {
   "cell_type": "code",
   "execution_count": 142,
   "metadata": {},
   "outputs": [
    {
     "data": {
      "text/plain": [
       "<Color.ROJO: 1>"
      ]
     },
     "execution_count": 142,
     "metadata": {},
     "output_type": "execute_result"
    }
   ],
   "source": [
    "Color['ROJO']"
   ]
  },
  {
   "cell_type": "code",
   "execution_count": 143,
   "metadata": {},
   "outputs": [
    {
     "name": "stdout",
     "output_type": "stream",
     "text": [
      "ROJO\n",
      "VERDE\n",
      "AZUL\n"
     ]
    }
   ],
   "source": [
    "for n in Color:\n",
    "    print(n.name) # iterables    print(n) #.name"
   ]
  },
  {
   "cell_type": "code",
   "execution_count": 144,
   "metadata": {},
   "outputs": [
    {
     "name": "stdout",
     "output_type": "stream",
     "text": [
      "Color.ROJO\n",
      "Color.VERDE\n",
      "Color.AZUL\n"
     ]
    }
   ],
   "source": [
    "for n in Color:\n",
    "    print(n) # iterables    print(n) #.name"
   ]
  },
  {
   "cell_type": "code",
   "execution_count": 155,
   "metadata": {},
   "outputs": [
    {
     "name": "stdout",
     "output_type": "stream",
     "text": [
      "0\n",
      "1\n",
      "2\n",
      "3\n",
      "4\n"
     ]
    }
   ],
   "source": [
    "for i in range(5):\n",
    "    print(i)"
   ]
  },
  {
   "cell_type": "code",
   "execution_count": 145,
   "metadata": {},
   "outputs": [
    {
     "name": "stdout",
     "output_type": "stream",
     "text": [
      "0\n",
      "1\n"
     ]
    }
   ],
   "source": [
    "for n in range(Color.VERDE): # IntEnum\n",
    "    print(n) # posición"
   ]
  },
  {
   "cell_type": "code",
   "execution_count": 162,
   "metadata": {},
   "outputs": [
    {
     "ename": "TypeError",
     "evalue": "'Abecedario' object cannot be interpreted as an integer",
     "output_type": "error",
     "traceback": [
      "\u001b[1;31m---------------------------------------------------------------------------\u001b[0m",
      "\u001b[1;31mTypeError\u001b[0m                                 Traceback (most recent call last)",
      "\u001b[1;32m<ipython-input-162-ce7f826f3df7>\u001b[0m in \u001b[0;36m<module>\u001b[1;34m\u001b[0m\n\u001b[1;32m----> 1\u001b[1;33m \u001b[1;32mfor\u001b[0m \u001b[0mn\u001b[0m \u001b[1;32min\u001b[0m \u001b[0mrange\u001b[0m\u001b[1;33m(\u001b[0m\u001b[0mAbecedario\u001b[0m\u001b[1;33m.\u001b[0m\u001b[0mvocales\u001b[0m\u001b[1;33m)\u001b[0m\u001b[1;33m:\u001b[0m  \u001b[1;31m# Enum\u001b[0m\u001b[1;33m\u001b[0m\u001b[1;33m\u001b[0m\u001b[0m\n\u001b[0m\u001b[0;32m      2\u001b[0m     \u001b[0mprint\u001b[0m\u001b[1;33m(\u001b[0m\u001b[0mn\u001b[0m\u001b[1;33m)\u001b[0m\u001b[1;33m\u001b[0m\u001b[1;33m\u001b[0m\u001b[0m\n",
      "\u001b[1;31mTypeError\u001b[0m: 'Abecedario' object cannot be interpreted as an integer"
     ]
    }
   ],
   "source": [
    "for n in range(Abecedario.vocales):  # Enum\n",
    "    print(n)"
   ]
  },
  {
   "cell_type": "code",
   "execution_count": 163,
   "metadata": {},
   "outputs": [
    {
     "data": {
      "text/plain": [
       "dict_items([('ROJO', <Color.ROJO: 1>), ('VERDE', <Color.VERDE: 2>), ('AZUL', <Color.AZUL: 3>)])"
      ]
     },
     "execution_count": 163,
     "metadata": {},
     "output_type": "execute_result"
    }
   ],
   "source": [
    "Color.__members__.items()"
   ]
  },
  {
   "cell_type": "code",
   "execution_count": 164,
   "metadata": {},
   "outputs": [
    {
     "name": "stdout",
     "output_type": "stream",
     "text": [
      "ROJO Color.ROJO ROJO 1\n",
      "VERDE Color.VERDE VERDE 2\n",
      "AZUL Color.AZUL AZUL 3\n"
     ]
    }
   ],
   "source": [
    "for name, member in Color.__members__.items():\n",
    "    print(name, member, member.name, member.value )"
   ]
  },
  {
   "cell_type": "code",
   "execution_count": 165,
   "metadata": {},
   "outputs": [
    {
     "data": {
      "text/plain": [
       "'ROJO'"
      ]
     },
     "execution_count": 165,
     "metadata": {},
     "output_type": "execute_result"
    }
   ],
   "source": [
    "member = Color.ROJO\n",
    "member.name"
   ]
  },
  {
   "cell_type": "code",
   "execution_count": 166,
   "metadata": {},
   "outputs": [
    {
     "data": {
      "text/plain": [
       "1"
      ]
     },
     "execution_count": 166,
     "metadata": {},
     "output_type": "execute_result"
    }
   ],
   "source": [
    "member.value"
   ]
  },
  {
   "cell_type": "code",
   "execution_count": 146,
   "metadata": {},
   "outputs": [],
   "source": [
    "from enum import IntFlag, auto\n",
    "\n",
    "class Permissions(IntFlag):\n",
    "    EXECUTE = 4\n",
    "    WRITE = 2\n",
    "    READ = 1\n",
    "    RWE = READ | WRITE | EXECUTE\n",
    "    RW = READ | WRITE\n"
   ]
  },
  {
   "cell_type": "code",
   "execution_count": 147,
   "metadata": {},
   "outputs": [
    {
     "data": {
      "text/plain": [
       "<Permissions.EXECUTE|WRITE: 6>"
      ]
     },
     "execution_count": 147,
     "metadata": {},
     "output_type": "execute_result"
    }
   ],
   "source": [
    "permisos = Permissions.EXECUTE | Permissions.WRITE \n",
    "permisos"
   ]
  },
  {
   "cell_type": "code",
   "execution_count": 169,
   "metadata": {},
   "outputs": [
    {
     "data": {
      "text/plain": [
       "6"
      ]
     },
     "execution_count": 169,
     "metadata": {},
     "output_type": "execute_result"
    }
   ],
   "source": [
    "Permissions.EXECUTE +  Permissions.WRITE "
   ]
  },
  {
   "cell_type": "code",
   "execution_count": 148,
   "metadata": {},
   "outputs": [
    {
     "data": {
      "text/plain": [
       "<Permissions.RWE: 7>"
      ]
     },
     "execution_count": 148,
     "metadata": {},
     "output_type": "execute_result"
    }
   ],
   "source": [
    "permisos = Permissions.RWE\n",
    "permisos"
   ]
  },
  {
   "cell_type": "code",
   "execution_count": 171,
   "metadata": {},
   "outputs": [
    {
     "data": {
      "text/plain": [
       "<Permissions.RW: 3>"
      ]
     },
     "execution_count": 171,
     "metadata": {},
     "output_type": "execute_result"
    }
   ],
   "source": [
    "Permissions.RW"
   ]
  },
  {
   "cell_type": "code",
   "execution_count": 172,
   "metadata": {
    "run_control": {
     "marked": false
    }
   },
   "outputs": [
    {
     "data": {
      "text/plain": [
       "<Permissions.EXECUTE: 4>"
      ]
     },
     "execution_count": 172,
     "metadata": {},
     "output_type": "execute_result"
    }
   ],
   "source": [
    "Permissions(4)"
   ]
  },
  {
   "cell_type": "code",
   "execution_count": 143,
   "metadata": {},
   "outputs": [
    {
     "data": {
      "text/plain": [
       "<Permissions.RW: 3>"
      ]
     },
     "execution_count": 143,
     "metadata": {},
     "output_type": "execute_result"
    }
   ],
   "source": [
    "Permissions(3)"
   ]
  },
  {
   "cell_type": "code",
   "execution_count": 144,
   "metadata": {},
   "outputs": [
    {
     "data": {
      "text/plain": [
       "<Permissions.EXECUTE|READ: 5>"
      ]
     },
     "execution_count": 144,
     "metadata": {},
     "output_type": "execute_result"
    }
   ],
   "source": [
    "Permissions(5)"
   ]
  },
  {
   "cell_type": "code",
   "execution_count": 146,
   "metadata": {},
   "outputs": [
    {
     "data": {
      "text/plain": [
       "<Permissions.EXECUTE|WRITE: 6>"
      ]
     },
     "execution_count": 146,
     "metadata": {},
     "output_type": "execute_result"
    }
   ],
   "source": [
    "Permissions(6)"
   ]
  },
  {
   "cell_type": "code",
   "execution_count": 381,
   "metadata": {},
   "outputs": [
    {
     "data": {
      "text/plain": [
       "<Permissions.8|WRITE: 10>"
      ]
     },
     "execution_count": 381,
     "metadata": {},
     "output_type": "execute_result"
    }
   ],
   "source": [
    "Permissions(10)"
   ]
  },
  {
   "cell_type": "code",
   "execution_count": 173,
   "metadata": {
    "code_folding": [],
    "run_control": {
     "marked": false
    }
   },
   "outputs": [
    {
     "ename": "ValueError",
     "evalue": "duplicate values found in <enum 'Mistake'>: FOUR -> THREE",
     "output_type": "error",
     "traceback": [
      "\u001b[1;31m---------------------------------------------------------------------------\u001b[0m",
      "\u001b[1;31mValueError\u001b[0m                                Traceback (most recent call last)",
      "\u001b[1;32m<ipython-input-173-18c8d36998c9>\u001b[0m in \u001b[0;36m<module>\u001b[1;34m\u001b[0m\n\u001b[0;32m      2\u001b[0m \u001b[1;33m\u001b[0m\u001b[0m\n\u001b[0;32m      3\u001b[0m \u001b[1;33m@\u001b[0m\u001b[0munique\u001b[0m\u001b[1;33m\u001b[0m\u001b[1;33m\u001b[0m\u001b[0m\n\u001b[1;32m----> 4\u001b[1;33m \u001b[1;32mclass\u001b[0m \u001b[0mMistake\u001b[0m\u001b[1;33m(\u001b[0m\u001b[0mEnum\u001b[0m\u001b[1;33m)\u001b[0m\u001b[1;33m:\u001b[0m\u001b[1;33m\u001b[0m\u001b[1;33m\u001b[0m\u001b[0m\n\u001b[0m\u001b[0;32m      5\u001b[0m     \u001b[0mONE\u001b[0m \u001b[1;33m=\u001b[0m \u001b[1;36m1\u001b[0m\u001b[1;33m\u001b[0m\u001b[1;33m\u001b[0m\u001b[0m\n\u001b[0;32m      6\u001b[0m     \u001b[0mTWO\u001b[0m \u001b[1;33m=\u001b[0m \u001b[1;36m2\u001b[0m\u001b[1;33m\u001b[0m\u001b[1;33m\u001b[0m\u001b[0m\n",
      "\u001b[1;32m~\\anaconda3\\lib\\enum.py\u001b[0m in \u001b[0;36munique\u001b[1;34m(enumeration)\u001b[0m\n\u001b[0;32m    863\u001b[0m         alias_details = ', '.join(\n\u001b[0;32m    864\u001b[0m                 [\"%s -> %s\" % (alias, name) for (alias, name) in duplicates])\n\u001b[1;32m--> 865\u001b[1;33m         raise ValueError('duplicate values found in %r: %s' %\n\u001b[0m\u001b[0;32m    866\u001b[0m                 (enumeration, alias_details))\n\u001b[0;32m    867\u001b[0m     \u001b[1;32mreturn\u001b[0m \u001b[0menumeration\u001b[0m\u001b[1;33m\u001b[0m\u001b[1;33m\u001b[0m\u001b[0m\n",
      "\u001b[1;31mValueError\u001b[0m: duplicate values found in <enum 'Mistake'>: FOUR -> THREE"
     ]
    }
   ],
   "source": [
    "from enum import Enum, unique\n",
    "\n",
    "@unique\n",
    "class Mistake(Enum):\n",
    "    ONE = 1\n",
    "    TWO = 2\n",
    "    THREE = 3\n",
    "    FOUR = 3"
   ]
  },
  {
   "cell_type": "code",
   "execution_count": 135,
   "metadata": {},
   "outputs": [
    {
     "data": {
      "text/plain": [
       "[<Colores.RED: 1>, <Colores.BLUE: 2>, <Colores.GREEN: 3>]"
      ]
     },
     "execution_count": 135,
     "metadata": {},
     "output_type": "execute_result"
    }
   ],
   "source": [
    "from enum import Enum, auto\n",
    "\n",
    "class Colores(Enum):\n",
    "    RED = auto()\n",
    "    BLUE = auto()\n",
    "    GREEN = auto()\n",
    "\n",
    "list(Colores)"
   ]
  },
  {
   "cell_type": "code",
   "execution_count": 136,
   "metadata": {},
   "outputs": [
    {
     "data": {
      "text/plain": [
       "True"
      ]
     },
     "execution_count": 136,
     "metadata": {},
     "output_type": "execute_result"
    }
   ],
   "source": [
    "Colores.RED is Colores.RED"
   ]
  },
  {
   "cell_type": "code",
   "execution_count": 137,
   "metadata": {},
   "outputs": [
    {
     "data": {
      "text/plain": [
       "False"
      ]
     },
     "execution_count": 137,
     "metadata": {},
     "output_type": "execute_result"
    }
   ],
   "source": [
    "Colores.RED is Colores.BLUE"
   ]
  },
  {
   "cell_type": "code",
   "execution_count": 138,
   "metadata": {},
   "outputs": [
    {
     "data": {
      "text/plain": [
       "True"
      ]
     },
     "execution_count": 138,
     "metadata": {},
     "output_type": "execute_result"
    }
   ],
   "source": [
    "Colores.RED != Colores.BLUE"
   ]
  },
  {
   "cell_type": "code",
   "execution_count": 139,
   "metadata": {},
   "outputs": [
    {
     "ename": "TypeError",
     "evalue": "'<' not supported between instances of 'Colores' and 'Colores'",
     "output_type": "error",
     "traceback": [
      "\u001b[1;31m---------------------------------------------------------------------------\u001b[0m",
      "\u001b[1;31mTypeError\u001b[0m                                 Traceback (most recent call last)",
      "\u001b[1;32m<ipython-input-139-f36400f222f8>\u001b[0m in \u001b[0;36m<module>\u001b[1;34m\u001b[0m\n\u001b[1;32m----> 1\u001b[1;33m \u001b[0mColores\u001b[0m\u001b[1;33m.\u001b[0m\u001b[0mRED\u001b[0m \u001b[1;33m<\u001b[0m \u001b[0mColores\u001b[0m\u001b[1;33m.\u001b[0m\u001b[0mBLUE\u001b[0m\u001b[1;33m\u001b[0m\u001b[1;33m\u001b[0m\u001b[0m\n\u001b[0m",
      "\u001b[1;31mTypeError\u001b[0m: '<' not supported between instances of 'Colores' and 'Colores'"
     ]
    }
   ],
   "source": [
    "Colores.RED < Colores.BLUE # no soportada en Enum"
   ]
  },
  {
   "cell_type": "code",
   "execution_count": 140,
   "metadata": {},
   "outputs": [
    {
     "data": {
      "text/plain": [
       "False"
      ]
     },
     "execution_count": 140,
     "metadata": {},
     "output_type": "execute_result"
    }
   ],
   "source": [
    "Permissions.EXECUTE <  Permissions.WRITE  # soportada en IntFlag e IntEnum"
   ]
  },
  {
   "cell_type": "code",
   "execution_count": 141,
   "metadata": {},
   "outputs": [
    {
     "data": {
      "text/plain": [
       "True"
      ]
     },
     "execution_count": 141,
     "metadata": {},
     "output_type": "execute_result"
    }
   ],
   "source": [
    "Color.VERDE < Color.AZUL # soportada en IntFlag e IntEnum"
   ]
  },
  {
   "cell_type": "markdown",
   "metadata": {},
   "source": [
    "### Hashing enums\n",
    "Son hashables, es decir que se pueden utilizar en diccionarios y tuplas"
   ]
  },
  {
   "cell_type": "code",
   "execution_count": 174,
   "metadata": {
    "run_control": {
     "marked": false
    }
   },
   "outputs": [
    {
     "name": "stdout",
     "output_type": "stream",
     "text": [
      "{<Days.Sun: 1>: 'Soleado', <Days.Mon: 2>: 'Lluvioso'}\n"
     ]
    }
   ],
   "source": [
    "import enum\n",
    "\n",
    "class Days(enum.Enum):\n",
    "    Sun = 1\n",
    "    Mon = 2\n",
    "    \n",
    "Daytype = {}\n",
    "Daytype[Days.Sun] = 'Soleado'\n",
    "Daytype[Days.Mon] = 'Lluvioso'\n",
    "\n",
    "print(Daytype)"
   ]
  },
  {
   "cell_type": "markdown",
   "metadata": {},
   "source": [
    "## Decoradores\n",
    "\n",
    "Los decoradores son en sí mismos funciones, que toman como argumento una función y retornan otra función."
   ]
  },
  {
   "cell_type": "markdown",
   "metadata": {},
   "source": [
    "#### Asignar una función a una variable"
   ]
  },
  {
   "cell_type": "code",
   "execution_count": 14,
   "metadata": {},
   "outputs": [],
   "source": [
    "def sumar(a, b):\n",
    "    return a + b\n",
    "def restar(b,a):\n",
    "    return b-a\n",
    "\n",
    "def super_funcion(f, a, b): \n",
    "    print(\"Valores recibidos\", a)\n",
    "    print(\"Valores recibidos\", b)\n",
    "    print(\"El resultado es: \")\n",
    "    return f(a,b)"
   ]
  },
  {
   "cell_type": "code",
   "execution_count": 15,
   "metadata": {},
   "outputs": [
    {
     "name": "stdout",
     "output_type": "stream",
     "text": [
      "Valores recibidos 7\n",
      "Valores recibidos 6\n",
      "El resultado es: \n"
     ]
    },
    {
     "data": {
      "text/plain": [
       "13"
      ]
     },
     "execution_count": 15,
     "metadata": {},
     "output_type": "execute_result"
    }
   ],
   "source": [
    "funcion = sumar  # Asignamos la función a una variable!\n",
    "super_funcion(funcion, 7, 6)  "
   ]
  },
  {
   "cell_type": "code",
   "execution_count": 16,
   "metadata": {},
   "outputs": [
    {
     "name": "stdout",
     "output_type": "stream",
     "text": [
      "Valores recibidos 17\n",
      "Valores recibidos 60\n",
      "El resultado es: \n"
     ]
    },
    {
     "data": {
      "text/plain": [
       "-43"
      ]
     },
     "execution_count": 16,
     "metadata": {},
     "output_type": "execute_result"
    }
   ],
   "source": [
    "super_funcion(restar, 17, 60)  "
   ]
  },
  {
   "cell_type": "code",
   "execution_count": 17,
   "metadata": {},
   "outputs": [
    {
     "data": {
      "text/plain": [
       "-1"
      ]
     },
     "execution_count": 17,
     "metadata": {},
     "output_type": "execute_result"
    }
   ],
   "source": [
    "f = restar\n",
    "f(4,5)"
   ]
  },
  {
   "cell_type": "code",
   "execution_count": 20,
   "metadata": {},
   "outputs": [
    {
     "data": {
      "text/plain": [
       "-46"
      ]
     },
     "execution_count": 20,
     "metadata": {},
     "output_type": "execute_result"
    }
   ],
   "source": [
    "f(10,56)"
   ]
  },
  {
   "cell_type": "code",
   "execution_count": 18,
   "metadata": {},
   "outputs": [
    {
     "data": {
      "text/plain": [
       "<function __main__.sumar(a, b)>"
      ]
     },
     "execution_count": 18,
     "metadata": {},
     "output_type": "execute_result"
    }
   ],
   "source": [
    "funcion"
   ]
  },
  {
   "cell_type": "markdown",
   "metadata": {},
   "source": [
    "#### Una función que retorna otra función"
   ]
  },
  {
   "cell_type": "code",
   "execution_count": 22,
   "metadata": {},
   "outputs": [
    {
     "name": "stdout",
     "output_type": "stream",
     "text": [
      "<function crear_funcion.<locals>.sumar at 0x000001CDB9025AF0>\n",
      "60\n"
     ]
    }
   ],
   "source": [
    "def crear_funcion(operador):\n",
    "    if operador == '+':\n",
    "        def sumar(a=0, b=0): return a + b\n",
    "        return sumar\n",
    "    elif operador == '-':\n",
    "        def restar(a=0, b=0): return a - b\n",
    "        return restar\n",
    "\n",
    "funcion = crear_funcion('+')\n",
    "print(funcion)\n",
    "print(funcion(15, 45)) \n"
   ]
  },
  {
   "cell_type": "code",
   "execution_count": 23,
   "metadata": {},
   "outputs": [
    {
     "data": {
      "text/plain": [
       "62"
      ]
     },
     "execution_count": 23,
     "metadata": {},
     "output_type": "execute_result"
    }
   ],
   "source": [
    "funcion(22,40)"
   ]
  },
  {
   "cell_type": "code",
   "execution_count": 24,
   "metadata": {},
   "outputs": [
    {
     "data": {
      "text/plain": [
       "50"
      ]
     },
     "execution_count": 24,
     "metadata": {},
     "output_type": "execute_result"
    }
   ],
   "source": [
    "f = crear_funcion('-')\n",
    "f(100,50)"
   ]
  },
  {
   "cell_type": "code",
   "execution_count": 25,
   "metadata": {},
   "outputs": [
    {
     "data": {
      "text/plain": [
       "<function __main__.crear_funcion.<locals>.restar(a=0, b=0)>"
      ]
     },
     "execution_count": 25,
     "metadata": {},
     "output_type": "execute_result"
    }
   ],
   "source": [
    "f"
   ]
  },
  {
   "cell_type": "code",
   "execution_count": 26,
   "metadata": {},
   "outputs": [
    {
     "data": {
      "text/plain": [
       "<function __main__.crear_funcion.<locals>.sumar(a=0, b=0)>"
      ]
     },
     "execution_count": 26,
     "metadata": {},
     "output_type": "execute_result"
    }
   ],
   "source": [
    "funcion"
   ]
  },
  {
   "cell_type": "markdown",
   "metadata": {},
   "source": [
    "#### Una función como argumento"
   ]
  },
  {
   "cell_type": "code",
   "execution_count": 27,
   "metadata": {},
   "outputs": [],
   "source": [
    "def inc(x):\n",
    "    return x + 1\n",
    "\n",
    "def dec(x):\n",
    "    return x - 1\n",
    "\n",
    "def operacion(func, x):\n",
    "    result = func(x)\n",
    "    return result"
   ]
  },
  {
   "cell_type": "code",
   "execution_count": 28,
   "metadata": {},
   "outputs": [
    {
     "data": {
      "text/plain": [
       "4"
      ]
     },
     "execution_count": 28,
     "metadata": {},
     "output_type": "execute_result"
    }
   ],
   "source": [
    "operacion(inc, 3)"
   ]
  },
  {
   "cell_type": "code",
   "execution_count": 29,
   "metadata": {},
   "outputs": [
    {
     "data": {
      "text/plain": [
       "2"
      ]
     },
     "execution_count": 29,
     "metadata": {},
     "output_type": "execute_result"
    }
   ],
   "source": [
    "operacion(dec, 3)"
   ]
  },
  {
   "cell_type": "markdown",
   "metadata": {},
   "source": [
    "### Decoradores\n",
    "\n",
    "    Sintaxis:\n",
    "\n",
    "        def f(...):\n",
    "            ...\n",
    "            f = staticmethod(f)\n",
    "\n",
    "        @staticmethod\n",
    "        def f(...):\n",
    "                    ...\n"
   ]
  },
  {
   "cell_type": "code",
   "execution_count": 165,
   "metadata": {},
   "outputs": [
    {
     "name": "stdout",
     "output_type": "stream",
     "text": [
      "18\n"
     ]
    }
   ],
   "source": [
    "def sumar(a, b):\n",
    "    return a + b\n",
    "\n",
    "print(sumar(7, 11))"
   ]
  },
  {
   "cell_type": "code",
   "execution_count": 32,
   "metadata": {
    "run_control": {
     "marked": false
    }
   },
   "outputs": [
    {
     "name": "stdout",
     "output_type": "stream",
     "text": [
      "Esta función Llama a la función \n",
      "El valor de a es: 7\n",
      "El valor de b es: 5\n",
      "El resultado es: 12\n",
      "Esta función Llama a la función \n",
      "El valor de a es: 10\n",
      "El valor de b es: 2\n",
      "El resultado es: 8\n",
      "Esta función Llama a la función \n",
      "El valor de a es: 5\n",
      "El valor de b es: 2\n",
      "El resultado es: 10\n"
     ]
    }
   ],
   "source": [
    "def mostrar(f):\n",
    "    def nueva_funcion(a, b):\n",
    "        print(\"Esta función Llama a la función \")\n",
    "        print(\"El valor de a es:\", a)\n",
    "        print(\"El valor de b es:\", b)\n",
    "        print(\"El resultado es:\", end=\" \")\n",
    "        return  f(a, b)\n",
    "    return nueva_funcion\n",
    "\n",
    "@mostrar\n",
    "def sumar(a, b):\n",
    "    return a + b\n",
    "@mostrar\n",
    "def restar(a, b):\n",
    "    return a - b\n",
    "@mostrar\n",
    "def multiplicar(a, b):\n",
    "    return a * b\n",
    "\n",
    "print(sumar(7, 5))\n",
    "print(restar(10,2))\n",
    "print(multiplicar(5,2))"
   ]
  },
  {
   "cell_type": "code",
   "execution_count": 39,
   "metadata": {},
   "outputs": [],
   "source": [
    "def mostrar_division(f):\n",
    "    def funcion_interna(a, b):\n",
    "        print(\"Vamos a dividir\", a, \"entre\", b)\n",
    "        if b == 0:\n",
    "            print(\"No se puede dividir entre cero\")\n",
    "            return \n",
    "        else:\n",
    "            print(\"El resultados es: \", end=\"\")\n",
    "        return f(a, b)\n",
    "    return funcion_interna\n",
    "\n",
    "\n",
    "@mostrar_division\n",
    "def dividir(a, b):\n",
    "    print(a / b)"
   ]
  },
  {
   "cell_type": "code",
   "execution_count": 40,
   "metadata": {},
   "outputs": [
    {
     "name": "stdout",
     "output_type": "stream",
     "text": [
      "Vamos a dividir 6 entre 5\n",
      "El resultados es: 1.2\n"
     ]
    }
   ],
   "source": [
    "dividir(6,5)"
   ]
  },
  {
   "cell_type": "code",
   "execution_count": 35,
   "metadata": {},
   "outputs": [
    {
     "name": "stdout",
     "output_type": "stream",
     "text": [
      "Vamos a dividir 6 entre 0\n",
      "No se puede dividir entre cero\n"
     ]
    }
   ],
   "source": [
    "dividir(6,0)"
   ]
  },
  {
   "cell_type": "markdown",
   "metadata": {},
   "source": [
    "También podemos hacer decoradores generales que funcionen con cualquier número de parámetros. En Python, esto se realiza como función (* args, ** kwargs). De esta forma, args será la tupla de argumentos posicionales y kwargs será el diccionario de argumentos de palabras clave. Un ejemplo es:"
   ]
  },
  {
   "cell_type": "code",
   "execution_count": 41,
   "metadata": {},
   "outputs": [],
   "source": [
    "def works_for_all(func):\n",
    "    def inner(*args, **kwargs):\n",
    "        print(\"Yo puedo agregar funcionalidad a cualquier función\")\n",
    "        print(\"Argumentos recibidos\", *args, **kwargs )\n",
    "        return func(*args, **kwargs)\n",
    "    return inner"
   ]
  },
  {
   "cell_type": "code",
   "execution_count": 3,
   "metadata": {},
   "outputs": [],
   "source": [
    "def works_for_all(func):\n",
    "    def funcion_interna(*args, **kwargs):\n",
    "        print(\"Yo puedo agregar funcionalidad a cualquier función\")\n",
    "        print(\"Argumentos recibidos\", *args, **kwargs )\n",
    "        return func(*args, **kwargs)\n",
    "    return funcion_interna\n",
    "\n",
    "@works_for_all\n",
    "def dividir2(a, b):\n",
    "    print(a/b)\n",
    "    \n",
    "@works_for_all\n",
    "def sumar(a, b, c):\n",
    "    return a + b + c"
   ]
  },
  {
   "cell_type": "code",
   "execution_count": 4,
   "metadata": {},
   "outputs": [
    {
     "name": "stdout",
     "output_type": "stream",
     "text": [
      "Yo puedo agregar funcionalidad a cualquier función\n",
      "None\n",
      "Argumentos recibidos 6 5\n",
      "1.2\n"
     ]
    }
   ],
   "source": [
    "dividir2(6,5)"
   ]
  },
  {
   "cell_type": "code",
   "execution_count": 18,
   "metadata": {},
   "outputs": [
    {
     "name": "stdout",
     "output_type": "stream",
     "text": [
      "Yo puedo agregar funcionalidad a cualquier función\n",
      "Argumentos recibidos 6 7 5\n"
     ]
    },
    {
     "data": {
      "text/plain": [
       "18"
      ]
     },
     "execution_count": 18,
     "metadata": {},
     "output_type": "execute_result"
    }
   ],
   "source": [
    "sumar(6,7,5)"
   ]
  },
  {
   "cell_type": "markdown",
   "metadata": {},
   "source": [
    "@wraps\n",
    "Toma la función para ser decorada y añade la funcionalidad de copiar el nombre de la función, el docstring, los argumentos y otros parámetros asociados. Esto nos permite acceder a los elementos de la función a decorar una vez decorada. \n",
    "\n",
    "     __module__, __name__, __qualname__, __annotations__ , __doc__\n"
   ]
  },
  {
   "cell_type": "code",
   "execution_count": 54,
   "metadata": {},
   "outputs": [],
   "source": [
    "from functools import wraps\n",
    "\n",
    "def works_for_all(func):\n",
    "    @wraps(func)\n",
    "    def inner(*args, **kwargs):\n",
    "        print(\"**** Función Decoradora ****\")\n",
    "        print(\"La función *\" + func.__name__ + \"* fue llamada\") # nombre de la función\n",
    "        print(\"Docstring: \" + func.__doc__) #docstring de la función\n",
    "        print(\"qualified name: \" + func.__qualname__) # qualified name\n",
    "        print(\"Modulo: \" + func.__module__) # modulo\n",
    "        print(\"El resultado es: \", end=\"\")\n",
    "        return func(*args, **kwargs)\n",
    "    return inner\n",
    "\n",
    "@works_for_all\n",
    "def dividir(a, b):\n",
    "    \"\"\" Función que divide 2 números\"\"\"\n",
    "    print(a/b)  # divide a/b\n",
    "@works_for_all    \n",
    "def sumar(a, b):\n",
    "    \"\"\"Suma 2 números\"\"\"\n",
    "    return a + b"
   ]
  },
  {
   "cell_type": "code",
   "execution_count": 55,
   "metadata": {},
   "outputs": [
    {
     "name": "stdout",
     "output_type": "stream",
     "text": [
      "**** Función Decoradora ****\n",
      "La función *dividir* fue llamada\n",
      "Docstring:  Función que divide 2 números\n",
      "qualified name: dividir\n",
      "Modulo: __main__\n",
      "El resultado es: 1.2\n"
     ]
    }
   ],
   "source": [
    "dividir(6,5)"
   ]
  },
  {
   "cell_type": "code",
   "execution_count": 21,
   "metadata": {},
   "outputs": [
    {
     "name": "stdout",
     "output_type": "stream",
     "text": [
      "**** Función Decoradora ****\n",
      "La función *sumar* fue llamada\n",
      "Docstring: Suma 2 números\n",
      "qualified name: sumar\n",
      "Modulo: __main__\n",
      "El resultado es: "
     ]
    },
    {
     "data": {
      "text/plain": [
       "10"
      ]
     },
     "execution_count": 21,
     "metadata": {},
     "output_type": "execute_result"
    }
   ],
   "source": [
    "sumar(4,6)"
   ]
  },
  {
   "cell_type": "code",
   "execution_count": 5,
   "metadata": {
    "run_control": {
     "marked": false
    }
   },
   "outputs": [
    {
     "name": "stdout",
     "output_type": "stream",
     "text": [
      "{'n': 'int', 'output': 'list', 'return': 'list'}\n"
     ]
    }
   ],
   "source": [
    "def fib(n:'int', output:'list'=[])-> 'list': # __annotations__\n",
    "    if n == 0: \n",
    "        return output \n",
    "    else: \n",
    "        if len(output)< 2: \n",
    "            output.append(1) \n",
    "            fib(n-1, output) \n",
    "        else: \n",
    "            last = output[-1] \n",
    "            second_last = output[-2] \n",
    "            output.append(last + second_last) \n",
    "            fib(n-1, output) \n",
    "        return output \n",
    "print(fib.__annotations__)"
   ]
  },
  {
   "cell_type": "markdown",
   "metadata": {},
   "source": [
    "#### Encadenamiento de decoradores en Python\n",
    "Se pueden encadenar múltiples decoradores en Python. Es decir, una función se puede decorar varias veces con decoradores diferentes (o iguales). Simplemente colocamos los decoradores encima de la función deseada.\n"
   ]
  },
  {
   "cell_type": "code",
   "execution_count": 12,
   "metadata": {
    "run_control": {
     "marked": false
    },
    "scrolled": true
   },
   "outputs": [],
   "source": [
    "def star(func):\n",
    "    def inner(*args, **kwargs):\n",
    "        print(\"*\" * 30)\n",
    "        func(*args, **kwargs)\n",
    "        print(\"*\" * 30)\n",
    "    return inner\n",
    "\n",
    "def guion(func):\n",
    "    def inner(*args, **kwargs):\n",
    "        print(\"-\" * 30)\n",
    "        func(*args, **kwargs)\n",
    "        print(\"-\" * 30)\n",
    "    return inner\n",
    "\n",
    "@star\n",
    "@guion\n",
    "def printer(msg):\n",
    "    print(msg)\n"
   ]
  },
  {
   "cell_type": "code",
   "execution_count": null,
   "metadata": {},
   "outputs": [],
   "source": [
    "printer(\"  Bienvenidos al tema DECORADORES \")"
   ]
  },
  {
   "cell_type": "code",
   "execution_count": 15,
   "metadata": {
    "run_control": {
     "marked": false
    }
   },
   "outputs": [
    {
     "name": "stdout",
     "output_type": "stream",
     "text": [
      "** HELLO WORLD **\n"
     ]
    }
   ],
   "source": [
    "def make_bold(f):\n",
    "    \"Dada una función f que devuelve un string con **\"\n",
    "    def wrap():\n",
    "        #print(\"paso 1\")\n",
    "        return f\"** {f()} **\"\n",
    "        #return \"** %s **\" % f()\n",
    "    return wrap\n",
    "\n",
    "def uppercase(f):\n",
    "    \"Dada una función f que devuelve un string lo pasa todo a mayúsculas\"\n",
    "    def wrap():\n",
    "        #print(\"paso 2\")\n",
    "        return f().upper()\n",
    "    return wrap\n",
    "\n",
    "@make_bold\n",
    "@uppercase\n",
    "def say_hello():\n",
    "    #print(\"paso 3\")\n",
    "    return \"Hello world\"\n",
    "\n",
    "print(say_hello())"
   ]
  },
  {
   "cell_type": "markdown",
   "metadata": {},
   "source": [
    "## Clase Decorador\n",
    "Esta sintaxis reemplaza la función por una instancia de la clase decorator. Si incorporamos el método __call__ podemos ejecutar una función."
   ]
  },
  {
   "cell_type": "code",
   "execution_count": 16,
   "metadata": {},
   "outputs": [
    {
     "name": "stdout",
     "output_type": "stream",
     "text": [
      "Paso 1\n",
      "Antes de llamar a la función.\n",
      "Esta ejecutando la función.\n",
      "Después de llamar a la función.\n"
     ]
    }
   ],
   "source": [
    "class Decorator(object):\n",
    "    \"\"\"Clase Decoradora Simple\"\"\"\n",
    "\n",
    "    def __init__(self, funcion):\n",
    "        print(\"Paso 1\")\n",
    "        self.func = funcion\n",
    "\n",
    "    def __call__(self, *args, **kwargs):\n",
    "        print('Antes de llamar a la función.')\n",
    "        res = self.func(*args, **kwargs)\n",
    "        print('Después de llamar a la función.')\n",
    "        return res\n",
    "\n",
    "@Decorator\n",
    "def testfunc():\n",
    "    print('Esta ejecutando la función.')\n",
    "\n",
    "testfunc()"
   ]
  },
  {
   "cell_type": "markdown",
   "metadata": {},
   "source": [
    "### Métodos de decoración\n",
    "Para los métodos de decoración debe definir un método __get__ adicional:\n",
    "\n",
    "    1. Se ejecuta primero el método get\n",
    "    2. El método call de la clase decoradora.  \n",
    "    3. Método invocado\n"
   ]
  },
  {
   "cell_type": "code",
   "execution_count": 17,
   "metadata": {
    "run_control": {
     "marked": false
    }
   },
   "outputs": [],
   "source": [
    "from types import MethodType\n",
    "\n",
    "class Decorator(object):\n",
    "    def __init__(self, func):\n",
    "        self.func = func\n",
    "        \n",
    "    def __call__(self, *args, **kwargs):\n",
    "        print('Dentro del Decorador.')\n",
    "        return self.func(*args, **kwargs)\n",
    "    \n",
    "    def __get__(self, instance, cls):\n",
    "        # Returna un método si es llamado por una instancia\n",
    "        print(cls, instance)\n",
    "        print(\"Pasa por get\")\n",
    "        return self if instance is None else MethodType(self, instance)\n",
    "\n",
    "class Test(object):\n",
    "    @Decorator\n",
    "    def __init__(self):\n",
    "        pass\n",
    "    @Decorator\n",
    "    def mostrar(self):\n",
    "        print(\"Estas invocando el método mostrar de la clase Text\")\n"
   ]
  },
  {
   "cell_type": "code",
   "execution_count": 30,
   "metadata": {},
   "outputs": [
    {
     "name": "stdout",
     "output_type": "stream",
     "text": [
      "<class '__main__.Test'> <__main__.Test object at 0x00000206E43FD940>\n",
      "Pasa por get\n",
      "Dentro del Decorador.\n"
     ]
    }
   ],
   "source": [
    "# al instanciar \"a\" como un objeto de la clase Test, se ejecuta primero el método get y \n",
    "# luego el método call de la clase decoradora\n",
    "\n",
    "a = Test()"
   ]
  },
  {
   "cell_type": "code",
   "execution_count": 56,
   "metadata": {
    "run_control": {
     "marked": false
    }
   },
   "outputs": [
    {
     "name": "stdout",
     "output_type": "stream",
     "text": [
      "<class '__main__.Test'> <__main__.Test object at 0x00000204D48297C0>\n",
      "Pasa por get\n",
      "Dentro del Decorador.\n",
      "Estas invocando el método mostrar de la clase Text\n"
     ]
    }
   ],
   "source": [
    "a.mostrar()"
   ]
  },
  {
   "cell_type": "markdown",
   "metadata": {},
   "source": [
    "También podemos obtener los datos de la función que estamos ejecutando, utilizando _wrapped:"
   ]
  },
  {
   "cell_type": "code",
   "execution_count": 18,
   "metadata": {},
   "outputs": [],
   "source": [
    "from functools import wraps\n",
    "\n",
    "class Decorator(object):\n",
    "    def __init__(self, func):\n",
    "        # Copia name, module, annotations and docstring para la instancia.\n",
    "        self._wrapped = wraps(func)(self)\n",
    "        \n",
    "    def __call__(self, *args, **kwargs):\n",
    "        return self._wrapped(*args, **kwargs)\n",
    "\n",
    "@Decorator\n",
    "def test():\n",
    "    \"\"\"Docstring de la función test.\"\"\"\n",
    "    pass\n",
    "\n",
    "\n"
   ]
  },
  {
   "cell_type": "code",
   "execution_count": 19,
   "metadata": {},
   "outputs": [
    {
     "data": {
      "text/plain": [
       "'Docstring de la función test.'"
      ]
     },
     "execution_count": 19,
     "metadata": {},
     "output_type": "execute_result"
    }
   ],
   "source": [
    "test.__doc__"
   ]
  },
  {
   "cell_type": "code",
   "execution_count": 20,
   "metadata": {},
   "outputs": [
    {
     "data": {
      "text/plain": [
       "'test'"
      ]
     },
     "execution_count": 20,
     "metadata": {},
     "output_type": "execute_result"
    }
   ],
   "source": [
    "test.__name__"
   ]
  },
  {
   "cell_type": "code",
   "execution_count": 21,
   "metadata": {},
   "outputs": [
    {
     "data": {
      "text/plain": [
       "'__main__'"
      ]
     },
     "execution_count": 21,
     "metadata": {},
     "output_type": "execute_result"
    }
   ],
   "source": [
    "test.__module__"
   ]
  },
  {
   "cell_type": "code",
   "execution_count": null,
   "metadata": {},
   "outputs": [],
   "source": [
    "# El siguiente ejemplo calcula el tiempo que tarda una función en ejecutarse:"
   ]
  },
  {
   "cell_type": "code",
   "execution_count": 34,
   "metadata": {},
   "outputs": [
    {
     "data": {
      "text/plain": [
       "1616230922.8521624"
      ]
     },
     "execution_count": 34,
     "metadata": {},
     "output_type": "execute_result"
    }
   ],
   "source": [
    "time.time()"
   ]
  },
  {
   "cell_type": "code",
   "execution_count": 24,
   "metadata": {
    "code_folding": [
     15
    ],
    "run_control": {
     "marked": false
    }
   },
   "outputs": [
    {
     "name": "stdout",
     "output_type": "stream",
     "text": [
      "Calculemos tiempo example...\n",
      "El resultado es:  4999950000\n",
      "La función tardó 0.007995367050170898 segundos\n"
     ]
    }
   ],
   "source": [
    "import time\n",
    "\n",
    "def timer(func):\n",
    "    def inner(*args, **kwargs):\n",
    "        t1 = time.time()\n",
    "        f = func(*args, **kwargs)\n",
    "        t2 = time.time()\n",
    "        print('La función tardó {0} segundos'.format(t2-t1))\n",
    "        return f\n",
    "    return inner\n",
    "\n",
    "@timer\n",
    "def example_function():\n",
    "    print(\"Calculemos tiempo example...\")\n",
    "    sumatoria = 0\n",
    "    for i in range(100000):  \n",
    "        sumatoria += i\n",
    "    print(\"El resultado es: \", round(sumatoria,2))\n",
    "@timer\n",
    "def sumar(a, b):\n",
    "    print(\"Calculemos tiempo de sumar...\")\n",
    "    \"\"\"Suma 2 números\"\"\"\n",
    "    return a + b\n",
    "\n",
    "example_function()\n"
   ]
  },
  {
   "cell_type": "code",
   "execution_count": 25,
   "metadata": {},
   "outputs": [
    {
     "name": "stdout",
     "output_type": "stream",
     "text": [
      "Calculemos tiempo de sumar...\n",
      "La función tardó 0.0 segundos\n"
     ]
    },
    {
     "data": {
      "text/plain": [
       "2390001"
      ]
     },
     "execution_count": 25,
     "metadata": {},
     "output_type": "execute_result"
    }
   ],
   "source": [
    "sumar(2344445,45556)"
   ]
  },
  {
   "cell_type": "markdown",
   "metadata": {},
   "source": [
    "### Casos de uso:\n",
    "Los decoradores son muy útiles inicio de sesión en un programa y autorización para utilizar una función, por ejemplo, en una aplicación web. Son muy usados en frameworks como Flask o Django. Veamos un ejemplo de cómo usar un decorador para verificar que se está autenticado.\n"
   ]
  },
  {
   "cell_type": "code",
   "execution_count": 271,
   "metadata": {},
   "outputs": [],
   "source": [
    "def requires_auth(f):\n",
    "    @wraps(f)\n",
    "    def decorated(*args, **kwargs):\n",
    "        auth = request.authorization\n",
    "        if not auth or not check_auth(auth.username, auth.password):\n",
    "            authenticate()\n",
    "        return f(*args, **kwargs)\n",
    "    return decorated\n"
   ]
  },
  {
   "cell_type": "markdown",
   "metadata": {},
   "source": [
    "Usamos el decorador de **@staticmethod** para definir un método estático en Python, aquí se puede observar que el método estático no se toma a sí mismo (self) como argumento para el método."
   ]
  },
  {
   "cell_type": "code",
   "execution_count": 1,
   "metadata": {},
   "outputs": [],
   "source": [
    "class A(object):\n",
    "    \n",
    "    def metodo(self, *argv): \n",
    "        print(\"He pasado por aqui\")\n",
    "        return argv"
   ]
  },
  {
   "cell_type": "code",
   "execution_count": 29,
   "metadata": {},
   "outputs": [
    {
     "name": "stdout",
     "output_type": "stream",
     "text": [
      "He pasado por aqui\n"
     ]
    },
    {
     "data": {
      "text/plain": [
       "('algo',)"
      ]
     },
     "execution_count": 29,
     "metadata": {},
     "output_type": "execute_result"
    }
   ],
   "source": [
    "letra = A()\n",
    "letra.metodo(\"algo\")"
   ]
  },
  {
   "cell_type": "code",
   "execution_count": 3,
   "metadata": {},
   "outputs": [],
   "source": [
    "class A(object):\n",
    "    \n",
    "    @staticmethod       # no necesitamos crear una instancia\n",
    "    def metodo(*argv):  # no necesito pasarle el self como parametro\n",
    "        return argv"
   ]
  },
  {
   "cell_type": "code",
   "execution_count": 4,
   "metadata": {
    "run_control": {
     "marked": false
    }
   },
   "outputs": [
    {
     "data": {
      "text/plain": [
       "('algo',)"
      ]
     },
     "execution_count": 4,
     "metadata": {},
     "output_type": "execute_result"
    }
   ],
   "source": [
    "a = A()  # Podemos crear el objeto \n",
    "a.metodo('algo')"
   ]
  },
  {
   "cell_type": "code",
   "execution_count": 5,
   "metadata": {},
   "outputs": [
    {
     "data": {
      "text/plain": [
       "('hola',)"
      ]
     },
     "execution_count": 5,
     "metadata": {},
     "output_type": "execute_result"
    }
   ],
   "source": [
    "A.metodo(\"hola\") # Podemos invocar al método sin crear el objeto"
   ]
  },
  {
   "cell_type": "code",
   "execution_count": 6,
   "metadata": {},
   "outputs": [
    {
     "data": {
      "text/plain": [
       "('Aqui voy',)"
      ]
     },
     "execution_count": 6,
     "metadata": {},
     "output_type": "execute_result"
    }
   ],
   "source": [
    "A.metodo(\"Aqui voy\")"
   ]
  },
  {
   "cell_type": "markdown",
   "metadata": {},
   "source": [
    "El método estático ayuda a lograr la encapsulación en la clase Python, ya que no es consciente del estado de la instancia actual. Además, los métodos estáticos hacen que el código sea más legible y reutilizable y más conveniente para importar en comparación con las funciones de nivel de módulo, ya que cada método no tiene que importarse especialmente."
   ]
  },
  {
   "cell_type": "code",
   "execution_count": 7,
   "metadata": {},
   "outputs": [],
   "source": [
    "class Person():\n",
    "    \n",
    "    @staticmethod\n",
    "    def is_adult(age):\n",
    "        if age > 18:\n",
    "            return True\n",
    "        else:\n",
    "            return False"
   ]
  },
  {
   "cell_type": "code",
   "execution_count": 310,
   "metadata": {},
   "outputs": [
    {
     "data": {
      "text/plain": [
       "True"
      ]
     },
     "execution_count": 310,
     "metadata": {},
     "output_type": "execute_result"
    }
   ],
   "source": [
    "Person.is_adult(23)"
   ]
  },
  {
   "cell_type": "code",
   "execution_count": 8,
   "metadata": {},
   "outputs": [
    {
     "data": {
      "text/plain": [
       "False"
      ]
     },
     "execution_count": 8,
     "metadata": {},
     "output_type": "execute_result"
    }
   ],
   "source": [
    "Person.is_adult(16)"
   ]
  },
  {
   "cell_type": "code",
   "execution_count": 315,
   "metadata": {},
   "outputs": [
    {
     "data": {
      "text/plain": [
       "True"
      ]
     },
     "execution_count": 315,
     "metadata": {},
     "output_type": "execute_result"
    }
   ],
   "source": [
    "maria = Person()\n",
    "maria.is_adult(25)"
   ]
  },
  {
   "cell_type": "markdown",
   "metadata": {},
   "source": [
    "Un **@classmethod** es un método que recibe la clase como el primer argumento implícito, al igual que un método de instancia recibe la instancia. Esto significa que puede utilizar la clase y sus propiedades dentro de ese método en lugar de una instancia determinada.\n"
   ]
  },
  {
   "cell_type": "code",
   "execution_count": 292,
   "metadata": {},
   "outputs": [],
   "source": [
    "class A(object):\n",
    "    \n",
    "    @classmethod\n",
    "    def metodo(*argv):\n",
    "        return argv"
   ]
  },
  {
   "cell_type": "code",
   "execution_count": 293,
   "metadata": {},
   "outputs": [
    {
     "data": {
      "text/plain": [
       "(__main__.A, 'algo')"
      ]
     },
     "execution_count": 293,
     "metadata": {},
     "output_type": "execute_result"
    }
   ],
   "source": [
    "A.metodo('algo')"
   ]
  },
  {
   "cell_type": "markdown",
   "metadata": {},
   "source": [
    "**@classmethod** son para cuando necesita tener métodos que no son específicos de ninguna instancia en particular, pero que aún así, involucran a la clase de alguna manera. Lo más interesante de ellos es que pueden ser anuladas por subclases.\n",
    "\n",
    "Por lo tanto, si desea tener acceso a una propiedad de una clase en su conjunto y no a la propiedad de una instancia específica de esa clase, utilice un método de clase."
   ]
  },
  {
   "cell_type": "code",
   "execution_count": 9,
   "metadata": {},
   "outputs": [
    {
     "name": "stdout",
     "output_type": "stream",
     "text": [
      "Total objects:  3\n"
     ]
    }
   ],
   "source": [
    "class MyClass():\n",
    "    \n",
    "    TOTAL_OBJECTS=0\n",
    "    \n",
    "    def __init__(self, nombre):\n",
    "        self.nombre = nombre\n",
    "        MyClass.TOTAL_OBJECTS = MyClass.TOTAL_OBJECTS + 1\n",
    "       \n",
    "    @classmethod\n",
    "    def total_objects(cls):  #cls es la clase\n",
    "        print(\"Total objects: \",cls.TOTAL_OBJECTS)\n",
    "\n",
    "# Creating objects        \n",
    "my_obj1 = MyClass(\"obj1\")\n",
    "my_obj2 = MyClass(\"obj2\")\n",
    "my_obj3 = MyClass(\"obj3\")\n",
    "\n",
    "# Calling class method \n",
    "MyClass.total_objects()"
   ]
  },
  {
   "cell_type": "code",
   "execution_count": 10,
   "metadata": {},
   "outputs": [],
   "source": [
    "my_obj4 = MyClass(\"obj4\")"
   ]
  },
  {
   "cell_type": "code",
   "execution_count": 11,
   "metadata": {
    "run_control": {
     "marked": true
    }
   },
   "outputs": [
    {
     "name": "stdout",
     "output_type": "stream",
     "text": [
      "Total objects:  4\n"
     ]
    }
   ],
   "source": [
    "MyClass.total_objects()"
   ]
  },
  {
   "cell_type": "code",
   "execution_count": 12,
   "metadata": {},
   "outputs": [
    {
     "data": {
      "text/plain": [
       "'obj1'"
      ]
     },
     "execution_count": 12,
     "metadata": {},
     "output_type": "execute_result"
    }
   ],
   "source": [
    "my_obj1.nombre"
   ]
  },
  {
   "cell_type": "code",
   "execution_count": 13,
   "metadata": {},
   "outputs": [
    {
     "data": {
      "text/plain": [
       "'obj2'"
      ]
     },
     "execution_count": 13,
     "metadata": {},
     "output_type": "execute_result"
    }
   ],
   "source": [
    "my_obj2.nombre"
   ]
  },
  {
   "cell_type": "code",
   "execution_count": 14,
   "metadata": {},
   "outputs": [
    {
     "name": "stdout",
     "output_type": "stream",
     "text": [
      "Total objects:  4\n"
     ]
    }
   ],
   "source": [
    "my_obj3.total_objects()"
   ]
  },
  {
   "cell_type": "code",
   "execution_count": 319,
   "metadata": {},
   "outputs": [
    {
     "ename": "AttributeError",
     "evalue": "type object 'MyClass' has no attribute 'nombre'",
     "output_type": "error",
     "traceback": [
      "\u001b[1;31m---------------------------------------------------------------------------\u001b[0m",
      "\u001b[1;31mAttributeError\u001b[0m                            Traceback (most recent call last)",
      "\u001b[1;32m<ipython-input-319-a9a80fa6999f>\u001b[0m in \u001b[0;36m<module>\u001b[1;34m\u001b[0m\n\u001b[1;32m----> 1\u001b[1;33m \u001b[0mMyClass\u001b[0m\u001b[1;33m.\u001b[0m\u001b[0mnombre\u001b[0m\u001b[1;33m\u001b[0m\u001b[1;33m\u001b[0m\u001b[0m\n\u001b[0m",
      "\u001b[1;31mAttributeError\u001b[0m: type object 'MyClass' has no attribute 'nombre'"
     ]
    }
   ],
   "source": [
    "MyClass.nombre"
   ]
  },
  {
   "cell_type": "markdown",
   "metadata": {},
   "source": [
    "@property: es un decorador integrado para la función property() en Python. Se utiliza para dar una funcionalidad \"especial\" a ciertos métodos para que actúen como captadores, definidores o eliminadores cuando definimos propiedades en una clase.  Se pueden definir tres métodos para una propiedad:\n",
    "\n",
    "    •\tgetter: para acceder al valor del atributo.\n",
    "    •\tsetter: para establecer el valor del atributo.\n",
    "    •\tdeleter: para eliminar el atributo de instancia.\n"
   ]
  },
  {
   "cell_type": "code",
   "execution_count": 15,
   "metadata": {},
   "outputs": [],
   "source": [
    "class House1:\n",
    "\n",
    "    def __init__(self,  name, price):\n",
    "        self.name = name\n",
    "        self.price = price"
   ]
  },
  {
   "cell_type": "code",
   "execution_count": 16,
   "metadata": {},
   "outputs": [
    {
     "data": {
      "text/plain": [
       "'piso'"
      ]
     },
     "execution_count": 16,
     "metadata": {},
     "output_type": "execute_result"
    }
   ],
   "source": [
    "house = House1(\"piso\", 50000) # Create instance\n",
    "house.name"
   ]
  },
  {
   "cell_type": "code",
   "execution_count": 17,
   "metadata": {},
   "outputs": [
    {
     "data": {
      "text/plain": [
       "50000"
      ]
     },
     "execution_count": 17,
     "metadata": {},
     "output_type": "execute_result"
    }
   ],
   "source": [
    "house.price"
   ]
  },
  {
   "cell_type": "code",
   "execution_count": 18,
   "metadata": {},
   "outputs": [],
   "source": [
    "house.price = -50"
   ]
  },
  {
   "cell_type": "code",
   "execution_count": 19,
   "metadata": {},
   "outputs": [
    {
     "data": {
      "text/plain": [
       "-50"
      ]
     },
     "execution_count": 19,
     "metadata": {},
     "output_type": "execute_result"
    }
   ],
   "source": [
    "house.price"
   ]
  },
  {
   "cell_type": "code",
   "execution_count": 20,
   "metadata": {},
   "outputs": [],
   "source": [
    "class House:\n",
    "\n",
    "    def __init__(self,  name, price):\n",
    "        self.name = name\n",
    "        self._price = price\n",
    "\n",
    "    @property\n",
    "    def price(self):\n",
    "        return self._price\n",
    "\n",
    "    @price.setter\n",
    "    def price(self, new_price):\n",
    "        if new_price > 0 and isinstance(new_price, float):\n",
    "            self._price = new_price\n",
    "        else:\n",
    "            print(\"Introduzca un precio válido\")\n",
    "\n",
    "    @price.deleter\n",
    "    def price(self):\n",
    "        del self._price"
   ]
  },
  {
   "cell_type": "code",
   "execution_count": 21,
   "metadata": {},
   "outputs": [
    {
     "data": {
      "text/plain": [
       "'piso'"
      ]
     },
     "execution_count": 21,
     "metadata": {},
     "output_type": "execute_result"
    }
   ],
   "source": [
    "house = House(\"piso\", 50000.0) # Create instance\n",
    "house.name"
   ]
  },
  {
   "cell_type": "code",
   "execution_count": 22,
   "metadata": {},
   "outputs": [
    {
     "data": {
      "text/plain": [
       "50000.0"
      ]
     },
     "execution_count": 22,
     "metadata": {},
     "output_type": "execute_result"
    }
   ],
   "source": [
    "house.price"
   ]
  },
  {
   "cell_type": "code",
   "execution_count": 23,
   "metadata": {},
   "outputs": [
    {
     "data": {
      "text/plain": [
       "'piso'"
      ]
     },
     "execution_count": 23,
     "metadata": {},
     "output_type": "execute_result"
    }
   ],
   "source": [
    "house.name"
   ]
  },
  {
   "cell_type": "code",
   "execution_count": 24,
   "metadata": {},
   "outputs": [
    {
     "data": {
      "text/plain": [
       "45000.0"
      ]
     },
     "execution_count": 24,
     "metadata": {},
     "output_type": "execute_result"
    }
   ],
   "source": [
    "house.price = 45000.0   # Update value\n",
    "house.price             # Access value"
   ]
  },
  {
   "cell_type": "code",
   "execution_count": 25,
   "metadata": {},
   "outputs": [
    {
     "name": "stdout",
     "output_type": "stream",
     "text": [
      "Introduzca un precio válido\n"
     ]
    }
   ],
   "source": [
    "house.price = -50"
   ]
  },
  {
   "cell_type": "code",
   "execution_count": 26,
   "metadata": {},
   "outputs": [
    {
     "data": {
      "text/plain": [
       "45000.0"
      ]
     },
     "execution_count": 26,
     "metadata": {},
     "output_type": "execute_result"
    }
   ],
   "source": [
    "house.price"
   ]
  },
  {
   "cell_type": "code",
   "execution_count": 27,
   "metadata": {},
   "outputs": [],
   "source": [
    "house.price = 150000.00"
   ]
  },
  {
   "cell_type": "code",
   "execution_count": 28,
   "metadata": {},
   "outputs": [
    {
     "data": {
      "text/plain": [
       "150000.0"
      ]
     },
     "execution_count": 28,
     "metadata": {},
     "output_type": "execute_result"
    }
   ],
   "source": [
    "house.price"
   ]
  },
  {
   "cell_type": "code",
   "execution_count": 29,
   "metadata": {},
   "outputs": [],
   "source": [
    "del house.price"
   ]
  },
  {
   "cell_type": "code",
   "execution_count": 30,
   "metadata": {},
   "outputs": [
    {
     "ename": "AttributeError",
     "evalue": "'House' object has no attribute '_price'",
     "output_type": "error",
     "traceback": [
      "\u001b[1;31m---------------------------------------------------------------------------\u001b[0m",
      "\u001b[1;31mAttributeError\u001b[0m                            Traceback (most recent call last)",
      "\u001b[1;32m<ipython-input-30-f18ec4fbfcf6>\u001b[0m in \u001b[0;36m<module>\u001b[1;34m\u001b[0m\n\u001b[1;32m----> 1\u001b[1;33m \u001b[0mhouse\u001b[0m\u001b[1;33m.\u001b[0m\u001b[0mprice\u001b[0m\u001b[1;33m\u001b[0m\u001b[1;33m\u001b[0m\u001b[0m\n\u001b[0m",
      "\u001b[1;32m<ipython-input-20-dc32ec855717>\u001b[0m in \u001b[0;36mprice\u001b[1;34m(self)\u001b[0m\n\u001b[0;32m      7\u001b[0m     \u001b[1;33m@\u001b[0m\u001b[0mproperty\u001b[0m\u001b[1;33m\u001b[0m\u001b[1;33m\u001b[0m\u001b[0m\n\u001b[0;32m      8\u001b[0m     \u001b[1;32mdef\u001b[0m \u001b[0mprice\u001b[0m\u001b[1;33m(\u001b[0m\u001b[0mself\u001b[0m\u001b[1;33m)\u001b[0m\u001b[1;33m:\u001b[0m\u001b[1;33m\u001b[0m\u001b[1;33m\u001b[0m\u001b[0m\n\u001b[1;32m----> 9\u001b[1;33m         \u001b[1;32mreturn\u001b[0m \u001b[0mself\u001b[0m\u001b[1;33m.\u001b[0m\u001b[0m_price\u001b[0m\u001b[1;33m\u001b[0m\u001b[1;33m\u001b[0m\u001b[0m\n\u001b[0m\u001b[0;32m     10\u001b[0m \u001b[1;33m\u001b[0m\u001b[0m\n\u001b[0;32m     11\u001b[0m     \u001b[1;33m@\u001b[0m\u001b[0mprice\u001b[0m\u001b[1;33m.\u001b[0m\u001b[0msetter\u001b[0m\u001b[1;33m\u001b[0m\u001b[1;33m\u001b[0m\u001b[0m\n",
      "\u001b[1;31mAttributeError\u001b[0m: 'House' object has no attribute '_price'"
     ]
    }
   ],
   "source": [
    "house.price"
   ]
  },
  {
   "cell_type": "markdown",
   "metadata": {},
   "source": [
    "### Enumeradores"
   ]
  },
  {
   "cell_type": "code",
   "execution_count": 35,
   "metadata": {
    "run_control": {
     "marked": false
    }
   },
   "outputs": [],
   "source": [
    "from enum import Enum\n",
    "\n",
    "class Planet(Enum):\n",
    "    MERCURY = (3.303e+23, 2.4397e6)\n",
    "    VENUS   = (4.869e+24, 6.0518e6)\n",
    "    EARTH   = (5.976e+24, 6.37814e6)\n",
    "    MARS    = (6.421e+23, 3.3972e6)\n",
    "    JUPITER = (1.9e+27,   7.1492e7)\n",
    "    SATURN  = (5.688e+26, 6.0268e7)\n",
    "    URANUS  = (8.686e+25, 2.5559e7)\n",
    "    NEPTUNE = (1.024e+26, 2.4746e7)\n",
    "    \n",
    "    def __init__(self, mass, radius):\n",
    "        self.mass = mass       # in kilograms\n",
    "        self.radius = radius   # in meters\n",
    "        \n",
    "    @property  # conviertes un metodo en un atributo\n",
    "    def surface_gravity(self):\n",
    "        # universal gravitational constant  (m3 kg-1 s-2)\n",
    "        G = 6.67300E-11\n",
    "        return G * self.mass / (self.radius * self.radius)"
   ]
  },
  {
   "cell_type": "code",
   "execution_count": 32,
   "metadata": {},
   "outputs": [
    {
     "data": {
      "text/plain": [
       "5.976e+24"
      ]
     },
     "execution_count": 32,
     "metadata": {},
     "output_type": "execute_result"
    }
   ],
   "source": [
    "Planet.EARTH.mass"
   ]
  },
  {
   "cell_type": "code",
   "execution_count": 33,
   "metadata": {},
   "outputs": [
    {
     "data": {
      "text/plain": [
       "6378140.0"
      ]
     },
     "execution_count": 33,
     "metadata": {},
     "output_type": "execute_result"
    }
   ],
   "source": [
    "Planet.EARTH.radius"
   ]
  },
  {
   "cell_type": "code",
   "execution_count": 34,
   "metadata": {
    "run_control": {
     "marked": true
    }
   },
   "outputs": [
    {
     "data": {
      "text/plain": [
       "9.802652743337129"
      ]
     },
     "execution_count": 34,
     "metadata": {},
     "output_type": "execute_result"
    }
   ],
   "source": [
    "Planet.EARTH.surface_gravity"
   ]
  },
  {
   "cell_type": "code",
   "execution_count": 63,
   "metadata": {},
   "outputs": [
    {
     "data": {
      "text/plain": [
       "8.871391908774457"
      ]
     },
     "execution_count": 63,
     "metadata": {},
     "output_type": "execute_result"
    }
   ],
   "source": [
    "Planet.VENUS.surface_gravity"
   ]
  },
  {
   "cell_type": "code",
   "execution_count": 64,
   "metadata": {},
   "outputs": [],
   "source": [
    "Saturno = Planet.SATURN"
   ]
  },
  {
   "cell_type": "code",
   "execution_count": 66,
   "metadata": {},
   "outputs": [
    {
     "data": {
      "text/plain": [
       "10.44978014597121"
      ]
     },
     "execution_count": 66,
     "metadata": {},
     "output_type": "execute_result"
    }
   ],
   "source": [
    "Saturno.surface_gravity"
   ]
  },
  {
   "cell_type": "markdown",
   "metadata": {},
   "source": [
    "## Pruebas Unitarias"
   ]
  },
  {
   "cell_type": "markdown",
   "metadata": {},
   "source": [
    "### unittest"
   ]
  },
  {
   "cell_type": "code",
   "execution_count": 1,
   "metadata": {},
   "outputs": [],
   "source": [
    "# Librerias\n",
    "\n",
    "import math\n",
    "import unittest\n",
    "\n",
    "# Funciones\n",
    "\n",
    "def area_cuadrado_local(lado):\n",
    "    a_cuadrado = lado**2\n",
    "    return a_cuadrado\n",
    "\n",
    "def area_triangulo_local(base, altura):\n",
    "    a_triangulo = (base*altura)/2\n",
    "    return a_triangulo\n"
   ]
  },
  {
   "cell_type": "code",
   "execution_count": 9,
   "metadata": {},
   "outputs": [
    {
     "name": "stderr",
     "output_type": "stream",
     "text": [
      "test_area_cuadrado (__main__.TestOperaciones) ... ok\n",
      "test_area_cuadrado_0 (__main__.TestOperaciones) ... ok\n",
      "test_area_cuadrado_1 (__main__.TestOperaciones) ... ok\n",
      "test_area_triangulo (__main__.TestOperaciones) ... "
     ]
    },
    {
     "name": "stdout",
     "output_type": "stream",
     "text": [
      "Test Finalizado\n",
      "Test Finalizado\n",
      "Test Finalizado\n",
      "Test Finalizado\n"
     ]
    },
    {
     "name": "stderr",
     "output_type": "stream",
     "text": [
      "ok\n",
      "\n",
      "----------------------------------------------------------------------\n",
      "Ran 4 tests in 0.004s\n",
      "\n",
      "OK\n"
     ]
    }
   ],
   "source": [
    "\n",
    "\n",
    "class TestOperaciones(unittest.TestCase):\n",
    "    def setUp(self):\n",
    "        # Aquí, opcionalmente, ejecuta lo que deberías ejecutar antes\n",
    "        # de comenzar cada test.\n",
    "        pass\n",
    "\n",
    "    def test_area_cuadrado(self):\n",
    "        esperado = 225\n",
    "        actual = area_cuadrado_local(15)\n",
    "        # Pásalo en el orden: actual, esperado\n",
    "        self.assertEqual(actual, esperado)\n",
    "        \n",
    "    def test_area_cuadrado_0(self):\n",
    "        esperado = 225\n",
    "        actual = area_cuadrado_local(-15)\n",
    "        # Pásalo en el orden: actual, esperado\n",
    "        self.assertEqual(actual, esperado)\n",
    "        \n",
    "    def test_area_cuadrado_1(self):\n",
    "        esperado = 0\n",
    "        actual = area_cuadrado_local(0)\n",
    "        # Pásalo en el orden: actual, esperado\n",
    "        self.assertEqual(actual, esperado)\n",
    "        \n",
    "    def test_area_triangulo(self):\n",
    "        esperado = 112.5\n",
    "        actual = area_triangulo_local(15,15)\n",
    "        # Pásalo en el orden: actual, esperado\n",
    "        self.assertEqual(actual, esperado)\n",
    "\n",
    "    def tearDown(self):\n",
    "        # Aquí lo contrario de setUp, cuando cada test ha terminado\n",
    "        print(\"Test Finalizado\")\n",
    "        pass\n",
    "\n",
    "if __name__ == \"__main__\":\n",
    "#    unittest.main() \n",
    "    unittest.main(argv=[''], verbosity=3, exit=False) # Jupyter"
   ]
  },
  {
   "attachments": {
    "image.png": {
     "image/png": "[encoded data removed]"
    }
   },
   "cell_type": "markdown",
   "metadata": {},
   "source": [
    "![image.png](attachment:image.png)"
   ]
  },
  {
   "cell_type": "markdown",
   "metadata": {},
   "source": [
    "Las siguientes pruebas se realizarán en PyCharm"
   ]
  },
  {
   "cell_type": "code",
   "execution_count": 10,
   "metadata": {},
   "outputs": [],
   "source": [
    "# Librería\n",
    "\n",
    "import unittest\n",
    "\n",
    "from FigurasGeometricas.CalcularArea.calcular_areas import *\n",
    "from FigurasGeometricas.CalcularVolumen.calcular_volumen import *\n"
   ]
  },
  {
   "cell_type": "code",
   "execution_count": 11,
   "metadata": {},
   "outputs": [
    {
     "data": {
      "text/plain": [
       "225"
      ]
     },
     "execution_count": 11,
     "metadata": {},
     "output_type": "execute_result"
    }
   ],
   "source": [
    "area_cuadrado(15)"
   ]
  },
  {
   "cell_type": "code",
   "execution_count": 12,
   "metadata": {},
   "outputs": [
    {
     "name": "stderr",
     "output_type": "stream",
     "text": [
      "test_area_cuadrado (__main__.TestOperaciones) ... ok\n",
      "test_area_triangulo (__main__.TestOperaciones) ... "
     ]
    },
    {
     "name": "stdout",
     "output_type": "stream",
     "text": [
      "Test Finalizado\n",
      "Test Finalizado\n"
     ]
    },
    {
     "name": "stderr",
     "output_type": "stream",
     "text": [
      "ok\n",
      "\n",
      "----------------------------------------------------------------------\n",
      "Ran 2 tests in 0.002s\n",
      "\n",
      "OK\n"
     ]
    }
   ],
   "source": [
    "import unittest\n",
    "\n",
    "class TestOperaciones(unittest.TestCase):\n",
    "    def setUp(self):\n",
    "        # Aquí, opcionalmente, ejecuta lo que deberías ejecutar antes\n",
    "        # de comenzar cada test.\n",
    "        pass\n",
    "\n",
    "    def test_area_cuadrado(self):\n",
    "        esperado = 225\n",
    "        actual = area_cuadrado(15)\n",
    "        # Pásalo en el orden: actual, esperado\n",
    "        self.assertEqual(actual, esperado)\n",
    "        \n",
    "    def test_area_triangulo(self):\n",
    "        esperado = 112.5\n",
    "        actual = area_triangulo(15,15)\n",
    "        # Pásalo en el orden: actual, esperado\n",
    "        self.assertEqual(actual, esperado)\n",
    "\n",
    "    def tearDown(self):\n",
    "        # Aquí lo contrario de setUp, cuando cada test ha terminado\n",
    "        print(\"Test Finalizado\")\n",
    "        pass\n",
    "\n",
    "if __name__ == \"__main__\":\n",
    "#    unittest.main() \n",
    "    unittest.main(argv=[''], verbosity=3, exit=False) # Jupyter"
   ]
  },
  {
   "cell_type": "code",
   "execution_count": 14,
   "metadata": {},
   "outputs": [
    {
     "data": {
      "text/plain": [
       "unittest.case.TestCase"
      ]
     },
     "execution_count": 14,
     "metadata": {},
     "output_type": "execute_result"
    }
   ],
   "source": [
    "unittest.TestCase"
   ]
  },
  {
   "cell_type": "code",
   "execution_count": 3,
   "metadata": {},
   "outputs": [
    {
     "name": "stderr",
     "output_type": "stream",
     "text": [
      "test_doblar (__main__.PruebasFunciones) ... ok\n",
      "test_es_par (__main__.PruebasFunciones) ... ok\n",
      "test_sumar (__main__.PruebasFunciones) ... ok\n",
      "\n",
      "----------------------------------------------------------------------\n",
      "Ran 3 tests in 0.003s\n",
      "\n",
      "OK\n"
     ]
    }
   ],
   "source": [
    "import unittest\n",
    "\n",
    "def doblar(a): return a*2\n",
    "def sumar(a,b): return a+b  \n",
    "def es_par(a): return 1 if a%2 == 0 else 0\n",
    "\n",
    "class PruebasFunciones(unittest.TestCase):\n",
    "\n",
    "    def test_doblar(self):\n",
    "        self.assertEqual(doblar(10), 20)\n",
    "        self.assertEqual(doblar('Ab'), 'AbAb')\n",
    "\n",
    "    def test_sumar(self):\n",
    "        self.assertEqual(sumar(-15, 15), 0)\n",
    "        self.assertEqual(sumar(15, 15), 30)\n",
    "        self.assertEqual(sumar('Ab' ,'cd'), 'Abcd')\n",
    "\n",
    "    def test_es_par(self):\n",
    "        self.assertEqual(es_par(11), False)\n",
    "        self.assertEqual(es_par(68), True)\n",
    "\n",
    "\n",
    "if __name__ == '__main__':\n",
    "    #unittest.main()\n",
    "     unittest.main(argv=[''], verbosity=3, exit=False) # Jupyter"
   ]
  },
  {
   "cell_type": "code",
   "execution_count": 1,
   "metadata": {},
   "outputs": [
    {
     "name": "stderr",
     "output_type": "stream",
     "text": [
      "test_isupper (__main__.PruebasMetodosCadenas) ... ok\n",
      "test_split (__main__.PruebasMetodosCadenas) ... ok\n",
      "test_upper (__main__.PruebasMetodosCadenas) ... ok\n",
      "\n",
      "----------------------------------------------------------------------\n",
      "Ran 3 tests in 0.002s\n",
      "\n",
      "OK\n"
     ]
    }
   ],
   "source": [
    "import unittest\n",
    "\n",
    "class PruebasMetodosCadenas(unittest.TestCase):\n",
    "\n",
    "    def test_upper(self):\n",
    "        self.assertEqual('hola'.upper(), 'HOLA')\n",
    "\n",
    "    def test_isupper(self):\n",
    "        self.assertTrue('HOLA'.isupper())\n",
    "        self.assertFalse('Hola'.isupper())\n",
    "\n",
    "    def test_split(self):\n",
    "        s = 'Hola mundo'\n",
    "        self.assertEqual(s.split(), ['Hola', 'mundo'])\n",
    "\n",
    "\n",
    "if __name__ == '__main__':\n",
    "    #unittest.main()\n",
    "    unittest.main(argv=[''], verbosity=3, exit=False) # Jupyter"
   ]
  },
  {
   "cell_type": "markdown",
   "metadata": {},
   "source": [
    "### Preparación y limpieza\n",
    "\n",
    "La clase TestCase incorpora dos métodos extras.\n",
    "\n",
    "**setUp()** sirve para preparar el contexto de las pruebas, por ejemplo para escribir unos valores de prueba en un fichero conectarse a un servidor o a una base de datos.\n",
    "\n",
    "**tearDown()** para hacer lo propio con la limpieza, borrar el fichero, desconectarse del servidor o borrar las entradas de prueba de la base de datos.\n",
    "\n",
    "Este proceso de preparar el contexto se conoce como test fixture o accesorios de prueba.\n"
   ]
  },
  {
   "cell_type": "code",
   "execution_count": 2,
   "metadata": {},
   "outputs": [
    {
     "name": "stderr",
     "output_type": "stream",
     "text": [
      "test (__main__.PruebaTestFixture) ... "
     ]
    },
    {
     "name": "stdout",
     "output_type": "stream",
     "text": [
      "Preparando el contexto\n",
      "Realizando una prueba\n",
      "Destruyendo el contexto\n"
     ]
    },
    {
     "name": "stderr",
     "output_type": "stream",
     "text": [
      "ok\n",
      "\n",
      "----------------------------------------------------------------------\n",
      "Ran 1 test in 0.001s\n",
      "\n",
      "OK\n"
     ]
    }
   ],
   "source": [
    "import unittest\n",
    "\n",
    "def doblar(a): return a*2\n",
    "\n",
    "class PruebaTestFixture(unittest.TestCase):\n",
    "\n",
    "    def setUp(self):\n",
    "        print(\"Preparando el contexto\")\n",
    "        self.numeros = [1, 2, 3, 4, 5]\n",
    "\n",
    "    def test(self):\n",
    "        print(\"Realizando una prueba\")\n",
    "        r = [doblar(n) for n in self.numeros]\n",
    "        self.assertEqual(r, [2, 4, 6, 8, 10])\n",
    "\n",
    "    def tearDown(self):\n",
    "        print(\"Destruyendo el contexto\")\n",
    "        del(self.numeros)\n",
    "\n",
    "\n",
    "if __name__ == '__main__':\n",
    "    # unittest.main() \n",
    "    unittest.main(argv=[''], verbosity=3, exit=False) # Jupyter"
   ]
  },
  {
   "cell_type": "markdown",
   "metadata": {},
   "source": [
    "### doctest"
   ]
  },
  {
   "cell_type": "code",
   "execution_count": 3,
   "metadata": {},
   "outputs": [
    {
     "name": "stdout",
     "output_type": "stream",
     "text": [
      "Trying:\n",
      "    area_cuadrado(15)\n",
      "Expecting:\n",
      "    225\n",
      "ok\n",
      "Trying:\n",
      "    area_triangulo(10,15)\n",
      "Expecting:\n",
      "    75.0\n",
      "ok\n",
      "15 items had no tests:\n",
      "    __main__\n",
      "    __main__.PruebaTestFixture\n",
      "    __main__.PruebaTestFixture.setUp\n",
      "    __main__.PruebaTestFixture.tearDown\n",
      "    __main__.PruebaTestFixture.test\n",
      "    __main__._getshapeof\n",
      "    __main__._getsizeof\n",
      "    __main__.area_circulo\n",
      "    __main__.area_paralelogramo\n",
      "    __main__.area_poligono_regular\n",
      "    __main__.area_rectangulo\n",
      "    __main__.area_rombo\n",
      "    __main__.area_trapecio\n",
      "    __main__.doblar\n",
      "    __main__.var_dic_list\n",
      "2 items passed all tests:\n",
      "   1 tests in __main__.area_cuadrado\n",
      "   1 tests in __main__.area_triangulo\n",
      "2 tests in 17 items.\n",
      "2 passed and 0 failed.\n",
      "Test passed.\n"
     ]
    }
   ],
   "source": [
    "\"\"\"\n",
    "Módulo para el cálculo del área de diferentes\n",
    "figuras geométricas\n",
    "\"\"\"\n",
    "\n",
    "# Librerías\n",
    "\n",
    "import math\n",
    "\n",
    "# Funciones para cálculo del área de figuras geométricas\n",
    "\n",
    "def area_cuadrado(lado):\n",
    "    \"\"\"\n",
    "    Cálcula el área de un cuadrado\n",
    "    >>> area_cuadrado(15)\n",
    "    225\n",
    "    \"\"\"\n",
    "    a_cuadrado = lado**2\n",
    "    return a_cuadrado\n",
    "\n",
    "def area_triangulo(base, altura):\n",
    "    \"\"\"\n",
    "    Cálcula el área de un triángulo\n",
    "    >>> area_triangulo(10,15)\n",
    "    75.0\n",
    "    \"\"\"\n",
    "    a_triangulo = (base*altura)/2\n",
    "    return a_triangulo\n",
    "\n",
    "def area_circulo(radio):\n",
    "    a_circulo = math.pi*radio**2\n",
    "    return a_circulo\n",
    "\n",
    "def area_rectangulo(base, altura):\n",
    "    a_rectangulo = base * altura\n",
    "    return a_rectangulo\n",
    "\n",
    "def area_trapecio(Base, altura, base):\n",
    "    a_trapecio = ((Base + base)/2)*altura\n",
    "    return a_trapecio\n",
    "\n",
    "def area_paralelogramo(base, altura):\n",
    "    a_triangulo = (base*altura)/2\n",
    "    return a_triangulo\n",
    "\n",
    "def area_poligono_regular(n_lados,lado, apotema):\n",
    "    a_poligono = ((n_lados*lado)*apotema)/2\n",
    "    return a_poligono\n",
    "\n",
    "def area_rombo(DiagonalM, diagonalm):\n",
    "    a_rombo = (DiagonalM*diagonalm)/2\n",
    "    return a_rombo\n",
    "\n",
    "if __name__ == \"__main__\":\n",
    "    import doctest\n",
    "    doctest.testmod(verbose=True)"
   ]
  },
  {
   "cell_type": "code",
   "execution_count": 23,
   "metadata": {},
   "outputs": [
    {
     "name": "stdout",
     "output_type": "stream",
     "text": [
      "Trying:\n",
      "    area_cuadrado(15)\n",
      "Expecting:\n",
      "    225\n",
      "ok\n",
      "Trying:\n",
      "    area_triangulo(10,15)\n",
      "Expecting:\n",
      "    75.0\n",
      "ok\n",
      "18 items had no tests:\n",
      "    __main__\n",
      "    __main__.Planet\n",
      "    __main__.Planet.__init__\n",
      "    __main__.Planet.surface_gravity\n",
      "    __main__.TestOperaciones\n",
      "    __main__.TestOperaciones.setUp\n",
      "    __main__.TestOperaciones.tearDown\n",
      "    __main__.TestOperaciones.test_area_cuadrado\n",
      "    __main__.TestOperaciones.test_area_triangulo\n",
      "    __main__._getshapeof\n",
      "    __main__._getsizeof\n",
      "    __main__.area_circulo\n",
      "    __main__.area_paralelogramo\n",
      "    __main__.area_poligono_regular\n",
      "    __main__.area_rectangulo\n",
      "    __main__.area_rombo\n",
      "    __main__.area_trapecio\n",
      "    __main__.var_dic_list\n",
      "2 items passed all tests:\n",
      "   1 tests in __main__.area_cuadrado\n",
      "   1 tests in __main__.area_triangulo\n",
      "2 tests in 20 items.\n",
      "2 passed and 0 failed.\n",
      "Test passed.\n"
     ]
    }
   ],
   "source": [
    "\"\"\"\n",
    "Módulo para el cálculo del área de diferentes\n",
    "figuras geométricas\n",
    "\"\"\"\n",
    "\n",
    "# Librerías\n",
    "\n",
    "import math\n",
    "\n",
    "# Funciones para cálculo del área de figuras geométricas\n",
    "\n",
    "def area_cuadrado(lado):\n",
    "    \"\"\"\n",
    "    Cálcula el área de un cuadrado\n",
    "    >>> area_cuadrado(15)\n",
    "    225\n",
    "    \"\"\"\n",
    "    a_cuadrado = lado**2\n",
    "    return a_cuadrado\n",
    "\n",
    "def area_triangulo(base, altura):\n",
    "    \"\"\"\n",
    "    Cálcula el área de un triángulo\n",
    "    >>> area_triangulo(10,15)\n",
    "    75.0\n",
    "    \"\"\"\n",
    "    a_triangulo = (base*altura)/2\n",
    "    return a_triangulo\n",
    "\n",
    "def area_circulo(radio):\n",
    "    a_circulo = math.pi*radio**2\n",
    "    return a_circulo\n",
    "\n",
    "def area_rectangulo(base, altura):\n",
    "    a_rectangulo = base * altura\n",
    "    return a_rectangulo\n",
    "\n",
    "def area_trapecio(Base, altura, base):\n",
    "    a_trapecio = ((Base + base)/2)*altura\n",
    "    return a_trapecio\n",
    "\n",
    "def area_paralelogramo(base, altura):\n",
    "    a_triangulo = (base*altura)/2\n",
    "    return a_triangulo\n",
    "\n",
    "def area_poligono_regular(n_lados,lado, apotema):\n",
    "    a_poligono = ((n_lados*lado)*apotema)/2\n",
    "    return a_poligono\n",
    "\n",
    "def area_rombo(DiagonalM, diagonalm):\n",
    "    a_rombo = (DiagonalM*diagonalm)/2\n",
    "    return a_rombo\n",
    "\n",
    "if __name__ == \"__main__\":\n",
    "    import doctest\n",
    "    doctest.testmod(verbose=True) # Solo muestra los mensajes de error"
   ]
  },
  {
   "cell_type": "markdown",
   "metadata": {},
   "source": [
    "A través de la documentación de nuestra función también podemos indicar que se espera una excepción cuando intentamos sumar un entero y una cadena. Dado que los mensajes de error contienen información que varía constantemente (nombre del archivo, número de línea, etc.), no es necesario indicarlo y en su lugar se colocan tres puntos."
   ]
  },
  {
   "cell_type": "code",
   "execution_count": 4,
   "metadata": {},
   "outputs": [
    {
     "ename": "IndentationError",
     "evalue": "unexpected indent (<ipython-input-4-6dcf985ecb0c>, line 2)",
     "output_type": "error",
     "traceback": [
      "\u001b[1;36m  File \u001b[1;32m\"<ipython-input-4-6dcf985ecb0c>\"\u001b[1;36m, line \u001b[1;32m2\u001b[0m\n\u001b[1;33m    Traceback (most recent call last):\u001b[0m\n\u001b[1;37m    ^\u001b[0m\n\u001b[1;31mIndentationError\u001b[0m\u001b[1;31m:\u001b[0m unexpected indent\n"
     ]
    }
   ],
   "source": [
    ">>> area_cuadrado(\"15\")\n",
    "    Traceback (most recent call last):\n",
    "        ...\n",
    "    TypeError"
   ]
  },
  {
   "cell_type": "code",
   "execution_count": 5,
   "metadata": {},
   "outputs": [
    {
     "name": "stdout",
     "output_type": "stream",
     "text": [
      "**********************************************************************\n",
      "File \"__main__\", line 17, in __main__.area_cuadrado\n",
      "Failed example:\n",
      "    area_cuadrado(\"15\")\n",
      "Expected:\n",
      "    Traceback (most recent call last):\n",
      "        ...\n",
      "    TypeError\n",
      "Got:\n",
      "    Traceback (most recent call last):\n",
      "      File \"C:\\Users\\msierra\\anaconda3\\lib\\doctest.py\", line 1336, in __run\n",
      "        exec(compile(example.source, filename, \"single\",\n",
      "      File \"<doctest __main__.area_cuadrado[1]>\", line 1, in <module>\n",
      "        area_cuadrado(\"15\")\n",
      "      File \"<ipython-input-5-f02943fb6705>\", line 22, in area_cuadrado\n",
      "        a_cuadrado = lado**2\n",
      "    TypeError: unsupported operand type(s) for ** or pow(): 'str' and 'int'\n",
      "**********************************************************************\n",
      "File \"__main__\", line 28, in __main__.area_triangulo\n",
      "Failed example:\n",
      "    area_triangulo(10,15)\n",
      "Expected:\n",
      "    75\n",
      "Got:\n",
      "    75.0\n",
      "**********************************************************************\n",
      "2 items had failures:\n",
      "   1 of   2 in __main__.area_cuadrado\n",
      "   1 of   1 in __main__.area_triangulo\n",
      "***Test Failed*** 2 failures.\n"
     ]
    }
   ],
   "source": [
    "\"\"\"\n",
    "Módulo para el cálculo del área de diferentes\n",
    "figuras geométricas\n",
    "\"\"\"\n",
    "\n",
    "# Librerías\n",
    "\n",
    "import math\n",
    "\n",
    "# Funciones para cálculo del área de figuras geométricas\n",
    "\n",
    "def area_cuadrado(lado):\n",
    "    \"\"\"\n",
    "    Cálcula el área de un cuadrado\n",
    "    >>> area_cuadrado(15)\n",
    "    225\n",
    "    >>> area_cuadrado(\"15\")\n",
    "    Traceback (most recent call last):\n",
    "        ...\n",
    "    TypeError\n",
    "    \"\"\"\n",
    "    a_cuadrado = lado**2\n",
    "    return a_cuadrado\n",
    "\n",
    "def area_triangulo(base, altura):\n",
    "    \"\"\"\n",
    "    Cálcula el área de un triángulo\n",
    "    >>> area_triangulo(10,15)\n",
    "    75\n",
    "    \"\"\"\n",
    "    a_triangulo = (base*altura)/2\n",
    "    return a_triangulo\n",
    "\n",
    "def area_circulo(radio):\n",
    "    a_circulo = math.pi*radio**2\n",
    "    return a_circulo\n",
    "\n",
    "def area_rectangulo(base, altura):\n",
    "    a_rectangulo = base * altura\n",
    "    return a_rectangulo\n",
    "\n",
    "def area_trapecio(Base, altura, base):\n",
    "    a_trapecio = ((Base + base)/2)*altura\n",
    "    return a_trapecio\n",
    "\n",
    "def area_paralelogramo(base, altura):\n",
    "    a_triangulo = (base*altura)/2\n",
    "    return a_triangulo\n",
    "\n",
    "def area_poligono_regular(n_lados,lado, apotema):\n",
    "    a_poligono = ((n_lados*lado)*apotema)/2\n",
    "    return a_poligono\n",
    "\n",
    "def area_rombo(DiagonalM, diagonalm):\n",
    "    a_rombo = (DiagonalM*diagonalm)/2\n",
    "    return a_rombo\n",
    "\n",
    "if __name__ == \"__main__\":\n",
    "    import doctest\n",
    "    doctest.testmod(verbose=False)"
   ]
  },
  {
   "cell_type": "markdown",
   "metadata": {},
   "source": [
    "## Logging\n",
    "\n",
    "Con el módulo logging, podemos registrar los mensajes que deseamos ver. Existen cinco (5) niveles estándar que indican la gravedad o el tipo de evento. \n",
    "\n",
    "    •\tDEBUG - Depuración\n",
    "    •\tINFO - Información\n",
    "    •\tWARNING - Advertencia\n",
    "    •\tERROR - Error\n",
    "    •\tCRITICAL – Crítico\n",
    "\n",
    "El módulo logging proporciona un registrador predeterminado que nos permite comenzar sin necesidad de hacer mucha configuración. Los métodos correspondientes para cada nivel se pueden llamar de la siguiente manera:\n"
   ]
  },
  {
   "cell_type": "code",
   "execution_count": 1,
   "metadata": {},
   "outputs": [],
   "source": [
    "import logging"
   ]
  },
  {
   "cell_type": "code",
   "execution_count": 6,
   "metadata": {},
   "outputs": [
    {
     "name": "stderr",
     "output_type": "stream",
     "text": [
      "WARNING:root:Este es un mensaje de advertencia\n",
      "ERROR:root:Este es un mensaje de error\n",
      "CRITICAL:root:Este es un mensaje Critico\n"
     ]
    }
   ],
   "source": [
    "import logging\n",
    "\n",
    "logging.debug('Este es un mensaje de depuración')\n",
    "logging.info('Este es un mensaje de información')\n",
    "logging.warning('Este es un mensaje de advertencia')\n",
    "logging.error('Este es un mensaje de error')\n",
    "logging.critical('Este es un mensaje Critico')"
   ]
  },
  {
   "cell_type": "markdown",
   "metadata": {},
   "source": [
    "Observamos, que los mensajes debug() e info() no se muestran. Esto es porque de forma predeterminada, el módulo logging registra los mensajes con un nivel de gravedad de ADVERTENCIA o superior.  \n",
    "\n",
    "Configuraciones básicas (Basic Configurations)\n",
    "Podemos utilizar el método basicConfig(**kwargs) para configurar logging.  Algunos de los parámetros más utilizados para basicConfig() son los siguientes:\n",
    "\n",
    "    •\tlevel o nivel: La raíz de logging se establecerá en el nivel de gravedad especificado.\n",
    "    •\tfilename o nombre de archivo: especifica el archivo.\n",
    "\n",
    "Mediante el parámetro level, puede establecer el nivel de mensajes de registro que desea registrar. Esto se puede hacer pasando una de las constantes disponibles en la clase, y esto permitiría que se registren todas las llamadas de registro en o por encima de ese nivel. Por ejemplo:"
   ]
  },
  {
   "cell_type": "code",
   "execution_count": 2,
   "metadata": {
    "run_control": {
     "marked": false
    }
   },
   "outputs": [],
   "source": [
    "logging.basicConfig(level=logging.DEBUG)"
   ]
  },
  {
   "cell_type": "markdown",
   "metadata": {},
   "source": [
    "Todos los eventos por encima o en el mismo nivel DEBUG, ahora se registrarán. \n",
    "Si necesitamos guardar estos registros en un archivo en lugar de mostrarlos en la consola, podemos utilizar el nombre de archivo y el modo de archivo y decidir el formato del mensaje utilizando el formato\n"
   ]
  },
  {
   "cell_type": "code",
   "execution_count": 4,
   "metadata": {},
   "outputs": [],
   "source": [
    "# Para visualizar la creación del fichero, abrir ficheros logging.py en Pycharm"
   ]
  },
  {
   "cell_type": "code",
   "execution_count": 4,
   "metadata": {},
   "outputs": [
    {
     "name": "stderr",
     "output_type": "stream",
     "text": [
      "WARNING:root:Estos se registrará en el archivo milog.log\n",
      "INFO:root:El administrador, ha iniciado sesisón\n",
      "WARNING:root:El administrador, ha cerrado su sesisón\n",
      "DEBUG:root:Esto es un ejemplo...\n",
      "ERROR:root:Este es un mensaje de error\n",
      "CRITICAL:root:Este es un mensaje Critico\n"
     ]
    }
   ],
   "source": [
    "import logging\n",
    "import os\n",
    "\n",
    "logFormatter = '%(asctime)s - %(user)s - %(levelname)s - %(message)s'\n",
    "\n",
    "logging.basicConfig(level=logging.DEBUG, filename=\"milog.log\", filemode='a',  format= logFormatter, datefmt='%d-%b-%y %H:%M:%S')\n",
    "logger = logging.getLogger()  # crear el objeto\n",
    "\n",
    "logger.warning('Estos se registrará en el archivo milog.log')\n",
    "logger.info('El administrador, ha iniciado sesisón')\n",
    "logger.warning('El administrador, ha cerrado su sesisón')\n",
    "logger.debug('Esto es un ejemplo...')\n",
    "logger.error('Este es un mensaje de error')\n",
    "logger.critical('Este es un mensaje Critico')"
   ]
  },
  {
   "cell_type": "code",
   "execution_count": 5,
   "metadata": {},
   "outputs": [
    {
     "name": "stderr",
     "output_type": "stream",
     "text": [
      "WARNING:root:Este es una advertencia ....\n"
     ]
    }
   ],
   "source": [
    "import logging\n",
    "\n",
    "logging.basicConfig(format='%(asctime)s - %(name)s - %(levelname)s - %(message)s', datefmt='%d-%b-%y %H:%M:%S')\n",
    "logging.warning('Este es una advertencia ....')\n"
   ]
  },
  {
   "cell_type": "code",
   "execution_count": 6,
   "metadata": {},
   "outputs": [
    {
     "name": "stderr",
     "output_type": "stream",
     "text": [
      "INFO:root:El administrador, ha iniciado sesisón\n"
     ]
    }
   ],
   "source": [
    "import logging\n",
    "\n",
    "logging.basicConfig(format='%(asctime)s - %(name)s - %(levelname)s - %(message)s', datefmt='%d-%b-%y %H:%M:%S', level=logging.INFO)\n",
    "logging.info('El administrador, ha iniciado sesisón')\n"
   ]
  },
  {
   "cell_type": "code",
   "execution_count": 7,
   "metadata": {},
   "outputs": [
    {
     "name": "stderr",
     "output_type": "stream",
     "text": [
      "WARNING:root:El administrador, ha cerrado su sesión\n"
     ]
    }
   ],
   "source": [
    "import logging\n",
    "\n",
    "logging.basicConfig(format='%(asctime)s - %(message)s', datefmt='%d-%b-%y %H:%M:%S')\n",
    "logging.warning('El administrador, ha cerrado su sesión')"
   ]
  },
  {
   "cell_type": "code",
   "execution_count": 8,
   "metadata": {},
   "outputs": [
    {
     "name": "stderr",
     "output_type": "stream",
     "text": [
      "ERROR:root:John generó un error\n"
     ]
    }
   ],
   "source": [
    "import logging\n",
    "\n",
    "name = 'John'\n",
    "logging.error(f'{name} generó un error')\n"
   ]
  },
  {
   "cell_type": "code",
   "execution_count": 9,
   "metadata": {},
   "outputs": [
    {
     "name": "stderr",
     "output_type": "stream",
     "text": [
      "ERROR:root:Ha ocurrido una excepción\n",
      "Traceback (most recent call last):\n",
      "  File \"<ipython-input-9-87a667ac2f71>\", line 7, in <module>\n",
      "    c = a / b\n",
      "ZeroDivisionError: division by zero\n"
     ]
    }
   ],
   "source": [
    "import logging\n",
    "\n",
    "a = 5\n",
    "b = 0\n",
    "\n",
    "try:\n",
    "  c = a / b\n",
    "except Exception as e:\n",
    "    logging.error(\"Ha ocurrido una excepción\", exc_info=True)\n"
   ]
  },
  {
   "cell_type": "markdown",
   "metadata": {},
   "source": [
    "El método addHandler() asigna el handler correspondiente al logger.\n",
    "\n",
    "El método addHandler() no tiene ninguna cuota mínima o máxima para el número de controladores que puede agregar. A veces será beneficioso para una aplicación registrar todos los mensajes de todas las gravedades en un archivo de texto mientras registra simultáneamente errores o arriba en la consola. "
   ]
  },
  {
   "cell_type": "code",
   "execution_count": 10,
   "metadata": {
    "run_control": {
     "marked": false
    }
   },
   "outputs": [
    {
     "name": "stderr",
     "output_type": "stream",
     "text": [
      "DEBUG:Ejemplo de LOG:mensaje debug\n",
      "INFO:Ejemplo de LOG:mensaje info\n",
      "WARNING:Ejemplo de LOG:mensaje warning\n",
      "2021-09-13 20:52:03,580 - Ejemplo de LOG - ERROR - mensaje error\n",
      "ERROR:Ejemplo de LOG:mensaje error\n",
      "2021-09-13 20:52:03,581 - Ejemplo de LOG - CRITICAL - mensaje critical\n",
      "CRITICAL:Ejemplo de LOG:mensaje critical\n"
     ]
    }
   ],
   "source": [
    "import logging\n",
    "\n",
    "logger = logging.getLogger('Ejemplo de LOG')\n",
    "\n",
    "# Todos los mensajes de niveles superiores a DEBUG se guardan en el fichero\n",
    "fh = logging.FileHandler('debug_jup.log') # Archivo \n",
    "fh.setLevel(logging.DEBUG)\n",
    "\n",
    "# Todos los mensajes de ERROR o CRITICAL se mostrarán en la consola\n",
    "ch = logging.StreamHandler()  # Consola\n",
    "ch.setLevel(logging.ERROR)\n",
    "\n",
    "#formato de los mensajes\n",
    "formatter = logging.Formatter('%(asctime)s - %(name)s - %(levelname)s - %(message)s')\n",
    "fh.setFormatter(formatter)\n",
    "ch.setFormatter(formatter)\n",
    "\n",
    "# Creamos los objetos\n",
    "logger.addHandler(fh)\n",
    "logger.addHandler(ch)\n",
    "\n",
    "# Código de nuestra aplicación\n",
    "logger.debug('mensaje debug')\n",
    "logger.info('mensaje info')\n",
    "logger.warning('mensaje warning')\n",
    "logger.error('mensaje error')\n",
    "logger.critical('mensaje critical')"
   ]
  },
  {
   "cell_type": "code",
   "execution_count": 52,
   "metadata": {},
   "outputs": [
    {
     "name": "stderr",
     "output_type": "stream",
     "text": [
      "WARNING:Ejemplo de LOG:Este es una advertencia\n"
     ]
    }
   ],
   "source": [
    "logger.warning('Este es una advertencia')"
   ]
  },
  {
   "cell_type": "code",
   "execution_count": null,
   "metadata": {},
   "outputs": [],
   "source": [
    "# Para visualizar la creación del fichero, abrir ficheros logginghandler.py en Pycharm"
   ]
  }
 ],
 "metadata": {
  "kernelspec": {
   "display_name": "Python 3 (ipykernel)",
   "language": "python",
   "name": "python3"
  },
  "language_info": {
   "codemirror_mode": {
    "name": "ipython",
    "version": 3
   },
   "file_extension": ".py",
   "mimetype": "text/x-python",
   "name": "python",
   "nbconvert_exporter": "python",
   "pygments_lexer": "ipython3",
   "version": "3.10.8"
  },
  "toc": {
   "base_numbering": 1,
   "nav_menu": {},
   "number_sections": true,
   "sideBar": true,
   "skip_h1_title": false,
   "title_cell": "Table of Contents",
   "title_sidebar": "Contents",
   "toc_cell": false,
   "toc_position": {
    "height": "calc(100% - 180px)",
    "left": "10px",
    "top": "150px",
    "width": "219px"
   },
   "toc_section_display": true,
   "toc_window_display": false
  },
  "varInspector": {
   "cols": {
    "lenName": 16,
    "lenType": 16,
    "lenVar": 40
   },
   "kernels_config": {
    "python": {
     "delete_cmd_postfix": "",
     "delete_cmd_prefix": "del ",
     "library": "var_list.py",
     "varRefreshCmd": "print(var_dic_list())"
    },
    "r": {
     "delete_cmd_postfix": ") ",
     "delete_cmd_prefix": "rm(",
     "library": "var_list.r",
     "varRefreshCmd": "cat(var_dic_list()) "
    }
   },
   "position": {
    "height": "177.667px",
    "left": "667px",
    "right": "20px",
    "top": "15px",
    "width": "558px"
   },
   "types_to_exclude": [
    "module",
    "function",
    "builtin_function_or_method",
    "instance",
    "_Feature"
   ],
   "window_display": false
  }
 },
 "nbformat": 4,
 "nbformat_minor": 4
}

{
 "cells": [
  {
   "cell_type": "markdown",
   "metadata": {},
   "source": [
    "#### Ejercicio 1\n",
    "Cree una clase llamada Animal que acepte dos números como entradas y los asigne respectivamente a dos variables de instancia: \"patas_d\" y \"patas_t\". Cree un método de instancia llamado \"extremidades\" que, cuando se llame, devuelva el número total de extremidades o patas que tiene el animal.\n",
    "\n",
    "Crear la variable \"araña\", asigne una instancia de Animal que tenga 4 patas_d y 4 patas_t. Llame al método \"extremidades\"  en la instancia de la araña y guarde el resultado con el nombre de variable patas_araña."
   ]
  },
  {
   "cell_type": "code",
   "execution_count": null,
   "metadata": {},
   "outputs": [],
   "source": [
    "# Ejercicio 1, escriba su código aqui...\n",
    "\n"
   ]
  },
  {
   "cell_type": "markdown",
   "metadata": {},
   "source": [
    "#### Ejercicio 2\n",
    "\n",
    "Cree una clase llamada \"Cereal\" que acepte tres entradas: 2 cadenas y 1 entero, y las asigne\n",
    "a 3 variables de instancia en el constructor: nombre, marca y fibra. Cuando se imprime una \n",
    "instancia de cereal, el usuario debería ver lo siguiente: \n",
    "\n",
    "\"El cereal [nombre]  producido por la [marca] tiene [fibra] gramos de fibra en cada porción!\". \n",
    "\n",
    "A la variable c1, asigne una instancia de Cereal cuyo nombre sea \"Corn Flakes\", la marca sea \"Kellogg's\" y la fibra sea 2. A la variable c2, asigne una instancia de Cereal cuyo nombre sea \"Honey Nut Cheerios\", La marca es \"General Mills\" y la fibra es 3.\n",
    "\n",
    "¡Practique la impresión de ambos!"
   ]
  },
  {
   "cell_type": "code",
   "execution_count": null,
   "metadata": {},
   "outputs": [],
   "source": [
    "# Ejercicio 2, escriba su código aqui...\n",
    "\n",
    "\n"
   ]
  },
  {
   "cell_type": "markdown",
   "metadata": {},
   "source": [
    "#### Ejercicio 3\n",
    "\n",
    "Cree una clase llamada NumberSet que acepte 2 enteros como entrada y defina dos variables de instancia: num1 y num2, \n",
    "que contienen cada uno de los enteros de entrada. \n",
    "\n",
    "Luego, cree una instancia de NumberSet donde su num1 es 6 y su num2 es 10. Guarde esta instancia en una variable t.\n",
    "\n",
    "A la clase NumberSet agrega un método str"
   ]
  },
  {
   "cell_type": "code",
   "execution_count": null,
   "metadata": {},
   "outputs": [],
   "source": [
    "# Ejercicio 3, escriba su código aqui...\n",
    "\n",
    "\n",
    "\n"
   ]
  },
  {
   "cell_type": "markdown",
   "metadata": {},
   "source": [
    "#### Ejercicio 4\n",
    "Defina una clase llamada Bike que acepte una cadena y un flotador como entrada, \n",
    "y asigne esas entradas respectivamente a dos variables de instancia: color y price. \n",
    "\n",
    "    1. Asignar a la variable testOne una instancia de Bike cuyo color es blue y cuyo precio es 89,99. \n",
    "    2. Asignar a la variable testTwo una instancia de Bike cuyo color es purple y cuyo precio es 25.0."
   ]
  },
  {
   "cell_type": "code",
   "execution_count": null,
   "metadata": {},
   "outputs": [],
   "source": [
    "# Ejercicio 4, escriba su código aqui...\n",
    "\n",
    "\n",
    "\n"
   ]
  },
  {
   "cell_type": "markdown",
   "metadata": {},
   "source": [
    "#### Ejercicio 5:\n",
    "\n",
    "Cree una clase llamada AppleBasket cuyo constructor acepte dos entradas: \n",
    "\n",
    "    una cadena que represente un color y \n",
    "    un número que represente una cantidad de manzanas. \n",
    "\n",
    "El constructor debe inicializar dos variables de instancia:  apple_color y apple_quantity. \n",
    " \n",
    "1. Escribe un método de clase llamado increase que aumente la cantidad en 1 cada vez que  se invoca. \n",
    "2. Escribe un método __str__ para esta clase que devuelva una cadena con el formato: \n",
    "\n",
    "    \"Una canasta de [la cantidad va aquí] [el color va aquí] manzanas\". p.ej. \"Una canasta de 4 manzanas rojas\". o \n",
    "    \"Una canasta de 50 manzanas azules\".\n",
    "\n",
    "(¡Escribir código de prueba que cree instancias y asigne valores a variables puede ayudarlo a resolver este problema!)"
   ]
  },
  {
   "cell_type": "code",
   "execution_count": null,
   "metadata": {},
   "outputs": [],
   "source": [
    "# Ejercicio 5, escriba su código aqui...\n",
    "\n",
    "\n",
    "\n"
   ]
  },
  {
   "cell_type": "markdown",
   "metadata": {},
   "source": [
    "#### Ejercicio 6:\n",
    "\n",
    "Defina una clase llamada BankAccount que acepte el nombre que desea asociar con su cuenta bancaria en una cadena y \n",
    "un número entero que represente la cantidad de dinero en la cuenta. El constructor debe inicializar dos variables de \n",
    "instancia a partir de esas entradas: name y amt. \n",
    "\n",
    "Agregue un método de cadena para que cuando imprima una instancia de BankAccount, vea \n",
    "\n",
    "    \"Su cuenta, [el nombre va aquí], tiene [start_amt va aquí] Euros\". \n",
    "\n",
    "1. Cree una instancia de esta clase con \"Bob\" como nombre y 100 como cantidad. Guarde esto en la variable t1.\n",
    "2. Cree un metodo ingreso y otro retiro, donde indique la cantidad a ingresar y/o retirar, debe actualizar el saldo de su cuenta\n"
   ]
  },
  {
   "cell_type": "code",
   "execution_count": null,
   "metadata": {},
   "outputs": [],
   "source": [
    "# Ejercicio 6, escriba su código aqui...\n",
    "\n",
    "\n",
    "\n"
   ]
  },
  {
   "cell_type": "markdown",
   "metadata": {},
   "source": [
    "####  Ejercicio 7:\n",
    "\n",
    "1. Agregue un método reflect_x a Point que devuelva un nuevo Point, uno que es el reflejo del punto sobre el eje x. \n",
    "Por ejemplo, el punto (3, 5) .reflect_x () es (3, -5).\n",
    "\n",
    "2. Agrega un método llamado move que tomará dos parámetros, llámalos dx y dy. El método hará que el punto se mueva en \n",
    "la dirección xey el número de unidades dado. (Pista: cambiará los valores del estado actual del punto)"
   ]
  },
  {
   "cell_type": "markdown",
   "metadata": {},
   "source": [
    "# Ejercicio 8: Escribe una clase llamada Numero.\n",
    "\n",
    "1. Escribe una clase llamada Numero.\n",
    "\n",
    "Esta clase debe tener un método constructor que reciba como parámetro un número y almacene ese número en 2 atributos: \n",
    "\n",
    "    1. \"romano\" que almacenará el número en el formato de número romanos como una cadena \n",
    "    de caracteres\n",
    "    2. \"normal\" que guardará el número que nos han dado en el método constructor.\n",
    "\n",
    "Crea dos nuevos métodos en la clase Numero. \n",
    "\n",
    "    1. El primer método, llamado imprime() imprime un mensaje mostrando el valor de ambos\n",
    "    atributos;\n",
    "    2. El segundo método, suma_romano() tendrá como parámetros una cadena de caracteres que\n",
    "    representará otro número romano y que sumaremos a los atributos que ya teníamos.\n",
    "\n",
    "Define una función dentro de la clase Numero que a partir de una cadena de caracteres, devuelve True si esa cadena de caracteres corresponde con un número romano y falso en caso contrario. Después, modifica el método para muestre un error en el caso de que el valor que nos pasan por parámetro no se corresponde con el patrón de un número romano.\n",
    "\n",
    "2. Implementa una clase MejorNumero. \n",
    "\n",
    "Esta clase heredará las propiedades de la clase Numero e incluirá dos métodos nuevos para restar y multiplicar los atributos recibiendo por parámetro otro número romano.\n",
    "\n",
    "En la clase MejorNumero, crea un nuevo método que reciba como parámetro una lista con 3 números romanos. A continuación, iterando sobre los elementos de la lista llamará al método suma_romano(). \n",
    "\n",
    "Los posibles errores se tendrán que gestionar con excepciones para mostrar un mensaje y seguir ejecutando el siguiente número.\n"
   ]
  },
  {
   "cell_type": "code",
   "execution_count": null,
   "metadata": {},
   "outputs": [],
   "source": [
    "#### Ejercicio 8:\n",
    "\n",
    "def convertir_a_romano(numero):\n",
    "    \n",
    "    numeros = [1000,9000,500,400,100,90,50,40,10,9,5,4,1]\n",
    "    romanos = [\"M\",\"CM\",\"D\",\"CD\",\"C\",\"XC\",\"L\", \"XL\",\"X\",\"IX\",\"V\",\"IV\",\"I\"]\n",
    "    \n",
    "    # implementar la solución \n",
    "    ....\n",
    "    return n_romano\n",
    "    \n",
    "\n",
    "class Numero:\n",
    "    \n",
    "    \n",
    "    def __init__(self, numero):\n",
    "        self.numero = numero\n",
    "        self.romano = convertir_a_romano(numero)\n",
    "        \n",
    "    def imprime(self):\n",
    "        pass\n",
    "    \n",
    "    def suma_romano(self, n_romano):\n",
    "        pass\n",
    "    \n",
    "class MejorNumero(Numero):\n",
    "    \n",
    "    \n",
    "    def __init__(self, numero):\n",
    "        Numero.__init__(self, numero, romano)\n",
    "        \n",
    "    def restar_romano(self, n_romano):\n",
    "        pass\n",
    "    \n",
    "    def multiplicar_romano(self, n_romano):\n",
    "        pass\n",
    "    \n",
    "    @staticmethod\n",
    "    def sumar_lista_n_romanos(l_n_romanos):\n",
    "        pass\n",
    "    "
   ]
  }
 ],
 "metadata": {
  "kernelspec": {
   "display_name": "Python 3 (ipykernel)",
   "language": "python",
   "name": "python3"
  },
  "language_info": {
   "codemirror_mode": {
    "name": "ipython",
    "version": 3
   },
   "file_extension": ".py",
   "mimetype": "text/x-python",
   "name": "python",
   "nbconvert_exporter": "python",
   "pygments_lexer": "ipython3",
   "version": "3.9.12"
  },
  "toc": {
   "base_numbering": 1,
   "nav_menu": {},
   "number_sections": true,
   "sideBar": true,
   "skip_h1_title": false,
   "title_cell": "Table of Contents",
   "title_sidebar": "Contents",
   "toc_cell": false,
   "toc_position": {},
   "toc_section_display": true,
   "toc_window_display": false
  },
  "varInspector": {
   "cols": {
    "lenName": 16,
    "lenType": 16,
    "lenVar": 40
   },
   "kernels_config": {
    "python": {
     "delete_cmd_postfix": "",
     "delete_cmd_prefix": "del ",
     "library": "var_list.py",
     "varRefreshCmd": "print(var_dic_list())"
    },
    "r": {
     "delete_cmd_postfix": ") ",
     "delete_cmd_prefix": "rm(",
     "library": "var_list.r",
     "varRefreshCmd": "cat(var_dic_list()) "
    }
   },
   "types_to_exclude": [
    "module",
    "function",
    "builtin_function_or_method",
    "instance",
    "_Feature"
   ],
   "window_display": false
  }
 },
 "nbformat": 4,
 "nbformat_minor": 4
}

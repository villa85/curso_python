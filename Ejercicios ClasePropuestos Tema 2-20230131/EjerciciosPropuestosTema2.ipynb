{
 "cells": [
  {
   "cell_type": "markdown",
   "metadata": {
    "toc": true
   },
   "source": [
    "<h1>Table of Contents<span class=\"tocSkip\"></span></h1>\n",
    "<div class=\"toc\"><ul class=\"toc-item\"><li><span><a href=\"#Ejercicios-Unidad-2:-Módulos-de-Utilidad\" data-toc-modified-id=\"Ejercicios-Unidad-2:-Módulos-de-Utilidad-1\"><span class=\"toc-item-num\">1&nbsp;&nbsp;</span>Ejercicios Unidad 2: Módulos de Utilidad</a></span></li></ul></div>"
   ]
  },
  {
   "cell_type": "markdown",
   "metadata": {},
   "source": [
    "# Ejercicios Unidad 2: Módulos de Utilidad\n",
    "\n"
   ]
  },
  {
   "cell_type": "markdown",
   "metadata": {},
   "source": [
    "1. Escriba un programa que permita calcular cuantos días faltan para tu cumpleaños.  \n",
    "   La fecha de cumpleaños será ingresada desde el teclado."
   ]
  },
  {
   "cell_type": "code",
   "execution_count": null,
   "metadata": {},
   "outputs": [],
   "source": [
    "# 1. Escriba su programa calcular cuantos días faltan para tu cumpleaños\n",
    "from datetime import datetime\n",
    "\n",
    "birthday = datetime.strptime(input(\"Introduzca su cumple (dd/mm/yyyy): \"), '%d/%m/%Y')\n",
    "date_now = datetime.today()\n",
    "age = date_now - birthday # calculo cuantos años tiene\n",
    "year_now = int(datetime.today().year)\n",
    "dia = int(datetime.strftime(birthday,'%d'))\n",
    "mes = int(datetime.strftime(birthday,'%m'))\n",
    "new_date = datetime(year_now, mes, dia) # creo la fecha el cumple pero con el año actual para poder ver que dia es del año\n",
    "day_year_birthday  = int(datetime.strftime(new_date,'%j'))\n",
    "day_today = int(datetime.today().strftime(\"%j\"))\n",
    "YEAR_DAYS = 365\n",
    "\n",
    "if day_year_birthday > day_today:\n",
    "    days_to_birthday = day_year_birthday - day_today\n",
    "    print(f\"Faltan {days_to_birthday} dias para tu cumpleaños \")\n",
    "elif day_today > day_year_birthday:\n",
    "    days_to_birthday = YEAR_DAYS - day_year_birthday\n",
    "    print(f\"Faltan {days_to_birthday} dias para tu cumpleaños \")\n",
    "elif day_year_birthday == day_today:\n",
    "    print(f\"Felicidades por tus {int(age.days)// YEAR_DAYS} cumpleaños\") # si es su cumpleaños"
   ]
  },
  {
   "cell_type": "markdown",
   "metadata": {},
   "source": [
    "2. Escribe un programa que a partir de tu año de nacimiento y la fecha actual. Calcula tu edad.  El año de nacimiento será ingresado desde el teclado."
   ]
  },
  {
   "cell_type": "code",
   "execution_count": null,
   "metadata": {},
   "outputs": [],
   "source": [
    "# 2. Escriba su programa a partir de tu año de nacimiento y la fecha actual. Calcula tu edad.\n",
    "from datetime import datetime\n",
    "birthday_2 = datetime.strptime(input(\"Introduzca su cumple (dd/mm/yyyy): \"), '%d/%m/%Y')\n",
    "date_now = datetime.today()\n",
    "age_2 = date_now - birthday_2 # calculo cuantos años tiene\n",
    "YEAR_DAYS = 365\n",
    "print(f\"Tu edad es de {int(age_2.days)// YEAR_DAYS} años\") # si es su cumpleaños"
   ]
  },
  {
   "cell_type": "markdown",
   "metadata": {},
   "source": [
    "3. Escribe un programa que genere los calendarios de los próximos 5 años. La semana debe comenzar en Lunes"
   ]
  },
  {
   "cell_type": "code",
   "execution_count": null,
   "metadata": {},
   "outputs": [],
   "source": [
    "# 3. Escriba su programa que genere los calendarios de los próximos 5 años.\n",
    "import calendar\n",
    "\n",
    "calendar.setfirstweekday(0)\n",
    "print(calendar.calendar(2024))\n",
    "print(calendar.calendar(2025))\n",
    "print(calendar.calendar(2026))\n",
    "print(calendar.calendar(2027))\n",
    "print(calendar.calendar(2028))\n"
   ]
  },
  {
   "cell_type": "markdown",
   "metadata": {},
   "source": [
    "4. Escribe un programa que genere 100 números enteros aleatorios y calcule:\n",
    "    \n",
    "    1. La sumatoria de 100 números obtenidos\n",
    "    2. La media\n",
    "    3. El máximo y mínimo valor\n",
    "    4. Cuantos números pares e impares habia?"
   ]
  },
  {
   "cell_type": "code",
   "execution_count": null,
   "metadata": {},
   "outputs": [],
   "source": [
    "# 4. Escriba su programa que 100 números enteros aleatorios\n",
    "import random\n",
    "\n",
    "list_numeros, suma, media, max, min, count_pares, count_impar = [], 0, 0, None, None, 0, 0\n",
    "\n",
    "for i in range(100):\n",
    "    list_numeros.append(random.randint(0, 1000))\n",
    "\n",
    "for num in list_numeros:\n",
    "    suma += num\n",
    "    media = suma / len(list_numeros)\n",
    "    if num%2 == 0:\n",
    "        count_pares += 1\n",
    "    if num%2 != 0:\n",
    "        count_impar += 1\n",
    "    if (max is None or num > max):\n",
    "        max = num\n",
    "    if (min is None or num < min):\n",
    "        min = num\n",
    "\n",
    "print(f\"La suma de todos los números es {suma}\")\n",
    "print(f\"La media es {media}\")\n",
    "print(f\"El máximo número es {max} y el mínimo {min}\")\n",
    "print(f\"La cantidad de números pares es {count_pares} y de impares es {count_impar}\")"
   ]
  },
  {
   "cell_type": "markdown",
   "metadata": {},
   "source": [
    "5. Escribe un programa que lea el archivo o fichero regex_ejemplo.txt, Este archivo en su texto contiene números.  \n",
    "   Estraiga esos números y calcule la sumatoria y el promedio de los números encontrados. \n",
    "\n",
    "    El programa debe validar que:\n",
    "\n",
    "    1. Especifique su directorio de trabajo\n",
    "    2. En el directorio de trabajo debe existir una subcarpeta /data, sino existe debe crearla\n",
    "       (Copie manualemente el fichero regex_ejemplo.txt en el directorio /data"
   ]
  },
  {
   "cell_type": "code",
   "execution_count": null,
   "metadata": {},
   "outputs": [],
   "source": [
    "# 5. Escriba su programa aqui\n",
    "\n",
    "# El siguiente código extrae el texto del fichero y lo asigna a my_file.\n",
    "\n",
    "my_file = open(\"regex_ejemplo.txt\")\n",
    "\n",
    "for line in my_file:\n",
    "    print(line, end=\"\")"
   ]
  },
  {
   "cell_type": "markdown",
   "metadata": {},
   "source": [
    "6. Escribe un programa que lea el archivo o fichero regex_ejemplo.txt, extraiga y cuente cuantas veces aparecen las siguiente palabras:\n",
    "\n",
    "    Java, C++, PHP, Ruby, Basic, Perl, JavaScript, Python, PowerBuilder, Fortran, COBOL"
   ]
  },
  {
   "cell_type": "code",
   "execution_count": null,
   "metadata": {},
   "outputs": [],
   "source": [
    "# 6. Escriba su programa aqui \n",
    "\n"
   ]
  },
  {
   "cell_type": "markdown",
   "metadata": {},
   "source": [
    "7. Escribe un programa que lea el archivo o fichero regex_ejemplo.txt y extraiga las direcciones URL que se encuentran en      el texto"
   ]
  },
  {
   "cell_type": "code",
   "execution_count": null,
   "metadata": {},
   "outputs": [],
   "source": [
    "# 7. Escriba su programa aqui "
   ]
  },
  {
   "cell_type": "markdown",
   "metadata": {},
   "source": [
    "8. Escribe un programa que lea el archivo o fichero regex_ejemplo.txt y extraiga las diferentes siglas utilizadas en el        texto. Por ejmplo: CPU, UPS"
   ]
  },
  {
   "cell_type": "code",
   "execution_count": null,
   "metadata": {},
   "outputs": [],
   "source": [
    "# 8. Escriba su programa aqui "
   ]
  },
  {
   "cell_type": "markdown",
   "metadata": {},
   "source": [
    "9. Excribe un programa que reciba el nombre de un archivo desde el teclado (miimagen.png) y de acuerdo a su extensión          muestre los siguientes mensajes, de acuerdo al tipo de archivo:\n",
    "    \n",
    "        1. Mostrar \"Su archivo o fichero es un archivo de imagen\" si la extensión es (.jpg, .bmp, .png, .gif)\n",
    "        2. Mostrar \"Su archivo o fichero es un archivo de texto\" si la extensión es (.txt, .doc, .docx, .odt, .sxw)\n",
    "        3. Mostrar \"Su archivo o fichero es un archivo de hoja de cálculo\" si la extensión es (.xls, .xlsx, .ods, .sxc)\n",
    "        4. Mostrar \"Su archivo o fichero es un archivo de Python\" si la extensión es (.py o .ipynb)\n",
    "        5. Mostrar \"Su archivo o fichero es un archivo de audio\" si la extensión es (.mp3, .wav, .wma, .mid)\n",
    "        6. Mostrar \"Su archivo o fichero es un archivo de video\" si la extensión es (.avi, .mp4, .wmv, .flv)\n",
    "    \n",
    "NOTA: utilice Expresiones regulares"
   ]
  },
  {
   "cell_type": "code",
   "execution_count": null,
   "metadata": {},
   "outputs": [],
   "source": [
    "# 9. Escriba su programa aqui "
   ]
  },
  {
   "cell_type": "markdown",
   "metadata": {},
   "source": [
    "10 . Escriba un programa que compruebe las siguiente identidades:\n",
    "\n",
    "($\\cos^2(x) + \\mathrm{sen}^2(x) = 1\\,)$\n",
    "\n",
    "($1 + \\mathrm{tg}^2(x) = \\mathrm{sec}^2(x)=\\frac{1}{\\cos^2(x)}\\,)$\n",
    "\n",
    "($\\mathrm{cotg}^2(x) +1= \\mathrm{cosec}^2(x)=\\frac{1}{\\mathrm{sen}^2(x)}\\,)$\n",
    "\n",
    "($u = \\mathrm{tg}(x)\\,)$\n",
    "\n",
    "($\\mathrm{sen}(x) = \\frac{u}{\\sqrt{1+u^2}})$\n",
    "\n",
    "($\\cos(x) = \\frac{1}{\\sqrt{1+u^2}})$\n",
    "\n",
    "Otras fómulas que puede necesitar:\n",
    "\n",
    "($\\mathrm{cosec}(x) = \\frac{1}{\\mathrm{sen}(x)})$\n",
    "\n",
    "\n",
    "($\\mathrm{cotg}(x) = \\frac{\\cos(x)}{\\mathrm{sen}(x)} )$"
   ]
  },
  {
   "cell_type": "code",
   "execution_count": null,
   "metadata": {},
   "outputs": [],
   "source": [
    "# 10. Escriba su programa aqui \n",
    "\n"
   ]
  }
 ],
 "metadata": {
  "kernelspec": {
   "display_name": "Python 3 (ipykernel)",
   "language": "python",
   "name": "python3"
  },
  "language_info": {
   "codemirror_mode": {
    "name": "ipython",
    "version": 3
   },
   "file_extension": ".py",
   "mimetype": "text/x-python",
   "name": "python",
   "nbconvert_exporter": "python",
   "pygments_lexer": "ipython3",
   "version": "3.10.8"
  },
  "toc": {
   "base_numbering": 1,
   "nav_menu": {},
   "number_sections": true,
   "sideBar": true,
   "skip_h1_title": false,
   "title_cell": "Table of Contents",
   "title_sidebar": "Contents",
   "toc_cell": true,
   "toc_position": {},
   "toc_section_display": true,
   "toc_window_display": false
  },
  "varInspector": {
   "cols": {
    "lenName": 16,
    "lenType": 16,
    "lenVar": 40
   },
   "kernels_config": {
    "python": {
     "delete_cmd_postfix": "",
     "delete_cmd_prefix": "del ",
     "library": "var_list.py",
     "varRefreshCmd": "print(var_dic_list())"
    },
    "r": {
     "delete_cmd_postfix": ") ",
     "delete_cmd_prefix": "rm(",
     "library": "var_list.r",
     "varRefreshCmd": "cat(var_dic_list()) "
    }
   },
   "types_to_exclude": [
    "module",
    "function",
    "builtin_function_or_method",
    "instance",
    "_Feature"
   ],
   "window_display": true
  },
  "vscode": {
   "interpreter": {
    "hash": "1353f313ead104360866fab643a74fd0c61057d61236ce27455bd3419eefba5e"
   }
  }
 },
 "nbformat": 4,
 "nbformat_minor": 4
}

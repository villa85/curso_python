{
 "cells": [
  {
   "cell_type": "markdown",
   "metadata": {
    "toc": true
   },
   "source": [
    "<h1>Table of Contents<span class=\"tocSkip\"></span></h1>\n",
    "<div class=\"toc\"><ul class=\"toc-item\"><li><span><a href=\"#Ejercicios-Unidad-2:-Módulos-de-Utilidad\" data-toc-modified-id=\"Ejercicios-Unidad-2:-Módulos-de-Utilidad-1\"><span class=\"toc-item-num\">1&nbsp;&nbsp;</span>Ejercicios Unidad 2: Módulos de Utilidad</a></span></li></ul></div>"
   ]
  },
  {
   "cell_type": "markdown",
   "metadata": {},
   "source": [
    "# Ejercicios Unidad 2: Módulos de Utilidad\n",
    "\n"
   ]
  },
  {
   "cell_type": "markdown",
   "metadata": {},
   "source": [
    "1. Escriba un programa que permita calcular cuantos días faltan para tu cumpleaños.  \n",
    "   La fecha de cumpleaños será ingresada desde el teclado."
   ]
  },
  {
   "cell_type": "code",
   "execution_count": 6,
   "metadata": {},
   "outputs": [
    {
     "ename": "ValueError",
     "evalue": "time data 'pato.jpg' does not match format '%d/%m/%Y'",
     "output_type": "error",
     "traceback": [
      "\u001b[1;31m---------------------------------------------------------------------------\u001b[0m",
      "\u001b[1;31mValueError\u001b[0m                                Traceback (most recent call last)",
      "\u001b[1;32m~\\AppData\\Local\\Temp\\ipykernel_11552\\2208328857.py\u001b[0m in \u001b[0;36m<module>\u001b[1;34m\u001b[0m\n\u001b[0;32m      2\u001b[0m \u001b[1;32mfrom\u001b[0m \u001b[0mdatetime\u001b[0m \u001b[1;32mimport\u001b[0m \u001b[0mdatetime\u001b[0m\u001b[1;33m\u001b[0m\u001b[1;33m\u001b[0m\u001b[0m\n\u001b[0;32m      3\u001b[0m \u001b[1;33m\u001b[0m\u001b[0m\n\u001b[1;32m----> 4\u001b[1;33m \u001b[0mbirthday\u001b[0m \u001b[1;33m=\u001b[0m \u001b[0mdatetime\u001b[0m\u001b[1;33m.\u001b[0m\u001b[0mstrptime\u001b[0m\u001b[1;33m(\u001b[0m\u001b[0minput\u001b[0m\u001b[1;33m(\u001b[0m\u001b[1;34m\"Introduzca su cumple (dd/mm/yyyy): \"\u001b[0m\u001b[1;33m)\u001b[0m\u001b[1;33m,\u001b[0m \u001b[1;34m'%d/%m/%Y'\u001b[0m\u001b[1;33m)\u001b[0m\u001b[1;33m\u001b[0m\u001b[1;33m\u001b[0m\u001b[0m\n\u001b[0m\u001b[0;32m      5\u001b[0m \u001b[0mdate_now\u001b[0m \u001b[1;33m=\u001b[0m \u001b[0mdatetime\u001b[0m\u001b[1;33m.\u001b[0m\u001b[0mtoday\u001b[0m\u001b[1;33m(\u001b[0m\u001b[1;33m)\u001b[0m\u001b[1;33m\u001b[0m\u001b[1;33m\u001b[0m\u001b[0m\n\u001b[0;32m      6\u001b[0m \u001b[0mage\u001b[0m \u001b[1;33m=\u001b[0m \u001b[0mdate_now\u001b[0m \u001b[1;33m-\u001b[0m \u001b[0mbirthday\u001b[0m \u001b[1;31m# calculo cuantos años tiene\u001b[0m\u001b[1;33m\u001b[0m\u001b[1;33m\u001b[0m\u001b[0m\n",
      "\u001b[1;32mc:\\Users\\villa\\anaconda3\\envs\\tes_env\\lib\\_strptime.py\u001b[0m in \u001b[0;36m_strptime_datetime\u001b[1;34m(cls, data_string, format)\u001b[0m\n\u001b[0;32m    566\u001b[0m     \"\"\"Return a class cls instance based on the input string and the\n\u001b[0;32m    567\u001b[0m     format string.\"\"\"\n\u001b[1;32m--> 568\u001b[1;33m     \u001b[0mtt\u001b[0m\u001b[1;33m,\u001b[0m \u001b[0mfraction\u001b[0m\u001b[1;33m,\u001b[0m \u001b[0mgmtoff_fraction\u001b[0m \u001b[1;33m=\u001b[0m \u001b[0m_strptime\u001b[0m\u001b[1;33m(\u001b[0m\u001b[0mdata_string\u001b[0m\u001b[1;33m,\u001b[0m \u001b[0mformat\u001b[0m\u001b[1;33m)\u001b[0m\u001b[1;33m\u001b[0m\u001b[1;33m\u001b[0m\u001b[0m\n\u001b[0m\u001b[0;32m    569\u001b[0m     \u001b[0mtzname\u001b[0m\u001b[1;33m,\u001b[0m \u001b[0mgmtoff\u001b[0m \u001b[1;33m=\u001b[0m \u001b[0mtt\u001b[0m\u001b[1;33m[\u001b[0m\u001b[1;33m-\u001b[0m\u001b[1;36m2\u001b[0m\u001b[1;33m:\u001b[0m\u001b[1;33m]\u001b[0m\u001b[1;33m\u001b[0m\u001b[1;33m\u001b[0m\u001b[0m\n\u001b[0;32m    570\u001b[0m     \u001b[0margs\u001b[0m \u001b[1;33m=\u001b[0m \u001b[0mtt\u001b[0m\u001b[1;33m[\u001b[0m\u001b[1;33m:\u001b[0m\u001b[1;36m6\u001b[0m\u001b[1;33m]\u001b[0m \u001b[1;33m+\u001b[0m \u001b[1;33m(\u001b[0m\u001b[0mfraction\u001b[0m\u001b[1;33m,\u001b[0m\u001b[1;33m)\u001b[0m\u001b[1;33m\u001b[0m\u001b[1;33m\u001b[0m\u001b[0m\n",
      "\u001b[1;32mc:\\Users\\villa\\anaconda3\\envs\\tes_env\\lib\\_strptime.py\u001b[0m in \u001b[0;36m_strptime\u001b[1;34m(data_string, format)\u001b[0m\n\u001b[0;32m    347\u001b[0m     \u001b[0mfound\u001b[0m \u001b[1;33m=\u001b[0m \u001b[0mformat_regex\u001b[0m\u001b[1;33m.\u001b[0m\u001b[0mmatch\u001b[0m\u001b[1;33m(\u001b[0m\u001b[0mdata_string\u001b[0m\u001b[1;33m)\u001b[0m\u001b[1;33m\u001b[0m\u001b[1;33m\u001b[0m\u001b[0m\n\u001b[0;32m    348\u001b[0m     \u001b[1;32mif\u001b[0m \u001b[1;32mnot\u001b[0m \u001b[0mfound\u001b[0m\u001b[1;33m:\u001b[0m\u001b[1;33m\u001b[0m\u001b[1;33m\u001b[0m\u001b[0m\n\u001b[1;32m--> 349\u001b[1;33m         raise ValueError(\"time data %r does not match format %r\" %\n\u001b[0m\u001b[0;32m    350\u001b[0m                          (data_string, format))\n\u001b[0;32m    351\u001b[0m     \u001b[1;32mif\u001b[0m \u001b[0mlen\u001b[0m\u001b[1;33m(\u001b[0m\u001b[0mdata_string\u001b[0m\u001b[1;33m)\u001b[0m \u001b[1;33m!=\u001b[0m \u001b[0mfound\u001b[0m\u001b[1;33m.\u001b[0m\u001b[0mend\u001b[0m\u001b[1;33m(\u001b[0m\u001b[1;33m)\u001b[0m\u001b[1;33m:\u001b[0m\u001b[1;33m\u001b[0m\u001b[1;33m\u001b[0m\u001b[0m\n",
      "\u001b[1;31mValueError\u001b[0m: time data 'pato.jpg' does not match format '%d/%m/%Y'"
     ]
    }
   ],
   "source": [
    "# 1. Escriba su programa calcular cuantos días faltan para tu cumpleaños\n",
    "from datetime import datetime\n",
    "\n",
    "birthday = datetime.strptime(input(\"Introduzca su cumple (dd/mm/yyyy): \"), '%d/%m/%Y')\n",
    "date_now = datetime.today()\n",
    "age = date_now - birthday # calculo cuantos años tiene\n",
    "year_now = int(datetime.today().year)\n",
    "dia = int(datetime.strftime(birthday,'%d'))\n",
    "mes = int(datetime.strftime(birthday,'%m'))\n",
    "new_date = datetime(year_now, mes, dia) # creo la fecha el cumple pero con el año actual para poder ver que dia es del año\n",
    "day_year_birthday  = int(datetime.strftime(new_date,'%j'))\n",
    "day_today = int(datetime.today().strftime(\"%j\"))\n",
    "YEAR_DAYS = 365\n",
    "\n",
    "if day_year_birthday > day_today:\n",
    "    days_to_birthday = day_year_birthday - day_today\n",
    "    print(f\"Faltan {days_to_birthday} dias para tu cumpleaños \")\n",
    "elif day_today > day_year_birthday:\n",
    "    days_to_birthday = YEAR_DAYS - day_year_birthday\n",
    "    print(f\"Faltan {days_to_birthday} dias para tu cumpleaños \")\n",
    "elif day_year_birthday == day_today:\n",
    "    print(f\"Felicidades por tus {int(age.days)// YEAR_DAYS} cumpleaños\") # si es su cumpleaños"
   ]
  },
  {
   "cell_type": "markdown",
   "metadata": {},
   "source": [
    "2. Escribe un programa que a partir de tu año de nacimiento y la fecha actual. Calcula tu edad.  El año de nacimiento será ingresado desde el teclado."
   ]
  },
  {
   "cell_type": "code",
   "execution_count": null,
   "metadata": {},
   "outputs": [],
   "source": [
    "# 2. Escriba su programa a partir de tu año de nacimiento y la fecha actual. Calcula tu edad.\n",
    "from datetime import datetime\n",
    "birthday_2 = datetime.strptime(input(\"Introduzca su cumple (dd/mm/yyyy): \"), '%d/%m/%Y')\n",
    "date_now = datetime.today()\n",
    "age_2 = date_now - birthday_2 # calculo cuantos años tiene\n",
    "YEAR_DAYS = 365\n",
    "print(f\"Tu edad es de {int(age_2.days)// YEAR_DAYS} años\") # si es su cumpleaños"
   ]
  },
  {
   "cell_type": "markdown",
   "metadata": {},
   "source": [
    "3. Escribe un programa que genere los calendarios de los próximos 5 años. La semana debe comenzar en Lunes"
   ]
  },
  {
   "cell_type": "code",
   "execution_count": null,
   "metadata": {},
   "outputs": [],
   "source": [
    "# 3. Escriba su programa que genere los calendarios de los próximos 5 años.\n",
    "import calendar\n",
    "\n",
    "calendar.setfirstweekday(0)\n",
    "print(calendar.calendar(2024))\n",
    "print(calendar.calendar(2025))\n",
    "print(calendar.calendar(2026))\n",
    "print(calendar.calendar(2027))\n",
    "print(calendar.calendar(2028))\n"
   ]
  },
  {
   "cell_type": "markdown",
   "metadata": {},
   "source": [
    "4. Escribe un programa que genere 100 números enteros aleatorios y calcule:\n",
    "    \n",
    "    1. La sumatoria de 100 números obtenidos\n",
    "    2. La media\n",
    "    3. El máximo y mínimo valor\n",
    "    4. Cuantos números pares e impares habia?"
   ]
  },
  {
   "cell_type": "code",
   "execution_count": null,
   "metadata": {},
   "outputs": [],
   "source": [
    "# 4. Escriba su programa que 100 números enteros aleatorios\n",
    "import random\n",
    "\n",
    "list_numeros, suma, media, maximo, minimo, count_pares, count_impar = [], 0, 0, None, None, 0, 0\n",
    "\n",
    "for i in range(100):\n",
    "    list_numeros.append(random.randint(0, 1000))\n",
    "\n",
    "for num in list_numeros:\n",
    "    suma += num\n",
    "    media = suma / len(list_numeros)\n",
    "    if num%2 == 0:\n",
    "        count_pares += 1\n",
    "    if num%2 != 0:\n",
    "        count_impar += 1\n",
    "    if (maximo is None or num > maximo):\n",
    "        maximo = num\n",
    "    if (minimo is None or num < minimo):\n",
    "        minimo = num\n",
    "\n",
    "print(f\"La suma de todos los números es {suma}\")\n",
    "print(f\"La media es {media}\")\n",
    "print(f\"El máximo número es {maximo} y el mínimo {minimo}\")\n",
    "print(f\"La cantidad de números pares es {count_pares} y de impares es {count_impar}\")"
   ]
  },
  {
   "cell_type": "markdown",
   "metadata": {},
   "source": [
    "5. Escribe un programa que lea el archivo o fichero regex_ejemplo.txt, Este archivo en su texto contiene números.  \n",
    "   Estraiga esos números y calcule la sumatoria y el promedio de los números encontrados. \n",
    "\n",
    "    El programa debe validar que:\n",
    "\n",
    "    1. Especifique su directorio de trabajo\n",
    "    2. En el directorio de trabajo debe existir una subcarpeta /data, sino existe debe crearla\n",
    "       (Copie manualemente el fichero regex_ejemplo.txt en el directorio /data"
   ]
  },
  {
   "cell_type": "code",
   "execution_count": null,
   "metadata": {},
   "outputs": [],
   "source": [
    "# 5. Escriba su programa aqui\n",
    "\n",
    "# El siguiente código extrae el texto del fichero y lo asigna a my_file.\n",
    "import os\n",
    "import re\n",
    "\n",
    "# PATH_FILE = os.getcwd() #? directorio actualizar\n",
    "# PATH_DATA = PATH_FILE + \"\\data\" #? cambiar de directorio\n",
    "# os.chdir(PATH_DATA)\n",
    "\n",
    "print(f\"El directorio de trabajo es: {os.getcwd()}\", end=\"\\n\\n\")\n",
    "my_file = open(\"regex_ejemplo.txt\")\n",
    "lista_parablas, lista_numeros, suma, patron, promedio = [], [], 0, '[0-9]+', 0.0\n",
    "\n",
    "for line in my_file:\n",
    "    lista_parablas = re.findall(patron, line)\n",
    "    for j in lista_parablas:\n",
    "        lista_numeros.append(int(j))\n",
    "        suma += int(j)\n",
    "# print (lista_numeros)\n",
    "print (f\"La sumatoria todos los números encontrados es de {suma} \")\n",
    "print (f\"Y el promedio es de {suma/len(lista_numeros):.3f}\")\n",
    "print (lista_parablas)"
   ]
  },
  {
   "cell_type": "markdown",
   "metadata": {},
   "source": [
    "6. Escribe un programa que lea el archivo o fichero regex_ejemplo.txt, extraiga y cuente cuantas veces aparecen las siguiente palabras:\n",
    "\n",
    "    Java, C++, PHP, Ruby, Basic, Perl, JavaScript, Python, PowerBuilder, Fortran, COBOL"
   ]
  },
  {
   "cell_type": "code",
   "execution_count": null,
   "metadata": {},
   "outputs": [],
   "source": [
    "# 6. Escriba su programa aqui\n",
    "import re\n",
    "import os\n",
    "\n",
    "\n",
    "# PATH_FILE = os.getcwd() #? directorio actualizar\n",
    "# PATH_DATA = PATH_FILE + \"\\data\" #? cambiar de directorio\n",
    "# os.chdir(PATH_DATA)\n",
    "\n",
    "print(f\"El directorio de trabajo es: {os.getcwd()}\", end=\"\\n\\n\")\n",
    "file = open(\"regex_ejemplo.txt\")\n",
    "listado = [\"Java\", \"C++\", \"PHP\", \"Ruby\", \"Basic\", \"Perl\", \"JavaScript\", \"Python\", \"PowerBuilder\", \"Fortran\", \"COBOL\"]\n",
    "\n",
    "lista_1, lista_2, lista_3, lista_4,list_parablas= [],[],[],[],[]\n",
    "patron_1 = '[J|R|B|P|F][a-z]+' # \"Java\", \"C++\", \"PHP\", \"Ruby\", \"Basic\", \"Perl\"\n",
    "patron_2 = 'C\\++' # C++\n",
    "patron_3 = '[A-Z][a-z]+[A-Z][a-z]+' # 'JavaScript', 'PowerBuilder'\n",
    "patron_4 = '[A-Z][A-Z]+'  # \"PHP\", \"COBOL\"\n",
    "cont_j, cont_C,  cont_PH, cont_R, cont_B, cont_P, cont_JS, cont_PY, cont_PB, cont_F, cont_cob= 0, 0, 0, 0, 0, 0, 0, 0, 0, 0, 0\n",
    "\n",
    "for linea in file:\n",
    "    lista_1 = re.findall(patron_1, linea)\n",
    "    lista_2= re.findall(patron_2, linea)\n",
    "    lista_3= re.findall(patron_3, linea)\n",
    "    lista_4= re.findall(patron_4, linea)\n",
    "\n",
    "    for j in lista_1:\n",
    "        list_parablas.append(j)\n",
    "    for f in lista_2:\n",
    "        list_parablas.append(f)\n",
    "    for g in lista_3:\n",
    "        list_parablas.append(g)\n",
    "    for h in lista_4:\n",
    "        list_parablas.append(h)\n",
    "    # print(list_parablas)\n",
    "\n",
    "for x in list_parablas:\n",
    "    if listado[0] == x:\n",
    "        cont_j += 1\n",
    "    elif listado[1] in x:\n",
    "        cont_C += 1\n",
    "    elif listado[2] in x:\n",
    "        cont_PH += 1\n",
    "    elif listado[3] in x:\n",
    "        cont_R += 1\n",
    "    elif listado[4] in x:\n",
    "        cont_B += 1\n",
    "    elif listado[5] in x:\n",
    "        cont_P += 1\n",
    "    elif listado[6] in x:\n",
    "        cont_JS += 1\n",
    "    elif listado[7] in x:\n",
    "        cont_PY += 1\n",
    "    elif listado[8] in x:\n",
    "        cont_PB += 1\n",
    "    elif listado[9] in x:\n",
    "        cont_F += 1\n",
    "    elif listado[10] in x:\n",
    "        cont_cob += 1\n",
    "print(f\"Java {cont_j}\")\n",
    "print(f\"C++ {cont_C}\")\n",
    "print(f\"PHP {cont_PH}\")\n",
    "print(f\"Ruby {cont_R}\")\n",
    "print(f\"Basic {cont_B}\")\n",
    "print(f\"Perl {cont_P}\")\n",
    "print(f\"JavaScript {cont_JS}\")\n",
    "print(f\"Python {cont_PY}\")\n",
    "print(f\"PowerBuilder {cont_PB}\")\n",
    "print(f\"Fortran {cont_F}\")\n",
    "print(f\"COBOL {cont_cob}\")\n"
   ]
  },
  {
   "cell_type": "markdown",
   "metadata": {},
   "source": [
    "7. Escribe un programa que lea el archivo o fichero regex_ejemplo.txt y extraiga las direcciones URL que se encuentran en      el texto"
   ]
  },
  {
   "cell_type": "code",
   "execution_count": null,
   "metadata": {},
   "outputs": [],
   "source": [
    "# 7. Escriba su programa aqui\n",
    "# PATH_FILE = os.getcwd() #? directorio actualizar\n",
    "# PATH_DATA = PATH_FILE + \"\\data\" #? cambiar de directorio\n",
    "# os.chdir(PATH_DATA)\n",
    "print(f\"El directorio de trabajo es: {os.getcwd()}\", end=\"\\n\\n\")\n",
    "file = open(\"regex_ejemplo.txt\")\n",
    "\n",
    "patron_5 = 'https?://(?:[-\\w.]|(?:%[\\da-fA-F]{2}))+' # URL  \"http[s]*\\S+\"\n",
    "\n",
    "lista_5, url_list = [], []\n",
    "\n",
    "for u in file:\n",
    "    lista_5 = re.findall(patron_5, u)\n",
    "\n",
    "    for j in lista_5:\n",
    "        url_list.append(j)\n",
    "    # print(url_list)\n",
    "\n",
    "for x in url_list:\n",
    "    print(x)"
   ]
  },
  {
   "cell_type": "markdown",
   "metadata": {},
   "source": [
    "8. Escribe un programa que lea el archivo o fichero regex_ejemplo.txt y extraiga las diferentes siglas utilizadas en el        texto. Por ejmplo: CPU, UPS"
   ]
  },
  {
   "cell_type": "code",
   "execution_count": null,
   "metadata": {},
   "outputs": [],
   "source": [
    "# 8. Escriba su programa aqui\n",
    "\n",
    "# 7. Escriba su programa aqui\n",
    "# PATH_FILE = os.getcwd() #? directorio actualizar\n",
    "# PATH_DATA = PATH_FILE + \"\\data\" #? cambiar de directorio\n",
    "# os.chdir(PATH_DATA)\n",
    "print(f\"El directorio de trabajo es: {os.getcwd()}\", end=\"\\n\\n\")\n",
    "file = open(\"regex_ejemplo.txt\")\n",
    "\n",
    "patron_7 = '[A-Z][A-Z]+' # SIGLAS\n",
    "\n",
    "lista_7, siglas_list = [], []\n",
    "\n",
    "for u in file:\n",
    "    lista_7 = re.findall(patron_7, u)\n",
    "\n",
    "    for j in lista_7:\n",
    "        siglas_list.append(j)\n",
    "    # print(url_list)\n",
    "\n",
    "for x in siglas_list:\n",
    "    print(x)"
   ]
  },
  {
   "cell_type": "markdown",
   "metadata": {},
   "source": [
    "9. Excribe un programa que reciba el nombre de un archivo desde el teclado (miimagen.png) y de acuerdo a su extensión          muestre los siguientes mensajes, de acuerdo al tipo de archivo:\n",
    "    \n",
    "        1. Mostrar \"Su archivo o fichero es un archivo de imagen\" si la extensión es (.jpg, .bmp, .png, .gif)\n",
    "        2. Mostrar \"Su archivo o fichero es un archivo de texto\" si la extensión es (.txt, .doc, .docx, .odt, .sxw)\n",
    "        3. Mostrar \"Su archivo o fichero es un archivo de hoja de cálculo\" si la extensión es (.xls, .xlsx, .ods, .sxc)\n",
    "        4. Mostrar \"Su archivo o fichero es un archivo de Python\" si la extensión es (.py o .ipynb)\n",
    "        5. Mostrar \"Su archivo o fichero es un archivo de audio\" si la extensión es (.mp3, .wav, .wma, .mid)\n",
    "        6. Mostrar \"Su archivo o fichero es un archivo de video\" si la extensión es (.avi, .mp4, .wmv, .flv)\n",
    "    \n",
    "NOTA: utilice Expresiones regulares"
   ]
  },
  {
   "cell_type": "code",
   "execution_count": 7,
   "metadata": {},
   "outputs": [
    {
     "name": "stdout",
     "output_type": "stream",
     "text": [
      "Su fichero es un archivo de imagen si la extensión es .jpg\n"
     ]
    }
   ],
   "source": [
    "# 9. Escriba su programa aqui\n",
    "import re\n",
    "\n",
    "file_name = input('Intruduzca el nombre y la extensión de su archivo Ejemplo: \"gatos.png\": ')\n",
    "patron = '\\.[a-z]+' # . La palabra puede comenzar por caracter + ython y puede estar en cualquier parte del texto\n",
    "extension = re.findall(patron, file_name)\n",
    "for tipoarchivo in extension:\n",
    "\n",
    "    if re.match('.jpg|.png|.gif|.bmp', tipoarchivo):\n",
    "        print(f'Su fichero es un archivo de imagen si la extensión es {tipoarchivo}')\n",
    "    elif re.match('.txt|.doc|.docx|.odt|.sxw', tipoarchivo):\n",
    "        print(f'Su fichero es un archivo de texto si la extensión es {tipoarchivo}')\n",
    "    elif re.match('.xls|.xlsx|.ods|.sxc', tipoarchivo):\n",
    "        print(f'Su fichero es una hoja de cálculo si la extensión es {tipoarchivo}')\n",
    "    elif re.match('.py|.ipynb', tipoarchivo):\n",
    "        print(f'Su fichero es un archivo de Python si la extensión es {tipoarchivo}')\n",
    "    elif re.match('.mp3|.wav|.wma|.mid', tipoarchivo):\n",
    "        print(f'Su fichero es un archivo de auido si la extensión es {tipoarchivo}')\n",
    "    elif re.match('.mp3|.avi|.mp4|.wmv|.flv', tipoarchivo):\n",
    "        print(f'Su fichero es un archivo de video si la extensión es {tipoarchivo}')\n",
    "    else:\n",
    "        print(f'Pues no tengo idea, que basura de archivo seria con esa extensión tan rara {tipoarchivo}')\n",
    "        print('Venga no te inventes cosas, mejor date una vuelta para que te de el aire un rato, que no estas bien')"
   ]
  },
  {
   "cell_type": "markdown",
   "metadata": {},
   "source": [
    "10 . Escriba un programa que compruebe las siguiente identidades:\n",
    "\n",
    "($\\cos^2(x) + \\mathrm{sen}^2(x) = 1\\,)$\n",
    "\n",
    "($1 + \\mathrm{tg}^2(x) = \\mathrm{sec}^2(x)=\\frac{1}{\\cos^2(x)}\\,)$\n",
    "\n",
    "($\\mathrm{cotg}^2(x) +1= \\mathrm{cosec}^2(x)=\\frac{1}{\\mathrm{sen}^2(x)}\\,)$\n",
    "\n",
    "($u = \\mathrm{tg}(x)\\,)$\n",
    "\n",
    "($\\mathrm{sen}(x) = \\frac{u}{\\sqrt{1+u^2}})$\n",
    "\n",
    "($\\cos(x) = \\frac{1}{\\sqrt{1+u^2}})$\n",
    "\n",
    "Otras fómulas que puede necesitar:\n",
    "\n",
    "($\\mathrm{cosec}(x) = \\frac{1}{\\mathrm{sen}(x)})$\n",
    "\n",
    "\n",
    "($\\mathrm{cotg}(x) = \\frac{\\cos(x)}{\\mathrm{sen}(x)} )$"
   ]
  },
  {
   "cell_type": "code",
   "execution_count": null,
   "metadata": {},
   "outputs": [
    {
     "ename": "SyntaxError",
     "evalue": "invalid syntax (2453703113.py, line 3)",
     "output_type": "error",
     "traceback": [
      "\u001b[1;36m  File \u001b[1;32m\"C:\\Users\\villa\\AppData\\Local\\Temp\\ipykernel_11552\\2453703113.py\"\u001b[1;36m, line \u001b[1;32m3\u001b[0m\n\u001b[1;33m    ($\\cos^2(x) + \\mathrm{sen}^2(x) = 1\\,)$\u001b[0m\n\u001b[1;37m     ^\u001b[0m\n\u001b[1;31mSyntaxError\u001b[0m\u001b[1;31m:\u001b[0m invalid syntax\n"
     ]
    }
   ],
   "source": [
    "# 10. Escriba su programa aqui"
   ]
  }
 ],
 "metadata": {
  "kernelspec": {
   "display_name": "Python 3 (ipykernel)",
   "language": "python",
   "name": "python3"
  },
  "language_info": {
   "codemirror_mode": {
    "name": "ipython",
    "version": 3
   },
   "file_extension": ".py",
   "mimetype": "text/x-python",
   "name": "python",
   "nbconvert_exporter": "python",
   "pygments_lexer": "ipython3",
   "version": "3.10.8"
  },
  "toc": {
   "base_numbering": 1,
   "nav_menu": {},
   "number_sections": true,
   "sideBar": true,
   "skip_h1_title": false,
   "title_cell": "Table of Contents",
   "title_sidebar": "Contents",
   "toc_cell": true,
   "toc_position": {},
   "toc_section_display": true,
   "toc_window_display": false
  },
  "varInspector": {
   "cols": {
    "lenName": 16,
    "lenType": 16,
    "lenVar": 40
   },
   "kernels_config": {
    "python": {
     "delete_cmd_postfix": "",
     "delete_cmd_prefix": "del ",
     "library": "var_list.py",
     "varRefreshCmd": "print(var_dic_list())"
    },
    "r": {
     "delete_cmd_postfix": ") ",
     "delete_cmd_prefix": "rm(",
     "library": "var_list.r",
     "varRefreshCmd": "cat(var_dic_list()) "
    }
   },
   "types_to_exclude": [
    "module",
    "function",
    "builtin_function_or_method",
    "instance",
    "_Feature"
   ],
   "window_display": false
  },
  "vscode": {
   "interpreter": {
    "hash": "1353f313ead104360866fab643a74fd0c61057d61236ce27455bd3419eefba5e"
   }
  }
 },
 "nbformat": 4,
 "nbformat_minor": 4
}

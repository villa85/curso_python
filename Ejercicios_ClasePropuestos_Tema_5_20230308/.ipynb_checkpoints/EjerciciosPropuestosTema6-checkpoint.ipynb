{
 "cells": [
  {
   "cell_type": "markdown",
   "metadata": {},
   "source": [
    "# Ejercicios Tema 6"
   ]
  },
  {
   "cell_type": "markdown",
   "metadata": {},
   "source": [
    "1. Utilizando listas, realice un programa que solicite al usuario introduzcir la lista de compra, el usuario debe ingresar uno a uno los productos de su compra, cuando indique \"Fin\" el programa debe finalizar y mostrar su lista de los items introducidos."
   ]
  },
  {
   "cell_type": "code",
   "execution_count": 1,
   "metadata": {},
   "outputs": [
    {
     "name": "stdout",
     "output_type": "stream",
     "text": [
      "Ingrese procductos a la lista de la compra (Fin para finalizar):  pan\n",
      "Ingrese procductos a la lista de la compra (Fin para finalizar):  azucar\n",
      "Ingrese procductos a la lista de la compra (Fin para finalizar):  leche\n",
      "Ingrese procductos a la lista de la compra (Fin para finalizar):  cerveza\n",
      "Ingrese procductos a la lista de la compra (Fin para finalizar):  FIN\n",
      "['pan', 'azucar', 'leche', 'cerveza']\n"
     ]
    }
   ],
   "source": [
    "def lista_compra():\n",
    "    l = []\n",
    "    f = \"\"\n",
    "    stop = True\n",
    "    while stop:\n",
    "        f = input(\"Ingrese procductos a la lista de la compra (Fin para finalizar):  \")\n",
    "        if f.lower() != \"fin\":\n",
    "            l.append(f)\n",
    "        else:\n",
    "            print(f\"{l}\")\n",
    "            stop = False\n",
    "\n",
    "lista_compra()"
   ]
  },
  {
   "cell_type": "markdown",
   "metadata": {},
   "source": [
    "2. Utilizando la lista de la compra creada en el ejercicio anterior, pida al usuario ingrese la cantidad que desea comprar por cada producto de la lista creada en el ejercicio anterior, estos valores debe guardarlos en un diccionario. Por ejemplo: mi_compra ={\"arroz\":1}"
   ]
  },
  {
   "cell_type": "code",
   "execution_count": 9,
   "metadata": {},
   "outputs": [],
   "source": [
    "# Introduzca su código aqui"
   ]
  },
  {
   "cell_type": "markdown",
   "metadata": {},
   "source": [
    "3. Utilizando bucles for recorra la siguiente lista, genere una nueva lista con todos los items extrayendo los items de las lista de la posición 3 y 4.\n",
    "\n",
    "        lista = [3, 67, \"cat\", [56, 57, \"dog\"], [5, 6, \"bird\" ], 3.14, False]\n",
    "\n",
    "La nueva lista debe ser:\n",
    "\n",
    "        nueva_lista = [3, 67, \"cat\", 56, 57, \"dog\", 5, 6, \"bird\", 3.14, False]"
   ]
  },
  {
   "cell_type": "code",
   "execution_count": 10,
   "metadata": {},
   "outputs": [],
   "source": [
    "# Introduzca su código aqui"
   ]
  },
  {
   "cell_type": "markdown",
   "metadata": {},
   "source": [
    "4. Cree un diccionario con la medallas ganadas por USA en los juegos olimpicos. USA tiene 33 medallas de oro, 17 de plata y 12 de bronce"
   ]
  },
  {
   "cell_type": "code",
   "execution_count": 11,
   "metadata": {},
   "outputs": [],
   "source": [
    "# Introduzca su código aqui"
   ]
  },
  {
   "cell_type": "markdown",
   "metadata": {},
   "source": [
    "5. Cree un diccionario con las medallas ganadas por USA e italia, sabiendo que:\n",
    "    \n",
    "    USA tiene 33 medallas de oro, 17 de plata y 12 de bronce\n",
    "    Italia tiene 7 medallas de oro, 8 de plata y 6 de bronce\n",
    "    \n",
    "Los resultados deben presentarse de la siguinete manera:\n",
    "    \n",
    "    Medallas de oro de USA: 33 Plata: 17 y Bronce: 12\n",
    "    Medallas Italia: Oro: 7, Plata: 8 y Bronce: 6"
   ]
  },
  {
   "cell_type": "code",
   "execution_count": 13,
   "metadata": {},
   "outputs": [],
   "source": [
    "# Introduzca su código aqui"
   ]
  },
  {
   "cell_type": "markdown",
   "metadata": {},
   "source": [
    "6. Dado el siguiente diccionario, cree una lista de la ciudades que han ganado medallas en los juegos olimpicos:\n",
    "\n",
    "        medallas_oro = {\"Italy\": 12, \"USA\": 33, \"Brazil\": 15, \"China\": 27, \"Spain\": 19, \"Canada\": 22, \"Argentina\": 8, \n",
    "                        \"England\": 29}"
   ]
  },
  {
   "cell_type": "code",
   "execution_count": 14,
   "metadata": {},
   "outputs": [],
   "source": [
    "# Introduzca su código aqui"
   ]
  },
  {
   "cell_type": "markdown",
   "metadata": {},
   "source": [
    "7. Utilizando el fichero 'scarlet.txt' cree un diccionario que indique la ocurrecias (veces que aparece) cada plabra en el texto."
   ]
  },
  {
   "cell_type": "code",
   "execution_count": null,
   "metadata": {},
   "outputs": [],
   "source": [
    "# Introduzca su código aqui"
   ]
  },
  {
   "cell_type": "markdown",
   "metadata": {},
   "source": [
    "8. Escriba un programa que dado el siguiente diccionario, calcule el valor máximo, minimo y la media.\n",
    "\n",
    "        d = {'a': 194, 'b': 54, 'c':34, 'd': 44, 'e': 312, 'f':31}"
   ]
  },
  {
   "cell_type": "code",
   "execution_count": 15,
   "metadata": {},
   "outputs": [],
   "source": [
    "# Introduzca su código aqui"
   ]
  },
  {
   "cell_type": "markdown",
   "metadata": {},
   "source": [
    "9. Utilizando el fichero 'scarlet.txt' cree un diccionario que muestre la 10 palabras más utilizadas."
   ]
  },
  {
   "cell_type": "code",
   "execution_count": 16,
   "metadata": {},
   "outputs": [],
   "source": [
    "# Introduzca su código aqui"
   ]
  },
  {
   "cell_type": "markdown",
   "metadata": {},
   "source": [
    "10, Ordene alfabeticamente de la z a la a, el siguiente string:\n",
    "letras  = \"alwnfiwaksuezñlaeiajsdl\""
   ]
  },
  {
   "cell_type": "code",
   "execution_count": 17,
   "metadata": {},
   "outputs": [],
   "source": [
    "# Introduzca su código aqui"
   ]
  },
  {
   "cell_type": "markdown",
   "metadata": {},
   "source": [
    "11. Ordene alfabeticamente a-z la siguiente lista:\n",
    "\n",
    "        animals = ['elephant', 'cat', 'moose', 'antelope', 'elk', 'rabbit', 'zebra', 'yak', 'salamander',\n",
    "                   'deer', 'otter', 'minx', 'giraffe', 'goat', 'cow', 'tiger', 'bear']"
   ]
  },
  {
   "cell_type": "code",
   "execution_count": 18,
   "metadata": {},
   "outputs": [],
   "source": [
    "# Introduzca su código aqui"
   ]
  },
  {
   "cell_type": "markdown",
   "metadata": {},
   "source": [
    "12. Ordene alfabeticamente a-z por pais el siguiente diccionario:\n",
    "\n",
    "    medals = {'Japan':41, 'Russia':56, 'South Korea':21, 'United States':121, 'Germany':42, 'China':70}"
   ]
  },
  {
   "cell_type": "code",
   "execution_count": 19,
   "metadata": {},
   "outputs": [],
   "source": [
    "# Introduzca su código aqui"
   ]
  },
  {
   "cell_type": "markdown",
   "metadata": {},
   "source": [
    "13. Ordene por el número de medallas el siguiente diccionario y genere una lista con los 3 paises con mayor número de medallas:\n",
    "\n",
    "    medals = {'Japan':41, 'Russia':56, 'South Korea':21, 'United States':121, 'Germany':42, 'China':70}"
   ]
  },
  {
   "cell_type": "code",
   "execution_count": 20,
   "metadata": {},
   "outputs": [],
   "source": [
    "# Introduzca su código aqui"
   ]
  },
  {
   "cell_type": "markdown",
   "metadata": {},
   "source": [
    "14. Ordene por el número de items, de mayor a menor, el siguiente diccionario y genere una lista con los articulos ordenados:\n",
    "\n",
    "        groceries = {'apples': 5, 'pasta': 3, 'carrots': 12, 'orange juice': 2, 'bananas': 8, \n",
    "                     'popcorn': 1, 'salsa': 3, 'cereal': 4, 'coffee': 5, 'granola bars': 15, \n",
    "                     'onions': 7, 'rice': 1, 'peanut butter': 2, 'spinach': 9}"
   ]
  },
  {
   "cell_type": "code",
   "execution_count": 21,
   "metadata": {},
   "outputs": [],
   "source": [
    "# Introduzca su código aqui"
   ]
  },
  {
   "cell_type": "markdown",
   "metadata": {},
   "source": [
    "15. Cree una función llamada last_four que tome un número de ID y devuelva los últimos cuatro dígitos. \n",
    "\n",
    "        Por ejemplo, el El número 17573005 debe retornar 3005. \n",
    "\n",
    "    A continuación, utilice esta función para ordenar la lista de ids almacenados en la variable ids, \n",
    "    De menor a mayor. Guarde esta lista ordenada en la variable sorted_ids. \n",
    "\n",
    "        ids = [17573005, 17572342, 17579000, 17570002, 17572345, 17579329]\n"
   ]
  },
  {
   "cell_type": "code",
   "execution_count": 22,
   "metadata": {},
   "outputs": [],
   "source": [
    "# Introduzca su código aqui"
   ]
  },
  {
   "cell_type": "markdown",
   "metadata": {},
   "source": [
    "16. Dadas las siguientes tuplas y utilizando un ciclo for, muestre  el apellido, año de nacimiento y ciudad de cada actor.  Hay varias formas de hacerlo!\n",
    "\n",
    "        julia = (\"Julia\", \"Roberts\", 1967, \"Duplicity\", 2009, \"Actress\", \"Atlanta, Georgia\")\n",
    "        claude = (\"Claude\", \"Shannon\", 1916, \"A Mathematical Theory of Communication\", 1948, \"Mathematician\", \n",
    "                  \"Petoskey, Michigan\")\n",
    "        alan = (\"Alan\", \"Turing\", 1912, \"Computing machinery and intelligence\", 1950, \"Mathematician\", \"London, England\")"
   ]
  },
  {
   "cell_type": "code",
   "execution_count": null,
   "metadata": {},
   "outputs": [],
   "source": [
    "# Introduzca su código aqui"
   ]
  }
 ],
 "metadata": {
  "kernelspec": {
   "display_name": "Python 3 (ipykernel)",
   "language": "python",
   "name": "python3"
  },
  "language_info": {
   "codemirror_mode": {
    "name": "ipython",
    "version": 3
   },
   "file_extension": ".py",
   "mimetype": "text/x-python",
   "name": "python",
   "nbconvert_exporter": "python",
   "pygments_lexer": "ipython3",
   "version": "3.10.8"
  },
  "toc": {
   "base_numbering": 1,
   "nav_menu": {},
   "number_sections": true,
   "sideBar": true,
   "skip_h1_title": false,
   "title_cell": "Table of Contents",
   "title_sidebar": "Contents",
   "toc_cell": false,
   "toc_position": {},
   "toc_section_display": true,
   "toc_window_display": true
  },
  "varInspector": {
   "cols": {
    "lenName": 16,
    "lenType": 16,
    "lenVar": 40
   },
   "kernels_config": {
    "python": {
     "delete_cmd_postfix": "",
     "delete_cmd_prefix": "del ",
     "library": "var_list.py",
     "varRefreshCmd": "print(var_dic_list())"
    },
    "r": {
     "delete_cmd_postfix": ") ",
     "delete_cmd_prefix": "rm(",
     "library": "var_list.r",
     "varRefreshCmd": "cat(var_dic_list()) "
    }
   },
   "types_to_exclude": [
    "module",
    "function",
    "builtin_function_or_method",
    "instance",
    "_Feature"
   ],
   "window_display": false
  }
 },
 "nbformat": 4,
 "nbformat_minor": 4
}

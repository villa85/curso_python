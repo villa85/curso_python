{
 "cells": [
  {
   "cell_type": "markdown",
   "metadata": {},
   "source": [
    "# Proyecto Nivel I\n",
    "\n",
    "**Nombre del Alumno: Yuniel Antonio Villalón Rosales**\n",
    "\n",
    "## Parte 1: Normalización de un texto\n",
    "\n",
    "### Pasos:\n",
    "\n",
    "1.  Leer el archivo texto (ver código anexo)\n",
    "2.  Contar cuantas palabras tiene el texto antes de preprocesarlo\n",
    "3.  Convertir el texto Normalizado a minúsculas\n",
    "4.  Identificar, mostrar y eliminar signos de puntuación\n",
    "5.  Identificar, mostrar y eliminar las letras acentuadas sustituirlas por la misma letra sin acento\n",
    "6.  Identificar, mostrar y eliminar los números\n",
    "7.  Identificar y mostrar  todas las palabras que comience en Mayúscula\n",
    "8.  Identificar y mostrar todas las siglas encontradas en el texto, por ejemplo: SIDA, VIH, OMS, IAVI, GSK, etc.\n",
    "9.  Eliminar todas las palabras “stop words”1 del texto.  Se suministrar un archivo texto\n",
    "“stopwords_español.txt” con el listado de palabras en español.\n",
    "10. Contar cuantas veces aparece cada una de las palabras que quedan en el texto una vez\n",
    "realizada la normalización.\n",
    "11. Incluir el control de excepciones en los procesos donde abrimos los archivos de texto.\n",
    "\n"
   ]
  },
  {
   "cell_type": "markdown",
   "metadata": {},
   "source": [
    "### Librerías"
   ]
  },
  {
   "cell_type": "markdown",
   "metadata": {},
   "source": [
    "import re"
   ]
  },
  {
   "cell_type": "code",
   "execution_count": 3,
   "metadata": {},
   "outputs": [],
   "source": [
    "import os\n",
    "import sys"
   ]
  },
  {
   "cell_type": "markdown",
   "metadata": {},
   "source": [
    "###  Variables y Constantes"
   ]
  },
  {
   "cell_type": "code",
   "execution_count": 4,
   "metadata": {},
   "outputs": [],
   "source": [
    "# Variables globales y constantes\n"
   ]
  },
  {
   "cell_type": "markdown",
   "metadata": {},
   "source": [
    "### Módulos y Funciones\n",
    "\n",
    "Importar los módulos y las funciones deben estar en un fichero **mis_funciones.py** y desde aqui debemos importarlas"
   ]
  },
  {
   "cell_type": "code",
   "execution_count": 5,
   "metadata": {},
   "outputs": [],
   "source": [
    "from funtions import mis_funciones as mf"
   ]
  },
  {
   "cell_type": "markdown",
   "metadata": {},
   "source": [
    "### Paso 1: Leer el archivo texto"
   ]
  },
  {
   "cell_type": "code",
   "execution_count": 6,
   "metadata": {
    "scrolled": true
   },
   "outputs": [],
   "source": [
    "try:\n",
    "    ruta_file = 'articulo.txt'\n",
    "    archivo = open(\"datos\\\\\"+ruta_file, encoding=\"utf8\") # EJCERCICIO 11 CONTROL DE EXCEPCIONES\n",
    "    articulo = archivo.read()\n",
    "    archivo.close()\n",
    "except IOError as error:\n",
    "    print('Problema con el fichero: {}.  {}'.format(ruta_file, error) )\n",
    "except:  # si es un error diferente a IOError\n",
    "    print(\"Error inesperado:\", sys.exc_info()[0])\n",
    "    raise"
   ]
  },
  {
   "cell_type": "markdown",
   "metadata": {},
   "source": [
    "### Paso 2: Contar cuantas palabras tiene el texto antes de preprocesarlo"
   ]
  },
  {
   "cell_type": "code",
   "execution_count": 7,
   "metadata": {},
   "outputs": [
    {
     "name": "stdout",
     "output_type": "stream",
     "text": [
      "La cantidad de palabras antes de ser procesado es de 413\n"
     ]
    }
   ],
   "source": [
    "cantidad_palablas_antes = len(mf.split_cadena(articulo))\n",
    "print(f\"La cantidad de palabras antes de ser procesado es de {cantidad_palablas_antes}\")"
   ]
  },
  {
   "cell_type": "markdown",
   "metadata": {},
   "source": [
    "### Paso 3: Convertir el texto Normalizado a minúsculas"
   ]
  },
  {
   "cell_type": "code",
   "execution_count": 8,
   "metadata": {},
   "outputs": [
    {
     "name": "stdout",
     "output_type": "stream",
     "text": [
      "tras un estudio de tres años realizado en adultos en áfrica, una inmunización experimental ha demostrado ser 50 por ciento efectiva para prevenir que la infección tuberculosa latente se convierta en una enfermedad activa.\n",
      " \n",
      "“puede convertirse en una herramienta clave para terminar con la epidemia”, ha señalado ann ginsberg, de la organización sin ánimo de lucro iavi, que junto a la farmacéutica gsk (glaxosmithkline) ha desarrollado la inmunización.\n",
      " \n",
      "la enfermedad pulmonar mata a más de 1,5 millones de personas al año y es la enfermedad infecciosa que más vidas humanas se cobra, principalmente en países pobres.\n",
      " \n",
      "a pesar de tener un tratamiento que funciona para la gran mayoría de los enfermos,  aproximadamente un tercio de las personas del mundo albergan las bacterias que la causan.\n",
      " \n",
      "los resultados del estudio fueron presentados en una conferencia en india, el país más afectado por la tuberculosis, y publicado por el new england journal of medicine.\n",
      " \n",
      "según han informado, la vacuna tiene eficacia limitada, ya que funcionó en la mitad de los casos, es solo efectiva entre las personas vih negativas que tienen la infección latente, y solo para la variante pulmonar que, eso sí, es con diferencia la más frecuente.\n",
      " \n",
      "fue probada en casi 3.600 adultos en kenia, sudáfrica y zambia que estaban infectados con tb pero que tampoco tenían vih, el virus que causa el sida. la mitad recibió dos dosis de vacuna con un mes de diferencia y el resto recibió vacunas falsas. trece personas en el grupo de vacuna y 26 en el otro grupo desarrollaron tb activa.\n",
      " \n",
      "los resultados muestran que \"la vacuna se está sosteniendo\" con el tiempo, y marcan un paso importante para tener una herramienta de prevención que se ha buscado durante 100 años, ha dicho paula fujiwara, directora científica de la unión internacional contra la tuberculosis y la enfermedad pulmonar.\n",
      " \n",
      "los planes están en marcha para otro estudio definitivo, que tomará al menos varios años más, ha añadido\n",
      " \n",
      "después de que se anunciaron los resultados, la organización mundial de la salud (oms) ha calificado la vacuna como un gran avance y ha estado celebrando reuniones para discutir cómo avanzar en su desarrollo.\n",
      " \n",
      "el dato\n",
      " \n",
      "en total actualmente existen 15 inmunizaciones en investigación. todas con características diferentes. ésta última tiene como diana a las personas con la bacteria latente, otras (como una de origen español que encara la fase 2b) van dirigidas a población que no la porta y, otras, a proteger a personas que han desarrollado la enfermedad.\n"
     ]
    }
   ],
   "source": [
    "todo_minusculas = mf.texto_en_minusculas(articulo)\n",
    "print(todo_minusculas)"
   ]
  },
  {
   "cell_type": "markdown",
   "metadata": {},
   "source": [
    "### Paso 4: Identificar, mostrar y eliminar signos de puntuación"
   ]
  },
  {
   "cell_type": "code",
   "execution_count": 9,
   "metadata": {},
   "outputs": [
    {
     "name": "stdout",
     "output_type": "stream",
     "text": [
      "Los signos de puntuación encontrados: \n",
      "['“', '”,', '.', '.', ',', '.', '.', '.', '\"', ',', ',', ',', '.', ',', ',', ',', '(', '.', '.', '.', ',', '(', ')', ',', ',', '.'] \n",
      "\n",
      "Texto sin signos de puntuación: \n",
      " tras un estudio de tres años realizado en adultos en áfrica una inmunización experimental ha demostrado ser 50 por ciento efectiva para prevenir que la infección tuberculosa latente se convierta en una enfermedad activa \n",
      " \n",
      " puede convertirse en una herramienta clave para terminar con la epidemia ha señalado ann ginsberg de la organización sin ánimo de lucro iavi que junto a la farmacéutica gsk glaxosmithkline ha desarrollado la inmunización \n",
      " \n",
      "la enfermedad pulmonar mata a más de 1 5 millones de personas al año y es la enfermedad infecciosa que más vidas humanas se cobra principalmente en países pobres \n",
      " \n",
      "a pesar de tener un tratamiento que funciona para la gran mayoría de los enfermos aproximadamente un tercio de las personas del mundo albergan las bacterias que la causan \n",
      " \n",
      "los resultados del estudio fueron presentados en una conferencia en india el país más afectado por la tuberculosis y publicado por el new england journal of medicine \n",
      " \n",
      "según han informado la vacuna tiene eficacia limitada ya que funcionó en la mitad de los casos es solo efectiva entre las personas vih negativas que tienen la infección latente y solo para la variante pulmonar que eso sí es con diferencia la más frecuente \n",
      " \n",
      "fue probada en casi 3 600 adultos en kenia sudáfrica y zambia que estaban infectados con tb pero que tampoco tenían vih el virus que causa el sida la mitad recibió dos dosis de vacuna con un mes de diferencia y el resto recibió vacunas falsas trece personas en el grupo de vacuna y 26 en el otro grupo desarrollaron tb activa \n",
      " \n",
      "los resultados muestran que la vacuna se está sosteniendo con el tiempo y marcan un paso importante para tener una herramienta de prevención que se ha buscado durante 100 años ha dicho paula fujiwara directora científica de la unión internacional contra la tuberculosis y la enfermedad pulmonar \n",
      " \n",
      "los planes están en marcha para otro estudio definitivo que tomará al menos varios años más ha añadido\n",
      " \n",
      "después de que se anunciaron los resultados la organización mundial de la salud oms ha calificado la vacuna como un gran avance y ha estado celebrando reuniones para discutir cómo avanzar en su desarrollo \n",
      " \n",
      "el dato\n",
      " \n",
      "en total actualmente existen 15 inmunizaciones en investigación todas con características diferentes ésta última tiene como diana a las personas con la bacteria latente otras como una de origen español que encara la fase 2b van dirigidas a población que no la porta y otras a proteger a personas que han desarrollado la enfermedad\n"
     ]
    }
   ],
   "source": [
    "mostrar_signos_del_texto = mf.elimina_repetidos(mf.elimina_signos_puntuacion(todo_minusculas, signos = True))\n",
    "texto_no_signos = mf.elimina_signos_puntuacion(todo_minusculas)\n",
    "print(f\"Los signos de puntuación encontrados: \\n{mostrar_signos_del_texto} \\n\")\n",
    "print(f\"Texto sin signos de puntuación: \\n {texto_no_signos}\")"
   ]
  },
  {
   "cell_type": "markdown",
   "metadata": {},
   "source": [
    "### Paso 5: Identificar, mostrar y eliminar las letras acentuadas sustituirlas por la misma letra sin acento"
   ]
  },
  {
   "cell_type": "code",
   "execution_count": 10,
   "metadata": {},
   "outputs": [
    {
     "name": "stdout",
     "output_type": "stream",
     "text": [
      "['á', 'ó', 'ó', 'ó', 'á', 'é', 'ó', 'á', 'á', 'í', 'í', 'í', 'á', 'ú', 'ó', 'ó', 'í', 'á', 'á', 'í', 'ó', 'ó', 'á', 'ó', 'í', 'ó', 'á', 'á', 'á', 'é', 'ó', 'ó', 'ó', 'í', 'é', 'ú', 'ó'] \n",
      " \n",
      " tras un estudio de tres años realizado en adultos en africa una inmunizacion experimental ha demostrado ser 50 por ciento efectiva para prevenir que la infeccion tuberculosa latente se convierta en una enfermedad activa \n",
      " \n",
      " puede convertirse en una herramienta clave para terminar con la epidemia ha señalado ann ginsberg de la organizacion sin animo de lucro iavi que junto a la farmaceutica gsk glaxosmithkline ha desarrollado la inmunizacion \n",
      " \n",
      "la enfermedad pulmonar mata a mas de 1 5 millones de personas al año y es la enfermedad infecciosa que mas vidas humanas se cobra principalmente en paises pobres \n",
      " \n",
      "a pesar de tener un tratamiento que funciona para la gran mayoria de los enfermos aproximadamente un tercio de las personas del mundo albergan las bacterias que la causan \n",
      " \n",
      "los resultados del estudio fueron presentados en una conferencia en india el pais mas afectado por la tuberculosis y publicado por el new england journal of medicine \n",
      " \n",
      "segun han informado la vacuna tiene eficacia limitada ya que funciono en la mitad de los casos es solo efectiva entre las personas vih negativas que tienen la infeccion latente y solo para la variante pulmonar que eso si es con diferencia la mas frecuente \n",
      " \n",
      "fue probada en casi 3 600 adultos en kenia sudafrica y zambia que estaban infectados con tb pero que tampoco tenian vih el virus que causa el sida la mitad recibio dos dosis de vacuna con un mes de diferencia y el resto recibio vacunas falsas trece personas en el grupo de vacuna y 26 en el otro grupo desarrollaron tb activa \n",
      " \n",
      "los resultados muestran que la vacuna se esta sosteniendo con el tiempo y marcan un paso importante para tener una herramienta de prevencion que se ha buscado durante 100 años ha dicho paula fujiwara directora cientifica de la union internacional contra la tuberculosis y la enfermedad pulmonar \n",
      " \n",
      "los planes estan en marcha para otro estudio definitivo que tomara al menos varios años mas ha añadido\n",
      " \n",
      "despues de que se anunciaron los resultados la organizacion mundial de la salud oms ha calificado la vacuna como un gran avance y ha estado celebrando reuniones para discutir como avanzar en su desarrollo \n",
      " \n",
      "el dato\n",
      " \n",
      "en total actualmente existen 15 inmunizaciones en investigacion todas con caracteristicas diferentes esta ultima tiene como diana a las personas con la bacteria latente otras como una de origen español que encara la fase 2b van dirigidas a poblacion que no la porta y otras a proteger a personas que han desarrollado la enfermedad\n"
     ]
    }
   ],
   "source": [
    "print(mf.normalize(texto_no_signos, find = True), end= \" \\n \\n \")\n",
    "texto_sin_tildes = mf.normalize(texto_no_signos)\n",
    "print(f\"{texto_sin_tildes}\")"
   ]
  },
  {
   "cell_type": "markdown",
   "metadata": {},
   "source": [
    "### Paso 6: Identificar, mostrar y eliminar los números"
   ]
  },
  {
   "cell_type": "code",
   "execution_count": 11,
   "metadata": {},
   "outputs": [
    {
     "name": "stdout",
     "output_type": "stream",
     "text": [
      "['50', '1', '5', '3', '600', '26', '100', '15', '2'] \n",
      " \n",
      " tras un estudio de tres años realizado en adultos en africa una inmunizacion experimental ha demostrado ser  por ciento efectiva para prevenir que la infeccion tuberculosa latente se convierta en una enfermedad activa \n",
      " \n",
      " puede convertirse en una herramienta clave para terminar con la epidemia ha señalado ann ginsberg de la organizacion sin animo de lucro iavi que junto a la farmaceutica gsk glaxosmithkline ha desarrollado la inmunizacion \n",
      " \n",
      "la enfermedad pulmonar mata a mas de   millones de personas al año y es la enfermedad infecciosa que mas vidas humanas se cobra principalmente en paises pobres \n",
      " \n",
      "a pesar de tener un tratamiento que funciona para la gran mayoria de los enfermos aproximadamente un tercio de las personas del mundo albergan las bacterias que la causan \n",
      " \n",
      "los resultados del estudio fueron presentados en una conferencia en india el pais mas afectado por la tuberculosis y publicado por el new england journal of medicine \n",
      " \n",
      "segun han informado la vacuna tiene eficacia limitada ya que funciono en la mitad de los casos es solo efectiva entre las personas vih negativas que tienen la infeccion latente y solo para la variante pulmonar que eso si es con diferencia la mas frecuente \n",
      " \n",
      "fue probada en casi   adultos en kenia sudafrica y zambia que estaban infectados con tb pero que tampoco tenian vih el virus que causa el sida la mitad recibio dos dosis de vacuna con un mes de diferencia y el resto recibio vacunas falsas trece personas en el grupo de vacuna y  en el otro grupo desarrollaron tb activa \n",
      " \n",
      "los resultados muestran que la vacuna se esta sosteniendo con el tiempo y marcan un paso importante para tener una herramienta de prevencion que se ha buscado durante  años ha dicho paula fujiwara directora cientifica de la union internacional contra la tuberculosis y la enfermedad pulmonar \n",
      " \n",
      "los planes estan en marcha para otro estudio definitivo que tomara al menos varios años mas ha añadido\n",
      " \n",
      "despues de que se anunciaron los resultados la organizacion mundial de la salud oms ha calificado la vacuna como un gran avance y ha estado celebrando reuniones para discutir como avanzar en su desarrollo \n",
      " \n",
      "el dato\n",
      " \n",
      "en total actualmente existen  inmunizaciones en investigacion todas con caracteristicas diferentes esta ultima tiene como diana a las personas con la bacteria latente otras como una de origen español que encara la fase b van dirigidas a poblacion que no la porta y otras a proteger a personas que han desarrollado la enfermedad\n"
     ]
    }
   ],
   "source": [
    "numeros = mf.extrae_numeros(texto_sin_tildes, number = True)\n",
    "texto_sin_numeros = mf.extrae_numeros(texto_sin_tildes)\n",
    "print(numeros, end= \" \\n \\n \")\n",
    "print(f\"{texto_sin_numeros}\")"
   ]
  },
  {
   "cell_type": "markdown",
   "metadata": {},
   "source": [
    "### Paso 7: Identificar y mostrar  todas las palabras que comience en Mayúscula"
   ]
  },
  {
   "cell_type": "code",
   "execution_count": 12,
   "metadata": {},
   "outputs": [
    {
     "name": "stdout",
     "output_type": "stream",
     "text": [
      "['Tras', 'Puede', 'Ann', 'Ginsberg', 'Glaxo', 'Smith', 'Kline', 'La', 'Los', 'India', 'New', 'England', 'Journal', 'Medicine', 'Según', 'Fue', 'Kenia', 'Sudáfrica', 'Zambia', 'La', 'Trece', 'Los', 'Paula', 'Fujiwara', 'Unión', 'Internacional', 'Tuberculosis', 'Enfermedad', 'Pulmonar', 'Los', 'Después', 'Organización', 'Mundial', 'Salud', 'El', 'En', 'Todas']\n"
     ]
    }
   ],
   "source": [
    "palabras_mayusculas = mf.extrae_mayusculas(articulo)\n",
    "print(palabras_mayusculas)"
   ]
  },
  {
   "cell_type": "markdown",
   "metadata": {},
   "source": [
    "### Paso 8: Identificar y mostrar todas las siglas encontradas en el texto, por ejemplo: SIDA, VIH, OMS, IAVI, GSK, etc."
   ]
  },
  {
   "cell_type": "code",
   "execution_count": 13,
   "metadata": {},
   "outputs": [
    {
     "name": "stdout",
     "output_type": "stream",
     "text": [
      "['IAVI', 'GSK', 'VIH', 'TB', 'VIH', 'SIDA', 'TB', 'OMS']\n"
     ]
    }
   ],
   "source": [
    "siglas = mf.extrae_mayusculas(articulo, siglas= True)\n",
    "print(siglas)"
   ]
  },
  {
   "cell_type": "markdown",
   "metadata": {},
   "source": [
    "### Paso 9: Eliminar todas las palabras “stop words”1 del texto.  Se suministrar un archivo texto“stopwords_español.txt” con el listado de palabras en español."
   ]
  },
  {
   "cell_type": "code",
   "execution_count": 14,
   "metadata": {
    "scrolled": true
   },
   "outputs": [],
   "source": [
    "try:\n",
    "    r_file = 'stopwords_español.txt'\n",
    "    file = open(\"datos\\\\\"+r_file, encoding=\"utf8\") # PASO 11 CONTROL DE EXCEPCIONES \n",
    "    stop_words = file.read()\n",
    "    file.close()\n",
    "except IOError as error:\n",
    "    print('Problema con el fichero: {}.  {}'.format(r_file, error) )\n",
    "except:  # si es un error diferente a IOError\n",
    "    print(\"Error inesperado:\", sys.exc_info()[0])\n",
    "    raise"
   ]
  },
  {
   "cell_type": "code",
   "execution_count": 16,
   "metadata": {},
   "outputs": [
    {
     "name": "stdout",
     "output_type": "stream",
     "text": [
      "estudio tres años realizado adultos africa inmunizacion experimental demostrado ciento efectiva prevenir infeccion tuberculosa latente convierta enfermedad activa puede convertirse herramienta clave terminar epidemia señalado ann ginsberg organizacion animo lucro iavi junto farmaceutica gsk glaxosmithkline desarrollado inmunizacion enfermedad pulmonar mata millones personas año enfermedad infecciosa vidas humanas cobra principalmente paises pobres pesar tener tratamiento funciona gran mayoria enfermos aproximadamente tercio personas mundo albergan bacterias causan resultados estudio presentados conferencia india pais afectado tuberculosis publicado new england journal of medicine segun informado vacuna eficacia limitada funciono mitad casos solo efectiva personas vih negativas infeccion latente solo variante pulmonar diferencia frecuente probada casi adultos kenia sudafrica zambia infectados tb tampoco vih virus causa sida mitad recibio dosis vacuna mes diferencia resto recibio vacunas falsas trece personas grupo vacuna grupo desarrollaron tb activa resultados muestran vacuna sosteniendo tiempo marcan paso importante tener herramienta prevencion buscado años dicho paula fujiwara directora cientifica union internacional tuberculosis enfermedad pulmonar planes marcha estudio definitivo tomara menos varios años añadido despues anunciaron resultados organizacion mundial salud oms calificado vacuna gran avance celebrando reuniones discutir avanzar desarrollo dato total actualmente existen inmunizaciones investigacion todas caracteristicas diferentes ultima diana personas bacteria latente origen español encara fase van dirigidas poblacion porta proteger personas desarrollado enfermedad\n",
      "\n",
      "La cantidad de palabras despues de ser procesado es de 204\n"
     ]
    }
   ],
   "source": [
    "texto_sin_tildes_stop_words = mf.normalize(stop_words) # quita las tildes del las stop_words\n",
    "texto_filtrado_no_stop_words = mf.elimina_stop_words(texto_sin_numeros, texto_sin_tildes_stop_words) # devuelve el texto filtrado sin stop words\n",
    "cantidad_palablas = len(mf.split_cadena(texto_filtrado_no_stop_words))\n",
    "print(texto_filtrado_no_stop_words, end='\\n\\n')\n",
    "print(f\"La cantidad de palabras despues de ser procesado es de {cantidad_palablas}\")"
   ]
  },
  {
   "cell_type": "markdown",
   "metadata": {},
   "source": [
    "### Paso 10: Contar cuantas veces aparece cada una de las palabras que quedan en el texto una vez realizada la normalización."
   ]
  },
  {
   "cell_type": "code",
   "execution_count": 17,
   "metadata": {},
   "outputs": [
    {
     "name": "stdout",
     "output_type": "stream",
     "text": [
      "[('estudio', 3), ('tres', 1), ('años', 3), ('realizado', 1), ('adultos', 2), ('africa', 1), ('inmunizacion', 2), ('experimental', 1), ('demostrado', 1), ('ciento', 1), ('efectiva', 2), ('prevenir', 1), ('infeccion', 2), ('tuberculosa', 1), ('latente', 3), ('convierta', 1), ('enfermedad', 5), ('activa', 2), ('puede', 1), ('convertirse', 1), ('herramienta', 2), ('clave', 1), ('terminar', 1), ('epidemia', 1), ('señalado', 1), ('ann', 1), ('ginsberg', 1), ('organizacion', 2), ('animo', 1), ('lucro', 1), ('iavi', 1), ('junto', 1), ('farmaceutica', 1), ('gsk', 1), ('glaxosmithkline', 1), ('desarrollado', 2), ('pulmonar', 3), ('mata', 1), ('millones', 1), ('personas', 6), ('año', 1), ('infecciosa', 1), ('vidas', 1), ('humanas', 1), ('cobra', 1), ('principalmente', 1), ('paises', 1), ('pobres', 1), ('pesar', 1), ('tener', 2), ('tratamiento', 1), ('funciona', 1), ('gran', 2), ('mayoria', 1), ('enfermos', 1), ('aproximadamente', 1), ('tercio', 1), ('mundo', 1), ('albergan', 1), ('bacterias', 1), ('causan', 1), ('resultados', 3), ('presentados', 1), ('conferencia', 1), ('india', 1), ('pais', 1), ('afectado', 1), ('tuberculosis', 2), ('publicado', 1), ('new', 1), ('england', 1), ('journal', 1), ('of', 1), ('medicine', 1), ('segun', 1), ('informado', 1), ('vacuna', 5), ('eficacia', 1), ('limitada', 1), ('funciono', 1), ('mitad', 2), ('casos', 1), ('solo', 2), ('vih', 2), ('negativas', 1), ('variante', 1), ('diferencia', 2), ('frecuente', 1), ('probada', 1), ('casi', 1), ('kenia', 1), ('sudafrica', 1), ('zambia', 1), ('infectados', 1), ('tb', 2), ('tampoco', 1), ('virus', 1), ('causa', 1), ('sida', 1), ('recibio', 2), ('dosis', 1), ('mes', 1), ('resto', 1), ('vacunas', 1), ('falsas', 1), ('trece', 1), ('grupo', 2), ('desarrollaron', 1), ('muestran', 1), ('sosteniendo', 1), ('tiempo', 1), ('marcan', 1), ('paso', 1), ('importante', 1), ('prevencion', 1), ('buscado', 1), ('dicho', 1), ('paula', 1), ('fujiwara', 1), ('directora', 1), ('cientifica', 1), ('union', 1), ('internacional', 1), ('planes', 1), ('marcha', 1), ('definitivo', 1), ('tomara', 1), ('menos', 1), ('varios', 1), ('añadido', 1), ('despues', 1), ('anunciaron', 1), ('mundial', 1), ('salud', 1), ('oms', 1), ('calificado', 1), ('avance', 1), ('celebrando', 1), ('reuniones', 1), ('discutir', 1), ('avanzar', 1), ('desarrollo', 1), ('dato', 1), ('total', 1), ('actualmente', 1), ('existen', 1), ('inmunizaciones', 1), ('investigacion', 1), ('todas', 1), ('caracteristicas', 1), ('diferentes', 1), ('ultima', 1), ('diana', 1), ('bacteria', 1), ('origen', 1), ('español', 1), ('encara', 1), ('fase', 1), ('van', 1), ('dirigidas', 1), ('poblacion', 1), ('porta', 1), ('proteger', 1)]\n"
     ]
    }
   ],
   "source": [
    "cantidad_x_palabra = mf.contar_palabras(texto_filtrado_no_stop_words)\n",
    "print(cantidad_x_palabra)"
   ]
  },
  {
   "cell_type": "markdown",
   "metadata": {},
   "source": [
    "### Paso 11: Incluir el control de excepciones en los procesos donde abrimos los archivos de texto."
   ]
  },
  {
   "cell_type": "code",
   "execution_count": null,
   "metadata": {},
   "outputs": [],
   "source": [
    "Las excepciones fueron incluidas en paso 1 y el paso 9"
   ]
  },
  {
   "cell_type": "markdown",
   "metadata": {},
   "source": [
    "## Análisis de Sentimientos\n",
    "\n",
    "### Pasos:\n"
   ]
  },
  {
   "cell_type": "markdown",
   "metadata": {},
   "source": [
    "# Conclusiones\n",
    "\n",
    "Durante la ejecución del proyecto he encontrado dificultades al ......."
   ]
  },
  {
   "cell_type": "code",
   "execution_count": null,
   "metadata": {},
   "outputs": [],
   "source": []
  }
 ],
 "metadata": {
  "kernelspec": {
   "display_name": "Python 3 (ipykernel)",
   "language": "python",
   "name": "python3"
  },
  "language_info": {
   "codemirror_mode": {
    "name": "ipython",
    "version": 3
   },
   "file_extension": ".py",
   "mimetype": "text/x-python",
   "name": "python",
   "nbconvert_exporter": "python",
   "pygments_lexer": "ipython3",
   "version": "3.10.8"
  },
  "toc": {
   "base_numbering": 1,
   "nav_menu": {},
   "number_sections": true,
   "sideBar": true,
   "skip_h1_title": false,
   "title_cell": "Table of Contents",
   "title_sidebar": "Contents",
   "toc_cell": false,
   "toc_position": {},
   "toc_section_display": true,
   "toc_window_display": false
  },
  "varInspector": {
   "cols": {
    "lenName": 16,
    "lenType": 16,
    "lenVar": 40
   },
   "kernels_config": {
    "python": {
     "delete_cmd_postfix": "",
     "delete_cmd_prefix": "del ",
     "library": "var_list.py",
     "varRefreshCmd": "print(var_dic_list())"
    },
    "r": {
     "delete_cmd_postfix": ") ",
     "delete_cmd_prefix": "rm(",
     "library": "var_list.r",
     "varRefreshCmd": "cat(var_dic_list()) "
    }
   },
   "types_to_exclude": [
    "module",
    "function",
    "builtin_function_or_method",
    "instance",
    "_Feature"
   ],
   "window_display": true
  },
  "vscode": {
   "interpreter": {
    "hash": "1353f313ead104360866fab643a74fd0c61057d61236ce27455bd3419eefba5e"
   }
  }
 },
 "nbformat": 4,
 "nbformat_minor": 4
}

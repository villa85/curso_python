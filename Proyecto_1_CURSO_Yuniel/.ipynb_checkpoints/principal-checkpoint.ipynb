{
 "cells": [
  {
   "cell_type": "markdown",
   "metadata": {},
   "source": [
    "# Proyecto Nivel I\n",
    "\n",
    "**Nombre del Alumno:**\n",
    "\n",
    "**Curso: **\n",
    "\n",
    "## Normalizar el texto\n",
    "\n",
    "### Pasos:\n",
    "\n",
    "    1. Abrir el fichero articulo.txt y guardarlo en una variable Ej.: Texto_original\n",
    "    2. Contar cuantas palabras tiene articulo.txt\n",
    "    3. Abrir el fichero stopwords_español.txt y guardalo en una lista o en un texto\n",
    "    4. Obtener todas las palabras que comience en mayúscula y mostrarlas\n",
    "    5. Obtener todas las siglas encontradas en el texto y mostrarlas \n",
    "    6. Convertir el texto_original en minúsculas y guardarlo en una variable Ej.: texto_minuscula\n",
    "    7. Eliminar del texto_minuscula todos los signos de puntuación y guardarlo en la variable Ej. texto_m_sp\n",
    "    8. Mostrar en el texto_m_sp todas las letras con acento (no eliminar los acentos)\n",
    "    9. Eliminar del texto texto_m_sp_a los números y guardarlo en texto_m_sp_a_num\n",
    "    10. Eliminar las stop words del texto_m_sp_a_num, esto puede generarles un texto o una lista\n",
    "    11. Contar cuantas palabras tiene el texto o la longitud de la lista una vez eliminamos las stop words\n",
    "\n"
   ]
  },
  {
   "cell_type": "markdown",
   "metadata": {},
   "source": [
    "### Librerías"
   ]
  },
  {
   "cell_type": "code",
   "execution_count": 1,
   "metadata": {},
   "outputs": [],
   "source": [
    "# Librerias que utilizaremos\n",
    "import re\n",
    "\n",
    "\n"
   ]
  },
  {
   "cell_type": "markdown",
   "metadata": {},
   "source": [
    "###  Variables y Constantes"
   ]
  },
  {
   "cell_type": "code",
   "execution_count": 2,
   "metadata": {},
   "outputs": [],
   "source": [
    "# Variables globales y constantes\n"
   ]
  },
  {
   "cell_type": "markdown",
   "metadata": {},
   "source": [
    "### Módulos y Funciones\n",
    "\n",
    "Importar los módulos y las funciones deben estar en un fichero **mis_funciones.py** y desde aqui debemos importarlas"
   ]
  },
  {
   "cell_type": "code",
   "execution_count": 3,
   "metadata": {},
   "outputs": [],
   "source": [
    "from funtions import mis_funciones as mf"
   ]
  },
  {
   "cell_type": "markdown",
   "metadata": {},
   "source": [
    "### Paso 1: Abrir ficheros stopwords_español.txt y 'articulo.txt'"
   ]
  },
  {
   "cell_type": "code",
   "execution_count": 5,
   "metadata": {},
   "outputs": [
    {
     "name": "stdout",
     "output_type": "stream",
     "text": [
      "413\n",
      "t r a s   u n   e s t u d i o   d e   t r e s   a ñ o s   r e a l i z a d o   e n   a d u l t o s   e n   á f r i c a ,   u n a   i n m u n i z a c i ó n   e x p e r i m e n t a l   h a   d e m o s t r a d o   s e r   5 0   p o r   c i e n t o   e f e c t i v a   p a r a   p r e v e n i r   q u e   l a   i n f e c c i ó n   t u b e r c u l o s a   l a t e n t e   s e   c o n v i e r t a   e n   u n a   e n f e r m e d a d   a c t i v a . \n",
      "   \n",
      " “ p u e d e   c o n v e r t i r s e   e n   u n a   h e r r a m i e n t a   c l a v e   p a r a   t e r m i n a r   c o n   l a   e p i d e m i a ” ,   h a   s e ñ a l a d o   a n n   g i n s b e r g ,   d e   l a   o r g a n i z a c i ó n   s i n   á n i m o   d e   l u c r o   i a v i ,   q u e   j u n t o   a   l a   f a r m a c é u t i c a   g s k   ( g l a x o s m i t h k l i n e )   h a   d e s a r r o l l a d o   l a   i n m u n i z a c i ó n . \n",
      "   \n",
      " l a   e n f e r m e d a d   p u l m o n a r   m a t a   a   m á s   d e   1 , 5   m i l l o n e s   d e   p e r s o n a s   a l   a ñ o   y   e s   l a   e n f e r m e d a d   i n f e c c i o s a   q u e   m á s   v i d a s   h u m a n a s   s e   c o b r a ,   p r i n c i p a l m e n t e   e n   p a í s e s   p o b r e s . \n",
      "   \n",
      " a   p e s a r   d e   t e n e r   u n   t r a t a m i e n t o   q u e   f u n c i o n a   p a r a   l a   g r a n   m a y o r í a   d e   l o s   e n f e r m o s ,     a p r o x i m a d a m e n t e   u n   t e r c i o   d e   l a s   p e r s o n a s   d e l   m u n d o   a l b e r g a n   l a s   b a c t e r i a s   q u e   l a   c a u s a n . \n",
      "   \n",
      " l o s   r e s u l t a d o s   d e l   e s t u d i o   f u e r o n   p r e s e n t a d o s   e n   u n a   c o n f e r e n c i a   e n   i n d i a ,   e l   p a í s   m á s   a f e c t a d o   p o r   l a   t u b e r c u l o s i s ,   y   p u b l i c a d o   p o r   e l   n e w   e n g l a n d   j o u r n a l   o f   m e d i c i n e . \n",
      "   \n",
      " s e g ú n   h a n   i n f o r m a d o ,   l a   v a c u n a   t i e n e   e f i c a c i a   l i m i t a d a ,   y a   q u e   f u n c i o n ó   e n   l a   m i t a d   d e   l o s   c a s o s ,   e s   s o l o   e f e c t i v a   e n t r e   l a s   p e r s o n a s   v i h   n e g a t i v a s   q u e   t i e n e n   l a   i n f e c c i ó n   l a t e n t e ,   y   s o l o   p a r a   l a   v a r i a n t e   p u l m o n a r   q u e ,   e s o   s í ,   e s   c o n   d i f e r e n c i a   l a   m á s   f r e c u e n t e . \n",
      "   \n",
      " f u e   p r o b a d a   e n   c a s i   3 . 6 0 0   a d u l t o s   e n   k e n i a ,   s u d á f r i c a   y   z a m b i a   q u e   e s t a b a n   i n f e c t a d o s   c o n   t b   p e r o   q u e   t a m p o c o   t e n í a n   v i h ,   e l   v i r u s   q u e   c a u s a   e l   s i d a .   l a   m i t a d   r e c i b i ó   d o s   d o s i s   d e   v a c u n a   c o n   u n   m e s   d e   d i f e r e n c i a   y   e l   r e s t o   r e c i b i ó   v a c u n a s   f a l s a s .   t r e c e   p e r s o n a s   e n   e l   g r u p o   d e   v a c u n a   y   2 6   e n   e l   o t r o   g r u p o   d e s a r r o l l a r o n   t b   a c t i v a . \n",
      "   \n",
      " l o s   r e s u l t a d o s   m u e s t r a n   q u e   \" l a   v a c u n a   s e   e s t á   s o s t e n i e n d o \"   c o n   e l   t i e m p o ,   y   m a r c a n   u n   p a s o   i m p o r t a n t e   p a r a   t e n e r   u n a   h e r r a m i e n t a   d e   p r e v e n c i ó n   q u e   s e   h a   b u s c a d o   d u r a n t e   1 0 0   a ñ o s ,   h a   d i c h o   p a u l a   f u j i w a r a ,   d i r e c t o r a   c i e n t í f i c a   d e   l a   u n i ó n   i n t e r n a c i o n a l   c o n t r a   l a   t u b e r c u l o s i s   y   l a   e n f e r m e d a d   p u l m o n a r . \n",
      "   \n",
      " l o s   p l a n e s   e s t á n   e n   m a r c h a   p a r a   o t r o   e s t u d i o   d e f i n i t i v o ,   q u e   t o m a r á   a l   m e n o s   v a r i o s   a ñ o s   m á s ,   h a   a ñ a d i d o \n",
      "   \n",
      " d e s p u é s   d e   q u e   s e   a n u n c i a r o n   l o s   r e s u l t a d o s ,   l a   o r g a n i z a c i ó n   m u n d i a l   d e   l a   s a l u d   ( o m s )   h a   c a l i f i c a d o   l a   v a c u n a   c o m o   u n   g r a n   a v a n c e   y   h a   e s t a d o   c e l e b r a n d o   r e u n i o n e s   p a r a   d i s c u t i r   c ó m o   a v a n z a r   e n   s u   d e s a r r o l l o . \n",
      "   \n",
      " e l   d a t o \n",
      "   \n",
      " e n   t o t a l   a c t u a l m e n t e   e x i s t e n   1 5   i n m u n i z a c i o n e s   e n   i n v e s t i g a c i ó n .   t o d a s   c o n   c a r a c t e r í s t i c a s   d i f e r e n t e s .   é s t a   ú l t i m a   t i e n e   c o m o   d i a n a   a   l a s   p e r s o n a s   c o n   l a   b a c t e r i a   l a t e n t e ,   o t r a s   ( c o m o   u n a   d e   o r i g e n   e s p a ñ o l   q u e   e n c a r a   l a   f a s e   2 b )   v a n   d i r i g i d a s   a   p o b l a c i ó n   q u e   n o   l a   p o r t a   y ,   o t r a s ,   a   p r o t e g e r   a   p e r s o n a s   q u e   h a n   d e s a r r o l l a d o   l a   e n f e r m e d a d .\n"
     ]
    }
   ],
   "source": [
    "archivo = open('datos\\\\articulo.txt', encoding=\"utf8\") # 1. Leer el archivo texto\n",
    "articulo = archivo.read()\n",
    "\n",
    "cantidad_palablas_antes = len(mf.split_cadena(articulo)) # 2. Contar cuantas palabras tiene el texto antes de preprocesarlo\n",
    "todo_minusculas = mf.texto_en_minusculas(articulo) # 3. Convertir el texto Normalizado a minúsculas \n",
    "\n",
    "print(cantidad_palablas_antes)\n",
    "print(todo_minusculas)\n"
   ]
  },
  {
   "cell_type": "markdown",
   "metadata": {},
   "source": [
    "## Análisis de Sentimientos\n",
    "\n",
    "### Pasos:\n"
   ]
  },
  {
   "cell_type": "markdown",
   "metadata": {},
   "source": [
    "# Conclusiones\n",
    "\n",
    "Durante la ejecución del proyecto he encontrado dificultades al ......."
   ]
  },
  {
   "cell_type": "code",
   "execution_count": null,
   "metadata": {},
   "outputs": [],
   "source": []
  }
 ],
 "metadata": {
  "kernelspec": {
   "display_name": "Python 3 (ipykernel)",
   "language": "python",
   "name": "python3"
  },
  "language_info": {
   "codemirror_mode": {
    "name": "ipython",
    "version": 3
   },
   "file_extension": ".py",
   "mimetype": "text/x-python",
   "name": "python",
   "nbconvert_exporter": "python",
   "pygments_lexer": "ipython3",
   "version": "3.10.8"
  },
  "toc": {
   "base_numbering": 1,
   "nav_menu": {},
   "number_sections": true,
   "sideBar": true,
   "skip_h1_title": false,
   "title_cell": "Table of Contents",
   "title_sidebar": "Contents",
   "toc_cell": false,
   "toc_position": {},
   "toc_section_display": true,
   "toc_window_display": false
  },
  "varInspector": {
   "cols": {
    "lenName": 16,
    "lenType": 16,
    "lenVar": 40
   },
   "kernels_config": {
    "python": {
     "delete_cmd_postfix": "",
     "delete_cmd_prefix": "del ",
     "library": "var_list.py",
     "varRefreshCmd": "print(var_dic_list())"
    },
    "r": {
     "delete_cmd_postfix": ") ",
     "delete_cmd_prefix": "rm(",
     "library": "var_list.r",
     "varRefreshCmd": "cat(var_dic_list()) "
    }
   },
   "types_to_exclude": [
    "module",
    "function",
    "builtin_function_or_method",
    "instance",
    "_Feature"
   ],
   "window_display": true
  },
  "vscode": {
   "interpreter": {
    "hash": "1353f313ead104360866fab643a74fd0c61057d61236ce27455bd3419eefba5e"
   }
  }
 },
 "nbformat": 4,
 "nbformat_minor": 4
}

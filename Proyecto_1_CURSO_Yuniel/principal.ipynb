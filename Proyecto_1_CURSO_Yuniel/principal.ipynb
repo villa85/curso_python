{
 "cells": [
  {
   "cell_type": "markdown",
   "metadata": {},
   "source": [
    "# Proyecto Nivel I\n",
    "\n",
    "**Nombre del Alumno:**\n",
    "\n",
    "**Curso: **\n",
    "\n",
    "## Normalizar el texto\n",
    "\n",
    "### Pasos:\n",
    "\n",
    "    1. Abrir el fichero articulo.txt y guardarlo en una variable Ej.: Texto_original\n",
    "    2. Contar cuantas palabras tiene articulo.txt\n",
    "    3. Abrir el fichero stopwords_español.txt y guardalo en una lista o en un texto\n",
    "    4. Obtener todas las palabras que comience en mayúscula y mostrarlas\n",
    "    5. Obtener todas las siglas encontradas en el texto y mostrarlas \n",
    "    6. Convertir el texto_original en minúsculas y guardarlo en una variable Ej.: texto_minuscula\n",
    "    7. Eliminar del texto_minuscula todos los signos de puntuación y guardarlo en la variable Ej. texto_m_sp\n",
    "    8. Mostrar en el texto_m_sp todas las letras con acento (no eliminar los acentos)\n",
    "    9. Eliminar del texto texto_m_sp_a los números y guardarlo en texto_m_sp_a_num\n",
    "    10. Eliminar las stop words del texto_m_sp_a_num, esto puede generarles un texto o una lista\n",
    "    11. Contar cuantas palabras tiene el texto o la longitud de la lista una vez eliminamos las stop words\n",
    "\n"
   ]
  },
  {
   "cell_type": "markdown",
   "metadata": {},
   "source": [
    "### Librerías"
   ]
  },
  {
   "cell_type": "code",
   "execution_count": 1,
   "metadata": {},
   "outputs": [],
   "source": [
    "# Librerias que utilizaremos\n",
    "import re\n",
    "\n",
    "\n"
   ]
  },
  {
   "cell_type": "markdown",
   "metadata": {},
   "source": [
    "###  Variables y Constantes"
   ]
  },
  {
   "cell_type": "code",
   "execution_count": 2,
   "metadata": {},
   "outputs": [],
   "source": [
    "# Variables globales y constantes\n"
   ]
  },
  {
   "cell_type": "markdown",
   "metadata": {},
   "source": [
    "### Módulos y Funciones\n",
    "\n",
    "Importar los módulos y las funciones deben estar en un fichero **mis_funciones.py** y desde aqui debemos importarlas"
   ]
  },
  {
   "cell_type": "code",
   "execution_count": 3,
   "metadata": {},
   "outputs": [],
   "source": [
    "from funtions import mis_funciones as mf"
   ]
  },
  {
   "cell_type": "markdown",
   "metadata": {},
   "source": [
    "### Paso 1: Abrir ficheros stopwords_español.txt y 'articulo.txt'"
   ]
  },
  {
   "cell_type": "code",
   "execution_count": 4,
   "metadata": {
    "scrolled": true
   },
   "outputs": [
    {
     "name": "stdout",
     "output_type": "stream",
     "text": [
      "413\n",
      "tras un estudio de tres años realizado en adultos en áfrica, una inmunización experimental ha demostrado ser 50 por ciento efectiva para prevenir que la infección tuberculosa latente se convierta en una enfermedad activa.\n",
      " \n",
      "“puede convertirse en una herramienta clave para terminar con la epidemia”, ha señalado ann ginsberg, de la organización sin ánimo de lucro iavi, que junto a la farmacéutica gsk (glaxosmithkline) ha desarrollado la inmunización.\n",
      " \n",
      "la enfermedad pulmonar mata a más de 1,5 millones de personas al año y es la enfermedad infecciosa que más vidas humanas se cobra, principalmente en países pobres.\n",
      " \n",
      "a pesar de tener un tratamiento que funciona para la gran mayoría de los enfermos,  aproximadamente un tercio de las personas del mundo albergan las bacterias que la causan.\n",
      " \n",
      "los resultados del estudio fueron presentados en una conferencia en india, el país más afectado por la tuberculosis, y publicado por el new england journal of medicine.\n",
      " \n",
      "según han informado, la vacuna tiene eficacia limitada, ya que funcionó en la mitad de los casos, es solo efectiva entre las personas vih negativas que tienen la infección latente, y solo para la variante pulmonar que, eso sí, es con diferencia la más frecuente.\n",
      " \n",
      "fue probada en casi 3.600 adultos en kenia, sudáfrica y zambia que estaban infectados con tb pero que tampoco tenían vih, el virus que causa el sida. la mitad recibió dos dosis de vacuna con un mes de diferencia y el resto recibió vacunas falsas. trece personas en el grupo de vacuna y 26 en el otro grupo desarrollaron tb activa.\n",
      " \n",
      "los resultados muestran que \"la vacuna se está sosteniendo\" con el tiempo, y marcan un paso importante para tener una herramienta de prevención que se ha buscado durante 100 años, ha dicho paula fujiwara, directora científica de la unión internacional contra la tuberculosis y la enfermedad pulmonar.\n",
      " \n",
      "los planes están en marcha para otro estudio definitivo, que tomará al menos varios años más, ha añadido\n",
      " \n",
      "después de que se anunciaron los resultados, la organización mundial de la salud (oms) ha calificado la vacuna como un gran avance y ha estado celebrando reuniones para discutir cómo avanzar en su desarrollo.\n",
      " \n",
      "el dato\n",
      " \n",
      "en total actualmente existen 15 inmunizaciones en investigación. todas con características diferentes. ésta última tiene como diana a las personas con la bacteria latente, otras (como una de origen español que encara la fase 2b) van dirigidas a población que no la porta y, otras, a proteger a personas que han desarrollado la enfermedad.\n"
     ]
    }
   ],
   "source": [
    "archivo = open('datos\\\\articulo.txt', encoding=\"utf8\") # 1. Leer el archivo texto\n",
    "articulo = archivo.read()\n",
    "\n",
    "cantidad_palablas_antes = len(mf.split_cadena(articulo)) # 2. Contar cuantas palabras tiene el texto antes de preprocesarlo\n",
    "todo_minusculas = mf.texto_en_minusculas(articulo) # 3. Convertir el texto Normalizado a minúsculas \n",
    "\n",
    "print(cantidad_palablas_antes)\n",
    "print(todo_minusculas)\n"
   ]
  },
  {
   "cell_type": "markdown",
   "metadata": {},
   "source": [
    "## Análisis de Sentimientos\n",
    "\n",
    "### Pasos:\n"
   ]
  },
  {
   "cell_type": "markdown",
   "metadata": {},
   "source": [
    "# Conclusiones\n",
    "\n",
    "Durante la ejecución del proyecto he encontrado dificultades al ......."
   ]
  },
  {
   "cell_type": "code",
   "execution_count": null,
   "metadata": {},
   "outputs": [],
   "source": []
  }
 ],
 "metadata": {
  "kernelspec": {
   "display_name": "Python 3 (ipykernel)",
   "language": "python",
   "name": "python3"
  },
  "language_info": {
   "codemirror_mode": {
    "name": "ipython",
    "version": 3
   },
   "file_extension": ".py",
   "mimetype": "text/x-python",
   "name": "python",
   "nbconvert_exporter": "python",
   "pygments_lexer": "ipython3",
   "version": "3.10.8"
  },
  "toc": {
   "base_numbering": 1,
   "nav_menu": {},
   "number_sections": true,
   "sideBar": true,
   "skip_h1_title": false,
   "title_cell": "Table of Contents",
   "title_sidebar": "Contents",
   "toc_cell": false,
   "toc_position": {},
   "toc_section_display": true,
   "toc_window_display": false
  },
  "varInspector": {
   "cols": {
    "lenName": 16,
    "lenType": 16,
    "lenVar": 40
   },
   "kernels_config": {
    "python": {
     "delete_cmd_postfix": "",
     "delete_cmd_prefix": "del ",
     "library": "var_list.py",
     "varRefreshCmd": "print(var_dic_list())"
    },
    "r": {
     "delete_cmd_postfix": ") ",
     "delete_cmd_prefix": "rm(",
     "library": "var_list.r",
     "varRefreshCmd": "cat(var_dic_list()) "
    }
   },
   "types_to_exclude": [
    "module",
    "function",
    "builtin_function_or_method",
    "instance",
    "_Feature"
   ],
   "window_display": true
  },
  "vscode": {
   "interpreter": {
    "hash": "1353f313ead104360866fab643a74fd0c61057d61236ce27455bd3419eefba5e"
   }
  }
 },
 "nbformat": 4,
 "nbformat_minor": 4
}

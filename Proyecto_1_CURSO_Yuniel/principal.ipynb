{
 "cells": [
  {
   "cell_type": "markdown",
   "metadata": {},
   "source": [
    "# Proyecto Nivel I\n",
    "\n",
    "**Nombre del Alumno: Yuniel Antonio Villalón Rosales**\n",
    "\n",
    "## Parte 1: Normalización de un texto\n",
    "\n",
    "### Pasos:\n",
    "\n",
    "1.  Leer el archivo texto (ver código anexo)\n",
    "2.  Contar cuantas palabras tiene el texto antes de preprocesarlo\n",
    "3.  Convertir el texto Normalizado a minúsculas\n",
    "4.  Identificar, mostrar y eliminar signos de puntuación\n",
    "5.  Identificar, mostrar y eliminar las letras acentuadas sustituirlas por la misma letra sin acento\n",
    "6.  Identificar, mostrar y eliminar los números\n",
    "7.  Identificar y mostrar  todas las palabras que comience en Mayúscula\n",
    "8.  Identificar y mostrar todas las siglas encontradas en el texto, por ejemplo: SIDA, VIH, OMS, IAVI, GSK, etc.\n",
    "9.  Eliminar todas las palabras “stop words”1 del texto.  Se suministrar un archivo texto\n",
    "“stopwords_español.txt” con el listado de palabras en español.\n",
    "10. Contar cuantas veces aparece cada una de las palabras que quedan en el texto una vez\n",
    "realizada la normalización.\n",
    "11. Incluir el control de excepciones en los procesos donde abrimos los archivos de texto.\n",
    "\n"
   ]
  },
  {
   "cell_type": "markdown",
   "metadata": {},
   "source": [
    "### Librerías"
   ]
  },
  {
   "cell_type": "code",
   "execution_count": null,
   "metadata": {},
   "outputs": [],
   "source": [
    "# Librerias que utilizaremos\n"
   ]
  },
  {
   "cell_type": "markdown",
   "metadata": {},
   "source": [
    "###  Variables y Constantes"
   ]
  },
  {
   "cell_type": "code",
   "execution_count": null,
   "metadata": {},
   "outputs": [],
   "source": [
    "# Variables globales y constantes\n"
   ]
  },
  {
   "cell_type": "markdown",
   "metadata": {},
   "source": [
    "### Módulos y Funciones\n",
    "\n",
    "Importar los módulos y las funciones deben estar en un fichero **mis_funciones.py** y desde aqui debemos importarlas"
   ]
  },
  {
   "cell_type": "code",
   "execution_count": null,
   "metadata": {},
   "outputs": [],
   "source": [
    "from funtions import mis_funciones as mf"
   ]
  },
  {
   "cell_type": "markdown",
   "metadata": {},
   "source": [
    "### Paso 1: Leer el archivo texto"
   ]
  },
  {
   "cell_type": "code",
   "execution_count": null,
   "metadata": {
    "scrolled": true
   },
   "outputs": [],
   "source": [
    "archivo = open('datos\\\\articulo.txt', encoding=\"utf8\") # 1. Leer el archivo texto\n",
    "articulo = archivo.read()"
   ]
  },
  {
   "cell_type": "markdown",
   "metadata": {},
   "source": [
    "### Paso 2: Contar cuantas palabras tiene el texto antes de preprocesarlo"
   ]
  },
  {
   "cell_type": "code",
   "execution_count": null,
   "metadata": {},
   "outputs": [],
   "source": [
    "cantidad_palablas_antes = len(mf.split_cadena(articulo))\n",
    "print(f\"La cantidad de palabras antes de ser procesado es de {cantidad_palablas_antes}\")"
   ]
  },
  {
   "cell_type": "markdown",
   "metadata": {},
   "source": [
    "### Paso 3: Convertir el texto Normalizado a minúsculas"
   ]
  },
  {
   "cell_type": "code",
   "execution_count": null,
   "metadata": {},
   "outputs": [],
   "source": [
    "todo_minusculas = mf.texto_en_minusculas(articulo)\n",
    "print(todo_minusculas)"
   ]
  },
  {
   "cell_type": "markdown",
   "metadata": {},
   "source": [
    "### Paso 4: Identificar, mostrar y eliminar signos de puntuación"
   ]
  },
  {
   "cell_type": "code",
   "execution_count": null,
   "metadata": {},
   "outputs": [],
   "source": [
    "mostrar_signos_del_texto = mf.elimina_repetidos(mf.elimina_signos_puntuacion(todo_minusculas, signos = True))\n",
    "texto_no_signos = mf.elimina_signos_puntuacion(todo_minusculas)\n",
    "print(f\"Los signos de puntuación encontrados: \\n{mostrar_signos_del_texto} \\n\")\n",
    "print(f\"Texto sin signos de puntuación: \\n {texto_no_signos}\")"
   ]
  },
  {
   "cell_type": "markdown",
   "metadata": {},
   "source": [
    "### Paso 5: Identificar, mostrar y eliminar las letras acentuadas sustituirlas por la misma letra sin acento"
   ]
  },
  {
   "cell_type": "code",
   "execution_count": null,
   "metadata": {},
   "outputs": [],
   "source": [
    "print(mf.normalize(texto_no_signos, find = True), end= \" \\n \\n \")\n",
    "texto_sin_tildes = mf.normalize(texto_no_signos)\n",
    "print(f\"{texto_sin_tildes}\")"
   ]
  },
  {
   "cell_type": "markdown",
   "metadata": {},
   "source": [
    "### Paso 6: Identificar, mostrar y eliminar los números"
   ]
  },
  {
   "cell_type": "code",
   "execution_count": null,
   "metadata": {},
   "outputs": [],
   "source": [
    "numeros = mf.extrae_numeros(texto_sin_tildes, number = True)\n",
    "texto_sin_numeros = mf.extrae_numeros(texto_sin_tildes)\n",
    "print({numeros}, end= \" \\n \\n \")\n",
    "print(f\"{texto_sin_numeros}\")"
   ]
  },
  {
   "cell_type": "markdown",
   "metadata": {},
   "source": [
    "## Análisis de Sentimientos\n",
    "\n",
    "### Pasos:\n"
   ]
  },
  {
   "cell_type": "markdown",
   "metadata": {},
   "source": [
    "# Conclusiones\n",
    "\n",
    "Durante la ejecución del proyecto he encontrado dificultades al ......."
   ]
  },
  {
   "cell_type": "code",
   "execution_count": null,
   "metadata": {},
   "outputs": [],
   "source": []
  }
 ],
 "metadata": {
  "kernelspec": {
   "display_name": "Python 3 (ipykernel)",
   "language": "python",
   "name": "python3"
  },
  "language_info": {
   "codemirror_mode": {
    "name": "ipython",
    "version": 3
   },
   "file_extension": ".py",
   "mimetype": "text/x-python",
   "name": "python",
   "nbconvert_exporter": "python",
   "pygments_lexer": "ipython3",
   "version": "3.10.8"
  },
  "toc": {
   "base_numbering": 1,
   "nav_menu": {},
   "number_sections": true,
   "sideBar": true,
   "skip_h1_title": false,
   "title_cell": "Table of Contents",
   "title_sidebar": "Contents",
   "toc_cell": false,
   "toc_position": {},
   "toc_section_display": true,
   "toc_window_display": false
  },
  "varInspector": {
   "cols": {
    "lenName": 16,
    "lenType": 16,
    "lenVar": 40
   },
   "kernels_config": {
    "python": {
     "delete_cmd_postfix": "",
     "delete_cmd_prefix": "del ",
     "library": "var_list.py",
     "varRefreshCmd": "print(var_dic_list())"
    },
    "r": {
     "delete_cmd_postfix": ") ",
     "delete_cmd_prefix": "rm(",
     "library": "var_list.r",
     "varRefreshCmd": "cat(var_dic_list()) "
    }
   },
   "types_to_exclude": [
    "module",
    "function",
    "builtin_function_or_method",
    "instance",
    "_Feature"
   ],
   "window_display": false
  },
  "vscode": {
   "interpreter": {
    "hash": "1353f313ead104360866fab643a74fd0c61057d61236ce27455bd3419eefba5e"
   }
  }
 },
 "nbformat": 4,
 "nbformat_minor": 4
}

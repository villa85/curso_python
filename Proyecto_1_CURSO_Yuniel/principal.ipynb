{
 "cells": [
  {
   "cell_type": "markdown",
   "metadata": {},
   "source": [
    "# Proyecto Nivel I\n",
    "\n",
    "**Nombre del Alumno:**\n",
    "\n",
    "**Curso: **\n",
    "\n",
    "## Normalizar el texto\n",
    "\n",
    "### Pasos:\n",
    "\n",
    "    1. Abrir el fichero articulo.txt y guardarlo en una variable Ej.: Texto_original\n",
    "    2. Contar cuantas palabras tiene articulo.txt\n",
    "    3. Abrir el fichero stopwords_español.txt y guardalo en una lista o en un texto\n",
    "    4. Obtener todas las palabras que comience en mayúscula y mostrarlas\n",
    "    5. Obtener todas las siglas encontradas en el texto y mostrarlas \n",
    "    6. Convertir el texto_original en minúsculas y guardarlo en una variable Ej.: texto_minuscula\n",
    "    7. Eliminar del texto_minuscula todos los signos de puntuación y guardarlo en la variable Ej. texto_m_sp\n",
    "    8. Mostrar en el texto_m_sp todas las letras con acento (no eliminar los acentos)\n",
    "    9. Eliminar del texto texto_m_sp_a los números y guardarlo en texto_m_sp_a_num\n",
    "    10. Eliminar las stop words del texto_m_sp_a_num, esto puede generarles un texto o una lista\n",
    "    11. Contar cuantas palabras tiene el texto o la longitud de la lista una vez eliminamos las stop words\n",
    "\n"
   ]
  },
  {
   "cell_type": "markdown",
   "metadata": {},
   "source": [
    "### Librerías"
   ]
  },
  {
   "cell_type": "code",
   "execution_count": 4,
   "metadata": {},
   "outputs": [],
   "source": [
    "# Librerias que utilizaremos\n",
    "\n"
   ]
  },
  {
   "cell_type": "markdown",
   "metadata": {},
   "source": [
    "###  Variables y Constantes"
   ]
  },
  {
   "cell_type": "code",
   "execution_count": 5,
   "metadata": {},
   "outputs": [],
   "source": [
    "# Variables globales y constantes\n"
   ]
  },
  {
   "cell_type": "markdown",
   "metadata": {},
   "source": [
    "### Módulos y Funciones\n",
    "\n",
    "Importar los módulos y las funciones deben estar en un fichero **mis_funciones.py** y desde aqui debemos importarlas"
   ]
  },
  {
   "cell_type": "code",
   "execution_count": null,
   "metadata": {},
   "outputs": [],
   "source": []
  },
  {
   "cell_type": "markdown",
   "metadata": {},
   "source": [
    "### Paso 1: Abrir ficheros stopwords_español.txt y 'articulo.txt'"
   ]
  },
  {
   "cell_type": "code",
   "execution_count": null,
   "metadata": {},
   "outputs": [],
   "source": []
  },
  {
   "cell_type": "markdown",
   "metadata": {},
   "source": [
    "## Análisis de Sentimientos\n",
    "\n",
    "### Pasos:\n"
   ]
  },
  {
   "cell_type": "markdown",
   "metadata": {},
   "source": [
    "# Conclusiones\n",
    "\n",
    "Durante la ejecución del proyecto he encontrado dificultades al ......."
   ]
  },
  {
   "cell_type": "code",
   "execution_count": null,
   "metadata": {},
   "outputs": [],
   "source": []
  }
 ],
 "metadata": {
  "kernelspec": {
   "display_name": "Python 3 (ipykernel)",
   "language": "python",
   "name": "python3"
  },
  "language_info": {
   "codemirror_mode": {
    "name": "ipython",
    "version": 3
   },
   "file_extension": ".py",
   "mimetype": "text/x-python",
   "name": "python",
   "nbconvert_exporter": "python",
   "pygments_lexer": "ipython3",
   "version": "3.8.12"
  },
  "toc": {
   "base_numbering": 1,
   "nav_menu": {},
   "number_sections": true,
   "sideBar": true,
   "skip_h1_title": false,
   "title_cell": "Table of Contents",
   "title_sidebar": "Contents",
   "toc_cell": false,
   "toc_position": {},
   "toc_section_display": true,
   "toc_window_display": false
  },
  "varInspector": {
   "cols": {
    "lenName": 16,
    "lenType": 16,
    "lenVar": 40
   },
   "kernels_config": {
    "python": {
     "delete_cmd_postfix": "",
     "delete_cmd_prefix": "del ",
     "library": "var_list.py",
     "varRefreshCmd": "print(var_dic_list())"
    },
    "r": {
     "delete_cmd_postfix": ") ",
     "delete_cmd_prefix": "rm(",
     "library": "var_list.r",
     "varRefreshCmd": "cat(var_dic_list()) "
    }
   },
   "types_to_exclude": [
    "module",
    "function",
    "builtin_function_or_method",
    "instance",
    "_Feature"
   ],
   "window_display": false
  }
 },
 "nbformat": 4,
 "nbformat_minor": 4
}

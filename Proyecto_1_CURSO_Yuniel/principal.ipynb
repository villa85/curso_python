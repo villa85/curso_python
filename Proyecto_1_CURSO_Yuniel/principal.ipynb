{
 "cells": [
  {
   "cell_type": "markdown",
   "metadata": {},
   "source": [
    "# Proyecto Nivel I\n",
    "\n",
    "**Nombre del Alumno: Yuniel Antonio Villalón Rosales**\n",
    "\n",
    "## Parte 1: Normalización de un texto\n",
    "\n",
    "### Pasos:\n",
    "\n",
    "1.  Leer el archivo texto (ver código anexo)\n",
    "2.  Contar cuantas palabras tiene el texto antes de preprocesarlo\n",
    "3.  Convertir el texto Normalizado a minúsculas\n",
    "4.  Identificar, mostrar y eliminar signos de puntuación\n",
    "5.  Identificar, mostrar y eliminar las letras acentuadas sustituirlas por la misma letra sin acento\n",
    "6.  Identificar, mostrar y eliminar los números\n",
    "7.  Identificar y mostrar  todas las palabras que comience en Mayúscula\n",
    "8.  Identificar y mostrar todas las siglas encontradas en el texto, por ejemplo: SIDA, VIH, OMS, IAVI, GSK, etc.\n",
    "9.  Eliminar todas las palabras “stop words”1 del texto.  Se suministrar un archivo texto\n",
    "“stopwords_español.txt” con el listado de palabras en español.\n",
    "10. Contar cuantas veces aparece cada una de las palabras que quedan en el texto una vez\n",
    "realizada la normalización.\n",
    "11. Incluir el control de excepciones en los procesos donde abrimos los archivos de texto.\n",
    "\n"
   ]
  },
  {
   "cell_type": "markdown",
   "metadata": {},
   "source": [
    "### Librerías"
   ]
  },
  {
   "cell_type": "code",
   "execution_count": 1,
   "metadata": {},
   "outputs": [],
   "source": [
    "import os\n",
    "import sys\n",
    "# import re"
   ]
  },
  {
   "cell_type": "markdown",
   "metadata": {},
   "source": [
    "###  Variables y Constantes"
   ]
  },
  {
   "cell_type": "code",
   "execution_count": 2,
   "metadata": {},
   "outputs": [],
   "source": [
    "# Variables globales y constantes\n"
   ]
  },
  {
   "cell_type": "markdown",
   "metadata": {},
   "source": [
    "### Módulos y Funciones\n",
    "\n",
    "Importar los módulos y las funciones deben estar en un fichero **mis_funciones.py** y desde aqui debemos importarlas"
   ]
  },
  {
   "cell_type": "code",
   "execution_count": 3,
   "metadata": {},
   "outputs": [],
   "source": [
    "from funtions import mis_funciones as mf"
   ]
  },
  {
   "cell_type": "markdown",
   "metadata": {},
   "source": [
    "### Paso 1: Leer el archivo texto"
   ]
  },
  {
   "cell_type": "code",
   "execution_count": 4,
   "metadata": {
    "scrolled": true
   },
   "outputs": [],
   "source": [
    "try:\n",
    "    ruta_file = 'articulo.txt'\n",
    "    archivo = open(\"datos\\\\\"+ruta_file, encoding=\"utf8\") # EJCERCICIO 11 CONTROL DE EXCEPCIONES\n",
    "    articulo = archivo.read()\n",
    "    archivo.close()\n",
    "except IOError as error:\n",
    "    print('Problema con el fichero: {}.  {}'.format(ruta_file, error) )\n",
    "except:  # si es un error diferente a IOError\n",
    "    print(\"Error inesperado:\", sys.exc_info()[0])\n",
    "    raise"
   ]
  },
  {
   "cell_type": "markdown",
   "metadata": {},
   "source": [
    "### Paso 2: Contar cuantas palabras tiene el texto antes de preprocesarlo"
   ]
  },
  {
   "cell_type": "code",
   "execution_count": 5,
   "metadata": {},
   "outputs": [
    {
     "name": "stdout",
     "output_type": "stream",
     "text": [
      "La cantidad de palabras antes de ser procesado es de 413\n"
     ]
    }
   ],
   "source": [
    "cantidad_palablas_antes = len(mf.split_cadena(articulo))\n",
    "print(f\"La cantidad de palabras antes de ser procesado es de {cantidad_palablas_antes}\")"
   ]
  },
  {
   "cell_type": "markdown",
   "metadata": {},
   "source": [
    "### Paso 3: Convertir el texto Normalizado a minúsculas"
   ]
  },
  {
   "cell_type": "code",
   "execution_count": 6,
   "metadata": {},
   "outputs": [
    {
     "name": "stdout",
     "output_type": "stream",
     "text": [
      "tras un estudio de tres años realizado en adultos en áfrica, una inmunización experimental ha demostrado ser 50 por ciento efectiva para prevenir que la infección tuberculosa latente se convierta en una enfermedad activa.\n",
      " \n",
      "“puede convertirse en una herramienta clave para terminar con la epidemia”, ha señalado ann ginsberg, de la organización sin ánimo de lucro iavi, que junto a la farmacéutica gsk (glaxosmithkline) ha desarrollado la inmunización.\n",
      " \n",
      "la enfermedad pulmonar mata a más de 1,5 millones de personas al año y es la enfermedad infecciosa que más vidas humanas se cobra, principalmente en países pobres.\n",
      " \n",
      "a pesar de tener un tratamiento que funciona para la gran mayoría de los enfermos,  aproximadamente un tercio de las personas del mundo albergan las bacterias que la causan.\n",
      " \n",
      "los resultados del estudio fueron presentados en una conferencia en india, el país más afectado por la tuberculosis, y publicado por el new england journal of medicine.\n",
      " \n",
      "según han informado, la vacuna tiene eficacia limitada, ya que funcionó en la mitad de los casos, es solo efectiva entre las personas vih negativas que tienen la infección latente, y solo para la variante pulmonar que, eso sí, es con diferencia la más frecuente.\n",
      " \n",
      "fue probada en casi 3.600 adultos en kenia, sudáfrica y zambia que estaban infectados con tb pero que tampoco tenían vih, el virus que causa el sida. la mitad recibió dos dosis de vacuna con un mes de diferencia y el resto recibió vacunas falsas. trece personas en el grupo de vacuna y 26 en el otro grupo desarrollaron tb activa.\n",
      " \n",
      "los resultados muestran que \"la vacuna se está sosteniendo\" con el tiempo, y marcan un paso importante para tener una herramienta de prevención que se ha buscado durante 100 años, ha dicho paula fujiwara, directora científica de la unión internacional contra la tuberculosis y la enfermedad pulmonar.\n",
      " \n",
      "los planes están en marcha para otro estudio definitivo, que tomará al menos varios años más, ha añadido\n",
      " \n",
      "después de que se anunciaron los resultados, la organización mundial de la salud (oms) ha calificado la vacuna como un gran avance y ha estado celebrando reuniones para discutir cómo avanzar en su desarrollo.\n",
      " \n",
      "el dato\n",
      " \n",
      "en total actualmente existen 15 inmunizaciones en investigación. todas con características diferentes. ésta última tiene como diana a las personas con la bacteria latente, otras (como una de origen español que encara la fase 2b) van dirigidas a población que no la porta y, otras, a proteger a personas que han desarrollado la enfermedad.\n"
     ]
    }
   ],
   "source": [
    "todo_minusculas = mf.texto_en_minusculas(articulo)\n",
    "print(todo_minusculas)"
   ]
  },
  {
   "cell_type": "markdown",
   "metadata": {},
   "source": [
    "### Paso 4: Identificar, mostrar y eliminar signos de puntuación"
   ]
  },
  {
   "cell_type": "code",
   "execution_count": 7,
   "metadata": {},
   "outputs": [
    {
     "name": "stdout",
     "output_type": "stream",
     "text": [
      "Los signos de puntuación encontrados: \n",
      "[',', '.\\n', '\\n“', '”,', ',', ',', '(', ')', '.\\n', '\\n', ',', ',', '.\\n', '\\n', ',', '.\\n', '\\n', ',', ',', '.\\n', '\\n', ',', ',', ',', ',', ',', ',', '.\\n', '\\n', '.', ',', ',', '.', '.', '.\\n', '\\n', '\"', '\"', ',', ',', ',', '.\\n', '\\n', ',', ',', '\\n', '\\n', ',', '(', ')', '.\\n', '\\n', '\\n', '\\n', '.', '.', ',', '(', ')', ',', ',', '.'] \n",
      "\n",
      "Texto sin signos de puntuación: \n",
      " tras un estudio de tres años realizado en adultos en áfrica una inmunización experimental ha demostrado ser 50 por ciento efectiva para prevenir que la infección tuberculosa latente se convierta en una enfermedad activa puede convertirse en una herramienta clave para terminar con la epidemia ha señalado ann ginsberg de la organización sin ánimo de lucro iavi que junto a la farmacéutica gsk glaxosmithkline ha desarrollado la inmunización la enfermedad pulmonar mata a más de 1 5 millones de personas al año y es la enfermedad infecciosa que más vidas humanas se cobra principalmente en países pobres a pesar de tener un tratamiento que funciona para la gran mayoría de los enfermos aproximadamente un tercio de las personas del mundo albergan las bacterias que la causan los resultados del estudio fueron presentados en una conferencia en india el país más afectado por la tuberculosis y publicado por el new england journal of medicine según han informado la vacuna tiene eficacia limitada ya que funcionó en la mitad de los casos es solo efectiva entre las personas vih negativas que tienen la infección latente y solo para la variante pulmonar que eso sí es con diferencia la más frecuente fue probada en casi 3 600 adultos en kenia sudáfrica y zambia que estaban infectados con tb pero que tampoco tenían vih el virus que causa el sida la mitad recibió dos dosis de vacuna con un mes de diferencia y el resto recibió vacunas falsas trece personas en el grupo de vacuna y 26 en el otro grupo desarrollaron tb activa los resultados muestran que la vacuna se está sosteniendo con el tiempo y marcan un paso importante para tener una herramienta de prevención que se ha buscado durante 100 años ha dicho paula fujiwara directora científica de la unión internacional contra la tuberculosis y la enfermedad pulmonar los planes están en marcha para otro estudio definitivo que tomará al menos varios años más ha añadido después de que se anunciaron los resultados la organización mundial de la salud oms ha calificado la vacuna como un gran avance y ha estado celebrando reuniones para discutir cómo avanzar en su desarrollo el dato en total actualmente existen 15 inmunizaciones en investigación todas con características diferentes ésta última tiene como diana a las personas con la bacteria latente otras como una de origen español que encara la fase 2b van dirigidas a población que no la porta y otras a proteger a personas que han desarrollado la enfermedad\n"
     ]
    }
   ],
   "source": [
    "texto_no_signos = mf.elimina_signos_puntuacion(todo_minusculas)\n",
    "solo_signos = mf.elimina_signos_puntuacion(todo_minusculas, signos = True)\n",
    "print(f\"Los signos de puntuación encontrados: \\n{solo_signos} \\n\")\n",
    "print(f\"Texto sin signos de puntuación: \\n {texto_no_signos}\")"
   ]
  },
  {
   "cell_type": "markdown",
   "metadata": {},
   "source": [
    "### Paso 5: Identificar, mostrar y eliminar las letras acentuadas sustituirlas por la misma letra sin acento"
   ]
  },
  {
   "cell_type": "code",
   "execution_count": 8,
   "metadata": {},
   "outputs": [
    {
     "name": "stdout",
     "output_type": "stream",
     "text": [
      "['á', 'ó', 'ó', 'ó', 'á', 'é', 'ó', 'á', 'á', 'í', 'í', 'í', 'á', 'ú', 'ó', 'ó', 'í', 'á', 'á', 'í', 'ó', 'ó', 'á', 'ó', 'í', 'ó', 'á', 'á', 'á', 'é', 'ó', 'ó', 'ó', 'í', 'é', 'ú', 'ó'] \n",
      " \n",
      " tras un estudio de tres años realizado en adultos en africa una inmunizacion experimental ha demostrado ser 50 por ciento efectiva para prevenir que la infeccion tuberculosa latente se convierta en una enfermedad activa puede convertirse en una herramienta clave para terminar con la epidemia ha señalado ann ginsberg de la organizacion sin animo de lucro iavi que junto a la farmaceutica gsk glaxosmithkline ha desarrollado la inmunizacion la enfermedad pulmonar mata a mas de 1 5 millones de personas al año y es la enfermedad infecciosa que mas vidas humanas se cobra principalmente en paises pobres a pesar de tener un tratamiento que funciona para la gran mayoria de los enfermos aproximadamente un tercio de las personas del mundo albergan las bacterias que la causan los resultados del estudio fueron presentados en una conferencia en india el pais mas afectado por la tuberculosis y publicado por el new england journal of medicine segun han informado la vacuna tiene eficacia limitada ya que funciono en la mitad de los casos es solo efectiva entre las personas vih negativas que tienen la infeccion latente y solo para la variante pulmonar que eso si es con diferencia la mas frecuente fue probada en casi 3 600 adultos en kenia sudafrica y zambia que estaban infectados con tb pero que tampoco tenian vih el virus que causa el sida la mitad recibio dos dosis de vacuna con un mes de diferencia y el resto recibio vacunas falsas trece personas en el grupo de vacuna y 26 en el otro grupo desarrollaron tb activa los resultados muestran que la vacuna se esta sosteniendo con el tiempo y marcan un paso importante para tener una herramienta de prevencion que se ha buscado durante 100 años ha dicho paula fujiwara directora cientifica de la union internacional contra la tuberculosis y la enfermedad pulmonar los planes estan en marcha para otro estudio definitivo que tomara al menos varios años mas ha añadido despues de que se anunciaron los resultados la organizacion mundial de la salud oms ha calificado la vacuna como un gran avance y ha estado celebrando reuniones para discutir como avanzar en su desarrollo el dato en total actualmente existen 15 inmunizaciones en investigacion todas con caracteristicas diferentes esta ultima tiene como diana a las personas con la bacteria latente otras como una de origen español que encara la fase 2b van dirigidas a poblacion que no la porta y otras a proteger a personas que han desarrollado la enfermedad\n"
     ]
    }
   ],
   "source": [
    "letras_acentuadas = mf.letras_acentuadas(texto_no_signos , find = True)\n",
    "texto_sin_letras_acentuadas = mf.letras_acentuadas(texto_no_signos)\n",
    "print(f\"{letras_acentuadas}\", end= \" \\n \\n \")\n",
    "print(f\"{texto_sin_letras_acentuadas}\")"
   ]
  },
  {
   "cell_type": "markdown",
   "metadata": {},
   "source": [
    "### Paso 6: Identificar, mostrar y eliminar los números"
   ]
  },
  {
   "cell_type": "code",
   "execution_count": 9,
   "metadata": {},
   "outputs": [
    {
     "name": "stdout",
     "output_type": "stream",
     "text": [
      "['50', '1', '5', '3', '600', '26', '100', '15', '2'] \n",
      " \n",
      " tras un estudio de tres años realizado en adultos en africa una inmunizacion experimental ha demostrado ser  por ciento efectiva para prevenir que la infeccion tuberculosa latente se convierta en una enfermedad activa puede convertirse en una herramienta clave para terminar con la epidemia ha señalado ann ginsberg de la organizacion sin animo de lucro iavi que junto a la farmaceutica gsk glaxosmithkline ha desarrollado la inmunizacion la enfermedad pulmonar mata a mas de   millones de personas al año y es la enfermedad infecciosa que mas vidas humanas se cobra principalmente en paises pobres a pesar de tener un tratamiento que funciona para la gran mayoria de los enfermos aproximadamente un tercio de las personas del mundo albergan las bacterias que la causan los resultados del estudio fueron presentados en una conferencia en india el pais mas afectado por la tuberculosis y publicado por el new england journal of medicine segun han informado la vacuna tiene eficacia limitada ya que funciono en la mitad de los casos es solo efectiva entre las personas vih negativas que tienen la infeccion latente y solo para la variante pulmonar que eso si es con diferencia la mas frecuente fue probada en casi   adultos en kenia sudafrica y zambia que estaban infectados con tb pero que tampoco tenian vih el virus que causa el sida la mitad recibio dos dosis de vacuna con un mes de diferencia y el resto recibio vacunas falsas trece personas en el grupo de vacuna y  en el otro grupo desarrollaron tb activa los resultados muestran que la vacuna se esta sosteniendo con el tiempo y marcan un paso importante para tener una herramienta de prevencion que se ha buscado durante  años ha dicho paula fujiwara directora cientifica de la union internacional contra la tuberculosis y la enfermedad pulmonar los planes estan en marcha para otro estudio definitivo que tomara al menos varios años mas ha añadido despues de que se anunciaron los resultados la organizacion mundial de la salud oms ha calificado la vacuna como un gran avance y ha estado celebrando reuniones para discutir como avanzar en su desarrollo el dato en total actualmente existen  inmunizaciones en investigacion todas con caracteristicas diferentes esta ultima tiene como diana a las personas con la bacteria latente otras como una de origen español que encara la fase b van dirigidas a poblacion que no la porta y otras a proteger a personas que han desarrollado la enfermedad\n"
     ]
    }
   ],
   "source": [
    "numeros = mf.extrae_numeros(texto_sin_letras_acentuadas, number = True)\n",
    "texto_sin_numeros = mf.extrae_numeros(texto_sin_letras_acentuadas)\n",
    "print(numeros, end= \" \\n \\n \")\n",
    "print(f\"{texto_sin_numeros}\")"
   ]
  },
  {
   "cell_type": "markdown",
   "metadata": {},
   "source": [
    "### Paso 7: Identificar y mostrar  todas las palabras que comience en Mayúscula"
   ]
  },
  {
   "cell_type": "code",
   "execution_count": 10,
   "metadata": {},
   "outputs": [
    {
     "name": "stdout",
     "output_type": "stream",
     "text": [
      "['Tras', 'Puede', 'Ann', 'Ginsberg', 'Glaxo', 'Smith', 'Kline', 'La', 'Los', 'India', 'New', 'England', 'Journal', 'Medicine', 'Según', 'Fue', 'Kenia', 'Sudáfrica', 'Zambia', 'La', 'Trece', 'Los', 'Paula', 'Fujiwara', 'Unión', 'Internacional', 'Tuberculosis', 'Enfermedad', 'Pulmonar', 'Los', 'Después', 'Organización', 'Mundial', 'Salud', 'El', 'En', 'Todas']\n"
     ]
    }
   ],
   "source": [
    "palabras_mayusculas = mf.extrae_mayusculas(articulo)\n",
    "print(palabras_mayusculas)"
   ]
  },
  {
   "cell_type": "markdown",
   "metadata": {},
   "source": [
    "### Paso 8: Identificar y mostrar todas las siglas encontradas en el texto, por ejemplo: SIDA, VIH, OMS, IAVI, GSK, etc."
   ]
  },
  {
   "cell_type": "code",
   "execution_count": 11,
   "metadata": {},
   "outputs": [
    {
     "name": "stdout",
     "output_type": "stream",
     "text": [
      "['IAVI', 'GSK', 'VIH', 'TB', 'VIH', 'SIDA', 'TB', 'OMS']\n"
     ]
    }
   ],
   "source": [
    "siglas = mf.extrae_mayusculas(articulo, siglas= True)\n",
    "print(siglas)"
   ]
  },
  {
   "cell_type": "markdown",
   "metadata": {},
   "source": [
    "### Paso 9: Eliminar todas las palabras “stop words”1 del texto.  Se suministrar un archivo texto“stopwords_español.txt” con el listado de palabras en español."
   ]
  },
  {
   "cell_type": "code",
   "execution_count": 12,
   "metadata": {
    "scrolled": true
   },
   "outputs": [],
   "source": [
    "try:\n",
    "    r_file = 'stopwords_español.txt'\n",
    "    file = open(\"datos\\\\\"+r_file, encoding=\"utf8\") # PASO 11 CONTROL DE EXCEPCIONES \n",
    "    stop_words = file.read()\n",
    "    file.close()\n",
    "except IOError as error:\n",
    "    print('Problema con el fichero: {}.  {}'.format(r_file, error) )\n",
    "except:  # si es un error diferente a IOError\n",
    "    print(\"Error inesperado:\", sys.exc_info()[0])\n",
    "    raise"
   ]
  },
  {
   "cell_type": "code",
   "execution_count": 13,
   "metadata": {},
   "outputs": [
    {
     "name": "stdout",
     "output_type": "stream",
     "text": [
      "tras estudio tres años realizado adultos africa inmunizacion experimental demostrado ser ciento efectiva prevenir infeccion tuberculosa latente convierta enfermedad activa puede convertirse herramienta clave terminar epidemia señalado ann ginsberg organizacion animo lucro iavi junto farmaceutica gsk glaxosmithkline desarrollado inmunizacion enfermedad pulmonar mata millones personas año enfermedad infecciosa vidas humanas cobra principalmente paises pobres pesar tener tratamiento funciona gran mayoria enfermos aproximadamente tercio personas mundo albergan bacterias causan resultados estudio presentados conferencia india pais afectado tuberculosis publicado new england journal of medicine segun informado vacuna eficacia limitada funciono mitad casos solo efectiva personas vih negativas infeccion latente solo variante pulmonar diferencia frecuente probada casi adultos kenia sudafrica zambia infectados tb tampoco vih virus causa sida mitad recibio dos dosis vacuna mes diferencia resto recibio vacunas falsas trece personas grupo vacuna grupo desarrollaron tb activa resultados muestran vacuna sosteniendo tiempo marcan paso importante tener herramienta prevencion buscado años dicho paula fujiwara directora cientifica union internacional tuberculosis enfermedad pulmonar planes marcha estudio definitivo tomara menos varios años añadido despues anunciaron resultados organizacion mundial salud oms calificado vacuna gran avance celebrando reuniones discutir avanzar desarrollo dato total actualmente existen inmunizaciones investigacion todas caracteristicas diferentes ultima diana personas bacteria latente origen español encara fase b van dirigidas poblacion porta proteger personas desarrollado enfermedad\n",
      "\n",
      "La cantidad de palabras despues de ser procesado es de 208\n"
     ]
    }
   ],
   "source": [
    "texto_sin_tildes_stop_words = mf.letras_acentuadas(stop_words) # quita las tildes del las stop_words\n",
    "texto_filtrado_no_stop_words = mf.elimina_stop_words(texto_sin_numeros, texto_sin_tildes_stop_words) # devuelve el texto filtrado sin stop words\n",
    "cantidad_palablas = len(mf.split_cadena(texto_filtrado_no_stop_words))\n",
    "print(texto_filtrado_no_stop_words, end='\\n\\n')\n",
    "print(f\"La cantidad de palabras despues de ser procesado es de {cantidad_palablas}\")"
   ]
  },
  {
   "cell_type": "markdown",
   "metadata": {},
   "source": [
    "### Paso 10: Contar cuantas veces aparece cada una de las palabras que quedan en el texto una vez realizada la normalización."
   ]
  },
  {
   "cell_type": "code",
   "execution_count": 14,
   "metadata": {},
   "outputs": [
    {
     "name": "stdout",
     "output_type": "stream",
     "text": [
      "[('tras', 1), ('estudio', 3), ('tres', 1), ('años', 3), ('realizado', 1), ('adultos', 2), ('africa', 1), ('inmunizacion', 2), ('experimental', 1), ('demostrado', 1), ('ser', 1), ('ciento', 1), ('efectiva', 2), ('prevenir', 1), ('infeccion', 2), ('tuberculosa', 1), ('latente', 3), ('convierta', 1), ('enfermedad', 5), ('activa', 2), ('puede', 1), ('convertirse', 1), ('herramienta', 2), ('clave', 1), ('terminar', 1), ('epidemia', 1), ('señalado', 1), ('ann', 1), ('ginsberg', 1), ('organizacion', 2), ('animo', 1), ('lucro', 1), ('iavi', 1), ('junto', 1), ('farmaceutica', 1), ('gsk', 1), ('glaxosmithkline', 1), ('desarrollado', 2), ('pulmonar', 3), ('mata', 1), ('millones', 1), ('personas', 6), ('año', 1), ('infecciosa', 1), ('vidas', 1), ('humanas', 1), ('cobra', 1), ('principalmente', 1), ('paises', 1), ('pobres', 1), ('pesar', 1), ('tener', 2), ('tratamiento', 1), ('funciona', 1), ('gran', 2), ('mayoria', 1), ('enfermos', 1), ('aproximadamente', 1), ('tercio', 1), ('mundo', 1), ('albergan', 1), ('bacterias', 1), ('causan', 1), ('resultados', 3), ('presentados', 1), ('conferencia', 1), ('india', 1), ('pais', 1), ('afectado', 1), ('tuberculosis', 2), ('publicado', 1), ('new', 1), ('england', 1), ('journal', 1), ('of', 1), ('medicine', 1), ('segun', 1), ('informado', 1), ('vacuna', 5), ('eficacia', 1), ('limitada', 1), ('funciono', 1), ('mitad', 2), ('casos', 1), ('solo', 2), ('vih', 2), ('negativas', 1), ('variante', 1), ('diferencia', 2), ('frecuente', 1), ('probada', 1), ('casi', 1), ('kenia', 1), ('sudafrica', 1), ('zambia', 1), ('infectados', 1), ('tb', 2), ('tampoco', 1), ('virus', 1), ('causa', 1), ('sida', 1), ('recibio', 2), ('dos', 1), ('dosis', 1), ('mes', 1), ('resto', 1), ('vacunas', 1), ('falsas', 1), ('trece', 1), ('grupo', 2), ('desarrollaron', 1), ('muestran', 1), ('sosteniendo', 1), ('tiempo', 1), ('marcan', 1), ('paso', 1), ('importante', 1), ('prevencion', 1), ('buscado', 1), ('dicho', 1), ('paula', 1), ('fujiwara', 1), ('directora', 1), ('cientifica', 1), ('union', 1), ('internacional', 1), ('planes', 1), ('marcha', 1), ('definitivo', 1), ('tomara', 1), ('menos', 1), ('varios', 1), ('añadido', 1), ('despues', 1), ('anunciaron', 1), ('mundial', 1), ('salud', 1), ('oms', 1), ('calificado', 1), ('avance', 1), ('celebrando', 1), ('reuniones', 1), ('discutir', 1), ('avanzar', 1), ('desarrollo', 1), ('dato', 1), ('total', 1), ('actualmente', 1), ('existen', 1), ('inmunizaciones', 1), ('investigacion', 1), ('todas', 1), ('caracteristicas', 1), ('diferentes', 1), ('ultima', 1), ('diana', 1), ('bacteria', 1), ('origen', 1), ('español', 1), ('encara', 1), ('fase', 1), ('b', 1), ('van', 1), ('dirigidas', 1), ('poblacion', 1), ('porta', 1), ('proteger', 1)]\n"
     ]
    }
   ],
   "source": [
    "cantidad_x_palabra = mf.contar_palabras(texto_filtrado_no_stop_words)\n",
    "print(cantidad_x_palabra)"
   ]
  },
  {
   "cell_type": "markdown",
   "metadata": {},
   "source": [
    "### Paso 11: Incluir el control de excepciones en los procesos donde abrimos los archivos de texto."
   ]
  },
  {
   "cell_type": "markdown",
   "metadata": {},
   "source": [
    "Las excepciones fueron incluidas en paso 1 y el paso 9"
   ]
  },
  {
   "cell_type": "markdown",
   "metadata": {},
   "source": [
    "## Análisis de Sentimientos\n",
    "\n",
    "### Paso 1: Cree una función que reciba como parámetro un texto y retorne el mismo texto en minúscula\n"
   ]
  },
  {
   "cell_type": "code",
   "execution_count": 15,
   "metadata": {},
   "outputs": [],
   "source": [
    "try:\n",
    "    s_weets_file = 'sentweets_esp.txt'\n",
    "    file_s = open(\"datos\\\\\"+s_weets_file, encoding=\"utf8\") # PASO 11 CONTROL DE EXCEPCIONES \n",
    "    sentweets = file_s.read(10000)\n",
    "    file_s.close()\n",
    "except IOError as error:\n",
    "    print('Problema con el fichero: {}.  {}'.format(file_s, error) )\n",
    "except:  # si es un error diferente a IOError\n",
    "    print(\"Error inesperado:\", sys.exc_info()[0])\n",
    "    raise"
   ]
  },
  {
   "cell_type": "code",
   "execution_count": 16,
   "metadata": {
    "collapsed": true
   },
   "outputs": [
    {
     "name": "stdout",
     "output_type": "stream",
     "text": [
      "¿quieres saber cómo hacer una aplicación para android wear? te lo explicamos &gt; http://t.co/ijgcikigvm http://t.co/tuzhu3wrhx\n",
      "a veer que tal :d http://t.co/lzuoezecys\n",
      "jajaja :d como les encanta trolear cuando alguno no se conecta :p jajaja https://t.co/caam5pnhwp\n",
      "mirando los simpson :d\n",
      "tu teléfono android permanecerá desbloqueado mientras lo lleves encima - http://t.co/lizbxxblsj http://t.co/mdgezhaudv\n",
      "#sextapelarry.-larry es real?.-harry: no, pero tuvimos algo.me conformo :d.#mtvhottest one direction http://t.co/n6tfvc6wbb\n",
      "@vtvcanal8 @jorgerpsuv no desmayen. aqui hay pueblo. aqui hay guerreros y guerreras, dispuestos y en serio, no es juego.\n",
      "5 aplicaciones para tomar fotografías de larga exposición con tu android http://t.co/4ybzfm4vn5 http://t.co/phi76qpv5j\n",
      "¡ya estamos preparados para #gobernarparalamayoría! #centroparati http://t.co/a1tsba1yot\n",
      "yo me la juego con federico, porque no quiere un pueblo manso para administrar, sino una ciudadanía educada que proponga. @ficogutierrez\n",
      "¿por qué el ingeniero eléctrico llama a todo el mundo cuando esta estresado?   ..-porque en una conexión en serie, la tensión se divide.\n",
      "la agencia espacial europea decide prolongar la misión de la sonda rosetta #ciencia http://t.co/z4ro3vqjpc http://t.co/6tkr4gxrcw\n",
      "no debo quejarme por tener que leer más de 100 páginas semanales, son poquitas. no llevo mate :d\n",
      "layout, la app de instagram para hacer bonitos collages - http://t.co/e5vjanlp52 http://t.co/htci2leqve\n",
      "el twitter mi desestresante :d\n",
      "@ivanasolange2 de bronca los iba a bloquiar a todos jaja !! pero me acorde que la pase mejor que ellos llendo a jugar y se me paso jaja :p\n",
      "17/18j: la #uam en bruselas: jornada de puertas abiertas para la presentación de ópera. entrada libre http://t.co/cvfkugtzbz [pdf]\n",
      "\"han intentado poner las instituciones al servicio del pp. ¿acordó algún pacto de silencio con él?\" @antoniotrevin http://t.co/qssd67pwcg\n",
      "desde lo más alto!! wipeout | minecraft race map: http://t.co/wcwismylle vía @youtube\n",
      "¿veinte millones de vistas, eh? 😌 ¡felicidades! 👏🏻🎶💚 @willyrexyt http://t.co/zaysvhum2l\n",
      "estoy cansadisimo... marcho a la cama ✌️ buenas noches http://t.co/qotatb1nbz\n",
      "\"el gobierno griego hizo una propuesta de recortes en grandes fortunas en vez de una subida de iva, europa no quiere\"@ierrejon #errejónenrne\n",
      "es el momento de ver cómo y hacia donde aumentó la deuda de manera escandalosa del pp durante los últimos 8 años. http://t.co/au0phcwq58\n",
      "@vegetta777 le escucho gritar cual king kong desde mi habitación xdddd\n",
      "mi nombre se va a marte en la próxima misión de la nasa :d http://t.co/rw3qjnheuc\n",
      "@celopanyt van a rodar juego de tronos en girona :d\n",
      "hoy pintó un hermoso día, de la puta madre :d\n",
      "publicada convocatoria de posgrado en la unidad de tecnologías para la educación (solicitud: 18m) &gt; http://t.co/iwqwjr699z @uam_madrid\n",
      "@pablofenty_ vete a la fer....aaaaaaaaay si eres menor :d\n",
      "apuntad la fecha: galaxy note 5 y s6 edge+ verían la luz el 13 de agosto http://t.co/bvv4hlnint http://t.co/autjoxchds\n",
      "\"cualquier gobierno decente que tiene un ministro que se reune con un corrupto tiene que cesarlo\" @taniagonzalezps #l6nfdezdíaz\n",
      "¡estamos retransmitiendo en directo far cry 4! síguenos aquí: http://t.co/bqbmlo3jpl http://t.co/7alqfjlzxs\n",
      "yo esperando a que me den follow... jejjr #felizmiercoles #miercolesdeganarseguidores #casiviernes http://t.co/7ungyna7gq\n",
      "astronomía y medicina &gt;&gt;&gt; los 4 avances espaciales que han revolucionado la medicina http://t.co/bacnl2mywe http://t.co/v2m9gm6hep\n",
      "@sendohpwnz eso esta claro. pero si un juego sale malo en pc te da lo mismo tener un pc de 3000€ que no vas a poder jugar. y ubisoft hace\n",
      "el coche más rápido del mundo hará su debut en noviembre (video) - http://t.co/nv2dgqfstk http://t.co/yknzkdiaud\n",
      "¿cómo? ¿que aún no lo has hecho? corre a votar en #unasprimariasparaganar entrando en http://t.co/rmvzquccjq\n",
      "el episodio 2 de ark estará hoy un pelín más tarde :s bueno en realidad 2h más tarde xd podeis ir viendo el de gta^^ https://t.co/aryqwic7df\n",
      "vídeo: utilizan un dron para garabatear una valla publicitaria gigante en nueva york — http://t.co/6ql8ipqpva http://t.co/dskxqddptl\n",
      "anda que han tardado en reaccionar a la \"amenaza\" tesla http://t.co/wyklah5vj7 vergonzoso!!\n",
      "hdp insomnio :(\n",
      "@yohantevez loquitaa linda! que bien la pasamos :d\n",
      "goooooooooooooooooooooooooooooooooooooooooooooooooooooooooooollllllazo lucho!!!!!! :d\n",
      "cuando estés triste porque perdiste a un amigo, recuerda… nadie perdió tantos  ents queridos como bárbol.\n",
      ".@pumasmx en 2do. :d  https://t.co/fdkn4olps9\n",
      "@snatdvd \"de los antiguos\" querrás decir ;-)\n",
      "mi amiga a la mas linda esta aca y te quiero aunque seas feo :d , by : nicool\n",
      "país corrupto y gente comprando votos ..mejor me voy a narnia :d 󾍊󾍊✌󾮟\n",
      "este pc personalizado de minecraft es perfecto para los fans del juego http://t.co/ek9f9xwlkh\n",
      "vídeo en 360º grabado en un p-51 mustang con un f-22 como escolta. [eng] https://t.co/mc27jmpefz http://t.co/sfdcru3jwc\n",
      "@hyperkynetic si me los traes a la consulta del médico te querría para siempre 😁 que estoy en ayunas por sacarme sangre :(\n",
      "lola tidora :d #aldubloveontop\n",
      "enpezando el aire respirando aire fresco en la montaña! http://t.co/rmmn5sabyo http://t.co/2c81ogmxgd\n",
      "¿cuanto cuesta llegar a fabricar un nuevo medicamento? http://t.co/tdqfcbhsxl http://t.co/9o945zepbc\n",
      "soy taaan forraa .. me encanttaaaaa :d\n",
      "tres universidades españolas @uam_madrid @uc3m @upv se suman a la plataforma docente del mit y harvard http://t.co/rrd9gsd6co\n",
      "¿tenéis ya vuestra foto de howard con el traje espacial dedicada? http://t.co/na4kdxjq\n",
      "@david05ju jajaajja ira iraa :d\n",
      "eso suena muy bien.\n",
      "este pc personalizado de minecraft es perfecto para los fans del juego … http://t.co/mexndhjb3p http://t.co/tmj2fitxmo\n",
      "@shion561 yo igual, dios es que si tu vieras las horas que le he dedicado a ese juego.. viendo videos y jugandolo.\n",
      "magic leap a punto de hacerse realidad, ¿más cerca de google glass 2?  http://t.co/ausybvsmf4 http://t.co/6a0jqq1kax\n",
      "que maza este celu :d\n",
      "remilia, la primera mujer en la lcs, abandona la competición tras el acoso sufrido https://t.co/vzp7yb0wl3 http://t.co/wiyu2hjzvn\n",
      "http://t.co/gvjulno0vo este pc personalizado de minecraft es perfecto para los fans del juego #tech #news\n",
      "fiebre de narcóticos!! ark: survival evolved #5 temporada 2: http://t.co/eaexzyudfn vía @youtube\n",
      "jugar eternamente el juego limpio de la seduccion #ricardomontaner\n",
      "científicos afirman que cuando las mujeres se toman fotos en grupo, la gravedad se hace mucho más fuerte. http://t.co/wxa9hl08hn\n",
      "escucha la entrevista íntegra mariano rajoy en la mañana http://t.co/8aw6tbnmp0 #rajoyencope\n",
      "#cursouam: formación y actualización en enseñanza de ele. inscripción ampliada hasta 26/06 https://t.co/baemwswntf http://t.co/inhujqyke4\n",
      "controlar el teléfono sin manos ya es posible con sesame - http://t.co/klkexwitlh http://t.co/4pteg2are2\n",
      "mailbox para mac (beta) ya está abierta para todo el mundo - http://t.co/0kltbaxou9 http://t.co/ibbhatosus\n",
      "en china, si eres mujer soltera, tus óvulos no te pertenecen https://t.co/bbz3xoijuq http://t.co/c7x88dazvz\n",
      "rompi el record de estar 1 mes y medio sin comer puflitos :d.tengo el re vicio con eso ,mm jajaja\n",
      "convertir marte en una nueva tierra es el próximo objetivo de darpa http://t.co/osj0bpud3h o.o http://t.co/owrknjivpq\n",
      "carta de @dbravo representando a los @ponybravo enviada a la #sgae sobre creative commons: http://t.co/yywupwep\n",
      "tengo que hacerme un lugarsito y salir a correr.. .me acompaña axel :d\n",
      "el cine mortal!! | garry`s mod (trouble in terrorist town) #71: https://t.co/v3yszg16hi vía @youtube\n",
      "@nramoneromero https://t.co/y9tlhfa0gw este es uno de mis videos,seguro que te gusta,suscríbete por favor,muchas gracias :d\n",
      "la genética de los \"superhéroes\" http://t.co/ebyhwnryxx http://t.co/2wsqgu066o\n",
      "el nuevo nexus de lg vuelve a asomar la patita, esta vez con una funda http://t.co/qpqneyfw8p http://t.co/eyrhxo2g0m\n",
      "julio durán, ex futbolista de la @udlp_oficial y at de madrid en @laautonomica : \"es mejor jugar pronto contra los grandes\".\n",
      "¿tenéis vuestro #cv a punto? se acerca la semana de la empleabilidad #uam (23-27 feb): http://t.co/xdiyinkk6c #empleo http://t.co/ejqqd0ntyi\n",
      "@jccadena7 https://t.co/y9tlhfa0gw este es uno de mis videos,seguro que te gusta,suscríbete por favor,muchas gracias :d\n",
      "nuestro #ff a tod@s los donantes de esta semana pero seguimos necesitando 0 pos y a pos #madrid #donasangre . gracias http://t.co/a6qcoothsf\n",
      "@fzadikian @vegetta777 huy! pobrecita vakypandy, que la pasa? xd\n",
      "@marzipankoala @fariflux yo tengo el hd419. y suena demasiado bien. con noise isolation :d\n",
      ".@garciapage: \"mi apoyo a las organizaciones que representan a los trabajadores que injustamente han sido maltratadas e insultadas”.\n",
      "ella con su estado de whatsapp *-* jeje re tiernaa :3 awww amoor &lt;3 te amoo...!!!! :d http://t.co/fhw8djgsbl\n",
      "se trata de rescatar personas, insertarlas en la sociedad y en el mercado laboral. luisa carcedo #invertirenpersonas http://t.co/a7iaq9bjgv\n",
      "@vane_ohinggins 1,68 y 66 kg. imc: 23.8. no soy gordo, amica. :p\n",
      ".@gonzalezpons \"el pp tiene un límite de hasta 20 millones de euros y nos gastaremos menos\" #l6ncallepons\n",
      "\"es fundamental la transparencia para los cargos públicos, saber qué se cobra, por qué y de dónde procede\" @ainhat en @elprogramadear\n",
      "ya disponible el link de os x yosemite (aunque todavía no aparece en la app store) - http://t.co/mm3hftkrnp http://t.co/ybiwfcfl8d\n",
      "@soylaalejandra_ @cordovachejo65jaja lo siento crei k lo abía escrito bn ale mis victimas va wuajaja :´) jajj pero aun asi me extrañaran\n",
      "@sanchezcastejon el futuro que queremos no es la sanidad privada o un 20%de niños en riesgo pobreza #digosívotopsoe http://t.co/nnrdg4gn9b\n",
      "matemáticas: xperia m4 aqua de 8 gb solo tiene 1,26 libres - http://t.co/ndbef624wh http://t.co/di00xohj1j\n",
      "mr. monopoly yo quiero ser el #pasajeromonopoly por qué sí en juego puedo ir a muchos países en la vida real igual @aeromexico\n",
      "y ahora lloviendo :d\n",
      "ahora te regalan un deoxys chetao en el mismo juego, ni siquiera tienes q descargartelo... me \n"
     ]
    }
   ],
   "source": [
    "txt_minusculas = mf.texto_en_minusculas(sentweets)\n",
    "print(txt_minusculas)"
   ]
  },
  {
   "cell_type": "markdown",
   "metadata": {},
   "source": [
    "### Paso 2: Crear una o más funciones reciba como parámetro un texto, retorne los signos de puntuación encontrados en el texto y retorne el texto sin los signos de puntuación."
   ]
  },
  {
   "cell_type": "code",
   "execution_count": 17,
   "metadata": {
    "collapsed": true
   },
   "outputs": [
    {
     "name": "stdout",
     "output_type": "stream",
     "text": [
      "['¿', '?', '&', ';', '://', '.', '/', '\\n', ':', '-', '\\n#', '.-', '?.-', ',', '.#', '\\n@', '@', '.\\n', '\\n¡', '#', '!', '\\n¿', '..-', '!!', '[', ']\\n\"', '?\"', '😌', '¡', '👏🏻🎶💚', '...', '✌️', '\\n\"', '\"@', '(', ')', '....', '+', '\"', ';&', '€', '^^', '—', '!!\\n', ':(\\n@', '!!!!!!', '…', '.\\n.@', ';-)\\n', '..', '\\U000fe34a\\U000fe34a✌\\U000feb9f\\n', ']', '😁', ':(\\n', '`', '\".\\n¿', '):', '\\n.@', '”.\\n', '*-*', '...!!!!', ':´)', '%'] \n",
      " \n",
      " quieres saber cómo hacer una aplicación para android wear te lo explicamos gt http t co ijgcikigvm http t co tuzhu3wrhx a veer que tal d http t co lzuoezecys jajaja d como les encanta trolear cuando alguno no se conecta p jajaja https t co caam5pnhwp mirando los simpson d tu teléfono android permanecerá desbloqueado mientras lo lleves encima http t co lizbxxblsj http t co mdgezhaudv sextapelarry larry es real harry no pero tuvimos algo me conformo d mtvhottest one direction http t co n6tfvc6wbb vtvcanal8 jorgerpsuv no desmayen aqui hay pueblo aqui hay guerreros y guerreras dispuestos y en serio no es juego 5 aplicaciones para tomar fotografías de larga exposición con tu android http t co 4ybzfm4vn5 http t co phi76qpv5j ya estamos preparados para gobernarparalamayoría centroparati http t co a1tsba1yot yo me la juego con federico porque no quiere un pueblo manso para administrar sino una ciudadanía educada que proponga ficogutierrez por qué el ingeniero eléctrico llama a todo el mundo cuando esta estresado porque en una conexión en serie la tensión se divide la agencia espacial europea decide prolongar la misión de la sonda rosetta ciencia http t co z4ro3vqjpc http t co 6tkr4gxrcw no debo quejarme por tener que leer más de 100 páginas semanales son poquitas no llevo mate d layout la app de instagram para hacer bonitos collages http t co e5vjanlp52 http t co htci2leqve el twitter mi desestresante d ivanasolange2 de bronca los iba a bloquiar a todos jaja pero me acorde que la pase mejor que ellos llendo a jugar y se me paso jaja p 17 18j la uam en bruselas jornada de puertas abiertas para la presentación de ópera entrada libre http t co cvfkugtzbz pdf han intentado poner las instituciones al servicio del pp acordó algún pacto de silencio con él antoniotrevin http t co qssd67pwcg desde lo más alto wipeout | minecraft race map http t co wcwismylle vía youtube veinte millones de vistas eh felicidades willyrexyt http t co zaysvhum2l estoy cansadisimo marcho a la cama buenas noches http t co qotatb1nbz el gobierno griego hizo una propuesta de recortes en grandes fortunas en vez de una subida de iva europa no quiere ierrejon errejónenrne es el momento de ver cómo y hacia donde aumentó la deuda de manera escandalosa del pp durante los últimos 8 años http t co au0phcwq58 vegetta777 le escucho gritar cual king kong desde mi habitación xdddd mi nombre se va a marte en la próxima misión de la nasa d http t co rw3qjnheuc celopanyt van a rodar juego de tronos en girona d hoy pintó un hermoso día de la puta madre d publicada convocatoria de posgrado en la unidad de tecnologías para la educación solicitud 18m gt http t co iwqwjr699z uam_madrid pablofenty_ vete a la fer aaaaaaaaay si eres menor d apuntad la fecha galaxy note 5 y s6 edge verían la luz el 13 de agosto http t co bvv4hlnint http t co autjoxchds cualquier gobierno decente que tiene un ministro que se reune con un corrupto tiene que cesarlo taniagonzalezps l6nfdezdíaz estamos retransmitiendo en directo far cry 4 síguenos aquí http t co bqbmlo3jpl http t co 7alqfjlzxs yo esperando a que me den follow jejjr felizmiercoles miercolesdeganarseguidores casiviernes http t co 7ungyna7gq astronomía y medicina gt gt gt los 4 avances espaciales que han revolucionado la medicina http t co bacnl2mywe http t co v2m9gm6hep sendohpwnz eso esta claro pero si un juego sale malo en pc te da lo mismo tener un pc de 3000 que no vas a poder jugar y ubisoft hace el coche más rápido del mundo hará su debut en noviembre video http t co nv2dgqfstk http t co yknzkdiaud cómo que aún no lo has hecho corre a votar en unasprimariasparaganar entrando en http t co rmvzquccjq el episodio 2 de ark estará hoy un pelín más tarde s bueno en realidad 2h más tarde xd podeis ir viendo el de gta https t co aryqwic7df vídeo utilizan un dron para garabatear una valla publicitaria gigante en nueva york http t co 6ql8ipqpva http t co dskxqddptl anda que han tardado en reaccionar a la amenaza tesla http t co wyklah5vj7 vergonzoso hdp insomnio yohantevez loquitaa linda que bien la pasamos d goooooooooooooooooooooooooooooooooooooooooooooooooooooooooooollllllazo lucho d cuando estés triste porque perdiste a un amigo recuerda nadie perdió tantos ents queridos como bárbol pumasmx en 2do d https t co fdkn4olps9 snatdvd de los antiguos querrás decir mi amiga a la mas linda esta aca y te quiero aunque seas feo d by nicool país corrupto y gente comprando votos mejor me voy a narnia d este pc personalizado de minecraft es perfecto para los fans del juego http t co ek9f9xwlkh vídeo en 360º grabado en un p 51 mustang con un f 22 como escolta eng https t co mc27jmpefz http t co sfdcru3jwc hyperkynetic si me los traes a la consulta del médico te querría para siempre que estoy en ayunas por sacarme sangre lola tidora d aldubloveontop enpezando el aire respirando aire fresco en la montaña http t co rmmn5sabyo http t co 2c81ogmxgd cuanto cuesta llegar a fabricar un nuevo medicamento http t co tdqfcbhsxl http t co 9o945zepbc soy taaan forraa me encanttaaaaa d tres universidades españolas uam_madrid uc3m upv se suman a la plataforma docente del mit y harvard http t co rrd9gsd6co tenéis ya vuestra foto de howard con el traje espacial dedicada http t co na4kdxjq david05ju jajaajja ira iraa d eso suena muy bien este pc personalizado de minecraft es perfecto para los fans del juego http t co mexndhjb3p http t co tmj2fitxmo shion561 yo igual dios es que si tu vieras las horas que le he dedicado a ese juego viendo videos y jugandolo magic leap a punto de hacerse realidad más cerca de google glass 2 http t co ausybvsmf4 http t co 6a0jqq1kax que maza este celu d remilia la primera mujer en la lcs abandona la competición tras el acoso sufrido https t co vzp7yb0wl3 http t co wiyu2hjzvn http t co gvjulno0vo este pc personalizado de minecraft es perfecto para los fans del juego tech news fiebre de narcóticos ark survival evolved 5 temporada 2 http t co eaexzyudfn vía youtube jugar eternamente el juego limpio de la seduccion ricardomontaner científicos afirman que cuando las mujeres se toman fotos en grupo la gravedad se hace mucho más fuerte http t co wxa9hl08hn escucha la entrevista íntegra mariano rajoy en la mañana http t co 8aw6tbnmp0 rajoyencope cursouam formación y actualización en enseñanza de ele inscripción ampliada hasta 26 06 https t co baemwswntf http t co inhujqyke4 controlar el teléfono sin manos ya es posible con sesame http t co klkexwitlh http t co 4pteg2are2 mailbox para mac beta ya está abierta para todo el mundo http t co 0kltbaxou9 http t co ibbhatosus en china si eres mujer soltera tus óvulos no te pertenecen https t co bbz3xoijuq http t co c7x88dazvz rompi el record de estar 1 mes y medio sin comer puflitos d tengo el re vicio con eso mm jajaja convertir marte en una nueva tierra es el próximo objetivo de darpa http t co osj0bpud3h o o http t co owrknjivpq carta de dbravo representando a los ponybravo enviada a la sgae sobre creative commons http t co yywupwep tengo que hacerme un lugarsito y salir a correr me acompaña axel d el cine mortal | garry s mod trouble in terrorist town 71 https t co v3yszg16hi vía youtube nramoneromero https t co y9tlhfa0gw este es uno de mis videos seguro que te gusta suscríbete por favor muchas gracias d la genética de los superhéroes http t co ebyhwnryxx http t co 2wsqgu066o el nuevo nexus de lg vuelve a asomar la patita esta vez con una funda http t co qpqneyfw8p http t co eyrhxo2g0m julio durán ex futbolista de la udlp_oficial y at de madrid en laautonomica es mejor jugar pronto contra los grandes tenéis vuestro cv a punto se acerca la semana de la empleabilidad uam 23 27 feb http t co xdiyinkk6c empleo http t co ejqqd0ntyi jccadena7 https t co y9tlhfa0gw este es uno de mis videos seguro que te gusta suscríbete por favor muchas gracias d nuestro ff a tod s los donantes de esta semana pero seguimos necesitando 0 pos y a pos madrid donasangre gracias http t co a6qcoothsf fzadikian vegetta777 huy pobrecita vakypandy que la pasa xd marzipankoala fariflux yo tengo el hd419 y suena demasiado bien con noise isolation d garciapage mi apoyo a las organizaciones que representan a los trabajadores que injustamente han sido maltratadas e insultadas ella con su estado de whatsapp jeje re tiernaa 3 awww amoor lt 3 te amoo d http t co fhw8djgsbl se trata de rescatar personas insertarlas en la sociedad y en el mercado laboral luisa carcedo invertirenpersonas http t co a7iaq9bjgv vane_ohinggins 1 68 y 66 kg imc 23 8 no soy gordo amica p gonzalezpons el pp tiene un límite de hasta 20 millones de euros y nos gastaremos menos l6ncallepons es fundamental la transparencia para los cargos públicos saber qué se cobra por qué y de dónde procede ainhat en elprogramadear ya disponible el link de os x yosemite aunque todavía no aparece en la app store http t co mm3hftkrnp http t co ybiwfcfl8d soylaalejandra_ cordovachejo65jaja lo siento crei k lo abía escrito bn ale mis victimas va wuajaja jajj pero aun asi me extrañaran sanchezcastejon el futuro que queremos no es la sanidad privada o un 20 de niños en riesgo pobreza digosívotopsoe http t co nnrdg4gn9b matemáticas xperia m4 aqua de 8 gb solo tiene 1 26 libres http t co ndbef624wh http t co di00xohj1j mr monopoly yo quiero ser el pasajeromonopoly por qué sí en juego puedo ir a muchos países en la vida real igual aeromexico y ahora lloviendo d ahora te regalan un deoxys chetao en el mismo juego ni siquiera tienes q descargartelo me\n"
     ]
    }
   ],
   "source": [
    "texto_sin_signos = mf.elimina_signos_puntuacion(txt_minusculas)\n",
    "signos = mf.elimina_repetidos(mf.elimina_signos_puntuacion(txt_minusculas, signos = True))\n",
    "print(signos, end= \" \\n \\n \")\n",
    "print(texto_sin_signos)"
   ]
  },
  {
   "cell_type": "markdown",
   "metadata": {},
   "source": [
    "### Paso 3: Crear una función que reciba como parámetros un texto, retorne las letras con acento que encontró en el texto y retorne un nuevo texto (donde sustituya la letra acentuada por la misma letra sin acento "
   ]
  },
  {
   "cell_type": "code",
   "execution_count": 18,
   "metadata": {
    "collapsed": true
   },
   "outputs": [
    {
     "name": "stdout",
     "output_type": "stream",
     "text": [
      "['ó', 'ó', 'é', 'á', 'í', 'ó', 'í', 'í', 'é', 'é', 'ó', 'ó', 'ó', 'á', 'á', 'ó', 'ó', 'ó', 'ú', 'é', 'á', 'í', 'ó', 'ó', 'ó', 'ú', 'ó', 'ó', 'ó', 'ó', 'í', 'í', 'ó', 'í', 'í', 'í', 'í', 'í', 'á', 'á', 'á', 'ó', 'ú', 'á', 'í', 'á', 'á', 'í', 'é', 'ó', 'á', 'á', 'í', 'í', 'é', 'í', 'é', 'á', 'ó', 'ó', 'í', 'í', 'á', 'í', 'ó', 'ó', 'ó', 'é', 'á', 'ó', 'ó', 'í', 'í', 'é', 'é', 'á', 'é', 'í', 'í', 'ú', 'é', 'é', 'ó', 'í', 'í', 'í', 'á', 'é', 'í', 'í'] \n",
      " \n",
      " quieres saber como hacer una aplicacion para android wear te lo explicamos gt http t co ijgcikigvm http t co tuzhu3wrhx a veer que tal d http t co lzuoezecys jajaja d como les encanta trolear cuando alguno no se conecta p jajaja https t co caam5pnhwp mirando los simpson d tu telefono android permanecera desbloqueado mientras lo lleves encima http t co lizbxxblsj http t co mdgezhaudv sextapelarry larry es real harry no pero tuvimos algo me conformo d mtvhottest one direction http t co n6tfvc6wbb vtvcanal8 jorgerpsuv no desmayen aqui hay pueblo aqui hay guerreros y guerreras dispuestos y en serio no es juego 5 aplicaciones para tomar fotografias de larga exposicion con tu android http t co 4ybzfm4vn5 http t co phi76qpv5j ya estamos preparados para gobernarparalamayoria centroparati http t co a1tsba1yot yo me la juego con federico porque no quiere un pueblo manso para administrar sino una ciudadania educada que proponga ficogutierrez por que el ingeniero electrico llama a todo el mundo cuando esta estresado porque en una conexion en serie la tension se divide la agencia espacial europea decide prolongar la mision de la sonda rosetta ciencia http t co z4ro3vqjpc http t co 6tkr4gxrcw no debo quejarme por tener que leer mas de 100 paginas semanales son poquitas no llevo mate d layout la app de instagram para hacer bonitos collages http t co e5vjanlp52 http t co htci2leqve el twitter mi desestresante d ivanasolange2 de bronca los iba a bloquiar a todos jaja pero me acorde que la pase mejor que ellos llendo a jugar y se me paso jaja p 17 18j la uam en bruselas jornada de puertas abiertas para la presentacion de opera entrada libre http t co cvfkugtzbz pdf han intentado poner las instituciones al servicio del pp acordo algun pacto de silencio con el antoniotrevin http t co qssd67pwcg desde lo mas alto wipeout | minecraft race map http t co wcwismylle via youtube veinte millones de vistas eh felicidades willyrexyt http t co zaysvhum2l estoy cansadisimo marcho a la cama buenas noches http t co qotatb1nbz el gobierno griego hizo una propuesta de recortes en grandes fortunas en vez de una subida de iva europa no quiere ierrejon errejonenrne es el momento de ver como y hacia donde aumento la deuda de manera escandalosa del pp durante los ultimos 8 años http t co au0phcwq58 vegetta777 le escucho gritar cual king kong desde mi habitacion xdddd mi nombre se va a marte en la proxima mision de la nasa d http t co rw3qjnheuc celopanyt van a rodar juego de tronos en girona d hoy pinto un hermoso dia de la puta madre d publicada convocatoria de posgrado en la unidad de tecnologias para la educacion solicitud 18m gt http t co iwqwjr699z uam_madrid pablofenty_ vete a la fer aaaaaaaaay si eres menor d apuntad la fecha galaxy note 5 y s6 edge verian la luz el 13 de agosto http t co bvv4hlnint http t co autjoxchds cualquier gobierno decente que tiene un ministro que se reune con un corrupto tiene que cesarlo taniagonzalezps l6nfdezdiaz estamos retransmitiendo en directo far cry 4 siguenos aqui http t co bqbmlo3jpl http t co 7alqfjlzxs yo esperando a que me den follow jejjr felizmiercoles miercolesdeganarseguidores casiviernes http t co 7ungyna7gq astronomia y medicina gt gt gt los 4 avances espaciales que han revolucionado la medicina http t co bacnl2mywe http t co v2m9gm6hep sendohpwnz eso esta claro pero si un juego sale malo en pc te da lo mismo tener un pc de 3000 que no vas a poder jugar y ubisoft hace el coche mas rapido del mundo hara su debut en noviembre video http t co nv2dgqfstk http t co yknzkdiaud como que aun no lo has hecho corre a votar en unasprimariasparaganar entrando en http t co rmvzquccjq el episodio 2 de ark estara hoy un pelin mas tarde s bueno en realidad 2h mas tarde xd podeis ir viendo el de gta https t co aryqwic7df video utilizan un dron para garabatear una valla publicitaria gigante en nueva york http t co 6ql8ipqpva http t co dskxqddptl anda que han tardado en reaccionar a la amenaza tesla http t co wyklah5vj7 vergonzoso hdp insomnio yohantevez loquitaa linda que bien la pasamos d goooooooooooooooooooooooooooooooooooooooooooooooooooooooooooollllllazo lucho d cuando estes triste porque perdiste a un amigo recuerda nadie perdio tantos ents queridos como barbol pumasmx en 2do d https t co fdkn4olps9 snatdvd de los antiguos querras decir mi amiga a la mas linda esta aca y te quiero aunque seas feo d by nicool pais corrupto y gente comprando votos mejor me voy a narnia d este pc personalizado de minecraft es perfecto para los fans del juego http t co ek9f9xwlkh video en 360º grabado en un p 51 mustang con un f 22 como escolta eng https t co mc27jmpefz http t co sfdcru3jwc hyperkynetic si me los traes a la consulta del medico te querria para siempre que estoy en ayunas por sacarme sangre lola tidora d aldubloveontop enpezando el aire respirando aire fresco en la montaña http t co rmmn5sabyo http t co 2c81ogmxgd cuanto cuesta llegar a fabricar un nuevo medicamento http t co tdqfcbhsxl http t co 9o945zepbc soy taaan forraa me encanttaaaaa d tres universidades españolas uam_madrid uc3m upv se suman a la plataforma docente del mit y harvard http t co rrd9gsd6co teneis ya vuestra foto de howard con el traje espacial dedicada http t co na4kdxjq david05ju jajaajja ira iraa d eso suena muy bien este pc personalizado de minecraft es perfecto para los fans del juego http t co mexndhjb3p http t co tmj2fitxmo shion561 yo igual dios es que si tu vieras las horas que le he dedicado a ese juego viendo videos y jugandolo magic leap a punto de hacerse realidad mas cerca de google glass 2 http t co ausybvsmf4 http t co 6a0jqq1kax que maza este celu d remilia la primera mujer en la lcs abandona la competicion tras el acoso sufrido https t co vzp7yb0wl3 http t co wiyu2hjzvn http t co gvjulno0vo este pc personalizado de minecraft es perfecto para los fans del juego tech news fiebre de narcoticos ark survival evolved 5 temporada 2 http t co eaexzyudfn via youtube jugar eternamente el juego limpio de la seduccion ricardomontaner cientificos afirman que cuando las mujeres se toman fotos en grupo la gravedad se hace mucho mas fuerte http t co wxa9hl08hn escucha la entrevista integra mariano rajoy en la mañana http t co 8aw6tbnmp0 rajoyencope cursouam formacion y actualizacion en enseñanza de ele inscripcion ampliada hasta 26 06 https t co baemwswntf http t co inhujqyke4 controlar el telefono sin manos ya es posible con sesame http t co klkexwitlh http t co 4pteg2are2 mailbox para mac beta ya esta abierta para todo el mundo http t co 0kltbaxou9 http t co ibbhatosus en china si eres mujer soltera tus ovulos no te pertenecen https t co bbz3xoijuq http t co c7x88dazvz rompi el record de estar 1 mes y medio sin comer puflitos d tengo el re vicio con eso mm jajaja convertir marte en una nueva tierra es el proximo objetivo de darpa http t co osj0bpud3h o o http t co owrknjivpq carta de dbravo representando a los ponybravo enviada a la sgae sobre creative commons http t co yywupwep tengo que hacerme un lugarsito y salir a correr me acompaña axel d el cine mortal | garry s mod trouble in terrorist town 71 https t co v3yszg16hi via youtube nramoneromero https t co y9tlhfa0gw este es uno de mis videos seguro que te gusta suscribete por favor muchas gracias d la genetica de los superheroes http t co ebyhwnryxx http t co 2wsqgu066o el nuevo nexus de lg vuelve a asomar la patita esta vez con una funda http t co qpqneyfw8p http t co eyrhxo2g0m julio duran ex futbolista de la udlp_oficial y at de madrid en laautonomica es mejor jugar pronto contra los grandes teneis vuestro cv a punto se acerca la semana de la empleabilidad uam 23 27 feb http t co xdiyinkk6c empleo http t co ejqqd0ntyi jccadena7 https t co y9tlhfa0gw este es uno de mis videos seguro que te gusta suscribete por favor muchas gracias d nuestro ff a tod s los donantes de esta semana pero seguimos necesitando 0 pos y a pos madrid donasangre gracias http t co a6qcoothsf fzadikian vegetta777 huy pobrecita vakypandy que la pasa xd marzipankoala fariflux yo tengo el hd419 y suena demasiado bien con noise isolation d garciapage mi apoyo a las organizaciones que representan a los trabajadores que injustamente han sido maltratadas e insultadas ella con su estado de whatsapp jeje re tiernaa 3 awww amoor lt 3 te amoo d http t co fhw8djgsbl se trata de rescatar personas insertarlas en la sociedad y en el mercado laboral luisa carcedo invertirenpersonas http t co a7iaq9bjgv vane_ohinggins 1 68 y 66 kg imc 23 8 no soy gordo amica p gonzalezpons el pp tiene un limite de hasta 20 millones de euros y nos gastaremos menos l6ncallepons es fundamental la transparencia para los cargos publicos saber que se cobra por que y de donde procede ainhat en elprogramadear ya disponible el link de os x yosemite aunque todavia no aparece en la app store http t co mm3hftkrnp http t co ybiwfcfl8d soylaalejandra_ cordovachejo65jaja lo siento crei k lo abia escrito bn ale mis victimas va wuajaja jajj pero aun asi me extrañaran sanchezcastejon el futuro que queremos no es la sanidad privada o un 20 de niños en riesgo pobreza digosivotopsoe http t co nnrdg4gn9b matematicas xperia m4 aqua de 8 gb solo tiene 1 26 libres http t co ndbef624wh http t co di00xohj1j mr monopoly yo quiero ser el pasajeromonopoly por que si en juego puedo ir a muchos paises en la vida real igual aeromexico y ahora lloviendo d ahora te regalan un deoxys chetao en el mismo juego ni siquiera tienes q descargartelo me\n"
     ]
    }
   ],
   "source": [
    "letras_acent_sentweets = mf.letras_acentuadas(texto_sin_signos , find = True)\n",
    "texto_sin_letras_acent_sentweets = mf.letras_acentuadas(texto_sin_signos)\n",
    "print(letras_acent_sentweets, end= \" \\n \\n \")\n",
    "print(texto_sin_letras_acent_sentweets)\n"
   ]
  },
  {
   "cell_type": "markdown",
   "metadata": {},
   "source": [
    "### Paso 4: Crear una función que recibe como parámetro un archivo texto, retorne los números encontrados en el texto y retorne el texto sin números."
   ]
  },
  {
   "cell_type": "code",
   "execution_count": 19,
   "metadata": {
    "collapsed": true
   },
   "outputs": [
    {
     "name": "stdout",
     "output_type": "stream",
     "text": [
      "['3', '5', '6', '6', '8', '5', '4', '4', '5', '76', '5', '1', '1', '4', '3', '6', '4', '100', '5', '52', '2', '2', '17', '18', '67', '2', '1', '8', '0', '58', '777', '3', '18', '699', '5', '6', '13', '4', '6', '4', '3', '7', '7', '7', '4', '2', '2', '9', '6', '3000', '2', '2', '2', '7', '6', '8', '5', '7', '2', '4', '9', '9', '9', '360', '51', '22', '27', '3', '5', '2', '81', '9', '945', '3', '9', '6', '4', '05', '3', '2', '561', '2', '4', '6', '0', '1', '7', '0', '3', '2', '0', '5', '2', '9', '08', '8', '6', '0', '26', '06', '4', '4', '2', '2', '0', '9', '3', '7', '88', '1', '0', '3', '71', '3', '16', '9', '0', '2', '066', '8', '2', '0', '23', '27', '6', '0', '7', '9', '0', '0', '6', '777', '419', '3', '3', '8', '7', '9', '1', '68', '66', '23', '8', '20', '6', '3', '8', '65', '20', '4', '9', '4', '8', '1', '26', '624', '00', '1']\n",
      "quieres saber como hacer una aplicacion para android wear te lo explicamos gt http t co ijgcikigvm http t co tuzhuwrhx a veer que tal d http t co lzuoezecys jajaja d como les encanta trolear cuando alguno no se conecta p jajaja https t co caampnhwp mirando los simpson d tu telefono android permanecera desbloqueado mientras lo lleves encima http t co lizbxxblsj http t co mdgezhaudv sextapelarry larry es real harry no pero tuvimos algo me conformo d mtvhottest one direction http t co ntfvcwbb vtvcanal jorgerpsuv no desmayen aqui hay pueblo aqui hay guerreros y guerreras dispuestos y en serio no es juego  aplicaciones para tomar fotografias de larga exposicion con tu android http t co ybzfmvn http t co phiqpvj ya estamos preparados para gobernarparalamayoria centroparati http t co atsbayot yo me la juego con federico porque no quiere un pueblo manso para administrar sino una ciudadania educada que proponga ficogutierrez por que el ingeniero electrico llama a todo el mundo cuando esta estresado porque en una conexion en serie la tension se divide la agencia espacial europea decide prolongar la mision de la sonda rosetta ciencia http t co zrovqjpc http t co tkrgxrcw no debo quejarme por tener que leer mas de  paginas semanales son poquitas no llevo mate d layout la app de instagram para hacer bonitos collages http t co evjanlp http t co htcileqve el twitter mi desestresante d ivanasolange de bronca los iba a bloquiar a todos jaja pero me acorde que la pase mejor que ellos llendo a jugar y se me paso jaja p  j la uam en bruselas jornada de puertas abiertas para la presentacion de opera entrada libre http t co cvfkugtzbz pdf han intentado poner las instituciones al servicio del pp acordo algun pacto de silencio con el antoniotrevin http t co qssdpwcg desde lo mas alto wipeout | minecraft race map http t co wcwismylle via youtube veinte millones de vistas eh felicidades willyrexyt http t co zaysvhuml estoy cansadisimo marcho a la cama buenas noches http t co qotatbnbz el gobierno griego hizo una propuesta de recortes en grandes fortunas en vez de una subida de iva europa no quiere ierrejon errejonenrne es el momento de ver como y hacia donde aumento la deuda de manera escandalosa del pp durante los ultimos  años http t co auphcwq vegetta le escucho gritar cual king kong desde mi habitacion xdddd mi nombre se va a marte en la proxima mision de la nasa d http t co rwqjnheuc celopanyt van a rodar juego de tronos en girona d hoy pinto un hermoso dia de la puta madre d publicada convocatoria de posgrado en la unidad de tecnologias para la educacion solicitud m gt http t co iwqwjrz uam_madrid pablofenty_ vete a la fer aaaaaaaaay si eres menor d apuntad la fecha galaxy note  y s edge verian la luz el  de agosto http t co bvvhlnint http t co autjoxchds cualquier gobierno decente que tiene un ministro que se reune con un corrupto tiene que cesarlo taniagonzalezps lnfdezdiaz estamos retransmitiendo en directo far cry  siguenos aqui http t co bqbmlojpl http t co alqfjlzxs yo esperando a que me den follow jejjr felizmiercoles miercolesdeganarseguidores casiviernes http t co ungynagq astronomia y medicina gt gt gt los  avances espaciales que han revolucionado la medicina http t co bacnlmywe http t co vmgmhep sendohpwnz eso esta claro pero si un juego sale malo en pc te da lo mismo tener un pc de  que no vas a poder jugar y ubisoft hace el coche mas rapido del mundo hara su debut en noviembre video http t co nvdgqfstk http t co yknzkdiaud como que aun no lo has hecho corre a votar en unasprimariasparaganar entrando en http t co rmvzquccjq el episodio  de ark estara hoy un pelin mas tarde s bueno en realidad h mas tarde xd podeis ir viendo el de gta https t co aryqwicdf video utilizan un dron para garabatear una valla publicitaria gigante en nueva york http t co qlipqpva http t co dskxqddptl anda que han tardado en reaccionar a la amenaza tesla http t co wyklahvj vergonzoso hdp insomnio yohantevez loquitaa linda que bien la pasamos d goooooooooooooooooooooooooooooooooooooooooooooooooooooooooooollllllazo lucho d cuando estes triste porque perdiste a un amigo recuerda nadie perdio tantos ents queridos como barbol pumasmx en do d https t co fdknolps snatdvd de los antiguos querras decir mi amiga a la mas linda esta aca y te quiero aunque seas feo d by nicool pais corrupto y gente comprando votos mejor me voy a narnia d este pc personalizado de minecraft es perfecto para los fans del juego http t co ekfxwlkh video en º grabado en un p  mustang con un f  como escolta eng https t co mcjmpefz http t co sfdcrujwc hyperkynetic si me los traes a la consulta del medico te querria para siempre que estoy en ayunas por sacarme sangre lola tidora d aldubloveontop enpezando el aire respirando aire fresco en la montaña http t co rmmnsabyo http t co cogmxgd cuanto cuesta llegar a fabricar un nuevo medicamento http t co tdqfcbhsxl http t co ozepbc soy taaan forraa me encanttaaaaa d tres universidades españolas uam_madrid ucm upv se suman a la plataforma docente del mit y harvard http t co rrdgsdco teneis ya vuestra foto de howard con el traje espacial dedicada http t co nakdxjq davidju jajaajja ira iraa d eso suena muy bien este pc personalizado de minecraft es perfecto para los fans del juego http t co mexndhjbp http t co tmjfitxmo shion yo igual dios es que si tu vieras las horas que le he dedicado a ese juego viendo videos y jugandolo magic leap a punto de hacerse realidad mas cerca de google glass  http t co ausybvsmf http t co ajqqkax que maza este celu d remilia la primera mujer en la lcs abandona la competicion tras el acoso sufrido https t co vzpybwl http t co wiyuhjzvn http t co gvjulnovo este pc personalizado de minecraft es perfecto para los fans del juego tech news fiebre de narcoticos ark survival evolved  temporada  http t co eaexzyudfn via youtube jugar eternamente el juego limpio de la seduccion ricardomontaner cientificos afirman que cuando las mujeres se toman fotos en grupo la gravedad se hace mucho mas fuerte http t co wxahlhn escucha la entrevista integra mariano rajoy en la mañana http t co awtbnmp rajoyencope cursouam formacion y actualizacion en enseñanza de ele inscripcion ampliada hasta   https t co baemwswntf http t co inhujqyke controlar el telefono sin manos ya es posible con sesame http t co klkexwitlh http t co ptegare mailbox para mac beta ya esta abierta para todo el mundo http t co kltbaxou http t co ibbhatosus en china si eres mujer soltera tus ovulos no te pertenecen https t co bbzxoijuq http t co cxdazvz rompi el record de estar  mes y medio sin comer puflitos d tengo el re vicio con eso mm jajaja convertir marte en una nueva tierra es el proximo objetivo de darpa http t co osjbpudh o o http t co owrknjivpq carta de dbravo representando a los ponybravo enviada a la sgae sobre creative commons http t co yywupwep tengo que hacerme un lugarsito y salir a correr me acompaña axel d el cine mortal | garry s mod trouble in terrorist town  https t co vyszghi via youtube nramoneromero https t co ytlhfagw este es uno de mis videos seguro que te gusta suscribete por favor muchas gracias d la genetica de los superheroes http t co ebyhwnryxx http t co wsqguo el nuevo nexus de lg vuelve a asomar la patita esta vez con una funda http t co qpqneyfwp http t co eyrhxogm julio duran ex futbolista de la udlp_oficial y at de madrid en laautonomica es mejor jugar pronto contra los grandes teneis vuestro cv a punto se acerca la semana de la empleabilidad uam   feb http t co xdiyinkkc empleo http t co ejqqdntyi jccadena https t co ytlhfagw este es uno de mis videos seguro que te gusta suscribete por favor muchas gracias d nuestro ff a tod s los donantes de esta semana pero seguimos necesitando  pos y a pos madrid donasangre gracias http t co aqcoothsf fzadikian vegetta huy pobrecita vakypandy que la pasa xd marzipankoala fariflux yo tengo el hd y suena demasiado bien con noise isolation d garciapage mi apoyo a las organizaciones que representan a los trabajadores que injustamente han sido maltratadas e insultadas ella con su estado de whatsapp jeje re tiernaa  awww amoor lt  te amoo d http t co fhwdjgsbl se trata de rescatar personas insertarlas en la sociedad y en el mercado laboral luisa carcedo invertirenpersonas http t co aiaqbjgv vane_ohinggins   y  kg imc   no soy gordo amica p gonzalezpons el pp tiene un limite de hasta  millones de euros y nos gastaremos menos lncallepons es fundamental la transparencia para los cargos publicos saber que se cobra por que y de donde procede ainhat en elprogramadear ya disponible el link de os x yosemite aunque todavia no aparece en la app store http t co mmhftkrnp http t co ybiwfcfld soylaalejandra_ cordovachejojaja lo siento crei k lo abia escrito bn ale mis victimas va wuajaja jajj pero aun asi me extrañaran sanchezcastejon el futuro que queremos no es la sanidad privada o un  de niños en riesgo pobreza digosivotopsoe http t co nnrdggnb matematicas xperia m aqua de  gb solo tiene   libres http t co ndbefwh http t co dixohjj mr monopoly yo quiero ser el pasajeromonopoly por que si en juego puedo ir a muchos paises en la vida real igual aeromexico y ahora lloviendo d ahora te regalan un deoxys chetao en el mismo juego ni siquiera tienes q descargartelo me\n"
     ]
    }
   ],
   "source": [
    "numeros_s = mf.extrae_numeros(texto_sin_letras_acent_sentweets, number = True)\n",
    "texto_s_sin_numeros = mf.extrae_numeros(texto_sin_letras_acent_sentweets)\n",
    "\n",
    "print(numeros_s)\n",
    "print(texto_s_sin_numeros)"
   ]
  },
  {
   "cell_type": "markdown",
   "metadata": {},
   "source": [
    "### Paso 5: Crear una función que reciba como parámetro un texto y retorne las palabras que comience en mayúscula encontradas en el texto."
   ]
  },
  {
   "cell_type": "code",
   "execution_count": 20,
   "metadata": {
    "collapsed": true
   },
   "outputs": [
    {
     "name": "stdout",
     "output_type": "stream",
     "text": [
      "['Quieres', 'Android', 'Wear', 'Te', 'Ijg', 'Ikigvm', 'Zh', 'Lz', 'Oez', 'Ec', 'Ca', 'Pnhw', 'Mirando', 'Simpson', 'Tu', 'Android', 'Iz', 'Xx', 'Dg', 'Zhaud', 'Larry', 'Harry', 'No', 'Me', 'Hottest', 'One', 'Direction', 'Tfvc', 'Wb', 'Vcanal', 'Android', 'Yb', 'Fm', 'Hi', 'Ya', 'Gobernar', 'Para', 'La', 'Mayoría', 'Centro', 'Para', 'Ti', 'Ts', 'Ba', 'Ot', 'Yo', 'Federico', 'Fico', 'Gutierrez', 'Por', 'Porque', 'La', 'Agencia', 'Espacial', 'Europea', 'Rosetta', 'Ciencia', 'Vqjp', 'Xrcw', 'No', 'No', 'Layout', 'Instagram', 'Nl', 'Tci', 'Qve', 'El', 'Twitter', 'Mi', 'Desestresante', 'Ivana', 'Solange', 'De', 'Pero', 'La', 'Bruselas', 'Jornada', 'Puertas', 'Abiertas', 'Entrada', 'Fk', 'Tz', 'Bz', 'Han', 'Acordó', 'Ss', 'Wc', 'Minecraft', 'Race', 'Map', 'Wc', 'Is', 'Le', 'You', 'Tube', 'Veinte', 'Felicidades', 'Willyrex', 'Ysvhum', 'Estoy', 'Marcho', 'Ot', 'Atb', 'Nbz', 'El', 'Gobierno', 'Europa', 'Errejón', 'En', 'Es', 'Hcw', 'Le', 'King', 'Kong', 'Mi', 'Marte', 'Nasa', 'Rw', 'Uc', 'Celopan', 'Van', 'Hoy', 'Publicada', 'Unidad', 'Tecnologías', 'Educación', 'Wqwj', 'Madrid', 'Apuntad', 'Galaxy', 'Note', 'Edge', 'Agosto', 'Hl', 'Jox', 'Hds', 'Cualquier', 'Tania', 'Gonzalez', 'Ps', 'Nfdezdíaz', 'Estamos', 'Far', 'Cry', 'Síguenos', 'Bm', 'Zxs', 'Yo', 'Feliz', 'Miercoles', 'Miercoles', 'De', 'Ganar', 'Seguidores', 'Viernes', 'Ng', 'Astronomía', 'Medicina', 'Los', 'Medicina', 'Cn', 'Mywe', 'Gm', 'Sendohpwn', 'Eso', 'Pero', 'Ubisoft', 'El', 'Nv', 'Fs', 'Zkd', 'Aud', 'Cómo', 'Que', 'Corre', 'Unas', 'Primarias', 'Para', 'Ganar', 'Mv', 'Zquc', 'Jq', 'El', 'Episodio', 'Bueno', 'Podeis', 'Qwi', 'Vídeo', 'Nueva', 'York', 'Ddpt', 'Anda', 'Tesla', 'Wyk', 'Lah', 'Hdp', 'Yohan', 'Tevez', 'Cuando', 'Ents', 'Bárbol', 'Pumas', 'Dk', 'Ol', 'Snat', 'De', 'Mi', 'País', 'Mejor', 'Narnia', 'Este', 'Minecraft', 'Lkh', 'Vídeo', 'Mustang', 'Jmp', 'Fz', 'Hyper', 'Kynetic', 'Lola', 'Tidora', 'Enpezando', 'Rm', 'Mn', 'Xgd', 'Cuanto', 'Dqf', 'Cbhsx', 'Bc', 'Soy', 'Tres', 'Madrid', 'Harvard', 'Tenéis', 'Howard', 'Dx', 'David', 'Ju', 'Eso', 'Este', 'Minecraft', 'Ex', 'Ndh', 'Jb', 'Fi', 'Tx', 'Shion', 'Yo', 'Viendo', 'Magic', 'Leap', 'Google', 'Glass', 'Bv', 'Qq', 'Ka', 'Que', 'Remilia', 'Vzp', 'Yb', 'Jz', 'Ul', 'No', 'Este', 'Minecraft', 'Survival', 'Evolved', 'Temporada', 'Xz', 'Dfn', 'You', 'Tube', 'Jugar', 'Ricardo', 'Montaner', 'Científicos', 'Xa', 'Escucha', 'Mariano', 'Rajoy', 'La', 'Ma', 'Bn', 'Mp', 'Rajoy', 'En', 'Cope', 'Curso', 'Formación', 'Inscripción', 'Ae', 'Mws', 'Wn', 'Nh', 'Jq', 'Yk', 'Controlar', 'Sesame', 'Klkexw', 'It', 'Lh', 'Mailbox', 'Mac', 'Lt', 'Baxo', 'Ibbha', 'To', 'Su', 'En', 'China', 'Bz', 'Juq', 'Da', 'Zvz', 'Rompi', 'Tengo', 'Convertir', 'Marte', 'Tierra', 'Os', 'Bp', 'Ud', 'Ow', 'Rk', 'Iv', 'Pq', 'Carta', 'Sgae', 'Creative', 'Commons', 'Yy', 'Wup', 'Wep', 'Tengo', 'Me', 'Garry', 'Mod', 'Trouble', 'Terrorist', 'Town', 'Sz', 'You', 'Tube', 'Ramoneromero', 'Lh', 'Fa', 'La', 'Superhéroes', 'Hwn', 'Ry', 'Gu', 'El', 'Nexus', 'Qpq', 'Ne', 'Ey', 'Xo', 'Julio', 'Durán', 'Oficial', 'Madrid', 'Es', 'Tenéis', 'Se', 'Semana', 'Empleabilidad', 'Iy', 'Ink', 'Empleo', 'Qq', 'Nt', 'Yi', 'Lh', 'Fa', 'Nuestro', 'Madrid', 'Oo', 'Ths', 'Zadikian', 'Hu', 'Pobrecita', 'Vakypandy', 'Marzipan', 'Koala', 'Con', 'Mi', 'Whats', 'App', 'Jg', 'Bl', 'Se', 'Luisa', 'Carcedo', 'Invertir', 'En', 'Personas', 'Aq', 'Jg', 'Kg', 'No', 'El', 'Ncallepons', 'Es', 'Ainhat', 'Ya', 'Yosemite', 'App', 'Store', 'Mm', 'Kr', 'Np', 'Biwfcfl', 'Soy', 'La', 'Alejandra', 'El', 'Nn', 'Rdg', 'Matemáticas', 'Xperia', 'Aqua', 'Bef', 'Hj', 'Mr', 'Monopoly', 'Pasajero', 'Monopoly', 'Aero', 'Mexico', 'Ahora', 'Lloviendo', 'Ahora', 'Deoxys']\n"
     ]
    }
   ],
   "source": [
    "palabras_mayus_sent = mf.extrae_mayusculas(sentweets)\n",
    "print(palabras_mayus_sent)"
   ]
  },
  {
   "cell_type": "markdown",
   "metadata": {},
   "source": [
    "### Paso 6: Crear una función que reciba como parámetro un texto y retorne las siglas encontradas en el texto"
   ]
  },
  {
   "cell_type": "code",
   "execution_count": 22,
   "metadata": {
    "collapsed": true
   },
   "outputs": [
    {
     "name": "stdout",
     "output_type": "stream",
     "text": [
      "['CI', 'UZ', 'UO', 'YS', 'AM', 'BX', 'BLSJ', 'EZ', 'MTVH', 'VTV', 'NO', 'DESMAYEN', 'AQUI', 'HAY', 'PUEBLO', 'AQUI', 'HAY', 'GUERREROS', 'GUERRERAS', 'DISPUESTOS', 'EN', 'SERIO', 'NO', 'ES', 'JUEGO', 'ZF', 'VN', 'QPV', 'GX', 'VJAN', 'EQ', 'UAM', 'PERA', 'UGT', 'PDF', 'PP', 'PW', 'DESDE', 'LO', 'ALTO', 'WIPEOUT', 'WI', 'MYLL', 'YT', 'IVA', 'RNE', 'PP', 'AU', 'XDDDD', 'JNHEU', 'YT', 'IW', 'UAM', 'BVV', 'NINT', 'CH', 'LO', 'JLZ', 'UN', 'YNA', 'PC', 'PC', 'QF', 'TK', 'KNZ', 'IA', 'RM', 'CJ', 'ARK', 'GTA', 'DF', 'QPVA', 'GOOOOOOOOOOOOOOOOOOOOOOOOOOOOOOOOOOOOOOOOOOOOOOOOOOOOOOOOOOOOLLLLLLAZO', 'LUCHO', 'MX', 'FD', 'PS', 'DVD', 'PC', 'EK', 'XWL', 'ENG', 'EF', 'RU', 'JWC', 'ALDUBLOVEONTOP', 'ABYO', 'MX', 'EPB', 'UAM', 'UPV', 'MIT', 'SD', 'JQ', 'MUY', 'BIEN', 'PC', 'MO', 'YB', 'SMF', 'JQ', 'LCS', 'YU', 'HJ', 'VN', 'PC', 'FIEBRE', 'DE', 'NARC', 'TICOS', 'ARK', 'AEX', 'YUD', 'TB', 'UAM', 'ELE', 'BA', 'TF', 'IN', 'UJ', 'ARE', 'KL', 'BB', 'PUFLITOS', 'DARPA', 'NJI', 'EL', 'CINE', 'MORTAL', 'YS', 'HI', 'NR', 'TL', 'GW', 'BYH', 'XX', 'SQG', 'LG', 'YFW', 'RHX', 'UDLP', 'AT', 'CV', 'UAM', 'XDI', 'EJQ', 'JCCADENA', 'TL', 'GW', 'FF', 'POS', 'POS', 'GRACIAS', 'CO', 'FZ', 'ELLA', 'TE', 'AMOO', 'DJ', 'SB', 'IA', 'BJ', 'IMC', 'PP', 'OS', 'FTK', 'NO', 'PSOE', 'GB', 'DB', 'DI', 'OH']\n"
     ]
    }
   ],
   "source": [
    "siglas_s = mf.extrae_mayusculas(sentweets, siglas= True)\n",
    "print(siglas_s)"
   ]
  },
  {
   "cell_type": "markdown",
   "metadata": {},
   "source": [
    "### Paso 7: Crear una función que reciba como parámetro un texto, muestre las palabras “stop words” encontradas y retorne un nuevo archivo sin las palabras “stop words”."
   ]
  },
  {
   "cell_type": "code",
   "execution_count": 25,
   "metadata": {
    "collapsed": true
   },
   "outputs": [
    {
     "name": "stdout",
     "output_type": "stream",
     "text": [
      "como una para te lo t co t co a que d t co d como les cuando alguno no se p t co los d tu lo t co t co es no pero tuvimos algo me d t co no hay hay y y en no es para de con tu t co t co ya estamos para t co yo me la con porque no un para una que por que el a todo el cuando esta porque en una en la se la la de la t co t co no por que mas de son no d la de para t co t co el mi d de los a a todos pero me que la que ellos a y se me p la en de para la de t co han las al del algun de con el t co desde lo mas t co de t co estoy a la t co el una de en en de una de no es el de como y donde la de del durante los t co le cual desde mi mi se a en la de la d t co a de en d un de la d de en la de para la m t co a la si eres d la y s la el de t co t co que tiene un que se con un tiene que estamos en t co t co yo a que me t co y los que han la t co t co eso esta pero si un en te da lo un de que no a y el mas del su en t co t co como que no lo has a en en t co el de estara un mas s en h mas el de t co un para una en t co t co que han en a la t co que bien la d d cuando estes porque a un como en do d t co de los mi a la mas esta y te seas d y me a d este de es para los del t co en en un p con un f como eng t co t co si me los a la del te para que estoy en por d el en la t co t co a un t co t co soy me d se a la del y t co teneis ya vuestra de con el t co d eso muy bien este de es para los del t co t co yo es que si tu vieras las que le he a ese y a de mas de t co t co que este d la en la la tras el t co t co t co este de es para los del de t co el de la que cuando las se en la se mucho mas t co la en la t co y en de hasta t co t co el sin ya es con t co t co para ya esta para todo el t co t co en si eres tus no te t co t co el de estar y sin d tengo el re con eso en una es el de t co o o t co de a los a la sobre t co tengo que un y a me d el s in t co t co este es uno de mis que te por d la de los t co t co el de lg a la esta con una t co t co duran de la y de en es contra los teneis vuestro a se la de la t co t co t co este es uno de mis que te por d nuestro a tod s los de esta pero y a t co que la yo tengo el y bien con d mi a las que a los que han sido e ella con su estado de re te d t co se de en la y en el t co y no soy p el tiene un de hasta de y nos es la para los que se por que y de donde en ya el de os no en la t co t co lo lo abia mis pero me el que no es la o un de en t co m de tiene t co t co yo ser el por que si en a muchos en la y d te un en el ni tienes q me \n",
      " \n",
      " quieres saber hacer aplicacion android wear explicamos gt http t co ijgcikigvm http t co tuzhuwrhx veer tal d http t co lzuoezecys jajaja d encanta trolear alguno conecta p jajaja https t co caampnhwp mirando simpson d telefono android permanecera desbloqueado mientras lleves encima http t co lizbxxblsj http t co mdgezhaudv sextapelarry larry real harry conformo d mtvhottest one direction http t co ntfvcwbb vtvcanal jorgerpsuv desmayen aqui pueblo aqui guerreros guerreras dispuestos serio juego aplicaciones tomar fotografias larga exposicion android http t co ybzfmvn http t co phiqpvj preparados gobernarparalamayoria centroparati http t co atsbayot juego federico quiere pueblo manso administrar sino ciudadania educada proponga ficogutierrez ingeniero electrico llama mundo estresado conexion serie tension divide agencia espacial europea decide prolongar mision sonda rosetta ciencia http t co zrovqjpc http t co tkrgxrcw debo quejarme tener leer paginas semanales poquitas llevo mate d layout app instagram hacer bonitos collages http t co evjanlp http t co htcileqve twitter desestresante d ivanasolange bronca iba bloquiar jaja acorde pase mejor llendo jugar paso jaja p j uam bruselas jornada puertas abiertas presentacion opera entrada libre http t co cvfkugtzbz pdf intentado poner instituciones servicio pp acordo algun pacto silencio antoniotrevin http t co qssdpwcg alto wipeout | minecraft race map http t co wcwismylle via youtube veinte millones vistas eh felicidades willyrexyt http t co zaysvhuml cansadisimo marcho cama buenas noches http t co qotatbnbz gobierno griego hizo propuesta recortes grandes fortunas vez subida iva europa quiere ierrejon errejonenrne momento ver hacia aumento deuda manera escandalosa pp ultimos años http t co auphcwq vegetta escucho gritar king kong habitacion xdddd nombre va marte proxima mision nasa d http t co rwqjnheuc celopanyt van rodar juego tronos girona d hoy pinto hermoso dia puta madre d publicada convocatoria posgrado unidad tecnologias educacion solicitud m gt http t co iwqwjrz uam_madrid pablofenty_ vete fer aaaaaaaaay menor d apuntad fecha galaxy note s edge verian luz agosto http t co bvvhlnint http t co autjoxchds cualquier gobierno decente ministro reune corrupto cesarlo taniagonzalezps lnfdezdiaz retransmitiendo directo far cry siguenos aqui http t co bqbmlojpl http t co alqfjlzxs esperando den follow jejjr felizmiercoles miercolesdeganarseguidores casiviernes http t co ungynagq astronomia medicina gt gt gt avances espaciales revolucionado medicina http t co bacnlmywe http t co vmgmhep sendohpwnz claro juego sale malo pc da mismo tener pc vas poder jugar ubisoft hace coche rapido mundo hara debut noviembre video http t co nvdgqfstk http t co yknzkdiaud aun hecho corre votar unasprimariasparaganar entrando http t co rmvzquccjq episodio ark hoy pelin tarde s bueno realidad h tarde xd podeis ir viendo gta https t co aryqwicdf video utilizan dron garabatear valla publicitaria gigante nueva york http t co qlipqpva http t co dskxqddptl anda tardado reaccionar amenaza tesla http t co wyklahvj vergonzoso hdp insomnio yohantevez loquitaa linda bien pasamos d goooooooooooooooooooooooooooooooooooooooooooooooooooooooooooollllllazo lucho d triste perdiste amigo recuerda nadie perdio tantos ents queridos barbol pumasmx do d https t co fdknolps snatdvd antiguos querras decir amiga linda aca quiero aunque feo d by nicool pais corrupto gente comprando votos mejor voy narnia d pc personalizado minecraft perfecto fans juego http t co ekfxwlkh video º grabado p mustang f escolta eng https t co mcjmpefz http t co sfdcrujwc hyperkynetic traes consulta medico querria siempre ayunas sacarme sangre lola tidora d aldubloveontop enpezando aire respirando aire fresco montaña http t co rmmnsabyo http t co cogmxgd cuanto cuesta llegar fabricar nuevo medicamento http t co tdqfcbhsxl http t co ozepbc taaan forraa encanttaaaaa d tres universidades españolas uam_madrid ucm upv suman plataforma docente mit harvard http t co rrdgsdco foto howard traje espacial dedicada http t co nakdxjq davidju jajaajja ira iraa d suena bien pc personalizado minecraft perfecto fans juego http t co mexndhjbp http t co tmjfitxmo shion igual dios vieras horas dedicado juego viendo videos jugandolo magic leap punto hacerse realidad cerca google glass http t co ausybvsmf http t co ajqqkax maza celu d remilia primera mujer lcs abandona competicion tras acoso sufrido https t co vzpybwl http t co wiyuhjzvn http t co gvjulnovo pc personalizado minecraft perfecto fans juego tech news fiebre narcoticos ark survival evolved temporada http t co eaexzyudfn via youtube jugar eternamente juego limpio seduccion ricardomontaner cientificos afirman mujeres toman fotos grupo gravedad hace fuerte http t co wxahlhn escucha entrevista integra mariano rajoy mañana http t co awtbnmp rajoyencope cursouam formacion actualizacion enseñanza ele inscripcion ampliada https t co baemwswntf http t co inhujqyke controlar telefono manos posible sesame http t co klkexwitlh http t co ptegare mailbox mac beta abierta mundo http t co kltbaxou http t co ibbhatosus china mujer soltera ovulos pertenecen https t co bbzxoijuq http t co cxdazvz rompi record mes medio comer puflitos d re vicio mm jajaja convertir marte nueva tierra proximo objetivo darpa http t co osjbpudh http t co owrknjivpq carta dbravo representando ponybravo enviada sgae creative commons http t co yywupwep hacerme lugarsito salir correr acompaña axel d cine mortal | garry s mod trouble in terrorist town https t co vyszghi via youtube nramoneromero https t co ytlhfagw videos seguro gusta suscribete favor muchas gracias d genetica superheroes http t co ebyhwnryxx http t co wsqguo nuevo nexus lg vuelve asomar patita vez funda http t co qpqneyfwp http t co eyrhxogm julio duran ex futbolista udlp_oficial at madrid laautonomica mejor jugar pronto grandes cv punto acerca semana empleabilidad uam feb http t co xdiyinkkc empleo http t co ejqqdntyi jccadena https t co ytlhfagw videos seguro gusta suscribete favor muchas gracias d ff tod s donantes semana seguimos necesitando pos pos madrid donasangre gracias http t co aqcoothsf fzadikian vegetta huy pobrecita vakypandy pasa xd marzipankoala fariflux hd suena demasiado bien noise isolation d garciapage apoyo organizaciones representan trabajadores injustamente maltratadas insultadas whatsapp jeje re tiernaa awww amoor lt amoo d http t co fhwdjgsbl trata rescatar personas insertarlas sociedad mercado laboral luisa carcedo invertirenpersonas http t co aiaqbjgv vane_ohinggins kg imc gordo amica p gonzalezpons pp limite millones euros gastaremos menos lncallepons fundamental transparencia cargos publicos saber cobra procede ainhat elprogramadear disponible link x yosemite aunque todavia aparece app store http t co mmhftkrnp http t co ybiwfcfld soylaalejandra_ cordovachejojaja siento crei k abia escrito bn ale victimas va wuajaja jajj aun asi extrañaran sanchezcastejon futuro queremos sanidad privada o niños riesgo pobreza digosivotopsoe http t co nnrdggnb matematicas xperia m aqua gb solo libres http t co ndbefwh http t co dixohjj mr monopoly quiero ser pasajeromonopoly juego puedo ir paises vida real igual aeromexico ahora lloviendo d ahora regalan deoxys chetao mismo juego siquiera q descargartelo\n"
     ]
    }
   ],
   "source": [
    "texto_sin_tildes_stop_words = mf.letras_acentuadas(stop_words)\n",
    "texto_sentweets_filtrado_no_stop_words = mf.elimina_stop_words(texto_s_sin_numeros, texto_sin_tildes_stop_words)\n",
    "stop_word_encontradas = mf.elimina_stop_words(texto_s_sin_numeros, texto_sin_tildes_stop_words, stw = True)\n",
    "print(stop_word_encontradas, end= \" \\n \\n \")\n",
    "print(texto_sentweets_filtrado_no_stop_words)"
   ]
  },
  {
   "cell_type": "markdown",
   "metadata": {},
   "source": [
    "### Paso 8: Crear una función que reciba como parámetro un texto, lo divida en palabras y cuente cuantas veces aparece las palabras que quedan en el texto una vez “normalizado”."
   ]
  },
  {
   "cell_type": "code",
   "execution_count": 26,
   "metadata": {
    "collapsed": true
   },
   "outputs": [
    {
     "name": "stdout",
     "output_type": "stream",
     "text": [
      "[('quieres', 1), ('saber', 2), ('hacer', 2), ('aplicacion', 1), ('android', 3), ('wear', 1), ('explicamos', 1), ('gt', 5), ('http', 74), ('t', 84), ('co', 84), ('ijgcikigvm', 1), ('tuzhuwrhx', 1), ('veer', 1), ('tal', 1), ('d', 26), ('lzuoezecys', 1), ('jajaja', 3), ('encanta', 1), ('trolear', 1), ('alguno', 1), ('conecta', 1), ('p', 4), ('https', 10), ('caampnhwp', 1), ('mirando', 1), ('simpson', 1), ('telefono', 2), ('permanecera', 1), ('desbloqueado', 1), ('mientras', 1), ('lleves', 1), ('encima', 1), ('lizbxxblsj', 1), ('mdgezhaudv', 1), ('sextapelarry', 1), ('larry', 1), ('real', 2), ('harry', 1), ('conformo', 1), ('mtvhottest', 1), ('one', 1), ('direction', 1), ('ntfvcwbb', 1), ('vtvcanal', 1), ('jorgerpsuv', 1), ('desmayen', 1), ('aqui', 3), ('pueblo', 2), ('guerreros', 1), ('guerreras', 1), ('dispuestos', 1), ('serio', 1), ('juego', 11), ('aplicaciones', 1), ('tomar', 1), ('fotografias', 1), ('larga', 1), ('exposicion', 1), ('ybzfmvn', 1), ('phiqpvj', 1), ('preparados', 1), ('gobernarparalamayoria', 1), ('centroparati', 1), ('atsbayot', 1), ('federico', 1), ('quiere', 2), ('manso', 1), ('administrar', 1), ('sino', 1), ('ciudadania', 1), ('educada', 1), ('proponga', 1), ('ficogutierrez', 1), ('ingeniero', 1), ('electrico', 1), ('llama', 1), ('mundo', 3), ('estresado', 1), ('conexion', 1), ('serie', 1), ('tension', 1), ('divide', 1), ('agencia', 1), ('espacial', 2), ('europea', 1), ('decide', 1), ('prolongar', 1), ('mision', 2), ('sonda', 1), ('rosetta', 1), ('ciencia', 1), ('zrovqjpc', 1), ('tkrgxrcw', 1), ('debo', 1), ('quejarme', 1), ('tener', 2), ('leer', 1), ('paginas', 1), ('semanales', 1), ('poquitas', 1), ('llevo', 1), ('mate', 1), ('layout', 1), ('app', 2), ('instagram', 1), ('bonitos', 1), ('collages', 1), ('evjanlp', 1), ('htcileqve', 1), ('twitter', 1), ('desestresante', 1), ('ivanasolange', 1), ('bronca', 1), ('iba', 1), ('bloquiar', 1), ('jaja', 2), ('acorde', 1), ('pase', 1), ('mejor', 3), ('llendo', 1), ('jugar', 4), ('paso', 1), ('j', 1), ('uam', 2), ('bruselas', 1), ('jornada', 1), ('puertas', 1), ('abiertas', 1), ('presentacion', 1), ('opera', 1), ('entrada', 1), ('libre', 1), ('cvfkugtzbz', 1), ('pdf', 1), ('intentado', 1), ('poner', 1), ('instituciones', 1), ('servicio', 1), ('pp', 3), ('acordo', 1), ('algun', 1), ('pacto', 1), ('silencio', 1), ('antoniotrevin', 1), ('qssdpwcg', 1), ('alto', 1), ('wipeout', 1), ('|', 2), ('minecraft', 4), ('race', 1), ('map', 1), ('wcwismylle', 1), ('via', 3), ('youtube', 3), ('veinte', 1), ('millones', 2), ('vistas', 1), ('eh', 1), ('felicidades', 1), ('willyrexyt', 1), ('zaysvhuml', 1), ('cansadisimo', 1), ('marcho', 1), ('cama', 1), ('buenas', 1), ('noches', 1), ('qotatbnbz', 1), ('gobierno', 2), ('griego', 1), ('hizo', 1), ('propuesta', 1), ('recortes', 1), ('grandes', 2), ('fortunas', 1), ('vez', 2), ('subida', 1), ('iva', 1), ('europa', 1), ('ierrejon', 1), ('errejonenrne', 1), ('momento', 1), ('ver', 1), ('hacia', 1), ('aumento', 1), ('deuda', 1), ('manera', 1), ('escandalosa', 1), ('ultimos', 1), ('años', 1), ('auphcwq', 1), ('vegetta', 2), ('escucho', 1), ('gritar', 1), ('king', 1), ('kong', 1), ('habitacion', 1), ('xdddd', 1), ('nombre', 1), ('va', 2), ('marte', 2), ('proxima', 1), ('nasa', 1), ('rwqjnheuc', 1), ('celopanyt', 1), ('van', 1), ('rodar', 1), ('tronos', 1), ('girona', 1), ('hoy', 2), ('pinto', 1), ('hermoso', 1), ('dia', 1), ('puta', 1), ('madre', 1), ('publicada', 1), ('convocatoria', 1), ('posgrado', 1), ('unidad', 1), ('tecnologias', 1), ('educacion', 1), ('solicitud', 1), ('m', 2), ('iwqwjrz', 1), ('uam_madrid', 2), ('pablofenty_', 1), ('vete', 1), ('fer', 1), ('aaaaaaaaay', 1), ('menor', 1), ('apuntad', 1), ('fecha', 1), ('galaxy', 1), ('note', 1), ('s', 4), ('edge', 1), ('verian', 1), ('luz', 1), ('agosto', 1), ('bvvhlnint', 1), ('autjoxchds', 1), ('cualquier', 1), ('decente', 1), ('ministro', 1), ('reune', 1), ('corrupto', 2), ('cesarlo', 1), ('taniagonzalezps', 1), ('lnfdezdiaz', 1), ('retransmitiendo', 1), ('directo', 1), ('far', 1), ('cry', 1), ('siguenos', 1), ('bqbmlojpl', 1), ('alqfjlzxs', 1), ('esperando', 1), ('den', 1), ('follow', 1), ('jejjr', 1), ('felizmiercoles', 1), ('miercolesdeganarseguidores', 1), ('casiviernes', 1), ('ungynagq', 1), ('astronomia', 1), ('medicina', 2), ('avances', 1), ('espaciales', 1), ('revolucionado', 1), ('bacnlmywe', 1), ('vmgmhep', 1), ('sendohpwnz', 1), ('claro', 1), ('sale', 1), ('malo', 1), ('pc', 5), ('da', 1), ('mismo', 2), ('vas', 1), ('poder', 1), ('ubisoft', 1), ('hace', 2), ('coche', 1), ('rapido', 1), ('hara', 1), ('debut', 1), ('noviembre', 1), ('video', 3), ('nvdgqfstk', 1), ('yknzkdiaud', 1), ('aun', 2), ('hecho', 1), ('corre', 1), ('votar', 1), ('unasprimariasparaganar', 1), ('entrando', 1), ('rmvzquccjq', 1), ('episodio', 1), ('ark', 2), ('pelin', 1), ('tarde', 2), ('bueno', 1), ('realidad', 2), ('h', 1), ('xd', 2), ('podeis', 1), ('ir', 2), ('viendo', 2), ('gta', 1), ('aryqwicdf', 1), ('utilizan', 1), ('dron', 1), ('garabatear', 1), ('valla', 1), ('publicitaria', 1), ('gigante', 1), ('nueva', 2), ('york', 1), ('qlipqpva', 1), ('dskxqddptl', 1), ('anda', 1), ('tardado', 1), ('reaccionar', 1), ('amenaza', 1), ('tesla', 1), ('wyklahvj', 1), ('vergonzoso', 1), ('hdp', 1), ('insomnio', 1), ('yohantevez', 1), ('loquitaa', 1), ('linda', 2), ('bien', 3), ('pasamos', 1), ('goooooooooooooooooooooooooooooooooooooooooooooooooooooooooooollllllazo', 1), ('lucho', 1), ('triste', 1), ('perdiste', 1), ('amigo', 1), ('recuerda', 1), ('nadie', 1), ('perdio', 1), ('tantos', 1), ('ents', 1), ('queridos', 1), ('barbol', 1), ('pumasmx', 1), ('do', 1), ('fdknolps', 1), ('snatdvd', 1), ('antiguos', 1), ('querras', 1), ('decir', 1), ('amiga', 1), ('aca', 1), ('quiero', 2), ('aunque', 2), ('feo', 1), ('by', 1), ('nicool', 1), ('pais', 1), ('gente', 1), ('comprando', 1), ('votos', 1), ('voy', 1), ('narnia', 1), ('personalizado', 3), ('perfecto', 3), ('fans', 3), ('ekfxwlkh', 1), ('º', 1), ('grabado', 1), ('mustang', 1), ('f', 1), ('escolta', 1), ('eng', 1), ('mcjmpefz', 1), ('sfdcrujwc', 1), ('hyperkynetic', 1), ('traes', 1), ('consulta', 1), ('medico', 1), ('querria', 1), ('siempre', 1), ('ayunas', 1), ('sacarme', 1), ('sangre', 1), ('lola', 1), ('tidora', 1), ('aldubloveontop', 1), ('enpezando', 1), ('aire', 2), ('respirando', 1), ('fresco', 1), ('montaña', 1), ('rmmnsabyo', 1), ('cogmxgd', 1), ('cuanto', 1), ('cuesta', 1), ('llegar', 1), ('fabricar', 1), ('nuevo', 2), ('medicamento', 1), ('tdqfcbhsxl', 1), ('ozepbc', 1), ('taaan', 1), ('forraa', 1), ('encanttaaaaa', 1), ('tres', 1), ('universidades', 1), ('españolas', 1), ('ucm', 1), ('upv', 1), ('suman', 1), ('plataforma', 1), ('docente', 1), ('mit', 1), ('harvard', 1), ('rrdgsdco', 1), ('foto', 1), ('howard', 1), ('traje', 1), ('dedicada', 1), ('nakdxjq', 1), ('davidju', 1), ('jajaajja', 1), ('ira', 1), ('iraa', 1), ('suena', 2), ('mexndhjbp', 1), ('tmjfitxmo', 1), ('shion', 1), ('igual', 2), ('dios', 1), ('vieras', 1), ('horas', 1), ('dedicado', 1), ('videos', 3), ('jugandolo', 1), ('magic', 1), ('leap', 1), ('punto', 2), ('hacerse', 1), ('cerca', 1), ('google', 1), ('glass', 1), ('ausybvsmf', 1), ('ajqqkax', 1), ('maza', 1), ('celu', 1), ('remilia', 1), ('primera', 1), ('mujer', 2), ('lcs', 1), ('abandona', 1), ('competicion', 1), ('tras', 1), ('acoso', 1), ('sufrido', 1), ('vzpybwl', 1), ('wiyuhjzvn', 1), ('gvjulnovo', 1), ('tech', 1), ('news', 1), ('fiebre', 1), ('narcoticos', 1), ('survival', 1), ('evolved', 1), ('temporada', 1), ('eaexzyudfn', 1), ('eternamente', 1), ('limpio', 1), ('seduccion', 1), ('ricardomontaner', 1), ('cientificos', 1), ('afirman', 1), ('mujeres', 1), ('toman', 1), ('fotos', 1), ('grupo', 1), ('gravedad', 1), ('fuerte', 1), ('wxahlhn', 1), ('escucha', 1), ('entrevista', 1), ('integra', 1), ('mariano', 1), ('rajoy', 1), ('mañana', 1), ('awtbnmp', 1), ('rajoyencope', 1), ('cursouam', 1), ('formacion', 1), ('actualizacion', 1), ('enseñanza', 1), ('ele', 1), ('inscripcion', 1), ('ampliada', 1), ('baemwswntf', 1), ('inhujqyke', 1), ('controlar', 1), ('manos', 1), ('posible', 1), ('sesame', 1), ('klkexwitlh', 1), ('ptegare', 1), ('mailbox', 1), ('mac', 1), ('beta', 1), ('abierta', 1), ('kltbaxou', 1), ('ibbhatosus', 1), ('china', 1), ('soltera', 1), ('ovulos', 1), ('pertenecen', 1), ('bbzxoijuq', 1), ('cxdazvz', 1), ('rompi', 1), ('record', 1), ('mes', 1), ('medio', 1), ('comer', 1), ('puflitos', 1), ('re', 2), ('vicio', 1), ('mm', 1), ('convertir', 1), ('tierra', 1), ('proximo', 1), ('objetivo', 1), ('darpa', 1), ('osjbpudh', 1), ('owrknjivpq', 1), ('carta', 1), ('dbravo', 1), ('representando', 1), ('ponybravo', 1), ('enviada', 1), ('sgae', 1), ('creative', 1), ('commons', 1), ('yywupwep', 1), ('hacerme', 1), ('lugarsito', 1), ('salir', 1), ('correr', 1), ('acompaña', 1), ('axel', 1), ('cine', 1), ('mortal', 1), ('garry', 1), ('mod', 1), ('trouble', 1), ('in', 1), ('terrorist', 1), ('town', 1), ('vyszghi', 1), ('nramoneromero', 1), ('ytlhfagw', 2), ('seguro', 2), ('gusta', 2), ('suscribete', 2), ('favor', 2), ('muchas', 2), ('gracias', 3), ('genetica', 1), ('superheroes', 1), ('ebyhwnryxx', 1), ('wsqguo', 1), ('nexus', 1), ('lg', 1), ('vuelve', 1), ('asomar', 1), ('patita', 1), ('funda', 1), ('qpqneyfwp', 1), ('eyrhxogm', 1), ('julio', 1), ('duran', 1), ('ex', 1), ('futbolista', 1), ('udlp_oficial', 1), ('at', 1), ('madrid', 2), ('laautonomica', 1), ('pronto', 1), ('cv', 1), ('acerca', 1), ('semana', 2), ('empleabilidad', 1), ('feb', 1), ('xdiyinkkc', 1), ('empleo', 1), ('ejqqdntyi', 1), ('jccadena', 1), ('ff', 1), ('tod', 1), ('donantes', 1), ('seguimos', 1), ('necesitando', 1), ('pos', 2), ('donasangre', 1), ('aqcoothsf', 1), ('fzadikian', 1), ('huy', 1), ('pobrecita', 1), ('vakypandy', 1), ('pasa', 1), ('marzipankoala', 1), ('fariflux', 1), ('hd', 1), ('demasiado', 1), ('noise', 1), ('isolation', 1), ('garciapage', 1), ('apoyo', 1), ('organizaciones', 1), ('representan', 1), ('trabajadores', 1), ('injustamente', 1), ('maltratadas', 1), ('insultadas', 1), ('whatsapp', 1), ('jeje', 1), ('tiernaa', 1), ('awww', 1), ('amoor', 1), ('lt', 1), ('amoo', 1), ('fhwdjgsbl', 1), ('trata', 1), ('rescatar', 1), ('personas', 1), ('insertarlas', 1), ('sociedad', 1), ('mercado', 1), ('laboral', 1), ('luisa', 1), ('carcedo', 1), ('invertirenpersonas', 1), ('aiaqbjgv', 1), ('vane_ohinggins', 1), ('kg', 1), ('imc', 1), ('gordo', 1), ('amica', 1), ('gonzalezpons', 1), ('limite', 1), ('euros', 1), ('gastaremos', 1), ('menos', 1), ('lncallepons', 1), ('fundamental', 1), ('transparencia', 1), ('cargos', 1), ('publicos', 1), ('cobra', 1), ('procede', 1), ('ainhat', 1), ('elprogramadear', 1), ('disponible', 1), ('link', 1), ('x', 1), ('yosemite', 1), ('todavia', 1), ('aparece', 1), ('store', 1), ('mmhftkrnp', 1), ('ybiwfcfld', 1), ('soylaalejandra_', 1), ('cordovachejojaja', 1), ('siento', 1), ('crei', 1), ('k', 1), ('abia', 1), ('escrito', 1), ('bn', 1), ('ale', 1), ('victimas', 1), ('wuajaja', 1), ('jajj', 1), ('asi', 1), ('extrañaran', 1), ('sanchezcastejon', 1), ('futuro', 1), ('queremos', 1), ('sanidad', 1), ('privada', 1), ('o', 1), ('niños', 1), ('riesgo', 1), ('pobreza', 1), ('digosivotopsoe', 1), ('nnrdggnb', 1), ('matematicas', 1), ('xperia', 1), ('aqua', 1), ('gb', 1), ('solo', 1), ('libres', 1), ('ndbefwh', 1), ('dixohjj', 1), ('mr', 1), ('monopoly', 1), ('ser', 1), ('pasajeromonopoly', 1), ('puedo', 1), ('paises', 1), ('vida', 1), ('aeromexico', 1), ('ahora', 2), ('lloviendo', 1), ('regalan', 1), ('deoxys', 1), ('chetao', 1), ('siquiera', 1), ('q', 1), ('descargartelo', 1)]\n"
     ]
    }
   ],
   "source": [
    "lista_conteo_palabras = mf.contar_palabras(texto_sentweets_filtrado_no_stop_words)\n",
    "print(lista_conteo_palabras)"
   ]
  },
  {
   "cell_type": "markdown",
   "metadata": {},
   "source": [
    "### Paso 9: Crear una función que reciba como parámetro un texto y retorne el texto sin las urls"
   ]
  },
  {
   "cell_type": "code",
   "execution_count": 29,
   "metadata": {
    "collapsed": true
   },
   "outputs": [
    {
     "name": "stdout",
     "output_type": "stream",
     "text": [
      "¿Quieres saber cómo hacer una aplicación para Android Wear? Te lo explicamos &gt;  \n",
      "a veer que tal :D \n",
      "jajaja :D como les encanta trolear cuando alguno no se conecta :P jajaja \n",
      "Mirando los Simpson :D\n",
      "Tu teléfono Android permanecerá desbloqueado mientras lo lleves encima -  \n",
      "#sextapelarry.-Larry es real?.-Harry: No, pero tuvimos algo.Me conformo :D.#MTVHottest One Direction \n",
      "@VTVcanal8 @jorgerpsuv NO DESMAYEN. AQUI HAY PUEBLO. AQUI HAY GUERREROS Y GUERRERAS, DISPUESTOS Y EN SERIO, NO ES JUEGO.\n",
      "5 aplicaciones para tomar fotografías de larga exposición con tu Android  \n",
      "¡Ya estamos preparados para #GobernarParaLaMayoría! #CentroParaTi \n",
      "Yo me la juego con Federico, porque no quiere un pueblo manso para administrar, sino una ciudadanía educada que proponga. @FicoGutierrez\n",
      "¿Por qué el ingeniero eléctrico llama a todo el mundo cuando esta estresado?   ..-Porque en una conexión en serie, la tensión se divide.\n",
      "La Agencia Espacial Europea decide prolongar la misión de la sonda Rosetta #Ciencia  \n",
      "No debo quejarme por tener que leer más de 100 páginas semanales, son poquitas. No llevo mate :D\n",
      "Layout, la app de Instagram para hacer bonitos collages -  \n",
      "El Twitter Mi Desestresante :D\n",
      "@IvanaSolange2 De bronca los iba a bloquiar a todos jaja !! Pero me acorde que la pase mejor que ellos llendo a jugar y se me paso jaja :p\n",
      "17/18J: La #UAM en Bruselas: Jornada de Puertas Abiertas para la presentación de ÓPERA. Entrada libre  [PDF]\n",
      "\"Han intentado poner las instituciones al servicio del PP. ¿Acordó algún pacto de silencio con él?\" @antoniotrevin \n",
      "DESDE LO MÁS ALTO!! WIPEOUT | Minecraft Race Map:  vía @YouTube\n",
      "¿Veinte millones de vistas, eh? 😌 ¡Felicidades! 👏🏻🎶💚 @WillyrexYT \n",
      "Estoy cansadisimo... Marcho a la cama ✌️ buenas noches \n",
      "\"El Gobierno griego hizo una propuesta de recortes en grandes fortunas en vez de una subida de IVA, Europa no quiere\"@ierrejon #ErrejónEnRNE\n",
      "Es el momento de ver cómo y hacia donde aumentó la deuda de manera escandalosa del PP durante los últimos 8 años. \n",
      "@vegetta777 Le escucho gritar cual King Kong desde mi habitación XDDDD\n",
      "Mi nombre se va a Marte en la próxima misión de la Nasa :D \n",
      "@CelopanYT Van a rodar juego de tronos en girona :D\n",
      "Hoy pintó un hermoso día, de la puta madre :D\n",
      "Publicada convocatoria de posgrado en la Unidad de Tecnologías para la Educación (solicitud: 18M) &gt;  @UAM_Madrid\n",
      "@pablofenty_ vete a la fer....aaaaaaaaay si eres menor :D\n",
      "Apuntad la fecha: Galaxy Note 5 y S6 Edge+ verían la luz el 13 de Agosto  \n",
      "\"Cualquier gobierno decente que tiene un ministro que se reune con un corrupto tiene que cesarlo\" @TaniaGonzalezPs #L6Nfdezdíaz\n",
      "¡Estamos retransmitiendo en directo Far Cry 4! Síguenos aquí:  \n",
      "Yo esperando a que me den follow... jejjr #FelizMiercoles #MiercolesDeGanarSeguidores #casiViernes \n",
      "Astronomía y Medicina &gt;&gt;&gt; Los 4 avances espaciales que han revolucionado la Medicina  \n",
      "@SendohpwnZ Eso esta claro. Pero si un juego sale malo en PC te da lo mismo tener un PC de 3000€ que no vas a poder jugar. Y Ubisoft hace\n",
      "El coche más rápido del mundo hará su debut en noviembre (video) -  \n",
      "¿Cómo? ¿Que aún no lo has hecho? Corre a votar en #UnasPrimariasParaGanar entrando en \n",
      "El Episodio 2 de ARK estará hoy un pelín más tarde :S Bueno en realidad 2h más tarde xD Podeis ir viendo el de GTA^^ \n",
      "Vídeo: utilizan un dron para garabatear una valla publicitaria gigante en Nueva York —  \n",
      "Anda que han tardado en reaccionar a la \"amenaza\" Tesla  vergonzoso!!\n",
      "Hdp insomnio :(\n",
      "@YohanTevez loquitaa linda! que bien la pasamos :D\n",
      "GOOOOOOOOOOOOOOOOOOOOOOOOOOOOOOOOOOOOOOOOOOOOOOOOOOOOOOOOOOOOLLLLLLAZO LUCHO!!!!!! :D\n",
      "Cuando estés triste porque perdiste a un amigo, recuerda… nadie perdió tantos  Ents queridos como Bárbol.\n",
      ".@PumasMX en 2do. :D  \n",
      "@SnatDVD \"De los antiguos\" querrás decir ;-)\n",
      "Mi amiga a la mas linda esta aca y te quiero aunque seas feo :D , by : nicool\n",
      "País corrupto y gente comprando votos ..Mejor me voy a Narnia :D 󾍊󾍊✌󾮟\n",
      "Este PC personalizado de Minecraft es perfecto para los fans del juego \n",
      "Vídeo en 360º grabado en un P-51 Mustang con un F-22 como escolta. [ENG]  \n",
      "@HyperKynetic si me los traes a la consulta del médico te querría para siempre 😁 que estoy en ayunas por sacarme sangre :(\n",
      "Lola Tidora :D #ALDUBLOVEONTOP\n",
      "Enpezando el aire respirando aire fresco en la montaña!  \n",
      "¿Cuanto cuesta llegar a fabricar un nuevo medicamento?  \n",
      "Soy taaan forraa .. me encanttaaaaa :D\n",
      "Tres universidades españolas @UAM_Madrid @uc3m @UPV se suman a la plataforma docente del MIT y Harvard \n",
      "¿Tenéis ya vuestra foto de Howard con el traje espacial dedicada? \n",
      "@David05Ju jajaajja ira iraa :D\n",
      "Eso suena MUY BIEN.\n",
      "Este PC personalizado de Minecraft es perfecto para los fans del juego …  \n",
      "@Shion561 Yo igual, dios es que si tu vieras las horas que le he dedicado a ese juego.. Viendo videos y jugandolo.\n",
      "Magic Leap a punto de hacerse realidad, ¿más cerca de Google Glass 2?   \n",
      "Que maza este celu :D\n",
      "Remilia, la primera mujer en la LCS, abandona la competición tras el acoso sufrido  \n",
      " Este PC personalizado de Minecraft es perfecto para los fans del juego #tech #news\n",
      "FIEBRE DE NARCÓTICOS!! ARK: Survival Evolved #5 Temporada 2:  vía @YouTube\n",
      "Jugar eternamente el juego limpio de la seduccion #RicardoMontaner\n",
      "Científicos afirman que cuando las mujeres se toman fotos en grupo, la gravedad se hace mucho más fuerte. \n",
      "Escucha la entrevista íntegra Mariano Rajoy en La Mañana  #RajoyEnCope\n",
      "#CursoUAM: Formación y actualización en enseñanza de ELE. Inscripción ampliada hasta 26/06  \n",
      "Controlar el teléfono sin manos ya es posible con Sesame -  \n",
      "Mailbox para Mac (beta) ya está abierta para todo el mundo -  \n",
      "En China, si eres mujer soltera, tus óvulos no te pertenecen  \n",
      "Rompi el record de estar 1 mes y medio sin comer PUFLITOS :D.Tengo el re vicio con eso ,mm jajaja\n",
      "Convertir Marte en una nueva Tierra es el próximo objetivo de DARPA  o.O \n",
      "Carta de @dbravo representando a los @ponybravo enviada a la #Sgae sobre Creative Commons: \n",
      "Tengo que hacerme un lugarsito y salir a correr.. .Me acompaña axel :D\n",
      "EL CINE MORTAL!! | Garry`s Mod (Trouble in Terrorist Town) #71:  vía @YouTube\n",
      "@NRamoneromero  este es uno de mis videos,seguro que te gusta,suscríbete por favor,muchas gracias :D\n",
      "La genética de los \"Superhéroes\"  \n",
      "El nuevo Nexus de LG vuelve a asomar la patita, esta vez con una funda  \n",
      "Julio Durán, ex futbolista de la @UDLP_Oficial y AT de Madrid en @laautonomica : \"Es mejor jugar pronto contra los grandes\".\n",
      "¿Tenéis vuestro #CV a punto? Se acerca la Semana de la Empleabilidad #UAM (23-27 feb):  #Empleo \n",
      "@JCCADENA7  este es uno de mis videos,seguro que te gusta,suscríbete por favor,muchas gracias :D\n",
      "Nuestro #FF a tod@s los donantes de esta semana pero seguimos necesitando 0 POS y A POS #Madrid #donasangre . GRACIAS \n",
      "@FZadikian @vegetta777 HuY! Pobrecita Vakypandy, que la pasa? xD\n",
      "@MarzipanKoala @fariflux yo tengo el hd419. Y suena demasiado bien. Con noise isolation :D\n",
      ".@garciapage: \"Mi apoyo a las organizaciones que representan a los trabajadores que injustamente han sido maltratadas e insultadas”.\n",
      "ELLA con su estado de WhatsApp *-* jeje re tiernaa :3 awww amoor &lt;3 TE AMOO...!!!! :D \n",
      "Se trata de rescatar personas, insertarlas en la sociedad y en el mercado laboral. Luisa Carcedo #InvertirEnPersonas \n",
      "@vane_ohinggins 1,68 y 66 Kg. IMC: 23.8. No soy gordo, amica. :P\n",
      ".@gonzalezpons \"El PP tiene un límite de hasta 20 millones de euros y nos gastaremos menos\" #L6Ncallepons\n",
      "\"Es fundamental la transparencia para los cargos públicos, saber qué se cobra, por qué y de dónde procede\" @Ainhat en @elprogramadear\n",
      "Ya disponible el link de OS X Yosemite (aunque todavía no aparece en la App Store) -  \n",
      "@SoyLaAlejandra_ @cordovachejo65jaja lo siento crei k lo abía escrito bn ale mis victimas va wuajaja :´) jajj pero aun asi me extrañaran\n",
      "@sanchezcastejon El futuro que queremos NO es la sanidad privada o un 20%de niños en riesgo pobreza #digoSÍvotoPSOE \n",
      "Matemáticas: Xperia M4 Aqua de 8 GB solo tiene 1,26 libres -  \n",
      "Mr. Monopoly yo quiero ser el #PasajeroMonopoly por qué sí en juego puedo ir a muchos países en la vida real igual @AeroMexico\n",
      "Y Ahora Lloviendo :D\n",
      "Ahora te regalan un Deoxys chetao en el mismo juego, ni siquiera tienes q descargartelo... me \n"
     ]
    }
   ],
   "source": [
    "texto_sin_url = mf.extraer_url(sentweets)\n",
    "print(texto_sin_url)"
   ]
  },
  {
   "cell_type": "markdown",
   "metadata": {},
   "source": [
    "### Paso 10: Crear una función que reciba como parámetro un texto y retorne el texto sin las menciones a usuarios @usuarioabc"
   ]
  },
  {
   "cell_type": "code",
   "execution_count": 28,
   "metadata": {
    "collapsed": true
   },
   "outputs": [
    {
     "name": "stdout",
     "output_type": "stream",
     "text": [
      "¿Quieres saber cómo hacer una aplicación para Android Wear? Te lo explicamos &gt; http://t.co/IjgCIkigvm http://t.co/tUZhU3wrhx\n",
      "a veer que tal :D http://t.co/LzUOezEcYS\n",
      "jajaja :D como les encanta trolear cuando alguno no se conecta :P jajaja https://t.co/CaAM5PnhwP\n",
      "Mirando los Simpson :D\n",
      "Tu teléfono Android permanecerá desbloqueado mientras lo lleves encima - http://t.co/lIzBXxBLSJ http://t.co/mDgEZhaudV\n",
      "#sextapelarry.-Larry es real?.-Harry: No, pero tuvimos algo.Me conformo :D.#MTVHottest One Direction http://t.co/n6Tfvc6WbB\n",
      "  NO DESMAYEN. AQUI HAY PUEBLO. AQUI HAY GUERREROS Y GUERRERAS, DISPUESTOS Y EN SERIO, NO ES JUEGO.\n",
      "5 aplicaciones para tomar fotografías de larga exposición con tu Android http://t.co/4YbZFm4VN5 http://t.co/pHi76QPV5j\n",
      "¡Ya estamos preparados para #GobernarParaLaMayoría! #CentroParaTi http://t.co/a1TsBa1yOt\n",
      "Yo me la juego con Federico, porque no quiere un pueblo manso para administrar, sino una ciudadanía educada que proponga.  qué el ingeniero eléctrico llama a todo el mundo cuando esta estresado?   ..-Porque en una conexión en serie, la tensión se divide.\n",
      "La Agencia Espacial Europea decide prolongar la misión de la sonda Rosetta #Ciencia http://t.co/z4ro3VqjpC http://t.co/6tkR4GXrcw\n",
      "No debo quejarme por tener que leer más de 100 páginas semanales, son poquitas. No llevo mate :D\n",
      "Layout, la app de Instagram para hacer bonitos collages - http://t.co/E5VJANlP52 http://t.co/hTci2lEQve\n",
      "El Twitter Mi Desestresante :D\n",
      " De bronca los iba a bloquiar a todos jaja !! Pero me acorde que la pase mejor que ellos llendo a jugar y se me paso jaja :p\n",
      "17/18J: La #UAM en Bruselas: Jornada de Puertas Abiertas para la presentación de ÓPERA. Entrada libre http://t.co/cvFkUGTzBz [PDF]\n",
      "\"Han intentado poner las instituciones al servicio del PP. ¿Acordó algún pacto de silencio con él?\"  http://t.co/qSsD67PWcG\n",
      "DESDE LO MÁS ALTO!! WIPEOUT | Minecraft Race Map: http://t.co/WcWIsMYLLe vía  millones de vistas, eh? 😌 ¡Felicidades! 👏🏻🎶💚  http://t.co/zaYsvhum2L\n",
      "Estoy cansadisimo... Marcho a la cama ✌️ buenas noches http://t.co/qOtAtb1Nbz\n",
      "\"El Gobierno griego hizo una propuesta de recortes en grandes fortunas en vez de una subida de IVA, Europa no quiere\" #ErrejónEnRNE\n",
      "Es el momento de ver cómo y hacia donde aumentó la deuda de manera escandalosa del PP durante los últimos 8 años. http://t.co/AU0pHcwQ58\n",
      " Le escucho gritar cual King Kong desde mi habitación XDDDD\n",
      "Mi nombre se va a Marte en la próxima misión de la Nasa :D http://t.co/Rw3qJNHEUc\n",
      " Van a rodar juego de tronos en girona :D\n",
      "Hoy pintó un hermoso día, de la puta madre :D\n",
      "Publicada convocatoria de posgrado en la Unidad de Tecnologías para la Educación (solicitud: 18M) &gt; http://t.co/IWqwjR699z  vete a la fer....aaaaaaaaay si eres menor :D\n",
      "Apuntad la fecha: Galaxy Note 5 y S6 Edge+ verían la luz el 13 de Agosto http://t.co/BVV4HlNINT http://t.co/autJoxCHds\n",
      "\"Cualquier gobierno decente que tiene un ministro que se reune con un corrupto tiene que cesarlo\"  #L6Nfdezdíaz\n",
      "¡Estamos retransmitiendo en directo Far Cry 4! Síguenos aquí: http://t.co/bqBmLO3jpL http://t.co/7alqfJLZxs\n",
      "Yo esperando a que me den follow... jejjr #FelizMiercoles #MiercolesDeGanarSeguidores #casiViernes http://t.co/7UNgYNA7gq\n",
      "Astronomía y Medicina &gt;&gt;&gt; Los 4 avances espaciales que han revolucionado la Medicina http://t.co/baCnL2Mywe http://t.co/V2M9Gm6heP\n",
      " Eso esta claro. Pero si un juego sale malo en PC te da lo mismo tener un PC de 3000€ que no vas a poder jugar. Y Ubisoft hace\n",
      "El coche más rápido del mundo hará su debut en noviembre (video) - http://t.co/Nv2dgQFsTK http://t.co/yKNZkdIAud\n",
      "¿Cómo? ¿Que aún no lo has hecho? Corre a votar en #UnasPrimariasParaGanar entrando en http://t.co/RMvZqucCJq\n",
      "El Episodio 2 de ARK estará hoy un pelín más tarde :S Bueno en realidad 2h más tarde xD Podeis ir viendo el de GTA^^ https://t.co/aryQwiC7DF\n",
      "Vídeo: utilizan un dron para garabatear una valla publicitaria gigante en Nueva York — http://t.co/6qL8ipQPVA http://t.co/dskxqDdptL\n",
      "Anda que han tardado en reaccionar a la \"amenaza\" Tesla http://t.co/WykLah5vj7 vergonzoso!!\n",
      "Hdp insomnio :(\n",
      " loquitaa linda! que bien la pasamos :D\n",
      "GOOOOOOOOOOOOOOOOOOOOOOOOOOOOOOOOOOOOOOOOOOOOOOOOOOOOOOOOOOOOLLLLLLAZO LUCHO!!!!!! :D\n",
      "Cuando estés triste porque perdiste a un amigo, recuerda… nadie perdió tantos  Ents queridos como Bárbol.\n",
      ". en 2do. :D  https://t.co/FDkN4OlPS9\n",
      " \"De los antiguos\" querrás decir ;-)\n",
      "Mi amiga a la mas linda esta aca y te quiero aunque seas feo :D , by : nicool\n",
      "País corrupto y gente comprando votos ..Mejor me voy a Narnia :D 󾍊󾍊✌󾮟\n",
      "Este PC personalizado de Minecraft es perfecto para los fans del juego http://t.co/EK9f9XWLkh\n",
      "Vídeo en 360º grabado en un P-51 Mustang con un F-22 como escolta. [ENG] https://t.co/mC27JmpEFz http://t.co/sfdcRU3JWC\n",
      " si me los traes a la consulta del médico te querría para siempre 😁 que estoy en ayunas por sacarme sangre :(\n",
      "Lola Tidora :D #ALDUBLOVEONTOP\n",
      "Enpezando el aire respirando aire fresco en la montaña! http://t.co/RmMn5sABYO http://t.co/2C81ogMXgd\n",
      "¿Cuanto cuesta llegar a fabricar un nuevo medicamento? http://t.co/tDqfCbhsxL http://t.co/9o945zEPBc\n",
      "Soy taaan forraa .. me encanttaaaaa :D\n",
      "Tres universidades españolas    se suman a la plataforma docente del MIT y Harvard http://t.co/rrD9gSD6co\n",
      "¿Tenéis ya vuestra foto de Howard con el traje espacial dedicada? http://t.co/nA4kDxJQ\n",
      " jajaajja ira iraa :D\n",
      "Eso suena MUY BIEN.\n",
      "Este PC personalizado de Minecraft es perfecto para los fans del juego … http://t.co/mExNdhJb3p http://t.co/tmJ2FiTxMO\n",
      " Yo igual, dios es que si tu vieras las horas que le he dedicado a ese juego.. Viendo videos y jugandolo.\n",
      "Magic Leap a punto de hacerse realidad, ¿más cerca de Google Glass 2?  http://t.co/ausYBvSMF4 http://t.co/6A0JQq1KaX\n",
      "Que maza este celu :D\n",
      "Remilia, la primera mujer en la LCS, abandona la competición tras el acoso sufrido https://t.co/Vzp7Yb0wl3 http://t.co/wiYU2HJzVN\n",
      "http://t.co/gvjUlNo0vo Este PC personalizado de Minecraft es perfecto para los fans del juego #tech #news\n",
      "FIEBRE DE NARCÓTICOS!! ARK: Survival Evolved #5 Temporada 2: http://t.co/eAEXzYUDfn vía  eternamente el juego limpio de la seduccion #RicardoMontaner\n",
      "Científicos afirman que cuando las mujeres se toman fotos en grupo, la gravedad se hace mucho más fuerte. http://t.co/wXa9hL08hN\n",
      "Escucha la entrevista íntegra Mariano Rajoy en La Mañana http://t.co/8aW6TBnMp0 #RajoyEnCope\n",
      "#CursoUAM: Formación y actualización en enseñanza de ELE. Inscripción ampliada hasta 26/06 https://t.co/BAeMwsWnTF http://t.co/INhUJqYkE4\n",
      "Controlar el teléfono sin manos ya es posible con Sesame - http://t.co/KlkexwItLh http://t.co/4pteg2ARE2\n",
      "Mailbox para Mac (beta) ya está abierta para todo el mundo - http://t.co/0KLtBaxoU9 http://t.co/IbbhaToSuS\n",
      "En China, si eres mujer soltera, tus óvulos no te pertenecen https://t.co/BBz3xoiJuq http://t.co/c7X88DaZvz\n",
      "Rompi el record de estar 1 mes y medio sin comer PUFLITOS :D.Tengo el re vicio con eso ,mm jajaja\n",
      "Convertir Marte en una nueva Tierra es el próximo objetivo de DARPA http://t.co/OsJ0BpUd3H o.O http://t.co/OwRkNJIvPq\n",
      "Carta de  representando a los  enviada a la #Sgae sobre Creative Commons: http://t.co/YyWupWep\n",
      "Tengo que hacerme un lugarsito y salir a correr.. .Me acompaña axel :D\n",
      "EL CINE MORTAL!! | Garry`s Mod (Trouble in Terrorist Town) #71: https://t.co/V3YSzG16HI vía  https://t.co/Y9TLhFa0GW este es uno de mis videos,seguro que te gusta,suscríbete por favor,muchas gracias :D\n",
      "La genética de los \"Superhéroes\" http://t.co/eBYHwnRyXX http://t.co/2wSQGu066o\n",
      "El nuevo Nexus de LG vuelve a asomar la patita, esta vez con una funda http://t.co/QpqNeYFW8p http://t.co/EyRHXo2G0M\n",
      "Julio Durán, ex futbolista de la  y AT de Madrid en  : \"Es mejor jugar pronto contra los grandes\".\n",
      "¿Tenéis vuestro #CV a punto? Se acerca la Semana de la Empleabilidad #UAM (23-27 feb): http://t.co/XDIyInkK6c #Empleo http://t.co/EJQqD0NtYi\n",
      " https://t.co/Y9TLhFa0GW este es uno de mis videos,seguro que te gusta,suscríbete por favor,muchas gracias :D\n",
      "Nuestro #FF a tod los donantes de esta semana pero seguimos necesitando 0 POS y A POS #Madrid #donasangre . GRACIAS http://t.co/a6qCOoThsF\n",
      "  HuY! Pobrecita Vakypandy, que la pasa? xD\n",
      "  yo tengo el hd419. Y suena demasiado bien. Con noise isolation :D\n",
      ". \"Mi apoyo a las organizaciones que representan a los trabajadores que injustamente han sido maltratadas e insultadas”.\n",
      "ELLA con su estado de WhatsApp *-* jeje re tiernaa :3 awww amoor &lt;3 TE AMOO...!!!! :D http://t.co/fhw8DJgSBl\n",
      "Se trata de rescatar personas, insertarlas en la sociedad y en el mercado laboral. Luisa Carcedo #InvertirEnPersonas http://t.co/A7IAq9BJgV\n",
      " 1,68 y 66 Kg. IMC: 23.8. No soy gordo, amica. :P\n",
      ". \"El PP tiene un límite de hasta 20 millones de euros y nos gastaremos menos\" #L6Ncallepons\n",
      "\"Es fundamental la transparencia para los cargos públicos, saber qué se cobra, por qué y de dónde procede\"  en  disponible el link de OS X Yosemite (aunque todavía no aparece en la App Store) - http://t.co/Mm3hFTKrNp http://t.co/yBiwfcfl8d\n",
      "  lo siento crei k lo abía escrito bn ale mis victimas va wuajaja :´) jajj pero aun asi me extrañaran\n",
      "anchezcastejon El futuro que queremos NO es la sanidad privada o un 20%de niños en riesgo pobreza #digoSÍvotoPSOE http://t.co/NnRdg4gN9b\n",
      "Matemáticas: Xperia M4 Aqua de 8 GB solo tiene 1,26 libres - http://t.co/nDBef624wh http://t.co/DI00xOHj1j\n",
      "Mr. Monopoly yo quiero ser el #PasajeroMonopoly por qué sí en juego puedo ir a muchos países en la vida real igual  Ahora Lloviendo :D\n",
      "Ahora te regalan un Deoxys chetao en el mismo juego, ni siquiera tienes q descargartelo... me \n"
     ]
    }
   ],
   "source": [
    "texto_sin_usuarios = mf.extraer_usuarios(sentweets)\n",
    "print(texto_sin_usuarios)"
   ]
  },
  {
   "cell_type": "markdown",
   "metadata": {},
   "source": [
    "### Paso 11: Cree una función que calcule la puntuación total de palabras positivas y negativas encontradas en el texto. La puntuación de cada palabra aparece a la derecha en los archivos positive_lex.txt y negative_lex.txt."
   ]
  },
  {
   "cell_type": "code",
   "execution_count": 32,
   "metadata": {},
   "outputs": [],
   "source": [
    "try:\n",
    "    negative_file = 'negative_lex.txt'\n",
    "    negative_s = open(\"datos\\\\\"+negative_file, encoding=\"utf8\") # PASO 11 CONTROL DE EXCEPCIONES\n",
    "    negative = negative_s.read()\n",
    "    negative_s.close()\n",
    "except IOError as error:\n",
    "    print('Problema con el fichero: {}.  {}'.format(negative_s, error) )\n",
    "except:  # si es un error diferente a IOError\n",
    "    print(\"Error inesperado:\", sys.exc_info()[0])\n",
    "    raise\n",
    "\n",
    "try:\n",
    "    positive_file = 'positive_lex.txt'\n",
    "    positive_s = open(\"datos\\\\\"+positive_file, encoding=\"utf8\") # PASO 11 CONTROL DE EXCEPCIONES\n",
    "    positive = positive_s.read()\n",
    "    positive_s.close()\n",
    "except IOError as error:\n",
    "    print('Problema con el fichero: {}.  {}'.format(positive_s, error) )\n",
    "except:  # si es un error diferente a IOError\n",
    "    print(\"Error inesperado:\", sys.exc_info()[0])\n",
    "    raise"
   ]
  },
  {
   "cell_type": "code",
   "execution_count": 35,
   "metadata": {},
   "outputs": [
    {
     "name": "stdout",
     "output_type": "stream",
     "text": [
      "El total de puntos positivos del texto es 16.728 y de negativos -7.0089999999999995\n"
     ]
    }
   ],
   "source": [
    "positive_sin_acentos = mf.letras_acentuadas(positive)\n",
    "negative_sin_acentos = mf.letras_acentuadas(negative)\n",
    "lista_negativas = mf.normaliza(negative_sin_acentos)\n",
    "lista_positivas = mf.normaliza(positive_sin_acentos)\n",
    "\n",
    "lista_total_positivas = mf.calculo_puntuacion_palabras(lista_positivas, lista_conteo_palabras)\n",
    "lista_total_negativas = mf.calculo_puntuacion_palabras(lista_negativas, lista_conteo_palabras)\n",
    "total_puntos_positivos = mf.total_puntuacion(lista_total_positivas)\n",
    "total_puntos_negativos = mf.total_puntuacion(lista_total_negativas)\n",
    "#print(lista_total_positivas)\n",
    "#print(lista_total_negativas)\n",
    "print(f\"El total de puntos positivos del texto es {total_puntos_positivos} y de negativos {total_puntos_negativos}\")"
   ]
  },
  {
   "cell_type": "markdown",
   "metadata": {},
   "source": [
    "# Conclusiones\n",
    "\n",
    "Durante la ejecución del proyecto he encontrado dificultades al ......."
   ]
  },
  {
   "cell_type": "code",
   "execution_count": null,
   "metadata": {},
   "outputs": [],
   "source": []
  }
 ],
 "metadata": {
  "kernelspec": {
   "display_name": "Python 3 (ipykernel)",
   "language": "python",
   "name": "python3"
  },
  "language_info": {
   "codemirror_mode": {
    "name": "ipython",
    "version": 3
   },
   "file_extension": ".py",
   "mimetype": "text/x-python",
   "name": "python",
   "nbconvert_exporter": "python",
   "pygments_lexer": "ipython3",
   "version": "3.10.8"
  },
  "toc": {
   "base_numbering": 1,
   "nav_menu": {},
   "number_sections": true,
   "sideBar": true,
   "skip_h1_title": false,
   "title_cell": "Table of Contents",
   "title_sidebar": "Contents",
   "toc_cell": false,
   "toc_position": {},
   "toc_section_display": true,
   "toc_window_display": false
  },
  "varInspector": {
   "cols": {
    "lenName": 16,
    "lenType": 16,
    "lenVar": 40
   },
   "kernels_config": {
    "python": {
     "delete_cmd_postfix": "",
     "delete_cmd_prefix": "del ",
     "library": "var_list.py",
     "varRefreshCmd": "print(var_dic_list())"
    },
    "r": {
     "delete_cmd_postfix": ") ",
     "delete_cmd_prefix": "rm(",
     "library": "var_list.r",
     "varRefreshCmd": "cat(var_dic_list()) "
    }
   },
   "types_to_exclude": [
    "module",
    "function",
    "builtin_function_or_method",
    "instance",
    "_Feature"
   ],
   "window_display": true
  },
  "vscode": {
   "interpreter": {
    "hash": "1353f313ead104360866fab643a74fd0c61057d61236ce27455bd3419eefba5e"
   }
  }
 },
 "nbformat": 4,
 "nbformat_minor": 4
}
